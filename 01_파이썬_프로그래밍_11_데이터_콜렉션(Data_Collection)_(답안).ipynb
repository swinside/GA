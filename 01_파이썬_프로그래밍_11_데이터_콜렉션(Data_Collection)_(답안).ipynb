{
  "nbformat": 4,
  "nbformat_minor": 0,
  "metadata": {
    "colab": {
      "provenance": [],
      "toc_visible": true,
      "authorship_tag": "ABX9TyO+KSUWCyUJr/VPZkBEJOy8",
      "include_colab_link": true
    },
    "kernelspec": {
      "name": "python3",
      "display_name": "Python 3"
    },
    "language_info": {
      "name": "python"
    }
  },
  "cells": [
    {
      "cell_type": "markdown",
      "metadata": {
        "id": "view-in-github",
        "colab_type": "text"
      },
      "source": [
        "<a href=\"https://colab.research.google.com/github/swinside/GA/blob/master/01_%ED%8C%8C%EC%9D%B4%EC%8D%AC_%ED%94%84%EB%A1%9C%EA%B7%B8%EB%9E%98%EB%B0%8D_11_%EB%8D%B0%EC%9D%B4%ED%84%B0_%EC%BD%9C%EB%A0%89%EC%85%98(Data_Collection)_(%EB%8B%B5%EC%95%88).ipynb\" target=\"_parent\"><img src=\"https://colab.research.google.com/assets/colab-badge.svg\" alt=\"Open In Colab\"/></a>"
      ]
    },
    {
      "cell_type": "markdown",
      "source": [
        "Copyright 2023. JWS all rights reserved.\n",
        "\n",
        "※ 이 자료는 개인 학습용으로만 사용이 가능합니다."
      ],
      "metadata": {
        "id": "IWxT06osfCIr"
      }
    },
    {
      "cell_type": "markdown",
      "source": [
        "# 중첩된 데이터(Nested Data)"
      ],
      "metadata": {
        "id": "snZ-KhSPG_5O"
      }
    },
    {
      "cell_type": "markdown",
      "source": [
        "## 중첩된 리스트(Nested Lists)"
      ],
      "metadata": {
        "id": "G7mmA8vDWwzX"
      }
    },
    {
      "cell_type": "markdown",
      "source": [
        "* 리스트의 아이템으로 리스트를 가질 수 있다."
      ],
      "metadata": {
        "id": "bhLx_7EpX11y"
      }
    },
    {
      "cell_type": "code",
      "source": [
        "myList = [[1,2,3],[4,5],[6,7,8,9]]"
      ],
      "metadata": {
        "id": "lywnzDiZXChe"
      },
      "execution_count": null,
      "outputs": []
    },
    {
      "cell_type": "code",
      "source": [
        "print(myList[0])\n",
        "print(len(myList))"
      ],
      "metadata": {
        "colab": {
          "base_uri": "https://localhost:8080/"
        },
        "id": "Yqd52HKOXST-",
        "outputId": "7e61d778-ca21-4923-b356-bd6dad07f604"
      },
      "execution_count": null,
      "outputs": [
        {
          "output_type": "stream",
          "name": "stdout",
          "text": [
            "[1, 2, 3]\n",
            "3\n"
          ]
        }
      ]
    },
    {
      "cell_type": "code",
      "source": [
        "myList.append([10])\n",
        "print(myList)"
      ],
      "metadata": {
        "colab": {
          "base_uri": "https://localhost:8080/"
        },
        "id": "PrdyEXWTXYhX",
        "outputId": "2e92d73d-b39f-455c-a91c-b88c5f5506be"
      },
      "execution_count": null,
      "outputs": [
        {
          "output_type": "stream",
          "name": "stdout",
          "text": [
            "[[1, 2, 3], [4, 5], [6, 7, 8, 9], [10]]\n"
          ]
        }
      ]
    },
    {
      "cell_type": "code",
      "source": [
        "for i in myList:\n",
        "  print(i, type(i))"
      ],
      "metadata": {
        "colab": {
          "base_uri": "https://localhost:8080/"
        },
        "id": "htmevTP8Xdcn",
        "outputId": "249b1f62-b721-4f1b-fd0c-35e5f80174b2"
      },
      "execution_count": null,
      "outputs": [
        {
          "output_type": "stream",
          "name": "stdout",
          "text": [
            "[1, 2, 3] <class 'list'>\n",
            "[4, 5] <class 'list'>\n",
            "[6, 7, 8, 9] <class 'list'>\n",
            "[10] <class 'list'>\n"
          ]
        }
      ]
    },
    {
      "cell_type": "markdown",
      "source": [
        "* 리스트의 아이템이 리스트일 때 해당 아이템을 다루어보자."
      ],
      "metadata": {
        "id": "raiTeCPzXgnh"
      }
    },
    {
      "cell_type": "code",
      "source": [
        "myList = [[1,2,3],[4,5],[6,7,8,9]]\n",
        "myList[0].append(100)\n",
        "print(myList)"
      ],
      "metadata": {
        "colab": {
          "base_uri": "https://localhost:8080/"
        },
        "id": "XV_3Z7Y7X9ft",
        "outputId": "80f3bf2a-ca77-4250-f0bd-f1f56595791f"
      },
      "execution_count": null,
      "outputs": [
        {
          "output_type": "stream",
          "name": "stdout",
          "text": [
            "[[1, 2, 3, 100], [4, 5], [6, 7, 8, 9]]\n"
          ]
        }
      ]
    },
    {
      "cell_type": "code",
      "source": [
        "print(myList[-1][2])"
      ],
      "metadata": {
        "colab": {
          "base_uri": "https://localhost:8080/"
        },
        "id": "4jPTBJR9YEaX",
        "outputId": "cc732388-531d-4a4f-a1d0-f63da70d8ff9"
      },
      "execution_count": null,
      "outputs": [
        {
          "output_type": "stream",
          "name": "stdout",
          "text": [
            "8\n"
          ]
        }
      ]
    },
    {
      "cell_type": "code",
      "source": [
        "myList[1] = [400,500,600]\n",
        "print(myList)"
      ],
      "metadata": {
        "colab": {
          "base_uri": "https://localhost:8080/"
        },
        "id": "LvYYJu4OYKMO",
        "outputId": "9cf869a0-5b33-4742-ce59-062b47caad64"
      },
      "execution_count": null,
      "outputs": [
        {
          "output_type": "stream",
          "name": "stdout",
          "text": [
            "[[1, 2, 3, 100], [400, 500, 600], [6, 7, 8, 9]]\n"
          ]
        }
      ]
    },
    {
      "cell_type": "code",
      "source": [
        "myList[1][1] = 50\n",
        "print(myList)"
      ],
      "metadata": {
        "colab": {
          "base_uri": "https://localhost:8080/"
        },
        "id": "7gS8IRiBYeVt",
        "outputId": "e440770d-84d5-4e26-cb24-293810c72996"
      },
      "execution_count": null,
      "outputs": [
        {
          "output_type": "stream",
          "name": "stdout",
          "text": [
            "[[1, 2, 3, 100], [400, 50, 600], [6, 7, 8, 9]]\n"
          ]
        }
      ]
    },
    {
      "cell_type": "markdown",
      "source": [
        "* 리스트의 아이템으로 딕셔너리를 가질 수도 있다."
      ],
      "metadata": {
        "id": "-ky07ApvYl0X"
      }
    },
    {
      "cell_type": "code",
      "source": [
        "myList = [{\"a\":100, \"b\":200},{\"가\":1000,\"나\":2000},{\"apple\":\"사과\",\"banana\":\"바나나\",\"cherry\":\"체리\"}]\n",
        "print(myList[1]['가'])"
      ],
      "metadata": {
        "colab": {
          "base_uri": "https://localhost:8080/"
        },
        "id": "l8bSu0dCZIIF",
        "outputId": "c3f59ace-e0fa-4c8f-b181-95f8c629cb37"
      },
      "execution_count": null,
      "outputs": [
        {
          "output_type": "stream",
          "name": "stdout",
          "text": [
            "1000\n"
          ]
        }
      ]
    },
    {
      "cell_type": "code",
      "source": [
        "myList[2]['apple']='링고'\n",
        "print(myList)"
      ],
      "metadata": {
        "colab": {
          "base_uri": "https://localhost:8080/"
        },
        "id": "vLuv-E1kblg2",
        "outputId": "26e9fad2-4503-4dd9-cbe7-7b3a399da08b"
      },
      "execution_count": null,
      "outputs": [
        {
          "output_type": "stream",
          "name": "stdout",
          "text": [
            "[{'a': 100, 'b': 200}, {'가': 1000, '나': 2000}, {'apple': '링고', 'banana': '바나나', 'cherry': '체리'}]\n"
          ]
        }
      ]
    },
    {
      "cell_type": "markdown",
      "source": [
        "## 중첩된 딕셔너리(Nested Dictionaries)"
      ],
      "metadata": {
        "id": "VHlCNqJreEWj"
      }
    },
    {
      "cell_type": "code",
      "source": [
        "info = {\n",
        "    '개인정보': {\n",
        "        '이름':'홍길동',\n",
        "        '나이':23,\n",
        "        '전공':'컴퓨터공학',\n",
        "        '모습': {\n",
        "            '색': {\n",
        "                '눈':'검은색',\n",
        "                '머리카락':'갈색'\n",
        "            },\n",
        "            '키': '165cm',\n",
        "            '몸무게': '62kg'\n",
        "        }\n",
        "    },\n",
        "    '기타': {\n",
        "        '좋아하는색': ['파랑','초록','노랑'],\n",
        "        '관심': ['특허','미술','음악','자동차']\n",
        "    }\n",
        "}"
      ],
      "metadata": {
        "id": "pPBZVSRys7d6"
      },
      "execution_count": null,
      "outputs": []
    },
    {
      "cell_type": "code",
      "source": [
        "info['개인정보']['모습']['색']['눈']"
      ],
      "metadata": {
        "colab": {
          "base_uri": "https://localhost:8080/",
          "height": 35
        },
        "id": "59S3vlbSs5_d",
        "outputId": "ff422475-b589-4ca2-99f4-c2116f30c1b1"
      },
      "execution_count": null,
      "outputs": [
        {
          "output_type": "execute_result",
          "data": {
            "text/plain": [
              "'검은색'"
            ],
            "application/vnd.google.colaboratory.intrinsic+json": {
              "type": "string"
            }
          },
          "metadata": {},
          "execution_count": 13
        }
      ]
    },
    {
      "cell_type": "markdown",
      "source": [
        "## JSON(JavaScript Object Notation) 모듈"
      ],
      "metadata": {
        "id": "qnkKLbmPtwtP"
      }
    },
    {
      "cell_type": "markdown",
      "source": [
        "* 다음은 JSON 형식을 가진 문자열을 변수로 받은 것이다."
      ],
      "metadata": {
        "id": "saqxxcesuB0X"
      }
    },
    {
      "cell_type": "code",
      "source": [
        "# https://opensource.adobe.com/Spry/samples/data_region/JSONDataSetSample.html\n",
        "\n",
        "strJSON = '''\n",
        "[\n",
        "\t{\n",
        "\t\t\"id\": \"0001\",\n",
        "\t\t\"type\": \"donut\",\n",
        "\t\t\"name\": \"Cake\",\n",
        "\t\t\"ppu\": 0.55,\n",
        "\t\t\"batters\":\n",
        "\t\t\t{\n",
        "\t\t\t\t\"batter\":\n",
        "\t\t\t\t\t[\n",
        "\t\t\t\t\t\t{ \"id\": \"1001\", \"type\": \"Regular\" },\n",
        "\t\t\t\t\t\t{ \"id\": \"1002\", \"type\": \"Chocolate\" },\n",
        "\t\t\t\t\t\t{ \"id\": \"1003\", \"type\": \"Blueberry\" },\n",
        "\t\t\t\t\t\t{ \"id\": \"1004\", \"type\": \"Devil's Food\" }\n",
        "\t\t\t\t\t]\n",
        "\t\t\t},\n",
        "\t\t\"topping\":\n",
        "\t\t\t[\n",
        "\t\t\t\t{ \"id\": \"5001\", \"type\": \"None\" },\n",
        "\t\t\t\t{ \"id\": \"5002\", \"type\": \"Glazed\" },\n",
        "\t\t\t\t{ \"id\": \"5005\", \"type\": \"Sugar\" },\n",
        "\t\t\t\t{ \"id\": \"5007\", \"type\": \"Powdered Sugar\" },\n",
        "\t\t\t\t{ \"id\": \"5006\", \"type\": \"Chocolate with Sprinkles\" },\n",
        "\t\t\t\t{ \"id\": \"5003\", \"type\": \"Chocolate\" },\n",
        "\t\t\t\t{ \"id\": \"5004\", \"type\": \"Maple\" }\n",
        "\t\t\t]\n",
        "\t},\n",
        "\t{\n",
        "\t\t\"id\": \"0002\",\n",
        "\t\t\"type\": \"donut\",\n",
        "\t\t\"name\": \"Raised\",\n",
        "\t\t\"ppu\": 0.55,\n",
        "\t\t\"batters\":\n",
        "\t\t\t{\n",
        "\t\t\t\t\"batter\":\n",
        "\t\t\t\t\t[\n",
        "\t\t\t\t\t\t{ \"id\": \"1001\", \"type\": \"Regular\" }\n",
        "\t\t\t\t\t]\n",
        "\t\t\t},\n",
        "\t\t\"topping\":\n",
        "\t\t\t[\n",
        "\t\t\t\t{ \"id\": \"5001\", \"type\": \"None\" },\n",
        "\t\t\t\t{ \"id\": \"5002\", \"type\": \"Glazed\" },\n",
        "\t\t\t\t{ \"id\": \"5005\", \"type\": \"Sugar\" },\n",
        "\t\t\t\t{ \"id\": \"5003\", \"type\": \"Chocolate\" },\n",
        "\t\t\t\t{ \"id\": \"5004\", \"type\": \"Maple\" }\n",
        "\t\t\t]\n",
        "\t},\n",
        "\t{\n",
        "\t\t\"id\": \"0003\",\n",
        "\t\t\"type\": \"donut\",\n",
        "\t\t\"name\": \"Old Fashioned\",\n",
        "\t\t\"ppu\": 0.55,\n",
        "\t\t\"batters\":\n",
        "\t\t\t{\n",
        "\t\t\t\t\"batter\":\n",
        "\t\t\t\t\t[\n",
        "\t\t\t\t\t\t{ \"id\": \"1001\", \"type\": \"Regular\" },\n",
        "\t\t\t\t\t\t{ \"id\": \"1002\", \"type\": \"Chocolate\" }\n",
        "\t\t\t\t\t]\n",
        "\t\t\t},\n",
        "\t\t\"topping\":\n",
        "\t\t\t[\n",
        "\t\t\t\t{ \"id\": \"5001\", \"type\": \"None\" },\n",
        "\t\t\t\t{ \"id\": \"5002\", \"type\": \"Glazed\" },\n",
        "\t\t\t\t{ \"id\": \"5003\", \"type\": \"Chocolate\" },\n",
        "\t\t\t\t{ \"id\": \"5004\", \"type\": \"Maple\" }\n",
        "\t\t\t]\n",
        "\t}\n",
        "]\n",
        "'''"
      ],
      "metadata": {
        "id": "qRZLLxvXeHJ4"
      },
      "execution_count": null,
      "outputs": []
    },
    {
      "cell_type": "markdown",
      "source": [
        "* json.loads(문자열)\n",
        "  * JSON 형식으로 된 문자열을 파이썬 타입의 값으로 반환한다."
      ],
      "metadata": {
        "id": "7dGanmgdvbQz"
      }
    },
    {
      "cell_type": "code",
      "source": [
        "type(strJSON)"
      ],
      "metadata": {
        "colab": {
          "base_uri": "https://localhost:8080/"
        },
        "id": "CiWpj7gwcV3D",
        "outputId": "127b04db-0643-4bc0-e0c3-87f8dacaaf5d"
      },
      "execution_count": null,
      "outputs": [
        {
          "output_type": "execute_result",
          "data": {
            "text/plain": [
              "str"
            ]
          },
          "metadata": {},
          "execution_count": 17
        }
      ]
    },
    {
      "cell_type": "code",
      "source": [
        "print(strJSON)"
      ],
      "metadata": {
        "colab": {
          "base_uri": "https://localhost:8080/"
        },
        "id": "0jsVUN3zcMmY",
        "outputId": "249b0fef-6b05-4dba-ed0d-1e396b7bf7b9"
      },
      "execution_count": null,
      "outputs": [
        {
          "output_type": "stream",
          "name": "stdout",
          "text": [
            "\n",
            "[\n",
            "\t{\n",
            "\t\t\"id\": \"0001\",\n",
            "\t\t\"type\": \"donut\",\n",
            "\t\t\"name\": \"Cake\",\n",
            "\t\t\"ppu\": 0.55,\n",
            "\t\t\"batters\":\n",
            "\t\t\t{\n",
            "\t\t\t\t\"batter\":\n",
            "\t\t\t\t\t[\n",
            "\t\t\t\t\t\t{ \"id\": \"1001\", \"type\": \"Regular\" },\n",
            "\t\t\t\t\t\t{ \"id\": \"1002\", \"type\": \"Chocolate\" },\n",
            "\t\t\t\t\t\t{ \"id\": \"1003\", \"type\": \"Blueberry\" },\n",
            "\t\t\t\t\t\t{ \"id\": \"1004\", \"type\": \"Devil's Food\" }\n",
            "\t\t\t\t\t]\n",
            "\t\t\t},\n",
            "\t\t\"topping\":\n",
            "\t\t\t[\n",
            "\t\t\t\t{ \"id\": \"5001\", \"type\": \"None\" },\n",
            "\t\t\t\t{ \"id\": \"5002\", \"type\": \"Glazed\" },\n",
            "\t\t\t\t{ \"id\": \"5005\", \"type\": \"Sugar\" },\n",
            "\t\t\t\t{ \"id\": \"5007\", \"type\": \"Powdered Sugar\" },\n",
            "\t\t\t\t{ \"id\": \"5006\", \"type\": \"Chocolate with Sprinkles\" },\n",
            "\t\t\t\t{ \"id\": \"5003\", \"type\": \"Chocolate\" },\n",
            "\t\t\t\t{ \"id\": \"5004\", \"type\": \"Maple\" }\n",
            "\t\t\t]\n",
            "\t},\n",
            "\t{\n",
            "\t\t\"id\": \"0002\",\n",
            "\t\t\"type\": \"donut\",\n",
            "\t\t\"name\": \"Raised\",\n",
            "\t\t\"ppu\": 0.55,\n",
            "\t\t\"batters\":\n",
            "\t\t\t{\n",
            "\t\t\t\t\"batter\":\n",
            "\t\t\t\t\t[\n",
            "\t\t\t\t\t\t{ \"id\": \"1001\", \"type\": \"Regular\" }\n",
            "\t\t\t\t\t]\n",
            "\t\t\t},\n",
            "\t\t\"topping\":\n",
            "\t\t\t[\n",
            "\t\t\t\t{ \"id\": \"5001\", \"type\": \"None\" },\n",
            "\t\t\t\t{ \"id\": \"5002\", \"type\": \"Glazed\" },\n",
            "\t\t\t\t{ \"id\": \"5005\", \"type\": \"Sugar\" },\n",
            "\t\t\t\t{ \"id\": \"5003\", \"type\": \"Chocolate\" },\n",
            "\t\t\t\t{ \"id\": \"5004\", \"type\": \"Maple\" }\n",
            "\t\t\t]\n",
            "\t},\n",
            "\t{\n",
            "\t\t\"id\": \"0003\",\n",
            "\t\t\"type\": \"donut\",\n",
            "\t\t\"name\": \"Old Fashioned\",\n",
            "\t\t\"ppu\": 0.55,\n",
            "\t\t\"batters\":\n",
            "\t\t\t{\n",
            "\t\t\t\t\"batter\":\n",
            "\t\t\t\t\t[\n",
            "\t\t\t\t\t\t{ \"id\": \"1001\", \"type\": \"Regular\" },\n",
            "\t\t\t\t\t\t{ \"id\": \"1002\", \"type\": \"Chocolate\" }\n",
            "\t\t\t\t\t]\n",
            "\t\t\t},\n",
            "\t\t\"topping\":\n",
            "\t\t\t[\n",
            "\t\t\t\t{ \"id\": \"5001\", \"type\": \"None\" },\n",
            "\t\t\t\t{ \"id\": \"5002\", \"type\": \"Glazed\" },\n",
            "\t\t\t\t{ \"id\": \"5003\", \"type\": \"Chocolate\" },\n",
            "\t\t\t\t{ \"id\": \"5004\", \"type\": \"Maple\" }\n",
            "\t\t\t]\n",
            "\t}\n",
            "]\n",
            "\n"
          ]
        }
      ]
    },
    {
      "cell_type": "code",
      "source": [
        "import json"
      ],
      "metadata": {
        "id": "miB3VWFacNqd"
      },
      "execution_count": null,
      "outputs": []
    },
    {
      "cell_type": "code",
      "source": [
        "d = json.loads(strJSON)\n",
        "d"
      ],
      "metadata": {
        "colab": {
          "base_uri": "https://localhost:8080/"
        },
        "id": "ZTRc7rUBcb7H",
        "outputId": "f8e5a415-171c-4d19-a914-fe921837091f"
      },
      "execution_count": null,
      "outputs": [
        {
          "output_type": "execute_result",
          "data": {
            "text/plain": [
              "[{'id': '0001',\n",
              "  'type': 'donut',\n",
              "  'name': 'Cake',\n",
              "  'ppu': 0.55,\n",
              "  'batters': {'batter': [{'id': '1001', 'type': 'Regular'},\n",
              "    {'id': '1002', 'type': 'Chocolate'},\n",
              "    {'id': '1003', 'type': 'Blueberry'},\n",
              "    {'id': '1004', 'type': \"Devil's Food\"}]},\n",
              "  'topping': [{'id': '5001', 'type': 'None'},\n",
              "   {'id': '5002', 'type': 'Glazed'},\n",
              "   {'id': '5005', 'type': 'Sugar'},\n",
              "   {'id': '5007', 'type': 'Powdered Sugar'},\n",
              "   {'id': '5006', 'type': 'Chocolate with Sprinkles'},\n",
              "   {'id': '5003', 'type': 'Chocolate'},\n",
              "   {'id': '5004', 'type': 'Maple'}]},\n",
              " {'id': '0002',\n",
              "  'type': 'donut',\n",
              "  'name': 'Raised',\n",
              "  'ppu': 0.55,\n",
              "  'batters': {'batter': [{'id': '1001', 'type': 'Regular'}]},\n",
              "  'topping': [{'id': '5001', 'type': 'None'},\n",
              "   {'id': '5002', 'type': 'Glazed'},\n",
              "   {'id': '5005', 'type': 'Sugar'},\n",
              "   {'id': '5003', 'type': 'Chocolate'},\n",
              "   {'id': '5004', 'type': 'Maple'}]},\n",
              " {'id': '0003',\n",
              "  'type': 'donut',\n",
              "  'name': 'Old Fashioned',\n",
              "  'ppu': 0.55,\n",
              "  'batters': {'batter': [{'id': '1001', 'type': 'Regular'},\n",
              "    {'id': '1002', 'type': 'Chocolate'}]},\n",
              "  'topping': [{'id': '5001', 'type': 'None'},\n",
              "   {'id': '5002', 'type': 'Glazed'},\n",
              "   {'id': '5003', 'type': 'Chocolate'},\n",
              "   {'id': '5004', 'type': 'Maple'}]}]"
            ]
          },
          "metadata": {},
          "execution_count": 21
        }
      ]
    },
    {
      "cell_type": "code",
      "source": [
        "print(type(d))"
      ],
      "metadata": {
        "colab": {
          "base_uri": "https://localhost:8080/"
        },
        "id": "jxxM7xjicdMz",
        "outputId": "6d46e789-6827-48ee-aad8-7a26828dbf8e"
      },
      "execution_count": null,
      "outputs": [
        {
          "output_type": "stream",
          "name": "stdout",
          "text": [
            "<class 'list'>\n"
          ]
        }
      ]
    },
    {
      "cell_type": "code",
      "source": [
        "print(d[2])"
      ],
      "metadata": {
        "colab": {
          "base_uri": "https://localhost:8080/"
        },
        "id": "2VfnFefdcsiN",
        "outputId": "1c4c6198-2838-4795-fcc4-90e9c79d0fa3"
      },
      "execution_count": null,
      "outputs": [
        {
          "output_type": "stream",
          "name": "stdout",
          "text": [
            "{'id': '0003', 'type': 'donut', 'name': 'Old Fashioned', 'ppu': 0.55, 'batters': {'batter': [{'id': '1001', 'type': 'Regular'}, {'id': '1002', 'type': 'Chocolate'}]}, 'topping': [{'id': '5001', 'type': 'None'}, {'id': '5002', 'type': 'Glazed'}, {'id': '5003', 'type': 'Chocolate'}, {'id': '5004', 'type': 'Maple'}]}\n"
          ]
        }
      ]
    },
    {
      "cell_type": "code",
      "source": [
        "print(d[2]['topping'])"
      ],
      "metadata": {
        "colab": {
          "base_uri": "https://localhost:8080/"
        },
        "id": "P2J5yx4pc1Gu",
        "outputId": "82343e72-d621-437a-8747-23fd0683810d"
      },
      "execution_count": null,
      "outputs": [
        {
          "output_type": "stream",
          "name": "stdout",
          "text": [
            "[{'id': '5001', 'type': 'None'}, {'id': '5002', 'type': 'Glazed'}, {'id': '5003', 'type': 'Chocolate'}, {'id': '5004', 'type': 'Maple'}]\n"
          ]
        }
      ]
    },
    {
      "cell_type": "code",
      "source": [
        "print(d[2]['topping'][2])"
      ],
      "metadata": {
        "colab": {
          "base_uri": "https://localhost:8080/"
        },
        "id": "P3xTD0aFc5U6",
        "outputId": "a3b611d6-0239-44d1-fc8f-027b42f96804"
      },
      "execution_count": null,
      "outputs": [
        {
          "output_type": "stream",
          "name": "stdout",
          "text": [
            "{'id': '5003', 'type': 'Chocolate'}\n"
          ]
        }
      ]
    },
    {
      "cell_type": "code",
      "source": [
        "print(d[2]['topping'][2]['type'])"
      ],
      "metadata": {
        "colab": {
          "base_uri": "https://localhost:8080/"
        },
        "id": "gLvhHaGsq_nv",
        "outputId": "520deab1-6f8e-4c99-8f0b-0246959428e1"
      },
      "execution_count": null,
      "outputs": [
        {
          "output_type": "stream",
          "name": "stdout",
          "text": [
            "Chocolate\n"
          ]
        }
      ]
    },
    {
      "cell_type": "code",
      "source": [
        "for t in d[1]['topping']:\n",
        "  print(t['id'], t['type'])"
      ],
      "metadata": {
        "colab": {
          "base_uri": "https://localhost:8080/"
        },
        "id": "zqWdhObdm6oT",
        "outputId": "85eb6441-b648-42d7-e531-45cea1e13f74"
      },
      "execution_count": null,
      "outputs": [
        {
          "output_type": "stream",
          "name": "stdout",
          "text": [
            "5001 None\n",
            "5002 Glazed\n",
            "5005 Sugar\n",
            "5003 Chocolate\n",
            "5004 Maple\n"
          ]
        }
      ]
    },
    {
      "cell_type": "code",
      "source": [
        "for t in d[0]['topping']:\n",
        "  print(t['id'], t['type'])"
      ],
      "metadata": {
        "colab": {
          "base_uri": "https://localhost:8080/"
        },
        "id": "w_VIGf0PdUp7",
        "outputId": "612d0bbe-4044-4e96-ef81-6caec9f1db2e"
      },
      "execution_count": null,
      "outputs": [
        {
          "output_type": "stream",
          "name": "stdout",
          "text": [
            "5001 None\n",
            "5002 Glazed\n",
            "5005 Sugar\n",
            "5007 Powdered Sugar\n",
            "5006 Chocolate with Sprinkles\n",
            "5003 Chocolate\n",
            "5004 Maple\n"
          ]
        }
      ]
    },
    {
      "cell_type": "markdown",
      "source": [
        "* json.dumps(객체)\n",
        "  * json.loads()와는 반대로, 파이썬 객체를 JSON 형식의 문자열로 변환해준다.\n",
        "  * 문자열로 변환이 되면 서로 다른 언어 환경으로 구현된 시스템 간에 해당 객체를 주고 받을 수 있게 된다.\n",
        "  * sort_keys=True 를 옵션으로 설정하면, 아이템들이 정렬된다.\n",
        "  * indent=n 을 옵션으로 설정하면, n칸 들여쓰기가 된다.\n",
        "    * n 을 바꿔가면서 결과가 바뀌는 것을 확인할 것! → 이런 시도들을 많이 해보세요."
      ],
      "metadata": {
        "id": "vCxyv1UKq400"
      }
    },
    {
      "cell_type": "code",
      "source": [
        "d = {'fruits':{'apple':{'price':1000,'color':'red'},'cherry':{'price':100,'color':'red'},'banana':{'price':500,'color':'yellow'}}}\n",
        "\n",
        "print(type(d))\n",
        "print(d)"
      ],
      "metadata": {
        "colab": {
          "base_uri": "https://localhost:8080/"
        },
        "id": "xdCDUnzdwf3X",
        "outputId": "b0fad9ae-d67f-490b-9847-6a87a4e747de"
      },
      "execution_count": null,
      "outputs": [
        {
          "output_type": "stream",
          "name": "stdout",
          "text": [
            "<class 'dict'>\n",
            "{'fruits': {'apple': {'price': 1000, 'color': 'red'}, 'cherry': {'price': 100, 'color': 'red'}, 'banana': {'price': 500, 'color': 'yellow'}}}\n"
          ]
        }
      ]
    },
    {
      "cell_type": "code",
      "source": [
        "print(type(json.dumps(d)))\n",
        "print(json.dumps(d))"
      ],
      "metadata": {
        "colab": {
          "base_uri": "https://localhost:8080/"
        },
        "id": "EPL9rIdTd834",
        "outputId": "89d30e50-9535-40d1-cb8e-34757ef4dfc5"
      },
      "execution_count": null,
      "outputs": [
        {
          "output_type": "stream",
          "name": "stdout",
          "text": [
            "<class 'str'>\n",
            "{\"fruits\": {\"apple\": {\"price\": 1000, \"color\": \"red\"}, \"cherry\": {\"price\": 100, \"color\": \"red\"}, \"banana\": {\"price\": 500, \"color\": \"yellow\"}}}\n"
          ]
        }
      ]
    },
    {
      "cell_type": "code",
      "source": [
        "print(json.dumps(d,sort_keys=True))"
      ],
      "metadata": {
        "colab": {
          "base_uri": "https://localhost:8080/"
        },
        "id": "IgXmvl4oeE2l",
        "outputId": "65a7205e-b756-4f2d-deb1-21ae2dcb6bde"
      },
      "execution_count": null,
      "outputs": [
        {
          "output_type": "stream",
          "name": "stdout",
          "text": [
            "{\"fruits\": {\"apple\": {\"color\": \"red\", \"price\": 1000}, \"banana\": {\"color\": \"yellow\", \"price\": 500}, \"cherry\": {\"color\": \"red\", \"price\": 100}}}\n"
          ]
        }
      ]
    },
    {
      "cell_type": "code",
      "source": [
        "print(json.dumps(d,sort_keys=True, indent=2))"
      ],
      "metadata": {
        "colab": {
          "base_uri": "https://localhost:8080/"
        },
        "id": "u3RH3Rk_eRj9",
        "outputId": "35e7f3ac-484c-497f-887a-68837dbf9f98"
      },
      "execution_count": null,
      "outputs": [
        {
          "output_type": "stream",
          "name": "stdout",
          "text": [
            "{\n",
            "  \"fruits\": {\n",
            "    \"apple\": {\n",
            "      \"color\": \"red\",\n",
            "      \"price\": 1000\n",
            "    },\n",
            "    \"banana\": {\n",
            "      \"color\": \"yellow\",\n",
            "      \"price\": 500\n",
            "    },\n",
            "    \"cherry\": {\n",
            "      \"color\": \"red\",\n",
            "      \"price\": 100\n",
            "    }\n",
            "  }\n",
            "}\n"
          ]
        }
      ]
    },
    {
      "cell_type": "markdown",
      "source": [
        "# 중첩 반복(Nested Iteration)"
      ],
      "metadata": {
        "id": "YZF-Mr8jxCYR"
      }
    },
    {
      "cell_type": "markdown",
      "source": [
        "* 중첩된 자료 구조를 탐색하면서 아이템을 출력해보자."
      ],
      "metadata": {
        "id": "lNB5Ae2sMczD"
      }
    },
    {
      "cell_type": "code",
      "source": [
        "myList = [['apple','banana','cherry'],['durian','elderberry'],['fig','grape']]\n",
        "\n",
        "for i,x in enumerate(myList):\n",
        "  print(i,x)"
      ],
      "metadata": {
        "colab": {
          "base_uri": "https://localhost:8080/"
        },
        "id": "XnUUIoOBekvE",
        "outputId": "ba7ff119-fa8d-4f8f-9276-ba009fd1de44"
      },
      "execution_count": null,
      "outputs": [
        {
          "output_type": "stream",
          "name": "stdout",
          "text": [
            "0 ['apple', 'banana', 'cherry']\n",
            "1 ['durian', 'elderberry']\n",
            "2 ['fig', 'grape']\n"
          ]
        }
      ]
    },
    {
      "cell_type": "code",
      "source": [
        "myList = [['apple','banana','cherry'],['durian','elderberry'],['fig','grape']]\n",
        "for i,x in enumerate(myList):\n",
        "  print(f\"■ Group{i+1}:\")\n",
        "  for y in x:\n",
        "    print(f\"  - {y}\")"
      ],
      "metadata": {
        "colab": {
          "base_uri": "https://localhost:8080/"
        },
        "id": "pm4drsmEHWNw",
        "outputId": "7102c905-0c88-4db0-aba7-6a42736f0150"
      },
      "execution_count": null,
      "outputs": [
        {
          "output_type": "stream",
          "name": "stdout",
          "text": [
            "■ Group1:\n",
            "  - apple\n",
            "  - banana\n",
            "  - cherry\n",
            "■ Group2:\n",
            "  - durian\n",
            "  - elderberry\n",
            "■ Group3:\n",
            "  - fig\n",
            "  - grape\n"
          ]
        }
      ]
    },
    {
      "cell_type": "markdown",
      "source": [
        "* [체크] myList의 아이템 중 'a'를 포함하고 있는 단어들만을 포함하는 리스트를 newList에 할당한 후 print(newList)를 실행해 확인하시오."
      ],
      "metadata": {
        "id": "8LRb85arHyHX"
      }
    },
    {
      "cell_type": "code",
      "source": [
        "myList = [['apple','banana','cherry'],['durian','elderberry'],['fig','grape']]\n",
        "newList = []\n",
        "\n",
        "#코드 작성 - 지울것\n",
        "for x in myList:\n",
        "  for y in x:\n",
        "    if 'a' in y:\n",
        "      newList.append(y)\n",
        "print(newList)"
      ],
      "metadata": {
        "colab": {
          "base_uri": "https://localhost:8080/"
        },
        "id": "LPxws2XhKo-a",
        "outputId": "717a4ca4-07ad-40b4-e68e-8d95345aedd6"
      },
      "execution_count": null,
      "outputs": [
        {
          "output_type": "stream",
          "name": "stdout",
          "text": [
            "['apple', 'banana', 'durian', 'grape']\n"
          ]
        }
      ]
    },
    {
      "cell_type": "markdown",
      "source": [
        "* 리스트 축약을 이용해서 한 줄로 작성할 수도 있다."
      ],
      "metadata": {
        "id": "Cc6gbYsQKt2Y"
      }
    },
    {
      "cell_type": "code",
      "source": [
        "print(newList:= [y for x in myList for y in x if 'a' in y])"
      ],
      "metadata": {
        "colab": {
          "base_uri": "https://localhost:8080/"
        },
        "id": "NVQgM3QsLFjW",
        "outputId": "d03a95e3-f27b-419c-f509-571f9bba5828"
      },
      "execution_count": null,
      "outputs": [
        {
          "output_type": "stream",
          "name": "stdout",
          "text": [
            "['apple', 'banana', 'durian', 'grape']\n"
          ]
        }
      ]
    },
    {
      "cell_type": "markdown",
      "source": [
        "* 다음과 같이 중첩 구조가 동일한 형식으로 되어 있지 않은 경우는 어떻게 처리할까?\n",
        "  * 각각의 아이템으로 반복하려는 경우 에러가 발생한다."
      ],
      "metadata": {
        "id": "0o-AsxCqLXCz"
      }
    },
    {
      "cell_type": "code",
      "source": [
        "myList = [1,2,['a','b','c'],3,4,['d','e','f'],['g','h']]\n",
        "\n",
        "for x in myList:\n",
        "  for y in x:\n",
        "    print(y)"
      ],
      "metadata": {
        "colab": {
          "base_uri": "https://localhost:8080/",
          "height": 230
        },
        "id": "E7cVA0MwMrFg",
        "outputId": "0e8de738-26fc-46c0-f83e-af969abeba4f"
      },
      "execution_count": null,
      "outputs": [
        {
          "output_type": "error",
          "ename": "TypeError",
          "evalue": "ignored",
          "traceback": [
            "\u001b[0;31m---------------------------------------------------------------------------\u001b[0m",
            "\u001b[0;31mTypeError\u001b[0m                                 Traceback (most recent call last)",
            "\u001b[0;32m<ipython-input-49-10f355ff8383>\u001b[0m in \u001b[0;36m<cell line: 3>\u001b[0;34m()\u001b[0m\n\u001b[1;32m      2\u001b[0m \u001b[0;34m\u001b[0m\u001b[0m\n\u001b[1;32m      3\u001b[0m \u001b[0;32mfor\u001b[0m \u001b[0mx\u001b[0m \u001b[0;32min\u001b[0m \u001b[0mmyList\u001b[0m\u001b[0;34m:\u001b[0m\u001b[0;34m\u001b[0m\u001b[0;34m\u001b[0m\u001b[0m\n\u001b[0;32m----> 4\u001b[0;31m   \u001b[0;32mfor\u001b[0m \u001b[0my\u001b[0m \u001b[0;32min\u001b[0m \u001b[0mx\u001b[0m\u001b[0;34m:\u001b[0m\u001b[0;34m\u001b[0m\u001b[0;34m\u001b[0m\u001b[0m\n\u001b[0m\u001b[1;32m      5\u001b[0m     \u001b[0mprint\u001b[0m\u001b[0;34m(\u001b[0m\u001b[0my\u001b[0m\u001b[0;34m)\u001b[0m\u001b[0;34m\u001b[0m\u001b[0;34m\u001b[0m\u001b[0m\n",
            "\u001b[0;31mTypeError\u001b[0m: 'int' object is not iterable"
          ]
        }
      ]
    },
    {
      "cell_type": "markdown",
      "source": [
        "* type()을 이용해서 아이템의 타입을 확인한 후 처리한다."
      ],
      "metadata": {
        "id": "P3oJz8RmM-j-"
      }
    },
    {
      "cell_type": "code",
      "source": [
        "myList = [1,2,['a','b','c'],3,4,['d','e','f'],['g','h']]\n",
        "\n",
        "for x in myList:\n",
        "  if type(x)==list:\n",
        "    for y in x:\n",
        "      print(y)\n",
        "  else:\n",
        "    print(x)"
      ],
      "metadata": {
        "colab": {
          "base_uri": "https://localhost:8080/"
        },
        "id": "wt7rt3TyNDUb",
        "outputId": "2b24a009-7841-40ed-b1e4-a298709a325e"
      },
      "execution_count": null,
      "outputs": [
        {
          "output_type": "stream",
          "name": "stdout",
          "text": [
            "1\n",
            "2\n",
            "a\n",
            "b\n",
            "c\n",
            "3\n",
            "4\n",
            "d\n",
            "e\n",
            "f\n",
            "g\n",
            "h\n"
          ]
        }
      ]
    },
    {
      "cell_type": "markdown",
      "source": [
        "* 그런데, 중첩의 깊이가 더 깊어지면?"
      ],
      "metadata": {
        "id": "xynPwkDRg0ra"
      }
    },
    {
      "cell_type": "code",
      "source": [
        "myList = [1,2,['a','b','c'],3,4,['d','e','f',[10,20,30]],['g','h']]\n",
        "\n",
        "for x in myList:\n",
        "  if type(x)==list:\n",
        "    for y in x:\n",
        "      print(y)\n",
        "  else:\n",
        "    print(x)"
      ],
      "metadata": {
        "colab": {
          "base_uri": "https://localhost:8080/"
        },
        "id": "Hu7L3LAJgvpS",
        "outputId": "26fb402e-fa70-4328-de2e-65821ee7d37d"
      },
      "execution_count": null,
      "outputs": [
        {
          "output_type": "stream",
          "name": "stdout",
          "text": [
            "1\n",
            "2\n",
            "a\n",
            "b\n",
            "c\n",
            "3\n",
            "4\n",
            "d\n",
            "e\n",
            "f\n",
            "[10, 20, 30]\n",
            "g\n",
            "h\n"
          ]
        }
      ]
    },
    {
      "cell_type": "markdown",
      "source": [
        "* 리스트가 여러겹으로 중첩되어 있는 경우라도 모두 풀려서 아이템들로만 구성된 리스트를 반환하는 함수 flat_items()를 어떻게 구현할까?\n",
        "  * 트리탐색을 이용한다. 실제 구현 → 재귀호출(recursive call) → 실무에서 배웁니다. 여기선 맛보기지만, 한번 들여다 봅시다."
      ],
      "metadata": {
        "id": "FvHRCXAlgb92"
      }
    },
    {
      "cell_type": "code",
      "source": [
        "myList = [1,2,['a','b','c'],3,4,['d','e','f',[10,20,30]],['g','h']]\n",
        "\n",
        "def flat_items(L):\n",
        "  ret = []\n",
        "  for i in L:\n",
        "    if type(i)==list:\n",
        "      ret.extend(flat_items(i))\n",
        "    else:\n",
        "      ret.append(i)\n",
        "  return ret\n",
        "flat_items(myList)"
      ],
      "metadata": {
        "colab": {
          "base_uri": "https://localhost:8080/"
        },
        "id": "DddzUtjvgs0z",
        "outputId": "16a3b916-53c4-4396-b727-0408f02690eb"
      },
      "execution_count": null,
      "outputs": [
        {
          "output_type": "execute_result",
          "data": {
            "text/plain": [
              "[1, 2, 'a', 'b', 'c', 3, 4, 'd', 'e', 'f', 10, 20, 30, 'g', 'h']"
            ]
          },
          "metadata": {},
          "execution_count": 61
        }
      ]
    },
    {
      "cell_type": "markdown",
      "source": [
        "# 얕은복사(shallow copy)와 깊은복사(deep copy) 다시보기"
      ],
      "metadata": {
        "id": "nc12VEFmNGwG"
      }
    },
    {
      "cell_type": "markdown",
      "source": [
        "* [체크] 다음 코드의 실행 결과를 설명해보자."
      ],
      "metadata": {
        "id": "Ld_7sXgjON86"
      }
    },
    {
      "cell_type": "code",
      "source": [
        "a = [\"apple\",\"banana\",\"cherry\"]\n",
        "b = a\n",
        "\n",
        "print(f\"{a=}\") # f\"{a=}\" 는 f\"a={a}\"의 줄인 표현\n",
        "print(f\"{b=}\")\n",
        "\n",
        "print(a == b)\n",
        "print(a is b)"
      ],
      "metadata": {
        "colab": {
          "base_uri": "https://localhost:8080/"
        },
        "id": "bcSrV9k3OX8j",
        "outputId": "c03f3bc6-0bcd-470e-b6e3-277794eafe78"
      },
      "execution_count": null,
      "outputs": [
        {
          "output_type": "stream",
          "name": "stdout",
          "text": [
            "a=['apple', 'banana', 'cherry']\n",
            "b=['apple', 'banana', 'cherry']\n",
            "True\n",
            "True\n"
          ]
        }
      ]
    },
    {
      "cell_type": "code",
      "source": [
        "a.append(\"durian\") # a에만 \"durian\" 추가\n",
        "\n",
        "print(f\"{a=}\")\n",
        "print(f\"{b=}\")"
      ],
      "metadata": {
        "colab": {
          "base_uri": "https://localhost:8080/"
        },
        "id": "gpWgp_KDhgoN",
        "outputId": "ee6e3a6a-7fca-44d3-8ec3-819d5710f556"
      },
      "execution_count": null,
      "outputs": [
        {
          "output_type": "stream",
          "name": "stdout",
          "text": [
            "a=['apple', 'banana', 'cherry', 'durian']\n",
            "b=['apple', 'banana', 'cherry', 'durian']\n"
          ]
        }
      ]
    },
    {
      "cell_type": "code",
      "source": [
        "a = [\"apple\",\"banana\",\"cherry\"]\n",
        "b = a[:]\n",
        "\n",
        "print(f\"{a=}\")\n",
        "print(f\"{b=}\")\n",
        "\n",
        "print(a == b)\n",
        "print(a is b)"
      ],
      "metadata": {
        "colab": {
          "base_uri": "https://localhost:8080/"
        },
        "id": "4n7WKQWEOkXh",
        "outputId": "13a1d1aa-265d-401c-e812-e51b197b7896"
      },
      "execution_count": null,
      "outputs": [
        {
          "output_type": "stream",
          "name": "stdout",
          "text": [
            "a=['apple', 'banana', 'cherry']\n",
            "b=['apple', 'banana', 'cherry']\n",
            "True\n",
            "False\n"
          ]
        }
      ]
    },
    {
      "cell_type": "code",
      "source": [
        "a.append(\"durian\") # a에만 \"durian\" 추가\n",
        "\n",
        "print(f\"{a=}\")\n",
        "print(f\"{b=}\")"
      ],
      "metadata": {
        "colab": {
          "base_uri": "https://localhost:8080/"
        },
        "id": "GmVs3tS3hlbt",
        "outputId": "b2fb2a70-f8a9-4f01-aa01-9807528b11ce"
      },
      "execution_count": null,
      "outputs": [
        {
          "output_type": "stream",
          "name": "stdout",
          "text": [
            "a=['apple', 'banana', 'cherry', 'durian']\n",
            "b=['apple', 'banana', 'cherry']\n"
          ]
        }
      ]
    },
    {
      "cell_type": "markdown",
      "source": [
        "* [체크] 다음 코드도 설명해보자.\n",
        "  * 얕은 복사(shallow copy)"
      ],
      "metadata": {
        "id": "oC9rF6zoO2Q1"
      }
    },
    {
      "cell_type": "code",
      "source": [
        "a = [[\"apple\",\"banana\"],[\"cherry\",\"durian\",\"elderberry\"],[\"fig\",\"grape\"]]\n",
        "b = a[:]\n",
        "\n",
        "print(f\"{a=}\")\n",
        "print(f\"{b=}\")\n",
        "\n",
        "print(a == b)\n",
        "print(a is b)"
      ],
      "metadata": {
        "colab": {
          "base_uri": "https://localhost:8080/"
        },
        "id": "cwsXCsAhO8rw",
        "outputId": "3a2a4b53-df3e-4dd7-ee32-b53f5c33d7f1"
      },
      "execution_count": null,
      "outputs": [
        {
          "output_type": "stream",
          "name": "stdout",
          "text": [
            "a=[['apple', 'banana'], ['cherry', 'durian', 'elderberry'], ['fig', 'grape']]\n",
            "b=[['apple', 'banana'], ['cherry', 'durian', 'elderberry'], ['fig', 'grape']]\n",
            "True\n",
            "False\n"
          ]
        }
      ]
    },
    {
      "cell_type": "code",
      "source": [
        "a[0].append(\"orange\") # a의 첫번째 아이템(리스트)에 \"orange\" 추가\n",
        "\n",
        "print(f\"{a=}\")\n",
        "print(f\"{b=}\")"
      ],
      "metadata": {
        "colab": {
          "base_uri": "https://localhost:8080/"
        },
        "id": "Qxvxj8X9hpmV",
        "outputId": "f083b61e-8b84-4e22-970f-0fb43e3d15ad"
      },
      "execution_count": null,
      "outputs": [
        {
          "output_type": "stream",
          "name": "stdout",
          "text": [
            "a=[['apple', 'banana', 'orange'], ['cherry', 'durian', 'elderberry'], ['fig', 'grape']]\n",
            "b=[['apple', 'banana', 'orange'], ['cherry', 'durian', 'elderberry'], ['fig', 'grape']]\n"
          ]
        }
      ]
    },
    {
      "cell_type": "code",
      "source": [
        "a = [[\"apple\",\"banana\"],[\"cherry\",\"durian\",\"elderberry\"],[\"fig\",\"grape\"]]\n",
        "b = a.copy()\n",
        "\n",
        "print(f\"{a=}\")\n",
        "print(f\"{b=}\")\n",
        "\n",
        "print(a == b)\n",
        "print(a is b)"
      ],
      "metadata": {
        "colab": {
          "base_uri": "https://localhost:8080/"
        },
        "id": "5gAUIN8JPIxt",
        "outputId": "b085fe8e-3622-4300-8078-713bced1483a"
      },
      "execution_count": null,
      "outputs": [
        {
          "output_type": "stream",
          "name": "stdout",
          "text": [
            "a=[['apple', 'banana'], ['cherry', 'durian', 'elderberry'], ['fig', 'grape']]\n",
            "b=[['apple', 'banana'], ['cherry', 'durian', 'elderberry'], ['fig', 'grape']]\n",
            "True\n",
            "False\n"
          ]
        }
      ]
    },
    {
      "cell_type": "code",
      "source": [
        "a[0].append(\"orange\") # a의 첫번째 아이템(리스트)에 \"orange\" 추가\n",
        "\n",
        "print(f\"{a=}\")\n",
        "print(f\"{b=}\")"
      ],
      "metadata": {
        "colab": {
          "base_uri": "https://localhost:8080/"
        },
        "id": "w4g7F6IFiAip",
        "outputId": "5a05db75-9ddd-461b-f52a-d791ea5ea70d"
      },
      "execution_count": null,
      "outputs": [
        {
          "output_type": "stream",
          "name": "stdout",
          "text": [
            "a=[['apple', 'banana', 'orange'], ['cherry', 'durian', 'elderberry'], ['fig', 'grape']]\n",
            "b=[['apple', 'banana', 'orange'], ['cherry', 'durian', 'elderberry'], ['fig', 'grape']]\n"
          ]
        }
      ]
    },
    {
      "cell_type": "markdown",
      "source": [
        "* [체크] 이러한 문제를 해결하기 위해, 깊은복사(deep copy)를 중첩 리스트를 이용해서 직접 구현해보자"
      ],
      "metadata": {
        "id": "VTpZQcCoPeOx"
      }
    },
    {
      "cell_type": "code",
      "source": [
        "a = [[\"apple\",\"banana\"],[\"cherry\",\"durian\",\"elderberry\"],[\"fig\",\"grape\"]]\n",
        "b = []\n",
        "for x in a:\n",
        "  b.append([])\n",
        "  for y in x:\n",
        "    b[-1].append(y)\n",
        "\n",
        "print(f\"{a=}\")\n",
        "print(f\"{b=}\")\n",
        "\n",
        "print(a == b)\n",
        "print(a is b)"
      ],
      "metadata": {
        "colab": {
          "base_uri": "https://localhost:8080/"
        },
        "id": "Ym35ghrSP0Eq",
        "outputId": "b3fb2a35-92e8-4800-b351-eb7ea14acf0a"
      },
      "execution_count": null,
      "outputs": [
        {
          "output_type": "stream",
          "name": "stdout",
          "text": [
            "a=[['apple', 'banana'], ['cherry', 'durian', 'elderberry'], ['fig', 'grape']]\n",
            "b=[['apple', 'banana'], ['cherry', 'durian', 'elderberry'], ['fig', 'grape']]\n",
            "True\n",
            "False\n"
          ]
        }
      ]
    },
    {
      "cell_type": "code",
      "source": [
        "a[0].append(\"orange\") # a의 첫번째 아이템(리스트)에 \"orange\" 추가\n",
        "\n",
        "print(f\"{a=}\")\n",
        "print(f\"{b=}\")"
      ],
      "metadata": {
        "colab": {
          "base_uri": "https://localhost:8080/"
        },
        "id": "JtCnw7_-iNnT",
        "outputId": "59492e3f-3608-400b-d3b3-02f457a6d959"
      },
      "execution_count": null,
      "outputs": [
        {
          "output_type": "stream",
          "name": "stdout",
          "text": [
            "a=[['apple', 'banana', 'orange'], ['cherry', 'durian', 'elderberry'], ['fig', 'grape']]\n",
            "b=[['apple', 'banana'], ['cherry', 'durian', 'elderberry'], ['fig', 'grape']]\n"
          ]
        }
      ]
    },
    {
      "cell_type": "markdown",
      "source": [
        "* [체크] 깊은복사(deep copy)를 copy 라이브러리를 이용해서 해결해보자."
      ],
      "metadata": {
        "id": "vvE35ge4Qe8i"
      }
    },
    {
      "cell_type": "code",
      "source": [
        "import copy\n",
        "a = [[\"apple\",\"banana\"],[\"cherry\",\"durian\",\"elderberry\"],[\"fig\",\"grape\"]]\n",
        "b = copy.deepcopy(a)\n",
        "\n",
        "print(f\"{a=}\")\n",
        "print(f\"{b=}\")\n",
        "\n",
        "print(a == b)\n",
        "print(a is b)"
      ],
      "metadata": {
        "id": "Yt1x8nd4RMdT",
        "colab": {
          "base_uri": "https://localhost:8080/"
        },
        "outputId": "b9126dee-7a5d-4d9d-f38d-fa363c3f71f5"
      },
      "execution_count": null,
      "outputs": [
        {
          "output_type": "stream",
          "name": "stdout",
          "text": [
            "a=[['apple', 'banana'], ['cherry', 'durian', 'elderberry'], ['fig', 'grape']]\n",
            "b=[['apple', 'banana'], ['cherry', 'durian', 'elderberry'], ['fig', 'grape']]\n",
            "True\n",
            "False\n"
          ]
        }
      ]
    },
    {
      "cell_type": "code",
      "source": [
        "a[0].append(\"orange\") # a의 첫번째 아이템(리스트)에 \"orange\" 추가\n",
        "print(f\"{a=}\")\n",
        "print(f\"{b=}\")"
      ],
      "metadata": {
        "colab": {
          "base_uri": "https://localhost:8080/"
        },
        "id": "kSjk1BxliVIG",
        "outputId": "8a060e9d-f366-4ac2-9385-c37dbb365d56"
      },
      "execution_count": null,
      "outputs": [
        {
          "output_type": "stream",
          "name": "stdout",
          "text": [
            "a=[['apple', 'banana', 'orange'], ['cherry', 'durian', 'elderberry'], ['fig', 'grape']]\n",
            "b=[['apple', 'banana'], ['cherry', 'durian', 'elderberry'], ['fig', 'grape']]\n"
          ]
        }
      ]
    },
    {
      "cell_type": "markdown",
      "source": [
        "# 중첩된 데이터로부터 자료 추출하기(Extracting)"
      ],
      "metadata": {
        "id": "k449DOTcTRDQ"
      }
    },
    {
      "cell_type": "markdown",
      "source": [
        "* 다음은 twitter API를 통해 얻은 JSON 형식의 3개 트윗을 res 변수에 할당한 것이다."
      ],
      "metadata": {
        "id": "9fUfIdS0TdG2"
      }
    },
    {
      "cell_type": "code",
      "source": [
        "res = {\n",
        "  \"search_metadata\": {\n",
        "    \"count\": 3,\n",
        "    \"completed_in\": 0.015,\n",
        "    \"max_id_str\": \"536624519285583872\",\n",
        "    \"since_id_str\": \"0\",\n",
        "    \"next_results\": \"?max_id=536623674942439424&q=University%20of%20Michigan&count=3&include_entities=1\",\n",
        "    \"refresh_url\": \"?since_id=536624519285583872&q=University%20of%20Michigan&include_entities=1\",\n",
        "    \"since_id\": 0,\n",
        "    \"query\": \"University+of+Michigan\",\n",
        "    \"max_id\": 536624519285583872\n",
        "  },\n",
        "  \"statuses\": [\n",
        "    {\n",
        "      \"contributors\": None,\n",
        "      \"truncated\": False,\n",
        "      \"text\": \"RT @mikeweber25: I'm decommiting from the university of Michigan thank you Michigan for the love and support I'll remake my decision at the\\u2026\",\n",
        "      \"in_reply_to_status_id\": None,\n",
        "      \"id\": 536624519285583872,\n",
        "      \"favorite_count\": 0,\n",
        "      \"source\": \"<a href=\\\"http://twitter.com/download/iphone\\\" rel=\\\"nofollow\\\">Twitter for iPhone</a>\",\n",
        "      \"retweeted\": False,\n",
        "      \"coordinates\": None,\n",
        "      \"entities\": {\n",
        "        \"symbols\": [],\n",
        "        \"user_mentions\": [\n",
        "          {\n",
        "            \"id\": 1119996684,\n",
        "            \"indices\": [\n",
        "              3,\n",
        "              15\n",
        "            ],\n",
        "            \"id_str\": \"1119996684\",\n",
        "            \"screen_name\": \"mikeweber25\",\n",
        "            \"name\": \"Mikey\"\n",
        "          }\n",
        "        ],\n",
        "        \"hashtags\": [],\n",
        "        \"urls\": []\n",
        "      },\n",
        "      \"in_reply_to_screen_name\": None,\n",
        "      \"in_reply_to_user_id\": None,\n",
        "      \"retweet_count\": 2014,\n",
        "      \"id_str\": \"536624519285583872\",\n",
        "      \"favorited\": False,\n",
        "      \"retweeted_status\": {\n",
        "        \"contributors\": None,\n",
        "        \"truncated\": False,\n",
        "        \"text\": \"I'm decommiting from the university of Michigan thank you Michigan for the love and support I'll remake my decision at the army bowl\",\n",
        "        \"in_reply_to_status_id\": None,\n",
        "        \"id\": 536300265616322560,\n",
        "        \"favorite_count\": 1583,\n",
        "        \"source\": \"<a href=\\\"http://twitter.com/download/iphone\\\" rel=\\\"nofollow\\\">Twitter for iPhone</a>\",\n",
        "        \"retweeted\": False,\n",
        "        \"coordinates\": None,\n",
        "        \"entities\": {\n",
        "          \"symbols\": [],\n",
        "          \"user_mentions\": [],\n",
        "          \"hashtags\": [],\n",
        "          \"urls\": []\n",
        "        },\n",
        "        \"in_reply_to_screen_name\": None,\n",
        "        \"in_reply_to_user_id\": None,\n",
        "        \"retweet_count\": 2014,\n",
        "        \"id_str\": \"536300265616322560\",\n",
        "        \"favorited\": False,\n",
        "        \"user\": {\n",
        "          \"follow_request_sent\": False,\n",
        "          \"profile_use_background_image\": True,\n",
        "          \"profile_text_color\": \"666666\",\n",
        "          \"default_profile_image\": False,\n",
        "          \"id\": 1119996684,\n",
        "          \"profile_background_image_url_https\": \"https://abs.twimg.com/images/themes/theme9/bg.gif\",\n",
        "          \"verified\": False,\n",
        "          \"profile_location\": None,\n",
        "          \"profile_image_url_https\": \"https://pbs.twimg.com/profile_images/534465900343083008/A09dIq1d_normal.jpeg\",\n",
        "          \"profile_sidebar_fill_color\": \"252429\",\n",
        "          \"entities\": {\n",
        "            \"description\": {\n",
        "              \"urls\": []\n",
        "            }\n",
        "          },\n",
        "          \"followers_count\": 5444,\n",
        "          \"profile_sidebar_border_color\": \"FFFFFF\",\n",
        "          \"id_str\": \"1119996684\",\n",
        "          \"profile_background_color\": \"C0DEED\",\n",
        "          \"listed_count\": 36,\n",
        "          \"is_translation_enabled\": False,\n",
        "          \"utc_offset\": None,\n",
        "          \"statuses_count\": 6525,\n",
        "          \"description\": \"Mike Weber (U.S Army All American) DETROIT CTSENIOR State Champion\",\n",
        "          \"friends_count\": 693,\n",
        "          \"location\": \"\",\n",
        "          \"profile_link_color\": \"0084B4\",\n",
        "          \"profile_image_url\": \"http://pbs.twimg.com/profile_images/534465900343083008/A09dIq1d_normal.jpeg\",\n",
        "          \"following\": False,\n",
        "          \"geo_enabled\": False,\n",
        "          \"profile_banner_url\": \"https://pbs.twimg.com/profile_banners/1119996684/1416261575\",\n",
        "          \"profile_background_image_url\": \"http://abs.twimg.com/images/themes/theme9/bg.gif\",\n",
        "          \"name\": \"Mikey\",\n",
        "          \"lang\": \"en\",\n",
        "          \"profile_background_tile\": False,\n",
        "          \"favourites_count\": 1401,\n",
        "          \"screen_name\": \"mikeweber25\",\n",
        "          \"notifications\": False,\n",
        "          \"url\": None,\n",
        "          \"created_at\": \"Fri Jan 25 18:45:53 +0000 2013\",\n",
        "          \"contributors_enabled\": False,\n",
        "          \"time_zone\": None,\n",
        "          \"protected\": False,\n",
        "          \"default_profile\": False,\n",
        "          \"is_translator\": False\n",
        "        },\n",
        "        \"geo\": None,\n",
        "        \"in_reply_to_user_id_str\": None,\n",
        "        \"lang\": \"en\",\n",
        "        \"created_at\": \"Sat Nov 22 23:28:41 +0000 2014\",\n",
        "        \"in_reply_to_status_id_str\": None,\n",
        "        \"place\": None,\n",
        "        \"metadata\": {\n",
        "          \"iso_language_code\": \"en\",\n",
        "          \"result_type\": \"recent\"\n",
        "        }\n",
        "      },\n",
        "      \"user\": {\n",
        "        \"follow_request_sent\": False,\n",
        "        \"profile_use_background_image\": True,\n",
        "        \"profile_text_color\": \"333333\",\n",
        "        \"default_profile_image\": False,\n",
        "        \"id\": 2435537208,\n",
        "        \"profile_background_image_url_https\": \"https://abs.twimg.com/images/themes/theme1/bg.png\",\n",
        "        \"verified\": False,\n",
        "        \"profile_location\": None,\n",
        "        \"profile_image_url_https\": \"https://pbs.twimg.com/profile_images/532694075947110400/oZEP5XNQ_normal.jpeg\",\n",
        "        \"profile_sidebar_fill_color\": \"DDEEF6\",\n",
        "        \"entities\": {\n",
        "          \"description\": {\n",
        "            \"urls\": []\n",
        "          }\n",
        "        },\n",
        "        \"followers_count\": 161,\n",
        "        \"profile_sidebar_border_color\": \"C0DEED\",\n",
        "        \"id_str\": \"2435537208\",\n",
        "        \"profile_background_color\": \"C0DEED\",\n",
        "        \"listed_count\": 0,\n",
        "        \"is_translation_enabled\": False,\n",
        "        \"utc_offset\": None,\n",
        "        \"statuses_count\": 524,\n",
        "        \"description\": \"Delasalle '17 Baseball & Football.\",\n",
        "        \"friends_count\": 255,\n",
        "        \"location\": \"\",\n",
        "        \"profile_link_color\": \"0084B4\",\n",
        "        \"profile_image_url\": \"http://pbs.twimg.com/profile_images/532694075947110400/oZEP5XNQ_normal.jpeg\",\n",
        "        \"following\": False,\n",
        "        \"geo_enabled\": False,\n",
        "        \"profile_banner_url\": \"https://pbs.twimg.com/profile_banners/2435537208/1406779364\",\n",
        "        \"profile_background_image_url\": \"http://abs.twimg.com/images/themes/theme1/bg.png\",\n",
        "        \"name\": \"Andrew Brooks\",\n",
        "        \"lang\": \"en\",\n",
        "        \"profile_background_tile\": False,\n",
        "        \"favourites_count\": 555,\n",
        "        \"screen_name\": \"31brooks_\",\n",
        "        \"notifications\": False,\n",
        "        \"url\": None,\n",
        "        \"created_at\": \"Wed Apr 09 14:34:41 +0000 2014\",\n",
        "        \"contributors_enabled\": False,\n",
        "        \"time_zone\": None,\n",
        "        \"protected\": False,\n",
        "        \"default_profile\": True,\n",
        "        \"is_translator\": False\n",
        "      },\n",
        "      \"geo\": None,\n",
        "      \"in_reply_to_user_id_str\": None,\n",
        "      \"lang\": \"en\",\n",
        "      \"created_at\": \"Sun Nov 23 20:57:10 +0000 2014\",\n",
        "      \"in_reply_to_status_id_str\": None,\n",
        "      \"place\": None,\n",
        "      \"metadata\": {\n",
        "        \"iso_language_code\": \"en\",\n",
        "        \"result_type\": \"recent\"\n",
        "      }\n",
        "    },\n",
        "    {\n",
        "      \"contributors\": None,\n",
        "      \"truncated\": False,\n",
        "      \"text\": \"RT @Plantedd: The University of Michigan moved a big Bur Oak yesterday. 65ft tall. 350+ tons. http://t.co/v2Y6vl3f9e\",\n",
        "      \"in_reply_to_status_id\": None,\n",
        "      \"id\": 536624216305848320,\n",
        "      \"favorite_count\": 0,\n",
        "      \"source\": \"<a href=\\\"http://tapbots.com/tweetbot\\\" rel=\\\"nofollow\\\">Tweetbot for i\\u039fS</a>\",\n",
        "      \"retweeted\": False,\n",
        "      \"coordinates\": None,\n",
        "      \"entities\": {\n",
        "        \"symbols\": [],\n",
        "        \"user_mentions\": [\n",
        "          {\n",
        "            \"id\": 462890283,\n",
        "            \"indices\": [\n",
        "              3,\n",
        "              12\n",
        "            ],\n",
        "            \"id_str\": \"462890283\",\n",
        "            \"screen_name\": \"Plantedd\",\n",
        "            \"name\": \"David Wong\"\n",
        "          }\n",
        "        ],\n",
        "        \"hashtags\": [],\n",
        "        \"urls\": [],\n",
        "        \"media\": [\n",
        "          {\n",
        "            \"source_status_id_str\": \"526276522374889472\",\n",
        "            \"expanded_url\": \"http://twitter.com/Plantedd/status/526276522374889472/photo/1\",\n",
        "            \"display_url\": \"pic.twitter.com/v2Y6vl3f9e\",\n",
        "            \"url\": \"http://t.co/v2Y6vl3f9e\",\n",
        "            \"media_url_https\": \"https://pbs.twimg.com/media/B021tLsIYAADq21.jpg\",\n",
        "            \"source_status_id\": 526276522374889472,\n",
        "            \"id_str\": \"526276519308845056\",\n",
        "            \"sizes\": {\n",
        "              \"small\": {\n",
        "                \"h\": 191,\n",
        "                \"resize\": \"fit\",\n",
        "                \"w\": 340\n",
        "              },\n",
        "              \"large\": {\n",
        "                \"h\": 576,\n",
        "                \"resize\": \"fit\",\n",
        "                \"w\": 1024\n",
        "              },\n",
        "              \"medium\": {\n",
        "                \"h\": 337,\n",
        "                \"resize\": \"fit\",\n",
        "                \"w\": 600\n",
        "              },\n",
        "              \"thumb\": {\n",
        "                \"h\": 150,\n",
        "                \"resize\": \"crop\",\n",
        "                \"w\": 150\n",
        "              }\n",
        "            },\n",
        "            \"indices\": [\n",
        "              94,\n",
        "              116\n",
        "            ],\n",
        "            \"type\": \"photo\",\n",
        "            \"id\": 526276519308845056,\n",
        "            \"media_url\": \"http://pbs.twimg.com/media/B021tLsIYAADq21.jpg\"\n",
        "          }\n",
        "        ]\n",
        "      },\n",
        "      \"in_reply_to_screen_name\": None,\n",
        "      \"in_reply_to_user_id\": None,\n",
        "      \"retweet_count\": 27,\n",
        "      \"id_str\": \"536624216305848320\",\n",
        "      \"favorited\": False,\n",
        "      \"retweeted_status\": {\n",
        "        \"contributors\": None,\n",
        "        \"truncated\": False,\n",
        "        \"text\": \"The University of Michigan moved a big Bur Oak yesterday. 65ft tall. 350+ tons. http://t.co/v2Y6vl3f9e\",\n",
        "        \"in_reply_to_status_id\": None,\n",
        "        \"id\": 526276522374889472,\n",
        "        \"favorite_count\": 25,\n",
        "        \"source\": \"<a href=\\\"http://twitter.com/download/iphone\\\" rel=\\\"nofollow\\\">Twitter for iPhone</a>\",\n",
        "        \"retweeted\": False,\n",
        "        \"coordinates\": None,\n",
        "        \"entities\": {\n",
        "          \"symbols\": [],\n",
        "          \"user_mentions\": [],\n",
        "          \"hashtags\": [],\n",
        "          \"urls\": [],\n",
        "          \"media\": [\n",
        "            {\n",
        "              \"expanded_url\": \"http://twitter.com/Plantedd/status/526276522374889472/photo/1\",\n",
        "              \"display_url\": \"pic.twitter.com/v2Y6vl3f9e\",\n",
        "              \"url\": \"http://t.co/v2Y6vl3f9e\",\n",
        "              \"media_url_https\": \"https://pbs.twimg.com/media/B021tLsIYAADq21.jpg\",\n",
        "              \"id_str\": \"526276519308845056\",\n",
        "              \"sizes\": {\n",
        "                \"small\": {\n",
        "                  \"h\": 191,\n",
        "                  \"resize\": \"fit\",\n",
        "                  \"w\": 340\n",
        "                },\n",
        "                \"large\": {\n",
        "                  \"h\": 576,\n",
        "                  \"resize\": \"fit\",\n",
        "                  \"w\": 1024\n",
        "                },\n",
        "                \"medium\": {\n",
        "                  \"h\": 337,\n",
        "                  \"resize\": \"fit\",\n",
        "                  \"w\": 600\n",
        "                },\n",
        "                \"thumb\": {\n",
        "                  \"h\": 150,\n",
        "                  \"resize\": \"crop\",\n",
        "                  \"w\": 150\n",
        "                }\n",
        "              },\n",
        "              \"indices\": [\n",
        "                80,\n",
        "                102\n",
        "              ],\n",
        "              \"type\": \"photo\",\n",
        "              \"id\": 526276519308845056,\n",
        "              \"media_url\": \"http://pbs.twimg.com/media/B021tLsIYAADq21.jpg\"\n",
        "            }\n",
        "          ]\n",
        "        },\n",
        "        \"in_reply_to_screen_name\": None,\n",
        "        \"in_reply_to_user_id\": None,\n",
        "        \"retweet_count\": 27,\n",
        "        \"id_str\": \"526276522374889472\",\n",
        "        \"favorited\": False,\n",
        "        \"user\": {\n",
        "          \"follow_request_sent\": False,\n",
        "          \"profile_use_background_image\": True,\n",
        "          \"profile_text_color\": \"333333\",\n",
        "          \"default_profile_image\": False,\n",
        "          \"id\": 462890283,\n",
        "          \"profile_background_image_url_https\": \"https://abs.twimg.com/images/themes/theme1/bg.png\",\n",
        "          \"verified\": False,\n",
        "          \"profile_location\": None,\n",
        "          \"profile_image_url_https\": \"https://pbs.twimg.com/profile_images/1791926707/Plantedd_Logo__square__normal.jpg\",\n",
        "          \"profile_sidebar_fill_color\": \"DDEEF6\",\n",
        "          \"entities\": {\n",
        "            \"url\": {\n",
        "              \"urls\": [\n",
        "                {\n",
        "                  \"url\": \"http://t.co/ZOnsCHvoKt\",\n",
        "                  \"indices\": [\n",
        "                    0,\n",
        "                    22\n",
        "                  ],\n",
        "                  \"expanded_url\": \"http://www.plantedd.com\",\n",
        "                  \"display_url\": \"plantedd.com\"\n",
        "                }\n",
        "              ]\n",
        "            },\n",
        "            \"description\": {\n",
        "              \"urls\": []\n",
        "            }\n",
        "          },\n",
        "          \"followers_count\": 2598,\n",
        "          \"profile_sidebar_border_color\": \"C0DEED\",\n",
        "          \"id_str\": \"462890283\",\n",
        "          \"profile_background_color\": \"C0DEED\",\n",
        "          \"listed_count\": 61,\n",
        "          \"is_translation_enabled\": False,\n",
        "          \"utc_offset\": 0,\n",
        "          \"statuses_count\": 8157,\n",
        "          \"description\": \"Hello, I'm the supervillain behind Plantedd. We're an online market for plant lovers plotting to take over the world by making it simple to find and buy plants.\",\n",
        "          \"friends_count\": 2664,\n",
        "          \"location\": \"UK\",\n",
        "          \"profile_link_color\": \"0084B4\",\n",
        "          \"profile_image_url\": \"http://pbs.twimg.com/profile_images/1791926707/Plantedd_Logo__square__normal.jpg\",\n",
        "          \"following\": False,\n",
        "          \"geo_enabled\": False,\n",
        "          \"profile_banner_url\": \"https://pbs.twimg.com/profile_banners/462890283/1398254314\",\n",
        "          \"profile_background_image_url\": \"http://abs.twimg.com/images/themes/theme1/bg.png\",\n",
        "          \"name\": \"David Wong\",\n",
        "          \"lang\": \"en\",\n",
        "          \"profile_background_tile\": False,\n",
        "          \"favourites_count\": 371,\n",
        "          \"screen_name\": \"Plantedd\",\n",
        "          \"notifications\": False,\n",
        "          \"url\": \"http://t.co/ZOnsCHvoKt\",\n",
        "          \"created_at\": \"Fri Jan 13 13:46:46 +0000 2012\",\n",
        "          \"contributors_enabled\": False,\n",
        "          \"time_zone\": \"Edinburgh\",\n",
        "          \"protected\": False,\n",
        "          \"default_profile\": True,\n",
        "          \"is_translator\": False\n",
        "        },\n",
        "        \"geo\": None,\n",
        "        \"in_reply_to_user_id_str\": None,\n",
        "        \"possibly_sensitive\": False,\n",
        "        \"lang\": \"en\",\n",
        "        \"created_at\": \"Sun Oct 26 07:37:55 +0000 2014\",\n",
        "        \"in_reply_to_status_id_str\": None,\n",
        "        \"place\": None,\n",
        "        \"metadata\": {\n",
        "          \"iso_language_code\": \"en\",\n",
        "          \"result_type\": \"recent\"\n",
        "        }\n",
        "      },\n",
        "      \"user\": {\n",
        "        \"follow_request_sent\": False,\n",
        "        \"profile_use_background_image\": True,\n",
        "        \"profile_text_color\": \"2A48AE\",\n",
        "        \"default_profile_image\": False,\n",
        "        \"id\": 104940733,\n",
        "        \"profile_background_image_url_https\": \"https://abs.twimg.com/images/themes/theme17/bg.gif\",\n",
        "        \"verified\": False,\n",
        "        \"profile_location\": None,\n",
        "        \"profile_image_url_https\": \"https://pbs.twimg.com/profile_images/2878477539/78e20432088b5ee2addc9ce3362fd461_normal.jpeg\",\n",
        "        \"profile_sidebar_fill_color\": \"6378B1\",\n",
        "        \"entities\": {\n",
        "          \"description\": {\n",
        "            \"urls\": []\n",
        "          }\n",
        "        },\n",
        "        \"followers_count\": 149,\n",
        "        \"profile_sidebar_border_color\": \"FBD0C9\",\n",
        "        \"id_str\": \"104940733\",\n",
        "        \"profile_background_color\": \"0C003D\",\n",
        "        \"listed_count\": 18,\n",
        "        \"is_translation_enabled\": False,\n",
        "        \"utc_offset\": 0,\n",
        "        \"statuses_count\": 16031,\n",
        "        \"description\": \"Have you any dreams you'd like to sell?\",\n",
        "        \"friends_count\": 248,\n",
        "        \"location\": \"\",\n",
        "        \"profile_link_color\": \"0F1B7C\",\n",
        "        \"profile_image_url\": \"http://pbs.twimg.com/profile_images/2878477539/78e20432088b5ee2addc9ce3362fd461_normal.jpeg\",\n",
        "        \"following\": False,\n",
        "        \"geo_enabled\": False,\n",
        "        \"profile_banner_url\": \"https://pbs.twimg.com/profile_banners/104940733/1410032966\",\n",
        "        \"profile_background_image_url\": \"http://abs.twimg.com/images/themes/theme17/bg.gif\",\n",
        "        \"name\": \"Heather\",\n",
        "        \"lang\": \"en\",\n",
        "        \"profile_background_tile\": False,\n",
        "        \"favourites_count\": 777,\n",
        "        \"screen_name\": \"froyoho\",\n",
        "        \"notifications\": False,\n",
        "        \"url\": None,\n",
        "        \"created_at\": \"Thu Jan 14 21:37:54 +0000 2010\",\n",
        "        \"contributors_enabled\": False,\n",
        "        \"time_zone\": \"London\",\n",
        "        \"protected\": False,\n",
        "        \"default_profile\": False,\n",
        "        \"is_translator\": False\n",
        "      },\n",
        "      \"geo\": None,\n",
        "      \"in_reply_to_user_id_str\": None,\n",
        "      \"possibly_sensitive\": False,\n",
        "      \"lang\": \"en\",\n",
        "      \"created_at\": \"Sun Nov 23 20:55:57 +0000 2014\",\n",
        "      \"in_reply_to_status_id_str\": None,\n",
        "      \"place\": None,\n",
        "      \"metadata\": {\n",
        "        \"iso_language_code\": \"en\",\n",
        "        \"result_type\": \"recent\"\n",
        "      }\n",
        "    },\n",
        "    {\n",
        "      \"contributors\": None,\n",
        "      \"truncated\": False,\n",
        "      \"text\": \"RT @NotableHistory: Madonna, 18 year old freshman at the University of Michigan, 1976 http://t.co/x2dm1G67ea\",\n",
        "      \"in_reply_to_status_id\": None,\n",
        "      \"id\": 536623674942439425,\n",
        "      \"favorite_count\": 0,\n",
        "      \"source\": \"<a href=\\\"http://twitter.com/download/android\\\" rel=\\\"nofollow\\\">Twitter for Android</a>\",\n",
        "      \"retweeted\": False,\n",
        "      \"coordinates\": None,\n",
        "      \"entities\": {\n",
        "        \"symbols\": [],\n",
        "        \"user_mentions\": [\n",
        "          {\n",
        "            \"id\": 844766941,\n",
        "            \"indices\": [\n",
        "              3,\n",
        "              18\n",
        "            ],\n",
        "            \"id_str\": \"844766941\",\n",
        "            \"screen_name\": \"NotableHistory\",\n",
        "            \"name\": \"OnThisDay & Facts\"\n",
        "          }\n",
        "        ],\n",
        "        \"hashtags\": [],\n",
        "        \"urls\": [],\n",
        "        \"media\": [\n",
        "          {\n",
        "            \"source_status_id_str\": \"536610190334779392\",\n",
        "            \"expanded_url\": \"http://twitter.com/NotableHistory/status/536610190334779392/photo/1\",\n",
        "            \"display_url\": \"pic.twitter.com/x2dm1G67ea\",\n",
        "            \"url\": \"http://t.co/x2dm1G67ea\",\n",
        "            \"media_url_https\": \"https://pbs.twimg.com/media/B3EXbQkCMAEipwM.jpg\",\n",
        "            \"source_status_id\": 536610190334779392,\n",
        "            \"id_str\": \"536235587703812097\",\n",
        "            \"sizes\": {\n",
        "              \"small\": {\n",
        "                \"h\": 487,\n",
        "                \"resize\": \"fit\",\n",
        "                \"w\": 340\n",
        "              },\n",
        "              \"large\": {\n",
        "                \"h\": 918,\n",
        "                \"resize\": \"fit\",\n",
        "                \"w\": 640\n",
        "              },\n",
        "              \"medium\": {\n",
        "                \"h\": 860,\n",
        "                \"resize\": \"fit\",\n",
        "                \"w\": 600\n",
        "              },\n",
        "              \"thumb\": {\n",
        "                \"h\": 150,\n",
        "                \"resize\": \"crop\",\n",
        "                \"w\": 150\n",
        "              }\n",
        "            },\n",
        "            \"indices\": [\n",
        "              86,\n",
        "              108\n",
        "            ],\n",
        "            \"type\": \"photo\",\n",
        "            \"id\": 536235587703812097,\n",
        "            \"media_url\": \"http://pbs.twimg.com/media/B3EXbQkCMAEipwM.jpg\"\n",
        "          }\n",
        "        ]\n",
        "      },\n",
        "      \"in_reply_to_screen_name\": None,\n",
        "      \"in_reply_to_user_id\": None,\n",
        "      \"retweet_count\": 9,\n",
        "      \"id_str\": \"536623674942439425\",\n",
        "      \"favorited\": False,\n",
        "      \"retweeted_status\": {\n",
        "        \"contributors\": None,\n",
        "        \"truncated\": False,\n",
        "        \"text\": \"Madonna, 18 year old freshman at the University of Michigan, 1976 http://t.co/x2dm1G67ea\",\n",
        "        \"in_reply_to_status_id\": None,\n",
        "        \"id\": 536610190334779392,\n",
        "        \"favorite_count\": 13,\n",
        "        \"source\": \"<a href=\\\"https://ads.twitter.com\\\" rel=\\\"nofollow\\\">Twitter Ads</a>\",\n",
        "        \"retweeted\": False,\n",
        "        \"coordinates\": None,\n",
        "        \"entities\": {\n",
        "          \"symbols\": [],\n",
        "          \"user_mentions\": [],\n",
        "          \"hashtags\": [],\n",
        "          \"urls\": [],\n",
        "          \"media\": [\n",
        "            {\n",
        "              \"expanded_url\": \"http://twitter.com/NotableHistory/status/536610190334779392/photo/1\",\n",
        "              \"display_url\": \"pic.twitter.com/x2dm1G67ea\",\n",
        "              \"url\": \"http://t.co/x2dm1G67ea\",\n",
        "              \"media_url_https\": \"https://pbs.twimg.com/media/B3EXbQkCMAEipwM.jpg\",\n",
        "              \"id_str\": \"536235587703812097\",\n",
        "              \"sizes\": {\n",
        "                \"small\": {\n",
        "                  \"h\": 487,\n",
        "                  \"resize\": \"fit\",\n",
        "                  \"w\": 340\n",
        "                },\n",
        "                \"large\": {\n",
        "                  \"h\": 918,\n",
        "                  \"resize\": \"fit\",\n",
        "                  \"w\": 640\n",
        "                },\n",
        "                \"medium\": {\n",
        "                  \"h\": 860,\n",
        "                  \"resize\": \"fit\",\n",
        "                  \"w\": 600\n",
        "                },\n",
        "                \"thumb\": {\n",
        "                  \"h\": 150,\n",
        "                  \"resize\": \"crop\",\n",
        "                  \"w\": 150\n",
        "                }\n",
        "              },\n",
        "              \"indices\": [\n",
        "                66,\n",
        "                88\n",
        "              ],\n",
        "              \"type\": \"photo\",\n",
        "              \"id\": 536235587703812097,\n",
        "              \"media_url\": \"http://pbs.twimg.com/media/B3EXbQkCMAEipwM.jpg\"\n",
        "            }\n",
        "          ]\n",
        "        },\n",
        "        \"in_reply_to_screen_name\": None,\n",
        "        \"in_reply_to_user_id\": None,\n",
        "        \"retweet_count\": 9,\n",
        "        \"id_str\": \"536610190334779392\",\n",
        "        \"favorited\": False,\n",
        "        \"user\": {\n",
        "          \"follow_request_sent\": False,\n",
        "          \"profile_use_background_image\": True,\n",
        "          \"profile_text_color\": \"333333\",\n",
        "          \"default_profile_image\": False,\n",
        "          \"id\": 844766941,\n",
        "          \"profile_background_image_url_https\": \"https://pbs.twimg.com/profile_background_images/458461302696837121/rGlGdWsc.png\",\n",
        "          \"verified\": False,\n",
        "          \"profile_location\": None,\n",
        "          \"profile_image_url_https\": \"https://pbs.twimg.com/profile_images/481243404320251905/gCr1cVP2_normal.png\",\n",
        "          \"profile_sidebar_fill_color\": \"DDFFCC\",\n",
        "          \"entities\": {\n",
        "            \"url\": {\n",
        "              \"urls\": [\n",
        "                {\n",
        "                  \"url\": \"http://t.co/9fTPk5A4wh\",\n",
        "                  \"indices\": [\n",
        "                    0,\n",
        "                    22\n",
        "                  ],\n",
        "                  \"expanded_url\": \"http://notablefacts.com/\",\n",
        "                  \"display_url\": \"notablefacts.com\"\n",
        "                }\n",
        "              ]\n",
        "            },\n",
        "            \"description\": {\n",
        "              \"urls\": []\n",
        "            }\n",
        "          },\n",
        "          \"followers_count\": 73817,\n",
        "          \"profile_sidebar_border_color\": \"FFFFFF\",\n",
        "          \"id_str\": \"844766941\",\n",
        "          \"profile_background_color\": \"9AE4E8\",\n",
        "          \"listed_count\": 485,\n",
        "          \"is_translation_enabled\": False,\n",
        "          \"utc_offset\": -21600,\n",
        "          \"statuses_count\": 38841,\n",
        "          \"description\": \"On This Day in History, Historical Pictures & other Interesting Facts....Historyfollower@gmail.com\",\n",
        "          \"friends_count\": 43594,\n",
        "          \"location\": \"\",\n",
        "          \"profile_link_color\": \"0084B4\",\n",
        "          \"profile_image_url\": \"http://pbs.twimg.com/profile_images/481243404320251905/gCr1cVP2_normal.png\",\n",
        "          \"following\": False,\n",
        "          \"geo_enabled\": False,\n",
        "          \"profile_banner_url\": \"https://pbs.twimg.com/profile_banners/844766941/1411076349\",\n",
        "          \"profile_background_image_url\": \"http://pbs.twimg.com/profile_background_images/458461302696837121/rGlGdWsc.png\",\n",
        "          \"name\": \"OnThisDay & Facts\",\n",
        "          \"lang\": \"en\",\n",
        "          \"profile_background_tile\": True,\n",
        "          \"favourites_count\": 1383,\n",
        "          \"screen_name\": \"NotableHistory\",\n",
        "          \"notifications\": False,\n",
        "          \"url\": \"http://t.co/9fTPk5A4wh\",\n",
        "          \"created_at\": \"Tue Sep 25 03:08:59 +0000 2012\",\n",
        "          \"contributors_enabled\": False,\n",
        "          \"time_zone\": \"Central Time (US & Canada)\",\n",
        "          \"protected\": False,\n",
        "          \"default_profile\": False,\n",
        "          \"is_translator\": False\n",
        "        },\n",
        "        \"geo\": None,\n",
        "        \"in_reply_to_user_id_str\": None,\n",
        "        \"possibly_sensitive\": False,\n",
        "        \"lang\": \"en\",\n",
        "        \"created_at\": \"Sun Nov 23 20:00:13 +0000 2014\",\n",
        "        \"in_reply_to_status_id_str\": None,\n",
        "        \"place\": None,\n",
        "        \"metadata\": {\n",
        "          \"iso_language_code\": \"en\",\n",
        "          \"result_type\": \"recent\"\n",
        "        }\n",
        "      },\n",
        "      \"user\": {\n",
        "        \"follow_request_sent\": False,\n",
        "        \"profile_use_background_image\": True,\n",
        "        \"profile_text_color\": \"333333\",\n",
        "        \"default_profile_image\": False,\n",
        "        \"id\": 818185729,\n",
        "        \"profile_background_image_url_https\": \"https://abs.twimg.com/images/themes/theme1/bg.png\",\n",
        "        \"verified\": False,\n",
        "        \"profile_location\": None,\n",
        "        \"profile_image_url_https\": \"https://pbs.twimg.com/profile_images/486215801498640384/rz9o7LnF_normal.jpeg\",\n",
        "        \"profile_sidebar_fill_color\": \"DDEEF6\",\n",
        "        \"entities\": {\n",
        "          \"description\": {\n",
        "            \"urls\": []\n",
        "          }\n",
        "        },\n",
        "        \"followers_count\": 302,\n",
        "        \"profile_sidebar_border_color\": \"C0DEED\",\n",
        "        \"id_str\": \"818185729\",\n",
        "        \"profile_background_color\": \"C0DEED\",\n",
        "        \"listed_count\": 0,\n",
        "        \"is_translation_enabled\": False,\n",
        "        \"utc_offset\": None,\n",
        "        \"statuses_count\": 395,\n",
        "        \"description\": \"Formerly with California Dept of General Services, now freelancing around the Sacramento area...\",\n",
        "        \"friends_count\": 1521,\n",
        "        \"location\": \"Citrus Heights, CA\",\n",
        "        \"profile_link_color\": \"0084B4\",\n",
        "        \"profile_image_url\": \"http://pbs.twimg.com/profile_images/486215801498640384/rz9o7LnF_normal.jpeg\",\n",
        "        \"following\": False,\n",
        "        \"geo_enabled\": True,\n",
        "        \"profile_banner_url\": \"https://pbs.twimg.com/profile_banners/818185729/1383764759\",\n",
        "        \"profile_background_image_url\": \"http://abs.twimg.com/images/themes/theme1/bg.png\",\n",
        "        \"name\": \"M Duncan\",\n",
        "        \"lang\": \"en\",\n",
        "        \"profile_background_tile\": False,\n",
        "        \"favourites_count\": 6544,\n",
        "        \"screen_name\": \"MDuncan95814\",\n",
        "        \"notifications\": False,\n",
        "        \"url\": None,\n",
        "        \"created_at\": \"Tue Sep 11 21:02:09 +0000 2012\",\n",
        "        \"contributors_enabled\": False,\n",
        "        \"time_zone\": None,\n",
        "        \"protected\": False,\n",
        "        \"default_profile\": True,\n",
        "        \"is_translator\": False\n",
        "      },\n",
        "      \"geo\": None,\n",
        "      \"in_reply_to_user_id_str\": None,\n",
        "      \"possibly_sensitive\": False,\n",
        "      \"lang\": \"en\",\n",
        "      \"created_at\": \"Sun Nov 23 20:53:48 +0000 2014\",\n",
        "      \"in_reply_to_status_id_str\": None,\n",
        "      \"place\": None,\n",
        "      \"metadata\": {\n",
        "        \"iso_language_code\": \"en\",\n",
        "        \"result_type\": \"recent\"\n",
        "      }\n",
        "    }\n",
        "  ]\n",
        "}"
      ],
      "metadata": {
        "id": "Q0-K70OUTXNv"
      },
      "execution_count": null,
      "outputs": []
    },
    {
      "cell_type": "markdown",
      "source": [
        "* json 라이브러리를 이용해서 읽고, 들여쓰기를 해서 출력해보자."
      ],
      "metadata": {
        "id": "NaS7xPXUTvjY"
      }
    },
    {
      "cell_type": "code",
      "source": [
        "import json\n",
        "print(json.dumps(res,indent=2))"
      ],
      "metadata": {
        "colab": {
          "base_uri": "https://localhost:8080/"
        },
        "id": "lCJa1qFMT8mq",
        "outputId": "840c9148-08e2-4e89-bc35-289b206991af"
      },
      "execution_count": null,
      "outputs": [
        {
          "output_type": "stream",
          "name": "stdout",
          "text": [
            "{\n",
            "  \"search_metadata\": {\n",
            "    \"count\": 3,\n",
            "    \"completed_in\": 0.015,\n",
            "    \"max_id_str\": \"536624519285583872\",\n",
            "    \"since_id_str\": \"0\",\n",
            "    \"next_results\": \"?max_id=536623674942439424&q=University%20of%20Michigan&count=3&include_entities=1\",\n",
            "    \"refresh_url\": \"?since_id=536624519285583872&q=University%20of%20Michigan&include_entities=1\",\n",
            "    \"since_id\": 0,\n",
            "    \"query\": \"University+of+Michigan\",\n",
            "    \"max_id\": 536624519285583872\n",
            "  },\n",
            "  \"statuses\": [\n",
            "    {\n",
            "      \"contributors\": null,\n",
            "      \"truncated\": false,\n",
            "      \"text\": \"RT @mikeweber25: I'm decommiting from the university of Michigan thank you Michigan for the love and support I'll remake my decision at the\\u2026\",\n",
            "      \"in_reply_to_status_id\": null,\n",
            "      \"id\": 536624519285583872,\n",
            "      \"favorite_count\": 0,\n",
            "      \"source\": \"<a href=\\\"http://twitter.com/download/iphone\\\" rel=\\\"nofollow\\\">Twitter for iPhone</a>\",\n",
            "      \"retweeted\": false,\n",
            "      \"coordinates\": null,\n",
            "      \"entities\": {\n",
            "        \"symbols\": [],\n",
            "        \"user_mentions\": [\n",
            "          {\n",
            "            \"id\": 1119996684,\n",
            "            \"indices\": [\n",
            "              3,\n",
            "              15\n",
            "            ],\n",
            "            \"id_str\": \"1119996684\",\n",
            "            \"screen_name\": \"mikeweber25\",\n",
            "            \"name\": \"Mikey\"\n",
            "          }\n",
            "        ],\n",
            "        \"hashtags\": [],\n",
            "        \"urls\": []\n",
            "      },\n",
            "      \"in_reply_to_screen_name\": null,\n",
            "      \"in_reply_to_user_id\": null,\n",
            "      \"retweet_count\": 2014,\n",
            "      \"id_str\": \"536624519285583872\",\n",
            "      \"favorited\": false,\n",
            "      \"retweeted_status\": {\n",
            "        \"contributors\": null,\n",
            "        \"truncated\": false,\n",
            "        \"text\": \"I'm decommiting from the university of Michigan thank you Michigan for the love and support I'll remake my decision at the army bowl\",\n",
            "        \"in_reply_to_status_id\": null,\n",
            "        \"id\": 536300265616322560,\n",
            "        \"favorite_count\": 1583,\n",
            "        \"source\": \"<a href=\\\"http://twitter.com/download/iphone\\\" rel=\\\"nofollow\\\">Twitter for iPhone</a>\",\n",
            "        \"retweeted\": false,\n",
            "        \"coordinates\": null,\n",
            "        \"entities\": {\n",
            "          \"symbols\": [],\n",
            "          \"user_mentions\": [],\n",
            "          \"hashtags\": [],\n",
            "          \"urls\": []\n",
            "        },\n",
            "        \"in_reply_to_screen_name\": null,\n",
            "        \"in_reply_to_user_id\": null,\n",
            "        \"retweet_count\": 2014,\n",
            "        \"id_str\": \"536300265616322560\",\n",
            "        \"favorited\": false,\n",
            "        \"user\": {\n",
            "          \"follow_request_sent\": false,\n",
            "          \"profile_use_background_image\": true,\n",
            "          \"profile_text_color\": \"666666\",\n",
            "          \"default_profile_image\": false,\n",
            "          \"id\": 1119996684,\n",
            "          \"profile_background_image_url_https\": \"https://abs.twimg.com/images/themes/theme9/bg.gif\",\n",
            "          \"verified\": false,\n",
            "          \"profile_location\": null,\n",
            "          \"profile_image_url_https\": \"https://pbs.twimg.com/profile_images/534465900343083008/A09dIq1d_normal.jpeg\",\n",
            "          \"profile_sidebar_fill_color\": \"252429\",\n",
            "          \"entities\": {\n",
            "            \"description\": {\n",
            "              \"urls\": []\n",
            "            }\n",
            "          },\n",
            "          \"followers_count\": 5444,\n",
            "          \"profile_sidebar_border_color\": \"FFFFFF\",\n",
            "          \"id_str\": \"1119996684\",\n",
            "          \"profile_background_color\": \"C0DEED\",\n",
            "          \"listed_count\": 36,\n",
            "          \"is_translation_enabled\": false,\n",
            "          \"utc_offset\": null,\n",
            "          \"statuses_count\": 6525,\n",
            "          \"description\": \"Mike Weber (U.S Army All American) DETROIT CTSENIOR State Champion\",\n",
            "          \"friends_count\": 693,\n",
            "          \"location\": \"\",\n",
            "          \"profile_link_color\": \"0084B4\",\n",
            "          \"profile_image_url\": \"http://pbs.twimg.com/profile_images/534465900343083008/A09dIq1d_normal.jpeg\",\n",
            "          \"following\": false,\n",
            "          \"geo_enabled\": false,\n",
            "          \"profile_banner_url\": \"https://pbs.twimg.com/profile_banners/1119996684/1416261575\",\n",
            "          \"profile_background_image_url\": \"http://abs.twimg.com/images/themes/theme9/bg.gif\",\n",
            "          \"name\": \"Mikey\",\n",
            "          \"lang\": \"en\",\n",
            "          \"profile_background_tile\": false,\n",
            "          \"favourites_count\": 1401,\n",
            "          \"screen_name\": \"mikeweber25\",\n",
            "          \"notifications\": false,\n",
            "          \"url\": null,\n",
            "          \"created_at\": \"Fri Jan 25 18:45:53 +0000 2013\",\n",
            "          \"contributors_enabled\": false,\n",
            "          \"time_zone\": null,\n",
            "          \"protected\": false,\n",
            "          \"default_profile\": false,\n",
            "          \"is_translator\": false\n",
            "        },\n",
            "        \"geo\": null,\n",
            "        \"in_reply_to_user_id_str\": null,\n",
            "        \"lang\": \"en\",\n",
            "        \"created_at\": \"Sat Nov 22 23:28:41 +0000 2014\",\n",
            "        \"in_reply_to_status_id_str\": null,\n",
            "        \"place\": null,\n",
            "        \"metadata\": {\n",
            "          \"iso_language_code\": \"en\",\n",
            "          \"result_type\": \"recent\"\n",
            "        }\n",
            "      },\n",
            "      \"user\": {\n",
            "        \"follow_request_sent\": false,\n",
            "        \"profile_use_background_image\": true,\n",
            "        \"profile_text_color\": \"333333\",\n",
            "        \"default_profile_image\": false,\n",
            "        \"id\": 2435537208,\n",
            "        \"profile_background_image_url_https\": \"https://abs.twimg.com/images/themes/theme1/bg.png\",\n",
            "        \"verified\": false,\n",
            "        \"profile_location\": null,\n",
            "        \"profile_image_url_https\": \"https://pbs.twimg.com/profile_images/532694075947110400/oZEP5XNQ_normal.jpeg\",\n",
            "        \"profile_sidebar_fill_color\": \"DDEEF6\",\n",
            "        \"entities\": {\n",
            "          \"description\": {\n",
            "            \"urls\": []\n",
            "          }\n",
            "        },\n",
            "        \"followers_count\": 161,\n",
            "        \"profile_sidebar_border_color\": \"C0DEED\",\n",
            "        \"id_str\": \"2435537208\",\n",
            "        \"profile_background_color\": \"C0DEED\",\n",
            "        \"listed_count\": 0,\n",
            "        \"is_translation_enabled\": false,\n",
            "        \"utc_offset\": null,\n",
            "        \"statuses_count\": 524,\n",
            "        \"description\": \"Delasalle '17 Baseball & Football.\",\n",
            "        \"friends_count\": 255,\n",
            "        \"location\": \"\",\n",
            "        \"profile_link_color\": \"0084B4\",\n",
            "        \"profile_image_url\": \"http://pbs.twimg.com/profile_images/532694075947110400/oZEP5XNQ_normal.jpeg\",\n",
            "        \"following\": false,\n",
            "        \"geo_enabled\": false,\n",
            "        \"profile_banner_url\": \"https://pbs.twimg.com/profile_banners/2435537208/1406779364\",\n",
            "        \"profile_background_image_url\": \"http://abs.twimg.com/images/themes/theme1/bg.png\",\n",
            "        \"name\": \"Andrew Brooks\",\n",
            "        \"lang\": \"en\",\n",
            "        \"profile_background_tile\": false,\n",
            "        \"favourites_count\": 555,\n",
            "        \"screen_name\": \"31brooks_\",\n",
            "        \"notifications\": false,\n",
            "        \"url\": null,\n",
            "        \"created_at\": \"Wed Apr 09 14:34:41 +0000 2014\",\n",
            "        \"contributors_enabled\": false,\n",
            "        \"time_zone\": null,\n",
            "        \"protected\": false,\n",
            "        \"default_profile\": true,\n",
            "        \"is_translator\": false\n",
            "      },\n",
            "      \"geo\": null,\n",
            "      \"in_reply_to_user_id_str\": null,\n",
            "      \"lang\": \"en\",\n",
            "      \"created_at\": \"Sun Nov 23 20:57:10 +0000 2014\",\n",
            "      \"in_reply_to_status_id_str\": null,\n",
            "      \"place\": null,\n",
            "      \"metadata\": {\n",
            "        \"iso_language_code\": \"en\",\n",
            "        \"result_type\": \"recent\"\n",
            "      }\n",
            "    },\n",
            "    {\n",
            "      \"contributors\": null,\n",
            "      \"truncated\": false,\n",
            "      \"text\": \"RT @Plantedd: The University of Michigan moved a big Bur Oak yesterday. 65ft tall. 350+ tons. http://t.co/v2Y6vl3f9e\",\n",
            "      \"in_reply_to_status_id\": null,\n",
            "      \"id\": 536624216305848320,\n",
            "      \"favorite_count\": 0,\n",
            "      \"source\": \"<a href=\\\"http://tapbots.com/tweetbot\\\" rel=\\\"nofollow\\\">Tweetbot for i\\u039fS</a>\",\n",
            "      \"retweeted\": false,\n",
            "      \"coordinates\": null,\n",
            "      \"entities\": {\n",
            "        \"symbols\": [],\n",
            "        \"user_mentions\": [\n",
            "          {\n",
            "            \"id\": 462890283,\n",
            "            \"indices\": [\n",
            "              3,\n",
            "              12\n",
            "            ],\n",
            "            \"id_str\": \"462890283\",\n",
            "            \"screen_name\": \"Plantedd\",\n",
            "            \"name\": \"David Wong\"\n",
            "          }\n",
            "        ],\n",
            "        \"hashtags\": [],\n",
            "        \"urls\": [],\n",
            "        \"media\": [\n",
            "          {\n",
            "            \"source_status_id_str\": \"526276522374889472\",\n",
            "            \"expanded_url\": \"http://twitter.com/Plantedd/status/526276522374889472/photo/1\",\n",
            "            \"display_url\": \"pic.twitter.com/v2Y6vl3f9e\",\n",
            "            \"url\": \"http://t.co/v2Y6vl3f9e\",\n",
            "            \"media_url_https\": \"https://pbs.twimg.com/media/B021tLsIYAADq21.jpg\",\n",
            "            \"source_status_id\": 526276522374889472,\n",
            "            \"id_str\": \"526276519308845056\",\n",
            "            \"sizes\": {\n",
            "              \"small\": {\n",
            "                \"h\": 191,\n",
            "                \"resize\": \"fit\",\n",
            "                \"w\": 340\n",
            "              },\n",
            "              \"large\": {\n",
            "                \"h\": 576,\n",
            "                \"resize\": \"fit\",\n",
            "                \"w\": 1024\n",
            "              },\n",
            "              \"medium\": {\n",
            "                \"h\": 337,\n",
            "                \"resize\": \"fit\",\n",
            "                \"w\": 600\n",
            "              },\n",
            "              \"thumb\": {\n",
            "                \"h\": 150,\n",
            "                \"resize\": \"crop\",\n",
            "                \"w\": 150\n",
            "              }\n",
            "            },\n",
            "            \"indices\": [\n",
            "              94,\n",
            "              116\n",
            "            ],\n",
            "            \"type\": \"photo\",\n",
            "            \"id\": 526276519308845056,\n",
            "            \"media_url\": \"http://pbs.twimg.com/media/B021tLsIYAADq21.jpg\"\n",
            "          }\n",
            "        ]\n",
            "      },\n",
            "      \"in_reply_to_screen_name\": null,\n",
            "      \"in_reply_to_user_id\": null,\n",
            "      \"retweet_count\": 27,\n",
            "      \"id_str\": \"536624216305848320\",\n",
            "      \"favorited\": false,\n",
            "      \"retweeted_status\": {\n",
            "        \"contributors\": null,\n",
            "        \"truncated\": false,\n",
            "        \"text\": \"The University of Michigan moved a big Bur Oak yesterday. 65ft tall. 350+ tons. http://t.co/v2Y6vl3f9e\",\n",
            "        \"in_reply_to_status_id\": null,\n",
            "        \"id\": 526276522374889472,\n",
            "        \"favorite_count\": 25,\n",
            "        \"source\": \"<a href=\\\"http://twitter.com/download/iphone\\\" rel=\\\"nofollow\\\">Twitter for iPhone</a>\",\n",
            "        \"retweeted\": false,\n",
            "        \"coordinates\": null,\n",
            "        \"entities\": {\n",
            "          \"symbols\": [],\n",
            "          \"user_mentions\": [],\n",
            "          \"hashtags\": [],\n",
            "          \"urls\": [],\n",
            "          \"media\": [\n",
            "            {\n",
            "              \"expanded_url\": \"http://twitter.com/Plantedd/status/526276522374889472/photo/1\",\n",
            "              \"display_url\": \"pic.twitter.com/v2Y6vl3f9e\",\n",
            "              \"url\": \"http://t.co/v2Y6vl3f9e\",\n",
            "              \"media_url_https\": \"https://pbs.twimg.com/media/B021tLsIYAADq21.jpg\",\n",
            "              \"id_str\": \"526276519308845056\",\n",
            "              \"sizes\": {\n",
            "                \"small\": {\n",
            "                  \"h\": 191,\n",
            "                  \"resize\": \"fit\",\n",
            "                  \"w\": 340\n",
            "                },\n",
            "                \"large\": {\n",
            "                  \"h\": 576,\n",
            "                  \"resize\": \"fit\",\n",
            "                  \"w\": 1024\n",
            "                },\n",
            "                \"medium\": {\n",
            "                  \"h\": 337,\n",
            "                  \"resize\": \"fit\",\n",
            "                  \"w\": 600\n",
            "                },\n",
            "                \"thumb\": {\n",
            "                  \"h\": 150,\n",
            "                  \"resize\": \"crop\",\n",
            "                  \"w\": 150\n",
            "                }\n",
            "              },\n",
            "              \"indices\": [\n",
            "                80,\n",
            "                102\n",
            "              ],\n",
            "              \"type\": \"photo\",\n",
            "              \"id\": 526276519308845056,\n",
            "              \"media_url\": \"http://pbs.twimg.com/media/B021tLsIYAADq21.jpg\"\n",
            "            }\n",
            "          ]\n",
            "        },\n",
            "        \"in_reply_to_screen_name\": null,\n",
            "        \"in_reply_to_user_id\": null,\n",
            "        \"retweet_count\": 27,\n",
            "        \"id_str\": \"526276522374889472\",\n",
            "        \"favorited\": false,\n",
            "        \"user\": {\n",
            "          \"follow_request_sent\": false,\n",
            "          \"profile_use_background_image\": true,\n",
            "          \"profile_text_color\": \"333333\",\n",
            "          \"default_profile_image\": false,\n",
            "          \"id\": 462890283,\n",
            "          \"profile_background_image_url_https\": \"https://abs.twimg.com/images/themes/theme1/bg.png\",\n",
            "          \"verified\": false,\n",
            "          \"profile_location\": null,\n",
            "          \"profile_image_url_https\": \"https://pbs.twimg.com/profile_images/1791926707/Plantedd_Logo__square__normal.jpg\",\n",
            "          \"profile_sidebar_fill_color\": \"DDEEF6\",\n",
            "          \"entities\": {\n",
            "            \"url\": {\n",
            "              \"urls\": [\n",
            "                {\n",
            "                  \"url\": \"http://t.co/ZOnsCHvoKt\",\n",
            "                  \"indices\": [\n",
            "                    0,\n",
            "                    22\n",
            "                  ],\n",
            "                  \"expanded_url\": \"http://www.plantedd.com\",\n",
            "                  \"display_url\": \"plantedd.com\"\n",
            "                }\n",
            "              ]\n",
            "            },\n",
            "            \"description\": {\n",
            "              \"urls\": []\n",
            "            }\n",
            "          },\n",
            "          \"followers_count\": 2598,\n",
            "          \"profile_sidebar_border_color\": \"C0DEED\",\n",
            "          \"id_str\": \"462890283\",\n",
            "          \"profile_background_color\": \"C0DEED\",\n",
            "          \"listed_count\": 61,\n",
            "          \"is_translation_enabled\": false,\n",
            "          \"utc_offset\": 0,\n",
            "          \"statuses_count\": 8157,\n",
            "          \"description\": \"Hello, I'm the supervillain behind Plantedd. We're an online market for plant lovers plotting to take over the world by making it simple to find and buy plants.\",\n",
            "          \"friends_count\": 2664,\n",
            "          \"location\": \"UK\",\n",
            "          \"profile_link_color\": \"0084B4\",\n",
            "          \"profile_image_url\": \"http://pbs.twimg.com/profile_images/1791926707/Plantedd_Logo__square__normal.jpg\",\n",
            "          \"following\": false,\n",
            "          \"geo_enabled\": false,\n",
            "          \"profile_banner_url\": \"https://pbs.twimg.com/profile_banners/462890283/1398254314\",\n",
            "          \"profile_background_image_url\": \"http://abs.twimg.com/images/themes/theme1/bg.png\",\n",
            "          \"name\": \"David Wong\",\n",
            "          \"lang\": \"en\",\n",
            "          \"profile_background_tile\": false,\n",
            "          \"favourites_count\": 371,\n",
            "          \"screen_name\": \"Plantedd\",\n",
            "          \"notifications\": false,\n",
            "          \"url\": \"http://t.co/ZOnsCHvoKt\",\n",
            "          \"created_at\": \"Fri Jan 13 13:46:46 +0000 2012\",\n",
            "          \"contributors_enabled\": false,\n",
            "          \"time_zone\": \"Edinburgh\",\n",
            "          \"protected\": false,\n",
            "          \"default_profile\": true,\n",
            "          \"is_translator\": false\n",
            "        },\n",
            "        \"geo\": null,\n",
            "        \"in_reply_to_user_id_str\": null,\n",
            "        \"possibly_sensitive\": false,\n",
            "        \"lang\": \"en\",\n",
            "        \"created_at\": \"Sun Oct 26 07:37:55 +0000 2014\",\n",
            "        \"in_reply_to_status_id_str\": null,\n",
            "        \"place\": null,\n",
            "        \"metadata\": {\n",
            "          \"iso_language_code\": \"en\",\n",
            "          \"result_type\": \"recent\"\n",
            "        }\n",
            "      },\n",
            "      \"user\": {\n",
            "        \"follow_request_sent\": false,\n",
            "        \"profile_use_background_image\": true,\n",
            "        \"profile_text_color\": \"2A48AE\",\n",
            "        \"default_profile_image\": false,\n",
            "        \"id\": 104940733,\n",
            "        \"profile_background_image_url_https\": \"https://abs.twimg.com/images/themes/theme17/bg.gif\",\n",
            "        \"verified\": false,\n",
            "        \"profile_location\": null,\n",
            "        \"profile_image_url_https\": \"https://pbs.twimg.com/profile_images/2878477539/78e20432088b5ee2addc9ce3362fd461_normal.jpeg\",\n",
            "        \"profile_sidebar_fill_color\": \"6378B1\",\n",
            "        \"entities\": {\n",
            "          \"description\": {\n",
            "            \"urls\": []\n",
            "          }\n",
            "        },\n",
            "        \"followers_count\": 149,\n",
            "        \"profile_sidebar_border_color\": \"FBD0C9\",\n",
            "        \"id_str\": \"104940733\",\n",
            "        \"profile_background_color\": \"0C003D\",\n",
            "        \"listed_count\": 18,\n",
            "        \"is_translation_enabled\": false,\n",
            "        \"utc_offset\": 0,\n",
            "        \"statuses_count\": 16031,\n",
            "        \"description\": \"Have you any dreams you'd like to sell?\",\n",
            "        \"friends_count\": 248,\n",
            "        \"location\": \"\",\n",
            "        \"profile_link_color\": \"0F1B7C\",\n",
            "        \"profile_image_url\": \"http://pbs.twimg.com/profile_images/2878477539/78e20432088b5ee2addc9ce3362fd461_normal.jpeg\",\n",
            "        \"following\": false,\n",
            "        \"geo_enabled\": false,\n",
            "        \"profile_banner_url\": \"https://pbs.twimg.com/profile_banners/104940733/1410032966\",\n",
            "        \"profile_background_image_url\": \"http://abs.twimg.com/images/themes/theme17/bg.gif\",\n",
            "        \"name\": \"Heather\",\n",
            "        \"lang\": \"en\",\n",
            "        \"profile_background_tile\": false,\n",
            "        \"favourites_count\": 777,\n",
            "        \"screen_name\": \"froyoho\",\n",
            "        \"notifications\": false,\n",
            "        \"url\": null,\n",
            "        \"created_at\": \"Thu Jan 14 21:37:54 +0000 2010\",\n",
            "        \"contributors_enabled\": false,\n",
            "        \"time_zone\": \"London\",\n",
            "        \"protected\": false,\n",
            "        \"default_profile\": false,\n",
            "        \"is_translator\": false\n",
            "      },\n",
            "      \"geo\": null,\n",
            "      \"in_reply_to_user_id_str\": null,\n",
            "      \"possibly_sensitive\": false,\n",
            "      \"lang\": \"en\",\n",
            "      \"created_at\": \"Sun Nov 23 20:55:57 +0000 2014\",\n",
            "      \"in_reply_to_status_id_str\": null,\n",
            "      \"place\": null,\n",
            "      \"metadata\": {\n",
            "        \"iso_language_code\": \"en\",\n",
            "        \"result_type\": \"recent\"\n",
            "      }\n",
            "    },\n",
            "    {\n",
            "      \"contributors\": null,\n",
            "      \"truncated\": false,\n",
            "      \"text\": \"RT @NotableHistory: Madonna, 18 year old freshman at the University of Michigan, 1976 http://t.co/x2dm1G67ea\",\n",
            "      \"in_reply_to_status_id\": null,\n",
            "      \"id\": 536623674942439425,\n",
            "      \"favorite_count\": 0,\n",
            "      \"source\": \"<a href=\\\"http://twitter.com/download/android\\\" rel=\\\"nofollow\\\">Twitter for Android</a>\",\n",
            "      \"retweeted\": false,\n",
            "      \"coordinates\": null,\n",
            "      \"entities\": {\n",
            "        \"symbols\": [],\n",
            "        \"user_mentions\": [\n",
            "          {\n",
            "            \"id\": 844766941,\n",
            "            \"indices\": [\n",
            "              3,\n",
            "              18\n",
            "            ],\n",
            "            \"id_str\": \"844766941\",\n",
            "            \"screen_name\": \"NotableHistory\",\n",
            "            \"name\": \"OnThisDay & Facts\"\n",
            "          }\n",
            "        ],\n",
            "        \"hashtags\": [],\n",
            "        \"urls\": [],\n",
            "        \"media\": [\n",
            "          {\n",
            "            \"source_status_id_str\": \"536610190334779392\",\n",
            "            \"expanded_url\": \"http://twitter.com/NotableHistory/status/536610190334779392/photo/1\",\n",
            "            \"display_url\": \"pic.twitter.com/x2dm1G67ea\",\n",
            "            \"url\": \"http://t.co/x2dm1G67ea\",\n",
            "            \"media_url_https\": \"https://pbs.twimg.com/media/B3EXbQkCMAEipwM.jpg\",\n",
            "            \"source_status_id\": 536610190334779392,\n",
            "            \"id_str\": \"536235587703812097\",\n",
            "            \"sizes\": {\n",
            "              \"small\": {\n",
            "                \"h\": 487,\n",
            "                \"resize\": \"fit\",\n",
            "                \"w\": 340\n",
            "              },\n",
            "              \"large\": {\n",
            "                \"h\": 918,\n",
            "                \"resize\": \"fit\",\n",
            "                \"w\": 640\n",
            "              },\n",
            "              \"medium\": {\n",
            "                \"h\": 860,\n",
            "                \"resize\": \"fit\",\n",
            "                \"w\": 600\n",
            "              },\n",
            "              \"thumb\": {\n",
            "                \"h\": 150,\n",
            "                \"resize\": \"crop\",\n",
            "                \"w\": 150\n",
            "              }\n",
            "            },\n",
            "            \"indices\": [\n",
            "              86,\n",
            "              108\n",
            "            ],\n",
            "            \"type\": \"photo\",\n",
            "            \"id\": 536235587703812097,\n",
            "            \"media_url\": \"http://pbs.twimg.com/media/B3EXbQkCMAEipwM.jpg\"\n",
            "          }\n",
            "        ]\n",
            "      },\n",
            "      \"in_reply_to_screen_name\": null,\n",
            "      \"in_reply_to_user_id\": null,\n",
            "      \"retweet_count\": 9,\n",
            "      \"id_str\": \"536623674942439425\",\n",
            "      \"favorited\": false,\n",
            "      \"retweeted_status\": {\n",
            "        \"contributors\": null,\n",
            "        \"truncated\": false,\n",
            "        \"text\": \"Madonna, 18 year old freshman at the University of Michigan, 1976 http://t.co/x2dm1G67ea\",\n",
            "        \"in_reply_to_status_id\": null,\n",
            "        \"id\": 536610190334779392,\n",
            "        \"favorite_count\": 13,\n",
            "        \"source\": \"<a href=\\\"https://ads.twitter.com\\\" rel=\\\"nofollow\\\">Twitter Ads</a>\",\n",
            "        \"retweeted\": false,\n",
            "        \"coordinates\": null,\n",
            "        \"entities\": {\n",
            "          \"symbols\": [],\n",
            "          \"user_mentions\": [],\n",
            "          \"hashtags\": [],\n",
            "          \"urls\": [],\n",
            "          \"media\": [\n",
            "            {\n",
            "              \"expanded_url\": \"http://twitter.com/NotableHistory/status/536610190334779392/photo/1\",\n",
            "              \"display_url\": \"pic.twitter.com/x2dm1G67ea\",\n",
            "              \"url\": \"http://t.co/x2dm1G67ea\",\n",
            "              \"media_url_https\": \"https://pbs.twimg.com/media/B3EXbQkCMAEipwM.jpg\",\n",
            "              \"id_str\": \"536235587703812097\",\n",
            "              \"sizes\": {\n",
            "                \"small\": {\n",
            "                  \"h\": 487,\n",
            "                  \"resize\": \"fit\",\n",
            "                  \"w\": 340\n",
            "                },\n",
            "                \"large\": {\n",
            "                  \"h\": 918,\n",
            "                  \"resize\": \"fit\",\n",
            "                  \"w\": 640\n",
            "                },\n",
            "                \"medium\": {\n",
            "                  \"h\": 860,\n",
            "                  \"resize\": \"fit\",\n",
            "                  \"w\": 600\n",
            "                },\n",
            "                \"thumb\": {\n",
            "                  \"h\": 150,\n",
            "                  \"resize\": \"crop\",\n",
            "                  \"w\": 150\n",
            "                }\n",
            "              },\n",
            "              \"indices\": [\n",
            "                66,\n",
            "                88\n",
            "              ],\n",
            "              \"type\": \"photo\",\n",
            "              \"id\": 536235587703812097,\n",
            "              \"media_url\": \"http://pbs.twimg.com/media/B3EXbQkCMAEipwM.jpg\"\n",
            "            }\n",
            "          ]\n",
            "        },\n",
            "        \"in_reply_to_screen_name\": null,\n",
            "        \"in_reply_to_user_id\": null,\n",
            "        \"retweet_count\": 9,\n",
            "        \"id_str\": \"536610190334779392\",\n",
            "        \"favorited\": false,\n",
            "        \"user\": {\n",
            "          \"follow_request_sent\": false,\n",
            "          \"profile_use_background_image\": true,\n",
            "          \"profile_text_color\": \"333333\",\n",
            "          \"default_profile_image\": false,\n",
            "          \"id\": 844766941,\n",
            "          \"profile_background_image_url_https\": \"https://pbs.twimg.com/profile_background_images/458461302696837121/rGlGdWsc.png\",\n",
            "          \"verified\": false,\n",
            "          \"profile_location\": null,\n",
            "          \"profile_image_url_https\": \"https://pbs.twimg.com/profile_images/481243404320251905/gCr1cVP2_normal.png\",\n",
            "          \"profile_sidebar_fill_color\": \"DDFFCC\",\n",
            "          \"entities\": {\n",
            "            \"url\": {\n",
            "              \"urls\": [\n",
            "                {\n",
            "                  \"url\": \"http://t.co/9fTPk5A4wh\",\n",
            "                  \"indices\": [\n",
            "                    0,\n",
            "                    22\n",
            "                  ],\n",
            "                  \"expanded_url\": \"http://notablefacts.com/\",\n",
            "                  \"display_url\": \"notablefacts.com\"\n",
            "                }\n",
            "              ]\n",
            "            },\n",
            "            \"description\": {\n",
            "              \"urls\": []\n",
            "            }\n",
            "          },\n",
            "          \"followers_count\": 73817,\n",
            "          \"profile_sidebar_border_color\": \"FFFFFF\",\n",
            "          \"id_str\": \"844766941\",\n",
            "          \"profile_background_color\": \"9AE4E8\",\n",
            "          \"listed_count\": 485,\n",
            "          \"is_translation_enabled\": false,\n",
            "          \"utc_offset\": -21600,\n",
            "          \"statuses_count\": 38841,\n",
            "          \"description\": \"On This Day in History, Historical Pictures & other Interesting Facts....Historyfollower@gmail.com\",\n",
            "          \"friends_count\": 43594,\n",
            "          \"location\": \"\",\n",
            "          \"profile_link_color\": \"0084B4\",\n",
            "          \"profile_image_url\": \"http://pbs.twimg.com/profile_images/481243404320251905/gCr1cVP2_normal.png\",\n",
            "          \"following\": false,\n",
            "          \"geo_enabled\": false,\n",
            "          \"profile_banner_url\": \"https://pbs.twimg.com/profile_banners/844766941/1411076349\",\n",
            "          \"profile_background_image_url\": \"http://pbs.twimg.com/profile_background_images/458461302696837121/rGlGdWsc.png\",\n",
            "          \"name\": \"OnThisDay & Facts\",\n",
            "          \"lang\": \"en\",\n",
            "          \"profile_background_tile\": true,\n",
            "          \"favourites_count\": 1383,\n",
            "          \"screen_name\": \"NotableHistory\",\n",
            "          \"notifications\": false,\n",
            "          \"url\": \"http://t.co/9fTPk5A4wh\",\n",
            "          \"created_at\": \"Tue Sep 25 03:08:59 +0000 2012\",\n",
            "          \"contributors_enabled\": false,\n",
            "          \"time_zone\": \"Central Time (US & Canada)\",\n",
            "          \"protected\": false,\n",
            "          \"default_profile\": false,\n",
            "          \"is_translator\": false\n",
            "        },\n",
            "        \"geo\": null,\n",
            "        \"in_reply_to_user_id_str\": null,\n",
            "        \"possibly_sensitive\": false,\n",
            "        \"lang\": \"en\",\n",
            "        \"created_at\": \"Sun Nov 23 20:00:13 +0000 2014\",\n",
            "        \"in_reply_to_status_id_str\": null,\n",
            "        \"place\": null,\n",
            "        \"metadata\": {\n",
            "          \"iso_language_code\": \"en\",\n",
            "          \"result_type\": \"recent\"\n",
            "        }\n",
            "      },\n",
            "      \"user\": {\n",
            "        \"follow_request_sent\": false,\n",
            "        \"profile_use_background_image\": true,\n",
            "        \"profile_text_color\": \"333333\",\n",
            "        \"default_profile_image\": false,\n",
            "        \"id\": 818185729,\n",
            "        \"profile_background_image_url_https\": \"https://abs.twimg.com/images/themes/theme1/bg.png\",\n",
            "        \"verified\": false,\n",
            "        \"profile_location\": null,\n",
            "        \"profile_image_url_https\": \"https://pbs.twimg.com/profile_images/486215801498640384/rz9o7LnF_normal.jpeg\",\n",
            "        \"profile_sidebar_fill_color\": \"DDEEF6\",\n",
            "        \"entities\": {\n",
            "          \"description\": {\n",
            "            \"urls\": []\n",
            "          }\n",
            "        },\n",
            "        \"followers_count\": 302,\n",
            "        \"profile_sidebar_border_color\": \"C0DEED\",\n",
            "        \"id_str\": \"818185729\",\n",
            "        \"profile_background_color\": \"C0DEED\",\n",
            "        \"listed_count\": 0,\n",
            "        \"is_translation_enabled\": false,\n",
            "        \"utc_offset\": null,\n",
            "        \"statuses_count\": 395,\n",
            "        \"description\": \"Formerly with California Dept of General Services, now freelancing around the Sacramento area...\",\n",
            "        \"friends_count\": 1521,\n",
            "        \"location\": \"Citrus Heights, CA\",\n",
            "        \"profile_link_color\": \"0084B4\",\n",
            "        \"profile_image_url\": \"http://pbs.twimg.com/profile_images/486215801498640384/rz9o7LnF_normal.jpeg\",\n",
            "        \"following\": false,\n",
            "        \"geo_enabled\": true,\n",
            "        \"profile_banner_url\": \"https://pbs.twimg.com/profile_banners/818185729/1383764759\",\n",
            "        \"profile_background_image_url\": \"http://abs.twimg.com/images/themes/theme1/bg.png\",\n",
            "        \"name\": \"M Duncan\",\n",
            "        \"lang\": \"en\",\n",
            "        \"profile_background_tile\": false,\n",
            "        \"favourites_count\": 6544,\n",
            "        \"screen_name\": \"MDuncan95814\",\n",
            "        \"notifications\": false,\n",
            "        \"url\": null,\n",
            "        \"created_at\": \"Tue Sep 11 21:02:09 +0000 2012\",\n",
            "        \"contributors_enabled\": false,\n",
            "        \"time_zone\": null,\n",
            "        \"protected\": false,\n",
            "        \"default_profile\": true,\n",
            "        \"is_translator\": false\n",
            "      },\n",
            "      \"geo\": null,\n",
            "      \"in_reply_to_user_id_str\": null,\n",
            "      \"possibly_sensitive\": false,\n",
            "      \"lang\": \"en\",\n",
            "      \"created_at\": \"Sun Nov 23 20:53:48 +0000 2014\",\n",
            "      \"in_reply_to_status_id_str\": null,\n",
            "      \"place\": null,\n",
            "      \"metadata\": {\n",
            "        \"iso_language_code\": \"en\",\n",
            "        \"result_type\": \"recent\"\n",
            "      }\n",
            "    }\n",
            "  ]\n",
            "}\n"
          ]
        }
      ]
    },
    {
      "cell_type": "markdown",
      "source": [
        "* 자료를 탐색하기 위해 res 데이터를 살펴보자.\n",
        "  * json 으로 출력된 결과를 복사해서, 다음 링크에 붙혀넣기 해보자.\n",
        "  * https://jsoneditoronline.org/\n"
      ],
      "metadata": {
        "id": "kKnvkImCUN2x"
      }
    },
    {
      "cell_type": "code",
      "source": [
        "type(res)"
      ],
      "metadata": {
        "colab": {
          "base_uri": "https://localhost:8080/"
        },
        "id": "la_LbSk7UfCw",
        "outputId": "3e8974b0-3c41-42d9-8889-6d3676532dc5"
      },
      "execution_count": null,
      "outputs": [
        {
          "output_type": "execute_result",
          "data": {
            "text/plain": [
              "dict"
            ]
          },
          "metadata": {},
          "execution_count": 89
        }
      ]
    },
    {
      "cell_type": "code",
      "source": [
        "res.keys()"
      ],
      "metadata": {
        "colab": {
          "base_uri": "https://localhost:8080/"
        },
        "id": "2dA5R7siUgTK",
        "outputId": "69399b89-1a07-4629-ab75-8a3d3e287f24"
      },
      "execution_count": null,
      "outputs": [
        {
          "output_type": "execute_result",
          "data": {
            "text/plain": [
              "dict_keys(['search_metadata', 'statuses'])"
            ]
          },
          "metadata": {},
          "execution_count": 90
        }
      ]
    },
    {
      "cell_type": "markdown",
      "source": [
        "* key가 'statuses'인 value값을 추출해서 res2 변수에 넣어보자."
      ],
      "metadata": {
        "id": "xz4nBrz4WXxl"
      }
    },
    {
      "cell_type": "code",
      "source": [
        "res2 = res[\"statuses\"]"
      ],
      "metadata": {
        "id": "em1zQ_b3UhbY"
      },
      "execution_count": null,
      "outputs": []
    },
    {
      "cell_type": "markdown",
      "source": [
        "* 추출한 값의 타입(type)을 확인한다.\n",
        "  * 리스트(list)인 경우는 갯수(len)를 확인\n",
        "  * 딕셔너리(dict)인 경우는 키(keys)를 확인"
      ],
      "metadata": {
        "id": "jZa5R2-BWLyB"
      }
    },
    {
      "cell_type": "code",
      "source": [
        "type(res2)"
      ],
      "metadata": {
        "colab": {
          "base_uri": "https://localhost:8080/"
        },
        "id": "b1wA5SL-ZCbk",
        "outputId": "680ff3c8-8f33-431a-a553-0cc418b6385c"
      },
      "execution_count": null,
      "outputs": [
        {
          "output_type": "execute_result",
          "data": {
            "text/plain": [
              "list"
            ]
          },
          "metadata": {},
          "execution_count": 92
        }
      ]
    },
    {
      "cell_type": "code",
      "source": [
        "len(res2)"
      ],
      "metadata": {
        "colab": {
          "base_uri": "https://localhost:8080/"
        },
        "id": "XkHIz_1WZEBd",
        "outputId": "61a50091-15b7-4a40-c142-3ef3f3727f70"
      },
      "execution_count": null,
      "outputs": [
        {
          "output_type": "execute_result",
          "data": {
            "text/plain": [
              "3"
            ]
          },
          "metadata": {},
          "execution_count": 93
        }
      ]
    },
    {
      "cell_type": "markdown",
      "source": [
        "* JSON Editor Online (https://jsoneditoronline.org/) 과 같은 JSON 뷰어를 이용하면 편리하다.\n",
        "  * 3개의 트윗이라는 점에서 res2는 3개의 트윗 정보를 담고 있을 가능성이 높다고 판단할 수 있다.\n",
        "  * 각각의 아이템은 유사한 구조를 가지고 있을 것으로 예상된다."
      ],
      "metadata": {
        "id": "oCV7rhGFZFTW"
      }
    },
    {
      "cell_type": "code",
      "source": [
        "res2[0]"
      ],
      "metadata": {
        "colab": {
          "base_uri": "https://localhost:8080/"
        },
        "id": "BJebxm1SZLlk",
        "outputId": "d5530778-d907-4c62-c140-4781b6bb56e2"
      },
      "execution_count": null,
      "outputs": [
        {
          "output_type": "execute_result",
          "data": {
            "text/plain": [
              "{'contributors': None,\n",
              " 'truncated': False,\n",
              " 'text': \"RT @mikeweber25: I'm decommiting from the university of Michigan thank you Michigan for the love and support I'll remake my decision at the…\",\n",
              " 'in_reply_to_status_id': None,\n",
              " 'id': 536624519285583872,\n",
              " 'favorite_count': 0,\n",
              " 'source': '<a href=\"http://twitter.com/download/iphone\" rel=\"nofollow\">Twitter for iPhone</a>',\n",
              " 'retweeted': False,\n",
              " 'coordinates': None,\n",
              " 'entities': {'symbols': [],\n",
              "  'user_mentions': [{'id': 1119996684,\n",
              "    'indices': [3, 15],\n",
              "    'id_str': '1119996684',\n",
              "    'screen_name': 'mikeweber25',\n",
              "    'name': 'Mikey'}],\n",
              "  'hashtags': [],\n",
              "  'urls': []},\n",
              " 'in_reply_to_screen_name': None,\n",
              " 'in_reply_to_user_id': None,\n",
              " 'retweet_count': 2014,\n",
              " 'id_str': '536624519285583872',\n",
              " 'favorited': False,\n",
              " 'retweeted_status': {'contributors': None,\n",
              "  'truncated': False,\n",
              "  'text': \"I'm decommiting from the university of Michigan thank you Michigan for the love and support I'll remake my decision at the army bowl\",\n",
              "  'in_reply_to_status_id': None,\n",
              "  'id': 536300265616322560,\n",
              "  'favorite_count': 1583,\n",
              "  'source': '<a href=\"http://twitter.com/download/iphone\" rel=\"nofollow\">Twitter for iPhone</a>',\n",
              "  'retweeted': False,\n",
              "  'coordinates': None,\n",
              "  'entities': {'symbols': [], 'user_mentions': [], 'hashtags': [], 'urls': []},\n",
              "  'in_reply_to_screen_name': None,\n",
              "  'in_reply_to_user_id': None,\n",
              "  'retweet_count': 2014,\n",
              "  'id_str': '536300265616322560',\n",
              "  'favorited': False,\n",
              "  'user': {'follow_request_sent': False,\n",
              "   'profile_use_background_image': True,\n",
              "   'profile_text_color': '666666',\n",
              "   'default_profile_image': False,\n",
              "   'id': 1119996684,\n",
              "   'profile_background_image_url_https': 'https://abs.twimg.com/images/themes/theme9/bg.gif',\n",
              "   'verified': False,\n",
              "   'profile_location': None,\n",
              "   'profile_image_url_https': 'https://pbs.twimg.com/profile_images/534465900343083008/A09dIq1d_normal.jpeg',\n",
              "   'profile_sidebar_fill_color': '252429',\n",
              "   'entities': {'description': {'urls': []}},\n",
              "   'followers_count': 5444,\n",
              "   'profile_sidebar_border_color': 'FFFFFF',\n",
              "   'id_str': '1119996684',\n",
              "   'profile_background_color': 'C0DEED',\n",
              "   'listed_count': 36,\n",
              "   'is_translation_enabled': False,\n",
              "   'utc_offset': None,\n",
              "   'statuses_count': 6525,\n",
              "   'description': 'Mike Weber (U.S Army All American) DETROIT CTSENIOR State Champion',\n",
              "   'friends_count': 693,\n",
              "   'location': '',\n",
              "   'profile_link_color': '0084B4',\n",
              "   'profile_image_url': 'http://pbs.twimg.com/profile_images/534465900343083008/A09dIq1d_normal.jpeg',\n",
              "   'following': False,\n",
              "   'geo_enabled': False,\n",
              "   'profile_banner_url': 'https://pbs.twimg.com/profile_banners/1119996684/1416261575',\n",
              "   'profile_background_image_url': 'http://abs.twimg.com/images/themes/theme9/bg.gif',\n",
              "   'name': 'Mikey',\n",
              "   'lang': 'en',\n",
              "   'profile_background_tile': False,\n",
              "   'favourites_count': 1401,\n",
              "   'screen_name': 'mikeweber25',\n",
              "   'notifications': False,\n",
              "   'url': None,\n",
              "   'created_at': 'Fri Jan 25 18:45:53 +0000 2013',\n",
              "   'contributors_enabled': False,\n",
              "   'time_zone': None,\n",
              "   'protected': False,\n",
              "   'default_profile': False,\n",
              "   'is_translator': False},\n",
              "  'geo': None,\n",
              "  'in_reply_to_user_id_str': None,\n",
              "  'lang': 'en',\n",
              "  'created_at': 'Sat Nov 22 23:28:41 +0000 2014',\n",
              "  'in_reply_to_status_id_str': None,\n",
              "  'place': None,\n",
              "  'metadata': {'iso_language_code': 'en', 'result_type': 'recent'}},\n",
              " 'user': {'follow_request_sent': False,\n",
              "  'profile_use_background_image': True,\n",
              "  'profile_text_color': '333333',\n",
              "  'default_profile_image': False,\n",
              "  'id': 2435537208,\n",
              "  'profile_background_image_url_https': 'https://abs.twimg.com/images/themes/theme1/bg.png',\n",
              "  'verified': False,\n",
              "  'profile_location': None,\n",
              "  'profile_image_url_https': 'https://pbs.twimg.com/profile_images/532694075947110400/oZEP5XNQ_normal.jpeg',\n",
              "  'profile_sidebar_fill_color': 'DDEEF6',\n",
              "  'entities': {'description': {'urls': []}},\n",
              "  'followers_count': 161,\n",
              "  'profile_sidebar_border_color': 'C0DEED',\n",
              "  'id_str': '2435537208',\n",
              "  'profile_background_color': 'C0DEED',\n",
              "  'listed_count': 0,\n",
              "  'is_translation_enabled': False,\n",
              "  'utc_offset': None,\n",
              "  'statuses_count': 524,\n",
              "  'description': \"Delasalle '17 Baseball & Football.\",\n",
              "  'friends_count': 255,\n",
              "  'location': '',\n",
              "  'profile_link_color': '0084B4',\n",
              "  'profile_image_url': 'http://pbs.twimg.com/profile_images/532694075947110400/oZEP5XNQ_normal.jpeg',\n",
              "  'following': False,\n",
              "  'geo_enabled': False,\n",
              "  'profile_banner_url': 'https://pbs.twimg.com/profile_banners/2435537208/1406779364',\n",
              "  'profile_background_image_url': 'http://abs.twimg.com/images/themes/theme1/bg.png',\n",
              "  'name': 'Andrew Brooks',\n",
              "  'lang': 'en',\n",
              "  'profile_background_tile': False,\n",
              "  'favourites_count': 555,\n",
              "  'screen_name': '31brooks_',\n",
              "  'notifications': False,\n",
              "  'url': None,\n",
              "  'created_at': 'Wed Apr 09 14:34:41 +0000 2014',\n",
              "  'contributors_enabled': False,\n",
              "  'time_zone': None,\n",
              "  'protected': False,\n",
              "  'default_profile': True,\n",
              "  'is_translator': False},\n",
              " 'geo': None,\n",
              " 'in_reply_to_user_id_str': None,\n",
              " 'lang': 'en',\n",
              " 'created_at': 'Sun Nov 23 20:57:10 +0000 2014',\n",
              " 'in_reply_to_status_id_str': None,\n",
              " 'place': None,\n",
              " 'metadata': {'iso_language_code': 'en', 'result_type': 'recent'}}"
            ]
          },
          "metadata": {},
          "execution_count": 95
        }
      ]
    },
    {
      "cell_type": "code",
      "source": [
        "for i in res2:\n",
        "  print(type(i))"
      ],
      "metadata": {
        "id": "IMkDOwmOZYBK",
        "colab": {
          "base_uri": "https://localhost:8080/"
        },
        "outputId": "c040ee49-ae8e-4ae3-ec45-7e7ea4f1f712"
      },
      "execution_count": null,
      "outputs": [
        {
          "output_type": "stream",
          "name": "stdout",
          "text": [
            "<class 'dict'>\n",
            "<class 'dict'>\n",
            "<class 'dict'>\n"
          ]
        }
      ]
    },
    {
      "cell_type": "markdown",
      "source": [
        "* 다음 3개 아이템의 키값을 확인해보자.\n",
        "  * 선택적인 것으로 판단되는 possibly_sensitive 키값 외에는 모두 동일한 키 구조를 가지고 있음을 확인할 수 있다.\n",
        "  * 이 중에서 'user'값을 확인해보자."
      ],
      "metadata": {
        "id": "8-WQ_S8RaqoZ"
      }
    },
    {
      "cell_type": "code",
      "source": [
        "for i in res2:\n",
        "  print(i.keys())"
      ],
      "metadata": {
        "colab": {
          "base_uri": "https://localhost:8080/"
        },
        "id": "0C028HNKaglT",
        "outputId": "41d47172-6d9b-4f3d-9091-9d8276ba13e8"
      },
      "execution_count": null,
      "outputs": [
        {
          "output_type": "stream",
          "name": "stdout",
          "text": [
            "dict_keys(['contributors', 'truncated', 'text', 'in_reply_to_status_id', 'id', 'favorite_count', 'source', 'retweeted', 'coordinates', 'entities', 'in_reply_to_screen_name', 'in_reply_to_user_id', 'retweet_count', 'id_str', 'favorited', 'retweeted_status', 'user', 'geo', 'in_reply_to_user_id_str', 'lang', 'created_at', 'in_reply_to_status_id_str', 'place', 'metadata'])\n",
            "dict_keys(['contributors', 'truncated', 'text', 'in_reply_to_status_id', 'id', 'favorite_count', 'source', 'retweeted', 'coordinates', 'entities', 'in_reply_to_screen_name', 'in_reply_to_user_id', 'retweet_count', 'id_str', 'favorited', 'retweeted_status', 'user', 'geo', 'in_reply_to_user_id_str', 'possibly_sensitive', 'lang', 'created_at', 'in_reply_to_status_id_str', 'place', 'metadata'])\n",
            "dict_keys(['contributors', 'truncated', 'text', 'in_reply_to_status_id', 'id', 'favorite_count', 'source', 'retweeted', 'coordinates', 'entities', 'in_reply_to_screen_name', 'in_reply_to_user_id', 'retweet_count', 'id_str', 'favorited', 'retweeted_status', 'user', 'geo', 'in_reply_to_user_id_str', 'possibly_sensitive', 'lang', 'created_at', 'in_reply_to_status_id_str', 'place', 'metadata'])\n"
          ]
        }
      ]
    },
    {
      "cell_type": "code",
      "source": [
        "for i in res2:\n",
        "  print(i['user'])"
      ],
      "metadata": {
        "colab": {
          "base_uri": "https://localhost:8080/"
        },
        "id": "TMCfPURRalhs",
        "outputId": "c267f0db-12e5-4a94-a8e3-77046a1b02f2"
      },
      "execution_count": null,
      "outputs": [
        {
          "output_type": "stream",
          "name": "stdout",
          "text": [
            "{'follow_request_sent': False, 'profile_use_background_image': True, 'profile_text_color': '333333', 'default_profile_image': False, 'id': 2435537208, 'profile_background_image_url_https': 'https://abs.twimg.com/images/themes/theme1/bg.png', 'verified': False, 'profile_location': None, 'profile_image_url_https': 'https://pbs.twimg.com/profile_images/532694075947110400/oZEP5XNQ_normal.jpeg', 'profile_sidebar_fill_color': 'DDEEF6', 'entities': {'description': {'urls': []}}, 'followers_count': 161, 'profile_sidebar_border_color': 'C0DEED', 'id_str': '2435537208', 'profile_background_color': 'C0DEED', 'listed_count': 0, 'is_translation_enabled': False, 'utc_offset': None, 'statuses_count': 524, 'description': \"Delasalle '17 Baseball & Football.\", 'friends_count': 255, 'location': '', 'profile_link_color': '0084B4', 'profile_image_url': 'http://pbs.twimg.com/profile_images/532694075947110400/oZEP5XNQ_normal.jpeg', 'following': False, 'geo_enabled': False, 'profile_banner_url': 'https://pbs.twimg.com/profile_banners/2435537208/1406779364', 'profile_background_image_url': 'http://abs.twimg.com/images/themes/theme1/bg.png', 'name': 'Andrew Brooks', 'lang': 'en', 'profile_background_tile': False, 'favourites_count': 555, 'screen_name': '31brooks_', 'notifications': False, 'url': None, 'created_at': 'Wed Apr 09 14:34:41 +0000 2014', 'contributors_enabled': False, 'time_zone': None, 'protected': False, 'default_profile': True, 'is_translator': False}\n",
            "{'follow_request_sent': False, 'profile_use_background_image': True, 'profile_text_color': '2A48AE', 'default_profile_image': False, 'id': 104940733, 'profile_background_image_url_https': 'https://abs.twimg.com/images/themes/theme17/bg.gif', 'verified': False, 'profile_location': None, 'profile_image_url_https': 'https://pbs.twimg.com/profile_images/2878477539/78e20432088b5ee2addc9ce3362fd461_normal.jpeg', 'profile_sidebar_fill_color': '6378B1', 'entities': {'description': {'urls': []}}, 'followers_count': 149, 'profile_sidebar_border_color': 'FBD0C9', 'id_str': '104940733', 'profile_background_color': '0C003D', 'listed_count': 18, 'is_translation_enabled': False, 'utc_offset': 0, 'statuses_count': 16031, 'description': \"Have you any dreams you'd like to sell?\", 'friends_count': 248, 'location': '', 'profile_link_color': '0F1B7C', 'profile_image_url': 'http://pbs.twimg.com/profile_images/2878477539/78e20432088b5ee2addc9ce3362fd461_normal.jpeg', 'following': False, 'geo_enabled': False, 'profile_banner_url': 'https://pbs.twimg.com/profile_banners/104940733/1410032966', 'profile_background_image_url': 'http://abs.twimg.com/images/themes/theme17/bg.gif', 'name': 'Heather', 'lang': 'en', 'profile_background_tile': False, 'favourites_count': 777, 'screen_name': 'froyoho', 'notifications': False, 'url': None, 'created_at': 'Thu Jan 14 21:37:54 +0000 2010', 'contributors_enabled': False, 'time_zone': 'London', 'protected': False, 'default_profile': False, 'is_translator': False}\n",
            "{'follow_request_sent': False, 'profile_use_background_image': True, 'profile_text_color': '333333', 'default_profile_image': False, 'id': 818185729, 'profile_background_image_url_https': 'https://abs.twimg.com/images/themes/theme1/bg.png', 'verified': False, 'profile_location': None, 'profile_image_url_https': 'https://pbs.twimg.com/profile_images/486215801498640384/rz9o7LnF_normal.jpeg', 'profile_sidebar_fill_color': 'DDEEF6', 'entities': {'description': {'urls': []}}, 'followers_count': 302, 'profile_sidebar_border_color': 'C0DEED', 'id_str': '818185729', 'profile_background_color': 'C0DEED', 'listed_count': 0, 'is_translation_enabled': False, 'utc_offset': None, 'statuses_count': 395, 'description': 'Formerly with California Dept of General Services, now freelancing around the Sacramento area...', 'friends_count': 1521, 'location': 'Citrus Heights, CA', 'profile_link_color': '0084B4', 'profile_image_url': 'http://pbs.twimg.com/profile_images/486215801498640384/rz9o7LnF_normal.jpeg', 'following': False, 'geo_enabled': True, 'profile_banner_url': 'https://pbs.twimg.com/profile_banners/818185729/1383764759', 'profile_background_image_url': 'http://abs.twimg.com/images/themes/theme1/bg.png', 'name': 'M Duncan', 'lang': 'en', 'profile_background_tile': False, 'favourites_count': 6544, 'screen_name': 'MDuncan95814', 'notifications': False, 'url': None, 'created_at': 'Tue Sep 11 21:02:09 +0000 2012', 'contributors_enabled': False, 'time_zone': None, 'protected': False, 'default_profile': True, 'is_translator': False}\n"
          ]
        }
      ]
    },
    {
      "cell_type": "markdown",
      "source": [
        "* 관심이 있는 키값을 출력해보자.\n",
        "  * 3개 트윗 각각을 작성한 사용자의 name 과 description을 추출해서 출력해보자.\n",
        "  * 다른 값들도 살펴보고, 필요한 값들을 추출해보자.\n",
        "  * JSON 뷰어를 통해 비교적 쉽게 필요한 데이터를 찾아낼 수 있지만, 경우에 따라서는 twitter API 나 JSON 구조에 대한 레퍼런스를 읽는 것도 도움이 된다."
      ],
      "metadata": {
        "id": "GzaQBptwbGt9"
      }
    },
    {
      "cell_type": "code",
      "source": [
        "for i in res2:\n",
        "  u = i[\"user\"]\n",
        "  print(u[\"name\"],\":\", u[\"description\"])"
      ],
      "metadata": {
        "colab": {
          "base_uri": "https://localhost:8080/"
        },
        "id": "1HrapmQdbVvU",
        "outputId": "037f2d57-8e7d-4844-a26d-4a9d4b7c365e"
      },
      "execution_count": null,
      "outputs": [
        {
          "output_type": "stream",
          "name": "stdout",
          "text": [
            "Andrew Brooks : Delasalle '17 Baseball & Football.\n",
            "Heather : Have you any dreams you'd like to sell?\n",
            "M Duncan : Formerly with California Dept of General Services, now freelancing around the Sacramento area...\n"
          ]
        }
      ]
    },
    {
      "cell_type": "code",
      "source": [
        "for i in res2:\n",
        "  u = i[\"user\"]\n",
        "  print(u[\"screen_name\"], \"(\", u[\"name\"],\") : \", u[\"description\"], \"at\", u[\"created_at\"])"
      ],
      "metadata": {
        "colab": {
          "base_uri": "https://localhost:8080/"
        },
        "id": "XgL345zudBXd",
        "outputId": "a2387e98-b92b-433e-c0d2-71cc9e38f708"
      },
      "execution_count": null,
      "outputs": [
        {
          "output_type": "stream",
          "name": "stdout",
          "text": [
            "31brooks_ ( Andrew Brooks ) :  Delasalle '17 Baseball & Football. at Wed Apr 09 14:34:41 +0000 2014\n",
            "froyoho ( Heather ) :  Have you any dreams you'd like to sell? at Thu Jan 14 21:37:54 +0000 2010\n",
            "MDuncan95814 ( M Duncan ) :  Formerly with California Dept of General Services, now freelancing around the Sacramento area... at Tue Sep 11 21:02:09 +0000 2012\n"
          ]
        }
      ]
    },
    {
      "cell_type": "markdown",
      "source": [
        "* 트윗을 작성한 사람의 screen_name, name, description, created_at 데이터를 튜플로 패킹해서 data 리스트의 아이템으로 가지도록 코드를 작성해보자."
      ],
      "metadata": {
        "id": "AWmyILYTdE3Z"
      }
    },
    {
      "cell_type": "code",
      "source": [
        "data = []\n",
        "for i in res[\"statuses\"]:\n",
        "  u = i[\"user\"]\n",
        "  data.append((u[\"screen_name\"],u[\"name\"],u[\"description\"],u[\"created_at\"]))\n",
        "print(data)"
      ],
      "metadata": {
        "colab": {
          "base_uri": "https://localhost:8080/"
        },
        "id": "Q6NYG1LKdvZv",
        "outputId": "3ecc7cd6-4fb5-4f0e-8ea8-7b9003479a31"
      },
      "execution_count": null,
      "outputs": [
        {
          "output_type": "stream",
          "name": "stdout",
          "text": [
            "[('31brooks_', 'Andrew Brooks', \"Delasalle '17 Baseball & Football.\", 'Wed Apr 09 14:34:41 +0000 2014'), ('froyoho', 'Heather', \"Have you any dreams you'd like to sell?\", 'Thu Jan 14 21:37:54 +0000 2010'), ('MDuncan95814', 'M Duncan', 'Formerly with California Dept of General Services, now freelancing around the Sacramento area...', 'Tue Sep 11 21:02:09 +0000 2012')]\n"
          ]
        }
      ]
    },
    {
      "cell_type": "markdown",
      "source": [
        "* 대부분의 JSON 형식들이 이와 유사한 방식으로 구성되어 있으며, 다양한 API를 통해 이러한 정보를 얻을 수 있는 방법이 제공되어 있다. 중첩 데이터를 다루는 연습은 이러한 공개 데이터를 접근해서 사용하는데 도움이 된다."
      ],
      "metadata": {
        "id": "rH3lc89YeWH9"
      }
    },
    {
      "cell_type": "markdown",
      "source": [
        "# 주요 테크닉"
      ],
      "metadata": {
        "id": "J5Nd4t9gfSXG"
      }
    },
    {
      "cell_type": "markdown",
      "source": [
        "## 리스트 축약(list comprehension)"
      ],
      "metadata": {
        "id": "ayJ8Jmf5qivs"
      }
    },
    {
      "cell_type": "markdown",
      "source": [
        "* [체크] 리스트 축약을 이용해서 myList의 문자열 각각에 대해 앞 2글자만 추출한 값들로 이루어진 리스트를 yourList 할당한 후, 이를 출력하시오."
      ],
      "metadata": {
        "id": "SmDqCrEFrAic"
      }
    },
    {
      "cell_type": "markdown",
      "source": [
        "* [체크] 리스트 축약을 이용해서 myList의 문자열 각각에 대해 앞 2글자만 추출하여 대문자로 변환한 값들로 구성된 리스트를 yourList 할당한 후, 이를 출력하시오."
      ],
      "metadata": {
        "id": "6dZRdmDgqivy"
      }
    },
    {
      "cell_type": "code",
      "source": [
        "#코드 작성. 지울것\n",
        "myList = [\"kor\",\"chn\",\"jpn\",\"usa\",\"can\"]\n",
        "\n",
        "yourList = [x[:2].upper() for x in myList]\n",
        "print(yourList)"
      ],
      "metadata": {
        "colab": {
          "base_uri": "https://localhost:8080/"
        },
        "outputId": "389f352c-b065-41bc-e464-3c3dcdd773a1",
        "id": "IvfADKReqivz"
      },
      "execution_count": null,
      "outputs": [
        {
          "output_type": "stream",
          "name": "stdout",
          "text": [
            "['KO', 'CH', 'JP', 'US', 'CA']\n"
          ]
        }
      ]
    },
    {
      "cell_type": "markdown",
      "source": [
        "* [체크] 위의 결과 중 'C'로 시작하는 것만 출력하도록 코드를 수정하시오."
      ],
      "metadata": {
        "id": "4vZuz4haqivz"
      }
    },
    {
      "cell_type": "code",
      "source": [
        "myList = [\"kor\",\"chn\",\"jpn\",\"usa\",\"can\"]\n",
        "\n",
        "#코드 작성. 지울것\n",
        "yourList = [x[:2].upper() for x in myList if x[0]=='c']\n",
        "print(yourList)"
      ],
      "metadata": {
        "colab": {
          "base_uri": "https://localhost:8080/"
        },
        "outputId": "3fbe04b5-3962-44b1-8692-9b084bd2fb0a",
        "id": "LNhUkfjfqivz"
      },
      "execution_count": null,
      "outputs": [
        {
          "output_type": "stream",
          "name": "stdout",
          "text": [
            "['CH', 'CA']\n"
          ]
        }
      ]
    },
    {
      "cell_type": "markdown",
      "source": [
        "* 튜플 축약(tuple comprehension) : 괄호만 [...] 대신 tuple(...)로 객체를 생성함"
      ],
      "metadata": {
        "id": "LlVeGlDPqivz"
      }
    },
    {
      "cell_type": "code",
      "source": [
        "myList = [\"kor\",\"chn\",\"jpn\",\"usa\",\"can\"]\n",
        "\n",
        "yourTuple = tuple(x[:2].upper() for x in myList if x[0]=='c')\n",
        "print(yourTuple)"
      ],
      "metadata": {
        "colab": {
          "base_uri": "https://localhost:8080/"
        },
        "outputId": "a3dcc3e3-57fb-4349-c915-8e1686614209",
        "id": "ju2jHc0uqivz"
      },
      "execution_count": null,
      "outputs": [
        {
          "output_type": "stream",
          "name": "stdout",
          "text": [
            "('CH', 'CA')\n"
          ]
        }
      ]
    },
    {
      "cell_type": "markdown",
      "source": [
        "* 딕셔너리 축약(dictionary comprehension): key:value 형식으로 아이템을 지정하고, 괄호를 {...} 로 지정함"
      ],
      "metadata": {
        "id": "jc5_35KJqivz"
      }
    },
    {
      "cell_type": "code",
      "source": [
        "myList = [\"kor\",\"chn\",\"jpn\",\"usa\",\"can\"]\n",
        "\n",
        "yourDict = {x:x[:2].upper() for x in myList if x[0]=='c'}\n",
        "print(yourDict)\n",
        "print(yourDict['chn'], yourDict['can'])"
      ],
      "metadata": {
        "colab": {
          "base_uri": "https://localhost:8080/"
        },
        "outputId": "99b98723-d9ad-4821-b271-d0ed81d2f532",
        "id": "XJDztwshqiv0"
      },
      "execution_count": null,
      "outputs": [
        {
          "output_type": "stream",
          "name": "stdout",
          "text": [
            "{'chn': 'CH', 'can': 'CA'}\n",
            "CH CA\n"
          ]
        }
      ]
    },
    {
      "cell_type": "markdown",
      "source": [
        "## map(함수, 리스트) 다시보기\n",
        "  * 리스트의 각 아이템에 함수를 적용한 map 객체를 반환함 (시퀀스의 구조를 가지고 있음)\n",
        "  * 즉, map(f, [a,b,c]) 는 [f(a),f(b),f(c)] 형태의 map 객체를 반환함"
      ],
      "metadata": {
        "id": "GPaV4ypdqXOw"
      }
    },
    {
      "cell_type": "code",
      "source": [
        "def inc(v):\n",
        "  return v+1\n",
        "\n",
        "def square(v):\n",
        "  return v**2\n",
        "\n",
        "myList = [1,2,3,4,5]\n",
        "\n",
        "print(list(map(inc, myList)))\n",
        "print(list(map(square,myList)))"
      ],
      "metadata": {
        "colab": {
          "base_uri": "https://localhost:8080/"
        },
        "id": "-8xAVuwwqZiY",
        "outputId": "24d4472a-404d-405a-f957-9be406d7f9a5"
      },
      "execution_count": null,
      "outputs": [
        {
          "output_type": "stream",
          "name": "stdout",
          "text": [
            "[2, 3, 4, 5, 6]\n",
            "[1, 4, 9, 16, 25]\n"
          ]
        }
      ]
    },
    {
      "cell_type": "code",
      "source": [
        "print([inc(v) for v in myList])"
      ],
      "metadata": {
        "colab": {
          "base_uri": "https://localhost:8080/"
        },
        "id": "cIPjtttuqscO",
        "outputId": "aabb79c5-9514-4169-fa7c-9edb42d7d1dd"
      },
      "execution_count": null,
      "outputs": [
        {
          "output_type": "stream",
          "name": "stdout",
          "text": [
            "[2, 3, 4, 5, 6]\n"
          ]
        }
      ]
    },
    {
      "cell_type": "code",
      "source": [
        "print([square(v) for v in myList])"
      ],
      "metadata": {
        "colab": {
          "base_uri": "https://localhost:8080/"
        },
        "id": "ISfHSxqcsFrf",
        "outputId": "a533e674-59e8-4157-cd59-256a23ee2f5a"
      },
      "execution_count": null,
      "outputs": [
        {
          "output_type": "stream",
          "name": "stdout",
          "text": [
            "[1, 4, 9, 16, 25]\n"
          ]
        }
      ]
    },
    {
      "cell_type": "markdown",
      "source": [
        "* 성능은 어떤 것이 좋을까?"
      ],
      "metadata": {
        "id": "PXd0pcgOsNwD"
      }
    },
    {
      "cell_type": "code",
      "source": [
        "myList = range(10000)"
      ],
      "metadata": {
        "id": "YdaR5CM7sKUh"
      },
      "execution_count": null,
      "outputs": []
    },
    {
      "cell_type": "code",
      "source": [
        "%%timeit\n",
        "map(inc, myList)"
      ],
      "metadata": {
        "colab": {
          "base_uri": "https://localhost:8080/"
        },
        "id": "9vOAyM6KsTAG",
        "outputId": "9095c564-0d73-4603-914a-c2fdc3c1d32a"
      },
      "execution_count": null,
      "outputs": [
        {
          "output_type": "stream",
          "name": "stdout",
          "text": [
            "103 ns ± 23.9 ns per loop (mean ± std. dev. of 7 runs, 10000000 loops each)\n"
          ]
        }
      ]
    },
    {
      "cell_type": "code",
      "source": [
        "%%timeit\n",
        "(inc(v) for v in myList)"
      ],
      "metadata": {
        "colab": {
          "base_uri": "https://localhost:8080/"
        },
        "id": "NmszLy_6sYPl",
        "outputId": "429818b4-0dcd-42e9-8897-d45805e0b871"
      },
      "execution_count": null,
      "outputs": [
        {
          "output_type": "stream",
          "name": "stdout",
          "text": [
            "277 ns ± 6.02 ns per loop (mean ± std. dev. of 7 runs, 1000000 loops each)\n"
          ]
        }
      ]
    },
    {
      "cell_type": "code",
      "source": [
        "%%timeit\n",
        "tuple(map(inc, myList)) # tuple로 변환하는 비용이 크다. 6~7천배!"
      ],
      "metadata": {
        "colab": {
          "base_uri": "https://localhost:8080/"
        },
        "id": "JisbxNXpsgcE",
        "outputId": "15ec0cb9-7021-45e3-fb21-8a3dcb05dbfc"
      },
      "execution_count": null,
      "outputs": [
        {
          "output_type": "stream",
          "name": "stdout",
          "text": [
            "609 µs ± 22.9 µs per loop (mean ± std. dev. of 7 runs, 1000 loops each)\n"
          ]
        }
      ]
    },
    {
      "cell_type": "code",
      "source": [
        "%%timeit\n",
        "list(map(inc, myList)) # list로 변환하는 비용도 마찬가지로 크다."
      ],
      "metadata": {
        "colab": {
          "base_uri": "https://localhost:8080/"
        },
        "id": "hnTs-qBqtL3h",
        "outputId": "c004be99-4145-44ff-912d-31206bcbdd76"
      },
      "execution_count": null,
      "outputs": [
        {
          "output_type": "stream",
          "name": "stdout",
          "text": [
            "660 µs ± 93.1 µs per loop (mean ± std. dev. of 7 runs, 1000 loops each)\n"
          ]
        }
      ]
    },
    {
      "cell_type": "code",
      "source": [
        "%%timeit\n",
        "[inc(v) for v in myList] # 제너레이터를 생성하는 기본 축약 보다 리스트 축약의 비용이 크다."
      ],
      "metadata": {
        "colab": {
          "base_uri": "https://localhost:8080/"
        },
        "id": "M1KzbJyOtTJB",
        "outputId": "00be5b32-2b32-4542-b361-7c670e877fb7"
      },
      "execution_count": null,
      "outputs": [
        {
          "output_type": "stream",
          "name": "stdout",
          "text": [
            "758 µs ± 40.3 µs per loop (mean ± std. dev. of 7 runs, 1000 loops each)\n"
          ]
        }
      ]
    },
    {
      "cell_type": "markdown",
      "source": [
        "* map 객체도 시퀀스 타입이기 때문에 for 문에 사용할 경우도 그대로 쓸 수 있다."
      ],
      "metadata": {
        "id": "xK7q9756ti-M"
      }
    },
    {
      "cell_type": "code",
      "source": [
        "for i in map(inc,myList):\n",
        "  print(i,end=\";\")"
      ],
      "metadata": {
        "colab": {
          "base_uri": "https://localhost:8080/"
        },
        "id": "SqYJ53RpuES9",
        "outputId": "5c9c29bb-78d0-45b4-e445-0671b8bc532f"
      },
      "execution_count": null,
      "outputs": [
        {
          "output_type": "stream",
          "name": "stdout",
          "text": [
            "1;2;3;4;5;6;7;8;9;10;11;12;13;14;15;16;17;18;19;20;21;22;23;24;25;26;27;28;29;30;31;32;33;34;35;36;37;38;39;40;41;42;43;44;45;46;47;48;49;50;51;52;53;54;55;56;57;58;59;60;61;62;63;64;65;66;67;68;69;70;71;72;73;74;75;76;77;78;79;80;81;82;83;84;85;86;87;88;89;90;91;92;93;94;95;96;97;98;99;100;101;102;103;104;105;106;107;108;109;110;111;112;113;114;115;116;117;118;119;120;121;122;123;124;125;126;127;128;129;130;131;132;133;134;135;136;137;138;139;140;141;142;143;144;145;146;147;148;149;150;151;152;153;154;155;156;157;158;159;160;161;162;163;164;165;166;167;168;169;170;171;172;173;174;175;176;177;178;179;180;181;182;183;184;185;186;187;188;189;190;191;192;193;194;195;196;197;198;199;200;201;202;203;204;205;206;207;208;209;210;211;212;213;214;215;216;217;218;219;220;221;222;223;224;225;226;227;228;229;230;231;232;233;234;235;236;237;238;239;240;241;242;243;244;245;246;247;248;249;250;251;252;253;254;255;256;257;258;259;260;261;262;263;264;265;266;267;268;269;270;271;272;273;274;275;276;277;278;279;280;281;282;283;284;285;286;287;288;289;290;291;292;293;294;295;296;297;298;299;300;301;302;303;304;305;306;307;308;309;310;311;312;313;314;315;316;317;318;319;320;321;322;323;324;325;326;327;328;329;330;331;332;333;334;335;336;337;338;339;340;341;342;343;344;345;346;347;348;349;350;351;352;353;354;355;356;357;358;359;360;361;362;363;364;365;366;367;368;369;370;371;372;373;374;375;376;377;378;379;380;381;382;383;384;385;386;387;388;389;390;391;392;393;394;395;396;397;398;399;400;401;402;403;404;405;406;407;408;409;410;411;412;413;414;415;416;417;418;419;420;421;422;423;424;425;426;427;428;429;430;431;432;433;434;435;436;437;438;439;440;441;442;443;444;445;446;447;448;449;450;451;452;453;454;455;456;457;458;459;460;461;462;463;464;465;466;467;468;469;470;471;472;473;474;475;476;477;478;479;480;481;482;483;484;485;486;487;488;489;490;491;492;493;494;495;496;497;498;499;500;501;502;503;504;505;506;507;508;509;510;511;512;513;514;515;516;517;518;519;520;521;522;523;524;525;526;527;528;529;530;531;532;533;534;535;536;537;538;539;540;541;542;543;544;545;546;547;548;549;550;551;552;553;554;555;556;557;558;559;560;561;562;563;564;565;566;567;568;569;570;571;572;573;574;575;576;577;578;579;580;581;582;583;584;585;586;587;588;589;590;591;592;593;594;595;596;597;598;599;600;601;602;603;604;605;606;607;608;609;610;611;612;613;614;615;616;617;618;619;620;621;622;623;624;625;626;627;628;629;630;631;632;633;634;635;636;637;638;639;640;641;642;643;644;645;646;647;648;649;650;651;652;653;654;655;656;657;658;659;660;661;662;663;664;665;666;667;668;669;670;671;672;673;674;675;676;677;678;679;680;681;682;683;684;685;686;687;688;689;690;691;692;693;694;695;696;697;698;699;700;701;702;703;704;705;706;707;708;709;710;711;712;713;714;715;716;717;718;719;720;721;722;723;724;725;726;727;728;729;730;731;732;733;734;735;736;737;738;739;740;741;742;743;744;745;746;747;748;749;750;751;752;753;754;755;756;757;758;759;760;761;762;763;764;765;766;767;768;769;770;771;772;773;774;775;776;777;778;779;780;781;782;783;784;785;786;787;788;789;790;791;792;793;794;795;796;797;798;799;800;801;802;803;804;805;806;807;808;809;810;811;812;813;814;815;816;817;818;819;820;821;822;823;824;825;826;827;828;829;830;831;832;833;834;835;836;837;838;839;840;841;842;843;844;845;846;847;848;849;850;851;852;853;854;855;856;857;858;859;860;861;862;863;864;865;866;867;868;869;870;871;872;873;874;875;876;877;878;879;880;881;882;883;884;885;886;887;888;889;890;891;892;893;894;895;896;897;898;899;900;901;902;903;904;905;906;907;908;909;910;911;912;913;914;915;916;917;918;919;920;921;922;923;924;925;926;927;928;929;930;931;932;933;934;935;936;937;938;939;940;941;942;943;944;945;946;947;948;949;950;951;952;953;954;955;956;957;958;959;960;961;962;963;964;965;966;967;968;969;970;971;972;973;974;975;976;977;978;979;980;981;982;983;984;985;986;987;988;989;990;991;992;993;994;995;996;997;998;999;1000;1001;1002;1003;1004;1005;1006;1007;1008;1009;1010;1011;1012;1013;1014;1015;1016;1017;1018;1019;1020;1021;1022;1023;1024;1025;1026;1027;1028;1029;1030;1031;1032;1033;1034;1035;1036;1037;1038;1039;1040;1041;1042;1043;1044;1045;1046;1047;1048;1049;1050;1051;1052;1053;1054;1055;1056;1057;1058;1059;1060;1061;1062;1063;1064;1065;1066;1067;1068;1069;1070;1071;1072;1073;1074;1075;1076;1077;1078;1079;1080;1081;1082;1083;1084;1085;1086;1087;1088;1089;1090;1091;1092;1093;1094;1095;1096;1097;1098;1099;1100;1101;1102;1103;1104;1105;1106;1107;1108;1109;1110;1111;1112;1113;1114;1115;1116;1117;1118;1119;1120;1121;1122;1123;1124;1125;1126;1127;1128;1129;1130;1131;1132;1133;1134;1135;1136;1137;1138;1139;1140;1141;1142;1143;1144;1145;1146;1147;1148;1149;1150;1151;1152;1153;1154;1155;1156;1157;1158;1159;1160;1161;1162;1163;1164;1165;1166;1167;1168;1169;1170;1171;1172;1173;1174;1175;1176;1177;1178;1179;1180;1181;1182;1183;1184;1185;1186;1187;1188;1189;1190;1191;1192;1193;1194;1195;1196;1197;1198;1199;1200;1201;1202;1203;1204;1205;1206;1207;1208;1209;1210;1211;1212;1213;1214;1215;1216;1217;1218;1219;1220;1221;1222;1223;1224;1225;1226;1227;1228;1229;1230;1231;1232;1233;1234;1235;1236;1237;1238;1239;1240;1241;1242;1243;1244;1245;1246;1247;1248;1249;1250;1251;1252;1253;1254;1255;1256;1257;1258;1259;1260;1261;1262;1263;1264;1265;1266;1267;1268;1269;1270;1271;1272;1273;1274;1275;1276;1277;1278;1279;1280;1281;1282;1283;1284;1285;1286;1287;1288;1289;1290;1291;1292;1293;1294;1295;1296;1297;1298;1299;1300;1301;1302;1303;1304;1305;1306;1307;1308;1309;1310;1311;1312;1313;1314;1315;1316;1317;1318;1319;1320;1321;1322;1323;1324;1325;1326;1327;1328;1329;1330;1331;1332;1333;1334;1335;1336;1337;1338;1339;1340;1341;1342;1343;1344;1345;1346;1347;1348;1349;1350;1351;1352;1353;1354;1355;1356;1357;1358;1359;1360;1361;1362;1363;1364;1365;1366;1367;1368;1369;1370;1371;1372;1373;1374;1375;1376;1377;1378;1379;1380;1381;1382;1383;1384;1385;1386;1387;1388;1389;1390;1391;1392;1393;1394;1395;1396;1397;1398;1399;1400;1401;1402;1403;1404;1405;1406;1407;1408;1409;1410;1411;1412;1413;1414;1415;1416;1417;1418;1419;1420;1421;1422;1423;1424;1425;1426;1427;1428;1429;1430;1431;1432;1433;1434;1435;1436;1437;1438;1439;1440;1441;1442;1443;1444;1445;1446;1447;1448;1449;1450;1451;1452;1453;1454;1455;1456;1457;1458;1459;1460;1461;1462;1463;1464;1465;1466;1467;1468;1469;1470;1471;1472;1473;1474;1475;1476;1477;1478;1479;1480;1481;1482;1483;1484;1485;1486;1487;1488;1489;1490;1491;1492;1493;1494;1495;1496;1497;1498;1499;1500;1501;1502;1503;1504;1505;1506;1507;1508;1509;1510;1511;1512;1513;1514;1515;1516;1517;1518;1519;1520;1521;1522;1523;1524;1525;1526;1527;1528;1529;1530;1531;1532;1533;1534;1535;1536;1537;1538;1539;1540;1541;1542;1543;1544;1545;1546;1547;1548;1549;1550;1551;1552;1553;1554;1555;1556;1557;1558;1559;1560;1561;1562;1563;1564;1565;1566;1567;1568;1569;1570;1571;1572;1573;1574;1575;1576;1577;1578;1579;1580;1581;1582;1583;1584;1585;1586;1587;1588;1589;1590;1591;1592;1593;1594;1595;1596;1597;1598;1599;1600;1601;1602;1603;1604;1605;1606;1607;1608;1609;1610;1611;1612;1613;1614;1615;1616;1617;1618;1619;1620;1621;1622;1623;1624;1625;1626;1627;1628;1629;1630;1631;1632;1633;1634;1635;1636;1637;1638;1639;1640;1641;1642;1643;1644;1645;1646;1647;1648;1649;1650;1651;1652;1653;1654;1655;1656;1657;1658;1659;1660;1661;1662;1663;1664;1665;1666;1667;1668;1669;1670;1671;1672;1673;1674;1675;1676;1677;1678;1679;1680;1681;1682;1683;1684;1685;1686;1687;1688;1689;1690;1691;1692;1693;1694;1695;1696;1697;1698;1699;1700;1701;1702;1703;1704;1705;1706;1707;1708;1709;1710;1711;1712;1713;1714;1715;1716;1717;1718;1719;1720;1721;1722;1723;1724;1725;1726;1727;1728;1729;1730;1731;1732;1733;1734;1735;1736;1737;1738;1739;1740;1741;1742;1743;1744;1745;1746;1747;1748;1749;1750;1751;1752;1753;1754;1755;1756;1757;1758;1759;1760;1761;1762;1763;1764;1765;1766;1767;1768;1769;1770;1771;1772;1773;1774;1775;1776;1777;1778;1779;1780;1781;1782;1783;1784;1785;1786;1787;1788;1789;1790;1791;1792;1793;1794;1795;1796;1797;1798;1799;1800;1801;1802;1803;1804;1805;1806;1807;1808;1809;1810;1811;1812;1813;1814;1815;1816;1817;1818;1819;1820;1821;1822;1823;1824;1825;1826;1827;1828;1829;1830;1831;1832;1833;1834;1835;1836;1837;1838;1839;1840;1841;1842;1843;1844;1845;1846;1847;1848;1849;1850;1851;1852;1853;1854;1855;1856;1857;1858;1859;1860;1861;1862;1863;1864;1865;1866;1867;1868;1869;1870;1871;1872;1873;1874;1875;1876;1877;1878;1879;1880;1881;1882;1883;1884;1885;1886;1887;1888;1889;1890;1891;1892;1893;1894;1895;1896;1897;1898;1899;1900;1901;1902;1903;1904;1905;1906;1907;1908;1909;1910;1911;1912;1913;1914;1915;1916;1917;1918;1919;1920;1921;1922;1923;1924;1925;1926;1927;1928;1929;1930;1931;1932;1933;1934;1935;1936;1937;1938;1939;1940;1941;1942;1943;1944;1945;1946;1947;1948;1949;1950;1951;1952;1953;1954;1955;1956;1957;1958;1959;1960;1961;1962;1963;1964;1965;1966;1967;1968;1969;1970;1971;1972;1973;1974;1975;1976;1977;1978;1979;1980;1981;1982;1983;1984;1985;1986;1987;1988;1989;1990;1991;1992;1993;1994;1995;1996;1997;1998;1999;2000;2001;2002;2003;2004;2005;2006;2007;2008;2009;2010;2011;2012;2013;2014;2015;2016;2017;2018;2019;2020;2021;2022;2023;2024;2025;2026;2027;2028;2029;2030;2031;2032;2033;2034;2035;2036;2037;2038;2039;2040;2041;2042;2043;2044;2045;2046;2047;2048;2049;2050;2051;2052;2053;2054;2055;2056;2057;2058;2059;2060;2061;2062;2063;2064;2065;2066;2067;2068;2069;2070;2071;2072;2073;2074;2075;2076;2077;2078;2079;2080;2081;2082;2083;2084;2085;2086;2087;2088;2089;2090;2091;2092;2093;2094;2095;2096;2097;2098;2099;2100;2101;2102;2103;2104;2105;2106;2107;2108;2109;2110;2111;2112;2113;2114;2115;2116;2117;2118;2119;2120;2121;2122;2123;2124;2125;2126;2127;2128;2129;2130;2131;2132;2133;2134;2135;2136;2137;2138;2139;2140;2141;2142;2143;2144;2145;2146;2147;2148;2149;2150;2151;2152;2153;2154;2155;2156;2157;2158;2159;2160;2161;2162;2163;2164;2165;2166;2167;2168;2169;2170;2171;2172;2173;2174;2175;2176;2177;2178;2179;2180;2181;2182;2183;2184;2185;2186;2187;2188;2189;2190;2191;2192;2193;2194;2195;2196;2197;2198;2199;2200;2201;2202;2203;2204;2205;2206;2207;2208;2209;2210;2211;2212;2213;2214;2215;2216;2217;2218;2219;2220;2221;2222;2223;2224;2225;2226;2227;2228;2229;2230;2231;2232;2233;2234;2235;2236;2237;2238;2239;2240;2241;2242;2243;2244;2245;2246;2247;2248;2249;2250;2251;2252;2253;2254;2255;2256;2257;2258;2259;2260;2261;2262;2263;2264;2265;2266;2267;2268;2269;2270;2271;2272;2273;2274;2275;2276;2277;2278;2279;2280;2281;2282;2283;2284;2285;2286;2287;2288;2289;2290;2291;2292;2293;2294;2295;2296;2297;2298;2299;2300;2301;2302;2303;2304;2305;2306;2307;2308;2309;2310;2311;2312;2313;2314;2315;2316;2317;2318;2319;2320;2321;2322;2323;2324;2325;2326;2327;2328;2329;2330;2331;2332;2333;2334;2335;2336;2337;2338;2339;2340;2341;2342;2343;2344;2345;2346;2347;2348;2349;2350;2351;2352;2353;2354;2355;2356;2357;2358;2359;2360;2361;2362;2363;2364;2365;2366;2367;2368;2369;2370;2371;2372;2373;2374;2375;2376;2377;2378;2379;2380;2381;2382;2383;2384;2385;2386;2387;2388;2389;2390;2391;2392;2393;2394;2395;2396;2397;2398;2399;2400;2401;2402;2403;2404;2405;2406;2407;2408;2409;2410;2411;2412;2413;2414;2415;2416;2417;2418;2419;2420;2421;2422;2423;2424;2425;2426;2427;2428;2429;2430;2431;2432;2433;2434;2435;2436;2437;2438;2439;2440;2441;2442;2443;2444;2445;2446;2447;2448;2449;2450;2451;2452;2453;2454;2455;2456;2457;2458;2459;2460;2461;2462;2463;2464;2465;2466;2467;2468;2469;2470;2471;2472;2473;2474;2475;2476;2477;2478;2479;2480;2481;2482;2483;2484;2485;2486;2487;2488;2489;2490;2491;2492;2493;2494;2495;2496;2497;2498;2499;2500;2501;2502;2503;2504;2505;2506;2507;2508;2509;2510;2511;2512;2513;2514;2515;2516;2517;2518;2519;2520;2521;2522;2523;2524;2525;2526;2527;2528;2529;2530;2531;2532;2533;2534;2535;2536;2537;2538;2539;2540;2541;2542;2543;2544;2545;2546;2547;2548;2549;2550;2551;2552;2553;2554;2555;2556;2557;2558;2559;2560;2561;2562;2563;2564;2565;2566;2567;2568;2569;2570;2571;2572;2573;2574;2575;2576;2577;2578;2579;2580;2581;2582;2583;2584;2585;2586;2587;2588;2589;2590;2591;2592;2593;2594;2595;2596;2597;2598;2599;2600;2601;2602;2603;2604;2605;2606;2607;2608;2609;2610;2611;2612;2613;2614;2615;2616;2617;2618;2619;2620;2621;2622;2623;2624;2625;2626;2627;2628;2629;2630;2631;2632;2633;2634;2635;2636;2637;2638;2639;2640;2641;2642;2643;2644;2645;2646;2647;2648;2649;2650;2651;2652;2653;2654;2655;2656;2657;2658;2659;2660;2661;2662;2663;2664;2665;2666;2667;2668;2669;2670;2671;2672;2673;2674;2675;2676;2677;2678;2679;2680;2681;2682;2683;2684;2685;2686;2687;2688;2689;2690;2691;2692;2693;2694;2695;2696;2697;2698;2699;2700;2701;2702;2703;2704;2705;2706;2707;2708;2709;2710;2711;2712;2713;2714;2715;2716;2717;2718;2719;2720;2721;2722;2723;2724;2725;2726;2727;2728;2729;2730;2731;2732;2733;2734;2735;2736;2737;2738;2739;2740;2741;2742;2743;2744;2745;2746;2747;2748;2749;2750;2751;2752;2753;2754;2755;2756;2757;2758;2759;2760;2761;2762;2763;2764;2765;2766;2767;2768;2769;2770;2771;2772;2773;2774;2775;2776;2777;2778;2779;2780;2781;2782;2783;2784;2785;2786;2787;2788;2789;2790;2791;2792;2793;2794;2795;2796;2797;2798;2799;2800;2801;2802;2803;2804;2805;2806;2807;2808;2809;2810;2811;2812;2813;2814;2815;2816;2817;2818;2819;2820;2821;2822;2823;2824;2825;2826;2827;2828;2829;2830;2831;2832;2833;2834;2835;2836;2837;2838;2839;2840;2841;2842;2843;2844;2845;2846;2847;2848;2849;2850;2851;2852;2853;2854;2855;2856;2857;2858;2859;2860;2861;2862;2863;2864;2865;2866;2867;2868;2869;2870;2871;2872;2873;2874;2875;2876;2877;2878;2879;2880;2881;2882;2883;2884;2885;2886;2887;2888;2889;2890;2891;2892;2893;2894;2895;2896;2897;2898;2899;2900;2901;2902;2903;2904;2905;2906;2907;2908;2909;2910;2911;2912;2913;2914;2915;2916;2917;2918;2919;2920;2921;2922;2923;2924;2925;2926;2927;2928;2929;2930;2931;2932;2933;2934;2935;2936;2937;2938;2939;2940;2941;2942;2943;2944;2945;2946;2947;2948;2949;2950;2951;2952;2953;2954;2955;2956;2957;2958;2959;2960;2961;2962;2963;2964;2965;2966;2967;2968;2969;2970;2971;2972;2973;2974;2975;2976;2977;2978;2979;2980;2981;2982;2983;2984;2985;2986;2987;2988;2989;2990;2991;2992;2993;2994;2995;2996;2997;2998;2999;3000;3001;3002;3003;3004;3005;3006;3007;3008;3009;3010;3011;3012;3013;3014;3015;3016;3017;3018;3019;3020;3021;3022;3023;3024;3025;3026;3027;3028;3029;3030;3031;3032;3033;3034;3035;3036;3037;3038;3039;3040;3041;3042;3043;3044;3045;3046;3047;3048;3049;3050;3051;3052;3053;3054;3055;3056;3057;3058;3059;3060;3061;3062;3063;3064;3065;3066;3067;3068;3069;3070;3071;3072;3073;3074;3075;3076;3077;3078;3079;3080;3081;3082;3083;3084;3085;3086;3087;3088;3089;3090;3091;3092;3093;3094;3095;3096;3097;3098;3099;3100;3101;3102;3103;3104;3105;3106;3107;3108;3109;3110;3111;3112;3113;3114;3115;3116;3117;3118;3119;3120;3121;3122;3123;3124;3125;3126;3127;3128;3129;3130;3131;3132;3133;3134;3135;3136;3137;3138;3139;3140;3141;3142;3143;3144;3145;3146;3147;3148;3149;3150;3151;3152;3153;3154;3155;3156;3157;3158;3159;3160;3161;3162;3163;3164;3165;3166;3167;3168;3169;3170;3171;3172;3173;3174;3175;3176;3177;3178;3179;3180;3181;3182;3183;3184;3185;3186;3187;3188;3189;3190;3191;3192;3193;3194;3195;3196;3197;3198;3199;3200;3201;3202;3203;3204;3205;3206;3207;3208;3209;3210;3211;3212;3213;3214;3215;3216;3217;3218;3219;3220;3221;3222;3223;3224;3225;3226;3227;3228;3229;3230;3231;3232;3233;3234;3235;3236;3237;3238;3239;3240;3241;3242;3243;3244;3245;3246;3247;3248;3249;3250;3251;3252;3253;3254;3255;3256;3257;3258;3259;3260;3261;3262;3263;3264;3265;3266;3267;3268;3269;3270;3271;3272;3273;3274;3275;3276;3277;3278;3279;3280;3281;3282;3283;3284;3285;3286;3287;3288;3289;3290;3291;3292;3293;3294;3295;3296;3297;3298;3299;3300;3301;3302;3303;3304;3305;3306;3307;3308;3309;3310;3311;3312;3313;3314;3315;3316;3317;3318;3319;3320;3321;3322;3323;3324;3325;3326;3327;3328;3329;3330;3331;3332;3333;3334;3335;3336;3337;3338;3339;3340;3341;3342;3343;3344;3345;3346;3347;3348;3349;3350;3351;3352;3353;3354;3355;3356;3357;3358;3359;3360;3361;3362;3363;3364;3365;3366;3367;3368;3369;3370;3371;3372;3373;3374;3375;3376;3377;3378;3379;3380;3381;3382;3383;3384;3385;3386;3387;3388;3389;3390;3391;3392;3393;3394;3395;3396;3397;3398;3399;3400;3401;3402;3403;3404;3405;3406;3407;3408;3409;3410;3411;3412;3413;3414;3415;3416;3417;3418;3419;3420;3421;3422;3423;3424;3425;3426;3427;3428;3429;3430;3431;3432;3433;3434;3435;3436;3437;3438;3439;3440;3441;3442;3443;3444;3445;3446;3447;3448;3449;3450;3451;3452;3453;3454;3455;3456;3457;3458;3459;3460;3461;3462;3463;3464;3465;3466;3467;3468;3469;3470;3471;3472;3473;3474;3475;3476;3477;3478;3479;3480;3481;3482;3483;3484;3485;3486;3487;3488;3489;3490;3491;3492;3493;3494;3495;3496;3497;3498;3499;3500;3501;3502;3503;3504;3505;3506;3507;3508;3509;3510;3511;3512;3513;3514;3515;3516;3517;3518;3519;3520;3521;3522;3523;3524;3525;3526;3527;3528;3529;3530;3531;3532;3533;3534;3535;3536;3537;3538;3539;3540;3541;3542;3543;3544;3545;3546;3547;3548;3549;3550;3551;3552;3553;3554;3555;3556;3557;3558;3559;3560;3561;3562;3563;3564;3565;3566;3567;3568;3569;3570;3571;3572;3573;3574;3575;3576;3577;3578;3579;3580;3581;3582;3583;3584;3585;3586;3587;3588;3589;3590;3591;3592;3593;3594;3595;3596;3597;3598;3599;3600;3601;3602;3603;3604;3605;3606;3607;3608;3609;3610;3611;3612;3613;3614;3615;3616;3617;3618;3619;3620;3621;3622;3623;3624;3625;3626;3627;3628;3629;3630;3631;3632;3633;3634;3635;3636;3637;3638;3639;3640;3641;3642;3643;3644;3645;3646;3647;3648;3649;3650;3651;3652;3653;3654;3655;3656;3657;3658;3659;3660;3661;3662;3663;3664;3665;3666;3667;3668;3669;3670;3671;3672;3673;3674;3675;3676;3677;3678;3679;3680;3681;3682;3683;3684;3685;3686;3687;3688;3689;3690;3691;3692;3693;3694;3695;3696;3697;3698;3699;3700;3701;3702;3703;3704;3705;3706;3707;3708;3709;3710;3711;3712;3713;3714;3715;3716;3717;3718;3719;3720;3721;3722;3723;3724;3725;3726;3727;3728;3729;3730;3731;3732;3733;3734;3735;3736;3737;3738;3739;3740;3741;3742;3743;3744;3745;3746;3747;3748;3749;3750;3751;3752;3753;3754;3755;3756;3757;3758;3759;3760;3761;3762;3763;3764;3765;3766;3767;3768;3769;3770;3771;3772;3773;3774;3775;3776;3777;3778;3779;3780;3781;3782;3783;3784;3785;3786;3787;3788;3789;3790;3791;3792;3793;3794;3795;3796;3797;3798;3799;3800;3801;3802;3803;3804;3805;3806;3807;3808;3809;3810;3811;3812;3813;3814;3815;3816;3817;3818;3819;3820;3821;3822;3823;3824;3825;3826;3827;3828;3829;3830;3831;3832;3833;3834;3835;3836;3837;3838;3839;3840;3841;3842;3843;3844;3845;3846;3847;3848;3849;3850;3851;3852;3853;3854;3855;3856;3857;3858;3859;3860;3861;3862;3863;3864;3865;3866;3867;3868;3869;3870;3871;3872;3873;3874;3875;3876;3877;3878;3879;3880;3881;3882;3883;3884;3885;3886;3887;3888;3889;3890;3891;3892;3893;3894;3895;3896;3897;3898;3899;3900;3901;3902;3903;3904;3905;3906;3907;3908;3909;3910;3911;3912;3913;3914;3915;3916;3917;3918;3919;3920;3921;3922;3923;3924;3925;3926;3927;3928;3929;3930;3931;3932;3933;3934;3935;3936;3937;3938;3939;3940;3941;3942;3943;3944;3945;3946;3947;3948;3949;3950;3951;3952;3953;3954;3955;3956;3957;3958;3959;3960;3961;3962;3963;3964;3965;3966;3967;3968;3969;3970;3971;3972;3973;3974;3975;3976;3977;3978;3979;3980;3981;3982;3983;3984;3985;3986;3987;3988;3989;3990;3991;3992;3993;3994;3995;3996;3997;3998;3999;4000;4001;4002;4003;4004;4005;4006;4007;4008;4009;4010;4011;4012;4013;4014;4015;4016;4017;4018;4019;4020;4021;4022;4023;4024;4025;4026;4027;4028;4029;4030;4031;4032;4033;4034;4035;4036;4037;4038;4039;4040;4041;4042;4043;4044;4045;4046;4047;4048;4049;4050;4051;4052;4053;4054;4055;4056;4057;4058;4059;4060;4061;4062;4063;4064;4065;4066;4067;4068;4069;4070;4071;4072;4073;4074;4075;4076;4077;4078;4079;4080;4081;4082;4083;4084;4085;4086;4087;4088;4089;4090;4091;4092;4093;4094;4095;4096;4097;4098;4099;4100;4101;4102;4103;4104;4105;4106;4107;4108;4109;4110;4111;4112;4113;4114;4115;4116;4117;4118;4119;4120;4121;4122;4123;4124;4125;4126;4127;4128;4129;4130;4131;4132;4133;4134;4135;4136;4137;4138;4139;4140;4141;4142;4143;4144;4145;4146;4147;4148;4149;4150;4151;4152;4153;4154;4155;4156;4157;4158;4159;4160;4161;4162;4163;4164;4165;4166;4167;4168;4169;4170;4171;4172;4173;4174;4175;4176;4177;4178;4179;4180;4181;4182;4183;4184;4185;4186;4187;4188;4189;4190;4191;4192;4193;4194;4195;4196;4197;4198;4199;4200;4201;4202;4203;4204;4205;4206;4207;4208;4209;4210;4211;4212;4213;4214;4215;4216;4217;4218;4219;4220;4221;4222;4223;4224;4225;4226;4227;4228;4229;4230;4231;4232;4233;4234;4235;4236;4237;4238;4239;4240;4241;4242;4243;4244;4245;4246;4247;4248;4249;4250;4251;4252;4253;4254;4255;4256;4257;4258;4259;4260;4261;4262;4263;4264;4265;4266;4267;4268;4269;4270;4271;4272;4273;4274;4275;4276;4277;4278;4279;4280;4281;4282;4283;4284;4285;4286;4287;4288;4289;4290;4291;4292;4293;4294;4295;4296;4297;4298;4299;4300;4301;4302;4303;4304;4305;4306;4307;4308;4309;4310;4311;4312;4313;4314;4315;4316;4317;4318;4319;4320;4321;4322;4323;4324;4325;4326;4327;4328;4329;4330;4331;4332;4333;4334;4335;4336;4337;4338;4339;4340;4341;4342;4343;4344;4345;4346;4347;4348;4349;4350;4351;4352;4353;4354;4355;4356;4357;4358;4359;4360;4361;4362;4363;4364;4365;4366;4367;4368;4369;4370;4371;4372;4373;4374;4375;4376;4377;4378;4379;4380;4381;4382;4383;4384;4385;4386;4387;4388;4389;4390;4391;4392;4393;4394;4395;4396;4397;4398;4399;4400;4401;4402;4403;4404;4405;4406;4407;4408;4409;4410;4411;4412;4413;4414;4415;4416;4417;4418;4419;4420;4421;4422;4423;4424;4425;4426;4427;4428;4429;4430;4431;4432;4433;4434;4435;4436;4437;4438;4439;4440;4441;4442;4443;4444;4445;4446;4447;4448;4449;4450;4451;4452;4453;4454;4455;4456;4457;4458;4459;4460;4461;4462;4463;4464;4465;4466;4467;4468;4469;4470;4471;4472;4473;4474;4475;4476;4477;4478;4479;4480;4481;4482;4483;4484;4485;4486;4487;4488;4489;4490;4491;4492;4493;4494;4495;4496;4497;4498;4499;4500;4501;4502;4503;4504;4505;4506;4507;4508;4509;4510;4511;4512;4513;4514;4515;4516;4517;4518;4519;4520;4521;4522;4523;4524;4525;4526;4527;4528;4529;4530;4531;4532;4533;4534;4535;4536;4537;4538;4539;4540;4541;4542;4543;4544;4545;4546;4547;4548;4549;4550;4551;4552;4553;4554;4555;4556;4557;4558;4559;4560;4561;4562;4563;4564;4565;4566;4567;4568;4569;4570;4571;4572;4573;4574;4575;4576;4577;4578;4579;4580;4581;4582;4583;4584;4585;4586;4587;4588;4589;4590;4591;4592;4593;4594;4595;4596;4597;4598;4599;4600;4601;4602;4603;4604;4605;4606;4607;4608;4609;4610;4611;4612;4613;4614;4615;4616;4617;4618;4619;4620;4621;4622;4623;4624;4625;4626;4627;4628;4629;4630;4631;4632;4633;4634;4635;4636;4637;4638;4639;4640;4641;4642;4643;4644;4645;4646;4647;4648;4649;4650;4651;4652;4653;4654;4655;4656;4657;4658;4659;4660;4661;4662;4663;4664;4665;4666;4667;4668;4669;4670;4671;4672;4673;4674;4675;4676;4677;4678;4679;4680;4681;4682;4683;4684;4685;4686;4687;4688;4689;4690;4691;4692;4693;4694;4695;4696;4697;4698;4699;4700;4701;4702;4703;4704;4705;4706;4707;4708;4709;4710;4711;4712;4713;4714;4715;4716;4717;4718;4719;4720;4721;4722;4723;4724;4725;4726;4727;4728;4729;4730;4731;4732;4733;4734;4735;4736;4737;4738;4739;4740;4741;4742;4743;4744;4745;4746;4747;4748;4749;4750;4751;4752;4753;4754;4755;4756;4757;4758;4759;4760;4761;4762;4763;4764;4765;4766;4767;4768;4769;4770;4771;4772;4773;4774;4775;4776;4777;4778;4779;4780;4781;4782;4783;4784;4785;4786;4787;4788;4789;4790;4791;4792;4793;4794;4795;4796;4797;4798;4799;4800;4801;4802;4803;4804;4805;4806;4807;4808;4809;4810;4811;4812;4813;4814;4815;4816;4817;4818;4819;4820;4821;4822;4823;4824;4825;4826;4827;4828;4829;4830;4831;4832;4833;4834;4835;4836;4837;4838;4839;4840;4841;4842;4843;4844;4845;4846;4847;4848;4849;4850;4851;4852;4853;4854;4855;4856;4857;4858;4859;4860;4861;4862;4863;4864;4865;4866;4867;4868;4869;4870;4871;4872;4873;4874;4875;4876;4877;4878;4879;4880;4881;4882;4883;4884;4885;4886;4887;4888;4889;4890;4891;4892;4893;4894;4895;4896;4897;4898;4899;4900;4901;4902;4903;4904;4905;4906;4907;4908;4909;4910;4911;4912;4913;4914;4915;4916;4917;4918;4919;4920;4921;4922;4923;4924;4925;4926;4927;4928;4929;4930;4931;4932;4933;4934;4935;4936;4937;4938;4939;4940;4941;4942;4943;4944;4945;4946;4947;4948;4949;4950;4951;4952;4953;4954;4955;4956;4957;4958;4959;4960;4961;4962;4963;4964;4965;4966;4967;4968;4969;4970;4971;4972;4973;4974;4975;4976;4977;4978;4979;4980;4981;4982;4983;4984;4985;4986;4987;4988;4989;4990;4991;4992;4993;4994;4995;4996;4997;4998;4999;5000;5001;5002;5003;5004;5005;5006;5007;5008;5009;5010;5011;5012;5013;5014;5015;5016;5017;5018;5019;5020;5021;5022;5023;5024;5025;5026;5027;5028;5029;5030;5031;5032;5033;5034;5035;5036;5037;5038;5039;5040;5041;5042;5043;5044;5045;5046;5047;5048;5049;5050;5051;5052;5053;5054;5055;5056;5057;5058;5059;5060;5061;5062;5063;5064;5065;5066;5067;5068;5069;5070;5071;5072;5073;5074;5075;5076;5077;5078;5079;5080;5081;5082;5083;5084;5085;5086;5087;5088;5089;5090;5091;5092;5093;5094;5095;5096;5097;5098;5099;5100;5101;5102;5103;5104;5105;5106;5107;5108;5109;5110;5111;5112;5113;5114;5115;5116;5117;5118;5119;5120;5121;5122;5123;5124;5125;5126;5127;5128;5129;5130;5131;5132;5133;5134;5135;5136;5137;5138;5139;5140;5141;5142;5143;5144;5145;5146;5147;5148;5149;5150;5151;5152;5153;5154;5155;5156;5157;5158;5159;5160;5161;5162;5163;5164;5165;5166;5167;5168;5169;5170;5171;5172;5173;5174;5175;5176;5177;5178;5179;5180;5181;5182;5183;5184;5185;5186;5187;5188;5189;5190;5191;5192;5193;5194;5195;5196;5197;5198;5199;5200;5201;5202;5203;5204;5205;5206;5207;5208;5209;5210;5211;5212;5213;5214;5215;5216;5217;5218;5219;5220;5221;5222;5223;5224;5225;5226;5227;5228;5229;5230;5231;5232;5233;5234;5235;5236;5237;5238;5239;5240;5241;5242;5243;5244;5245;5246;5247;5248;5249;5250;5251;5252;5253;5254;5255;5256;5257;5258;5259;5260;5261;5262;5263;5264;5265;5266;5267;5268;5269;5270;5271;5272;5273;5274;5275;5276;5277;5278;5279;5280;5281;5282;5283;5284;5285;5286;5287;5288;5289;5290;5291;5292;5293;5294;5295;5296;5297;5298;5299;5300;5301;5302;5303;5304;5305;5306;5307;5308;5309;5310;5311;5312;5313;5314;5315;5316;5317;5318;5319;5320;5321;5322;5323;5324;5325;5326;5327;5328;5329;5330;5331;5332;5333;5334;5335;5336;5337;5338;5339;5340;5341;5342;5343;5344;5345;5346;5347;5348;5349;5350;5351;5352;5353;5354;5355;5356;5357;5358;5359;5360;5361;5362;5363;5364;5365;5366;5367;5368;5369;5370;5371;5372;5373;5374;5375;5376;5377;5378;5379;5380;5381;5382;5383;5384;5385;5386;5387;5388;5389;5390;5391;5392;5393;5394;5395;5396;5397;5398;5399;5400;5401;5402;5403;5404;5405;5406;5407;5408;5409;5410;5411;5412;5413;5414;5415;5416;5417;5418;5419;5420;5421;5422;5423;5424;5425;5426;5427;5428;5429;5430;5431;5432;5433;5434;5435;5436;5437;5438;5439;5440;5441;5442;5443;5444;5445;5446;5447;5448;5449;5450;5451;5452;5453;5454;5455;5456;5457;5458;5459;5460;5461;5462;5463;5464;5465;5466;5467;5468;5469;5470;5471;5472;5473;5474;5475;5476;5477;5478;5479;5480;5481;5482;5483;5484;5485;5486;5487;5488;5489;5490;5491;5492;5493;5494;5495;5496;5497;5498;5499;5500;5501;5502;5503;5504;5505;5506;5507;5508;5509;5510;5511;5512;5513;5514;5515;5516;5517;5518;5519;5520;5521;5522;5523;5524;5525;5526;5527;5528;5529;5530;5531;5532;5533;5534;5535;5536;5537;5538;5539;5540;5541;5542;5543;5544;5545;5546;5547;5548;5549;5550;5551;5552;5553;5554;5555;5556;5557;5558;5559;5560;5561;5562;5563;5564;5565;5566;5567;5568;5569;5570;5571;5572;5573;5574;5575;5576;5577;5578;5579;5580;5581;5582;5583;5584;5585;5586;5587;5588;5589;5590;5591;5592;5593;5594;5595;5596;5597;5598;5599;5600;5601;5602;5603;5604;5605;5606;5607;5608;5609;5610;5611;5612;5613;5614;5615;5616;5617;5618;5619;5620;5621;5622;5623;5624;5625;5626;5627;5628;5629;5630;5631;5632;5633;5634;5635;5636;5637;5638;5639;5640;5641;5642;5643;5644;5645;5646;5647;5648;5649;5650;5651;5652;5653;5654;5655;5656;5657;5658;5659;5660;5661;5662;5663;5664;5665;5666;5667;5668;5669;5670;5671;5672;5673;5674;5675;5676;5677;5678;5679;5680;5681;5682;5683;5684;5685;5686;5687;5688;5689;5690;5691;5692;5693;5694;5695;5696;5697;5698;5699;5700;5701;5702;5703;5704;5705;5706;5707;5708;5709;5710;5711;5712;5713;5714;5715;5716;5717;5718;5719;5720;5721;5722;5723;5724;5725;5726;5727;5728;5729;5730;5731;5732;5733;5734;5735;5736;5737;5738;5739;5740;5741;5742;5743;5744;5745;5746;5747;5748;5749;5750;5751;5752;5753;5754;5755;5756;5757;5758;5759;5760;5761;5762;5763;5764;5765;5766;5767;5768;5769;5770;5771;5772;5773;5774;5775;5776;5777;5778;5779;5780;5781;5782;5783;5784;5785;5786;5787;5788;5789;5790;5791;5792;5793;5794;5795;5796;5797;5798;5799;5800;5801;5802;5803;5804;5805;5806;5807;5808;5809;5810;5811;5812;5813;5814;5815;5816;5817;5818;5819;5820;5821;5822;5823;5824;5825;5826;5827;5828;5829;5830;5831;5832;5833;5834;5835;5836;5837;5838;5839;5840;5841;5842;5843;5844;5845;5846;5847;5848;5849;5850;5851;5852;5853;5854;5855;5856;5857;5858;5859;5860;5861;5862;5863;5864;5865;5866;5867;5868;5869;5870;5871;5872;5873;5874;5875;5876;5877;5878;5879;5880;5881;5882;5883;5884;5885;5886;5887;5888;5889;5890;5891;5892;5893;5894;5895;5896;5897;5898;5899;5900;5901;5902;5903;5904;5905;5906;5907;5908;5909;5910;5911;5912;5913;5914;5915;5916;5917;5918;5919;5920;5921;5922;5923;5924;5925;5926;5927;5928;5929;5930;5931;5932;5933;5934;5935;5936;5937;5938;5939;5940;5941;5942;5943;5944;5945;5946;5947;5948;5949;5950;5951;5952;5953;5954;5955;5956;5957;5958;5959;5960;5961;5962;5963;5964;5965;5966;5967;5968;5969;5970;5971;5972;5973;5974;5975;5976;5977;5978;5979;5980;5981;5982;5983;5984;5985;5986;5987;5988;5989;5990;5991;5992;5993;5994;5995;5996;5997;5998;5999;6000;6001;6002;6003;6004;6005;6006;6007;6008;6009;6010;6011;6012;6013;6014;6015;6016;6017;6018;6019;6020;6021;6022;6023;6024;6025;6026;6027;6028;6029;6030;6031;6032;6033;6034;6035;6036;6037;6038;6039;6040;6041;6042;6043;6044;6045;6046;6047;6048;6049;6050;6051;6052;6053;6054;6055;6056;6057;6058;6059;6060;6061;6062;6063;6064;6065;6066;6067;6068;6069;6070;6071;6072;6073;6074;6075;6076;6077;6078;6079;6080;6081;6082;6083;6084;6085;6086;6087;6088;6089;6090;6091;6092;6093;6094;6095;6096;6097;6098;6099;6100;6101;6102;6103;6104;6105;6106;6107;6108;6109;6110;6111;6112;6113;6114;6115;6116;6117;6118;6119;6120;6121;6122;6123;6124;6125;6126;6127;6128;6129;6130;6131;6132;6133;6134;6135;6136;6137;6138;6139;6140;6141;6142;6143;6144;6145;6146;6147;6148;6149;6150;6151;6152;6153;6154;6155;6156;6157;6158;6159;6160;6161;6162;6163;6164;6165;6166;6167;6168;6169;6170;6171;6172;6173;6174;6175;6176;6177;6178;6179;6180;6181;6182;6183;6184;6185;6186;6187;6188;6189;6190;6191;6192;6193;6194;6195;6196;6197;6198;6199;6200;6201;6202;6203;6204;6205;6206;6207;6208;6209;6210;6211;6212;6213;6214;6215;6216;6217;6218;6219;6220;6221;6222;6223;6224;6225;6226;6227;6228;6229;6230;6231;6232;6233;6234;6235;6236;6237;6238;6239;6240;6241;6242;6243;6244;6245;6246;6247;6248;6249;6250;6251;6252;6253;6254;6255;6256;6257;6258;6259;6260;6261;6262;6263;6264;6265;6266;6267;6268;6269;6270;6271;6272;6273;6274;6275;6276;6277;6278;6279;6280;6281;6282;6283;6284;6285;6286;6287;6288;6289;6290;6291;6292;6293;6294;6295;6296;6297;6298;6299;6300;6301;6302;6303;6304;6305;6306;6307;6308;6309;6310;6311;6312;6313;6314;6315;6316;6317;6318;6319;6320;6321;6322;6323;6324;6325;6326;6327;6328;6329;6330;6331;6332;6333;6334;6335;6336;6337;6338;6339;6340;6341;6342;6343;6344;6345;6346;6347;6348;6349;6350;6351;6352;6353;6354;6355;6356;6357;6358;6359;6360;6361;6362;6363;6364;6365;6366;6367;6368;6369;6370;6371;6372;6373;6374;6375;6376;6377;6378;6379;6380;6381;6382;6383;6384;6385;6386;6387;6388;6389;6390;6391;6392;6393;6394;6395;6396;6397;6398;6399;6400;6401;6402;6403;6404;6405;6406;6407;6408;6409;6410;6411;6412;6413;6414;6415;6416;6417;6418;6419;6420;6421;6422;6423;6424;6425;6426;6427;6428;6429;6430;6431;6432;6433;6434;6435;6436;6437;6438;6439;6440;6441;6442;6443;6444;6445;6446;6447;6448;6449;6450;6451;6452;6453;6454;6455;6456;6457;6458;6459;6460;6461;6462;6463;6464;6465;6466;6467;6468;6469;6470;6471;6472;6473;6474;6475;6476;6477;6478;6479;6480;6481;6482;6483;6484;6485;6486;6487;6488;6489;6490;6491;6492;6493;6494;6495;6496;6497;6498;6499;6500;6501;6502;6503;6504;6505;6506;6507;6508;6509;6510;6511;6512;6513;6514;6515;6516;6517;6518;6519;6520;6521;6522;6523;6524;6525;6526;6527;6528;6529;6530;6531;6532;6533;6534;6535;6536;6537;6538;6539;6540;6541;6542;6543;6544;6545;6546;6547;6548;6549;6550;6551;6552;6553;6554;6555;6556;6557;6558;6559;6560;6561;6562;6563;6564;6565;6566;6567;6568;6569;6570;6571;6572;6573;6574;6575;6576;6577;6578;6579;6580;6581;6582;6583;6584;6585;6586;6587;6588;6589;6590;6591;6592;6593;6594;6595;6596;6597;6598;6599;6600;6601;6602;6603;6604;6605;6606;6607;6608;6609;6610;6611;6612;6613;6614;6615;6616;6617;6618;6619;6620;6621;6622;6623;6624;6625;6626;6627;6628;6629;6630;6631;6632;6633;6634;6635;6636;6637;6638;6639;6640;6641;6642;6643;6644;6645;6646;6647;6648;6649;6650;6651;6652;6653;6654;6655;6656;6657;6658;6659;6660;6661;6662;6663;6664;6665;6666;6667;6668;6669;6670;6671;6672;6673;6674;6675;6676;6677;6678;6679;6680;6681;6682;6683;6684;6685;6686;6687;6688;6689;6690;6691;6692;6693;6694;6695;6696;6697;6698;6699;6700;6701;6702;6703;6704;6705;6706;6707;6708;6709;6710;6711;6712;6713;6714;6715;6716;6717;6718;6719;6720;6721;6722;6723;6724;6725;6726;6727;6728;6729;6730;6731;6732;6733;6734;6735;6736;6737;6738;6739;6740;6741;6742;6743;6744;6745;6746;6747;6748;6749;6750;6751;6752;6753;6754;6755;6756;6757;6758;6759;6760;6761;6762;6763;6764;6765;6766;6767;6768;6769;6770;6771;6772;6773;6774;6775;6776;6777;6778;6779;6780;6781;6782;6783;6784;6785;6786;6787;6788;6789;6790;6791;6792;6793;6794;6795;6796;6797;6798;6799;6800;6801;6802;6803;6804;6805;6806;6807;6808;6809;6810;6811;6812;6813;6814;6815;6816;6817;6818;6819;6820;6821;6822;6823;6824;6825;6826;6827;6828;6829;6830;6831;6832;6833;6834;6835;6836;6837;6838;6839;6840;6841;6842;6843;6844;6845;6846;6847;6848;6849;6850;6851;6852;6853;6854;6855;6856;6857;6858;6859;6860;6861;6862;6863;6864;6865;6866;6867;6868;6869;6870;6871;6872;6873;6874;6875;6876;6877;6878;6879;6880;6881;6882;6883;6884;6885;6886;6887;6888;6889;6890;6891;6892;6893;6894;6895;6896;6897;6898;6899;6900;6901;6902;6903;6904;6905;6906;6907;6908;6909;6910;6911;6912;6913;6914;6915;6916;6917;6918;6919;6920;6921;6922;6923;6924;6925;6926;6927;6928;6929;6930;6931;6932;6933;6934;6935;6936;6937;6938;6939;6940;6941;6942;6943;6944;6945;6946;6947;6948;6949;6950;6951;6952;6953;6954;6955;6956;6957;6958;6959;6960;6961;6962;6963;6964;6965;6966;6967;6968;6969;6970;6971;6972;6973;6974;6975;6976;6977;6978;6979;6980;6981;6982;6983;6984;6985;6986;6987;6988;6989;6990;6991;6992;6993;6994;6995;6996;6997;6998;6999;7000;7001;7002;7003;7004;7005;7006;7007;7008;7009;7010;7011;7012;7013;7014;7015;7016;7017;7018;7019;7020;7021;7022;7023;7024;7025;7026;7027;7028;7029;7030;7031;7032;7033;7034;7035;7036;7037;7038;7039;7040;7041;7042;7043;7044;7045;7046;7047;7048;7049;7050;7051;7052;7053;7054;7055;7056;7057;7058;7059;7060;7061;7062;7063;7064;7065;7066;7067;7068;7069;7070;7071;7072;7073;7074;7075;7076;7077;7078;7079;7080;7081;7082;7083;7084;7085;7086;7087;7088;7089;7090;7091;7092;7093;7094;7095;7096;7097;7098;7099;7100;7101;7102;7103;7104;7105;7106;7107;7108;7109;7110;7111;7112;7113;7114;7115;7116;7117;7118;7119;7120;7121;7122;7123;7124;7125;7126;7127;7128;7129;7130;7131;7132;7133;7134;7135;7136;7137;7138;7139;7140;7141;7142;7143;7144;7145;7146;7147;7148;7149;7150;7151;7152;7153;7154;7155;7156;7157;7158;7159;7160;7161;7162;7163;7164;7165;7166;7167;7168;7169;7170;7171;7172;7173;7174;7175;7176;7177;7178;7179;7180;7181;7182;7183;7184;7185;7186;7187;7188;7189;7190;7191;7192;7193;7194;7195;7196;7197;7198;7199;7200;7201;7202;7203;7204;7205;7206;7207;7208;7209;7210;7211;7212;7213;7214;7215;7216;7217;7218;7219;7220;7221;7222;7223;7224;7225;7226;7227;7228;7229;7230;7231;7232;7233;7234;7235;7236;7237;7238;7239;7240;7241;7242;7243;7244;7245;7246;7247;7248;7249;7250;7251;7252;7253;7254;7255;7256;7257;7258;7259;7260;7261;7262;7263;7264;7265;7266;7267;7268;7269;7270;7271;7272;7273;7274;7275;7276;7277;7278;7279;7280;7281;7282;7283;7284;7285;7286;7287;7288;7289;7290;7291;7292;7293;7294;7295;7296;7297;7298;7299;7300;7301;7302;7303;7304;7305;7306;7307;7308;7309;7310;7311;7312;7313;7314;7315;7316;7317;7318;7319;7320;7321;7322;7323;7324;7325;7326;7327;7328;7329;7330;7331;7332;7333;7334;7335;7336;7337;7338;7339;7340;7341;7342;7343;7344;7345;7346;7347;7348;7349;7350;7351;7352;7353;7354;7355;7356;7357;7358;7359;7360;7361;7362;7363;7364;7365;7366;7367;7368;7369;7370;7371;7372;7373;7374;7375;7376;7377;7378;7379;7380;7381;7382;7383;7384;7385;7386;7387;7388;7389;7390;7391;7392;7393;7394;7395;7396;7397;7398;7399;7400;7401;7402;7403;7404;7405;7406;7407;7408;7409;7410;7411;7412;7413;7414;7415;7416;7417;7418;7419;7420;7421;7422;7423;7424;7425;7426;7427;7428;7429;7430;7431;7432;7433;7434;7435;7436;7437;7438;7439;7440;7441;7442;7443;7444;7445;7446;7447;7448;7449;7450;7451;7452;7453;7454;7455;7456;7457;7458;7459;7460;7461;7462;7463;7464;7465;7466;7467;7468;7469;7470;7471;7472;7473;7474;7475;7476;7477;7478;7479;7480;7481;7482;7483;7484;7485;7486;7487;7488;7489;7490;7491;7492;7493;7494;7495;7496;7497;7498;7499;7500;7501;7502;7503;7504;7505;7506;7507;7508;7509;7510;7511;7512;7513;7514;7515;7516;7517;7518;7519;7520;7521;7522;7523;7524;7525;7526;7527;7528;7529;7530;7531;7532;7533;7534;7535;7536;7537;7538;7539;7540;7541;7542;7543;7544;7545;7546;7547;7548;7549;7550;7551;7552;7553;7554;7555;7556;7557;7558;7559;7560;7561;7562;7563;7564;7565;7566;7567;7568;7569;7570;7571;7572;7573;7574;7575;7576;7577;7578;7579;7580;7581;7582;7583;7584;7585;7586;7587;7588;7589;7590;7591;7592;7593;7594;7595;7596;7597;7598;7599;7600;7601;7602;7603;7604;7605;7606;7607;7608;7609;7610;7611;7612;7613;7614;7615;7616;7617;7618;7619;7620;7621;7622;7623;7624;7625;7626;7627;7628;7629;7630;7631;7632;7633;7634;7635;7636;7637;7638;7639;7640;7641;7642;7643;7644;7645;7646;7647;7648;7649;7650;7651;7652;7653;7654;7655;7656;7657;7658;7659;7660;7661;7662;7663;7664;7665;7666;7667;7668;7669;7670;7671;7672;7673;7674;7675;7676;7677;7678;7679;7680;7681;7682;7683;7684;7685;7686;7687;7688;7689;7690;7691;7692;7693;7694;7695;7696;7697;7698;7699;7700;7701;7702;7703;7704;7705;7706;7707;7708;7709;7710;7711;7712;7713;7714;7715;7716;7717;7718;7719;7720;7721;7722;7723;7724;7725;7726;7727;7728;7729;7730;7731;7732;7733;7734;7735;7736;7737;7738;7739;7740;7741;7742;7743;7744;7745;7746;7747;7748;7749;7750;7751;7752;7753;7754;7755;7756;7757;7758;7759;7760;7761;7762;7763;7764;7765;7766;7767;7768;7769;7770;7771;7772;7773;7774;7775;7776;7777;7778;7779;7780;7781;7782;7783;7784;7785;7786;7787;7788;7789;7790;7791;7792;7793;7794;7795;7796;7797;7798;7799;7800;7801;7802;7803;7804;7805;7806;7807;7808;7809;7810;7811;7812;7813;7814;7815;7816;7817;7818;7819;7820;7821;7822;7823;7824;7825;7826;7827;7828;7829;7830;7831;7832;7833;7834;7835;7836;7837;7838;7839;7840;7841;7842;7843;7844;7845;7846;7847;7848;7849;7850;7851;7852;7853;7854;7855;7856;7857;7858;7859;7860;7861;7862;7863;7864;7865;7866;7867;7868;7869;7870;7871;7872;7873;7874;7875;7876;7877;7878;7879;7880;7881;7882;7883;7884;7885;7886;7887;7888;7889;7890;7891;7892;7893;7894;7895;7896;7897;7898;7899;7900;7901;7902;7903;7904;7905;7906;7907;7908;7909;7910;7911;7912;7913;7914;7915;7916;7917;7918;7919;7920;7921;7922;7923;7924;7925;7926;7927;7928;7929;7930;7931;7932;7933;7934;7935;7936;7937;7938;7939;7940;7941;7942;7943;7944;7945;7946;7947;7948;7949;7950;7951;7952;7953;7954;7955;7956;7957;7958;7959;7960;7961;7962;7963;7964;7965;7966;7967;7968;7969;7970;7971;7972;7973;7974;7975;7976;7977;7978;7979;7980;7981;7982;7983;7984;7985;7986;7987;7988;7989;7990;7991;7992;7993;7994;7995;7996;7997;7998;7999;8000;8001;8002;8003;8004;8005;8006;8007;8008;8009;8010;8011;8012;8013;8014;8015;8016;8017;8018;8019;8020;8021;8022;8023;8024;8025;8026;8027;8028;8029;8030;8031;8032;8033;8034;8035;8036;8037;8038;8039;8040;8041;8042;8043;8044;8045;8046;8047;8048;8049;8050;8051;8052;8053;8054;8055;8056;8057;8058;8059;8060;8061;8062;8063;8064;8065;8066;8067;8068;8069;8070;8071;8072;8073;8074;8075;8076;8077;8078;8079;8080;8081;8082;8083;8084;8085;8086;8087;8088;8089;8090;8091;8092;8093;8094;8095;8096;8097;8098;8099;8100;8101;8102;8103;8104;8105;8106;8107;8108;8109;8110;8111;8112;8113;8114;8115;8116;8117;8118;8119;8120;8121;8122;8123;8124;8125;8126;8127;8128;8129;8130;8131;8132;8133;8134;8135;8136;8137;8138;8139;8140;8141;8142;8143;8144;8145;8146;8147;8148;8149;8150;8151;8152;8153;8154;8155;8156;8157;8158;8159;8160;8161;8162;8163;8164;8165;8166;8167;8168;8169;8170;8171;8172;8173;8174;8175;8176;8177;8178;8179;8180;8181;8182;8183;8184;8185;8186;8187;8188;8189;8190;8191;8192;8193;8194;8195;8196;8197;8198;8199;8200;8201;8202;8203;8204;8205;8206;8207;8208;8209;8210;8211;8212;8213;8214;8215;8216;8217;8218;8219;8220;8221;8222;8223;8224;8225;8226;8227;8228;8229;8230;8231;8232;8233;8234;8235;8236;8237;8238;8239;8240;8241;8242;8243;8244;8245;8246;8247;8248;8249;8250;8251;8252;8253;8254;8255;8256;8257;8258;8259;8260;8261;8262;8263;8264;8265;8266;8267;8268;8269;8270;8271;8272;8273;8274;8275;8276;8277;8278;8279;8280;8281;8282;8283;8284;8285;8286;8287;8288;8289;8290;8291;8292;8293;8294;8295;8296;8297;8298;8299;8300;8301;8302;8303;8304;8305;8306;8307;8308;8309;8310;8311;8312;8313;8314;8315;8316;8317;8318;8319;8320;8321;8322;8323;8324;8325;8326;8327;8328;8329;8330;8331;8332;8333;8334;8335;8336;8337;8338;8339;8340;8341;8342;8343;8344;8345;8346;8347;8348;8349;8350;8351;8352;8353;8354;8355;8356;8357;8358;8359;8360;8361;8362;8363;8364;8365;8366;8367;8368;8369;8370;8371;8372;8373;8374;8375;8376;8377;8378;8379;8380;8381;8382;8383;8384;8385;8386;8387;8388;8389;8390;8391;8392;8393;8394;8395;8396;8397;8398;8399;8400;8401;8402;8403;8404;8405;8406;8407;8408;8409;8410;8411;8412;8413;8414;8415;8416;8417;8418;8419;8420;8421;8422;8423;8424;8425;8426;8427;8428;8429;8430;8431;8432;8433;8434;8435;8436;8437;8438;8439;8440;8441;8442;8443;8444;8445;8446;8447;8448;8449;8450;8451;8452;8453;8454;8455;8456;8457;8458;8459;8460;8461;8462;8463;8464;8465;8466;8467;8468;8469;8470;8471;8472;8473;8474;8475;8476;8477;8478;8479;8480;8481;8482;8483;8484;8485;8486;8487;8488;8489;8490;8491;8492;8493;8494;8495;8496;8497;8498;8499;8500;8501;8502;8503;8504;8505;8506;8507;8508;8509;8510;8511;8512;8513;8514;8515;8516;8517;8518;8519;8520;8521;8522;8523;8524;8525;8526;8527;8528;8529;8530;8531;8532;8533;8534;8535;8536;8537;8538;8539;8540;8541;8542;8543;8544;8545;8546;8547;8548;8549;8550;8551;8552;8553;8554;8555;8556;8557;8558;8559;8560;8561;8562;8563;8564;8565;8566;8567;8568;8569;8570;8571;8572;8573;8574;8575;8576;8577;8578;8579;8580;8581;8582;8583;8584;8585;8586;8587;8588;8589;8590;8591;8592;8593;8594;8595;8596;8597;8598;8599;8600;8601;8602;8603;8604;8605;8606;8607;8608;8609;8610;8611;8612;8613;8614;8615;8616;8617;8618;8619;8620;8621;8622;8623;8624;8625;8626;8627;8628;8629;8630;8631;8632;8633;8634;8635;8636;8637;8638;8639;8640;8641;8642;8643;8644;8645;8646;8647;8648;8649;8650;8651;8652;8653;8654;8655;8656;8657;8658;8659;8660;8661;8662;8663;8664;8665;8666;8667;8668;8669;8670;8671;8672;8673;8674;8675;8676;8677;8678;8679;8680;8681;8682;8683;8684;8685;8686;8687;8688;8689;8690;8691;8692;8693;8694;8695;8696;8697;8698;8699;8700;8701;8702;8703;8704;8705;8706;8707;8708;8709;8710;8711;8712;8713;8714;8715;8716;8717;8718;8719;8720;8721;8722;8723;8724;8725;8726;8727;8728;8729;8730;8731;8732;8733;8734;8735;8736;8737;8738;8739;8740;8741;8742;8743;8744;8745;8746;8747;8748;8749;8750;8751;8752;8753;8754;8755;8756;8757;8758;8759;8760;8761;8762;8763;8764;8765;8766;8767;8768;8769;8770;8771;8772;8773;8774;8775;8776;8777;8778;8779;8780;8781;8782;8783;8784;8785;8786;8787;8788;8789;8790;8791;8792;8793;8794;8795;8796;8797;8798;8799;8800;8801;8802;8803;8804;8805;8806;8807;8808;8809;8810;8811;8812;8813;8814;8815;8816;8817;8818;8819;8820;8821;8822;8823;8824;8825;8826;8827;8828;8829;8830;8831;8832;8833;8834;8835;8836;8837;8838;8839;8840;8841;8842;8843;8844;8845;8846;8847;8848;8849;8850;8851;8852;8853;8854;8855;8856;8857;8858;8859;8860;8861;8862;8863;8864;8865;8866;8867;8868;8869;8870;8871;8872;8873;8874;8875;8876;8877;8878;8879;8880;8881;8882;8883;8884;8885;8886;8887;8888;8889;8890;8891;8892;8893;8894;8895;8896;8897;8898;8899;8900;8901;8902;8903;8904;8905;8906;8907;8908;8909;8910;8911;8912;8913;8914;8915;8916;8917;8918;8919;8920;8921;8922;8923;8924;8925;8926;8927;8928;8929;8930;8931;8932;8933;8934;8935;8936;8937;8938;8939;8940;8941;8942;8943;8944;8945;8946;8947;8948;8949;8950;8951;8952;8953;8954;8955;8956;8957;8958;8959;8960;8961;8962;8963;8964;8965;8966;8967;8968;8969;8970;8971;8972;8973;8974;8975;8976;8977;8978;8979;8980;8981;8982;8983;8984;8985;8986;8987;8988;8989;8990;8991;8992;8993;8994;8995;8996;8997;8998;8999;9000;9001;9002;9003;9004;9005;9006;9007;9008;9009;9010;9011;9012;9013;9014;9015;9016;9017;9018;9019;9020;9021;9022;9023;9024;9025;9026;9027;9028;9029;9030;9031;9032;9033;9034;9035;9036;9037;9038;9039;9040;9041;9042;9043;9044;9045;9046;9047;9048;9049;9050;9051;9052;9053;9054;9055;9056;9057;9058;9059;9060;9061;9062;9063;9064;9065;9066;9067;9068;9069;9070;9071;9072;9073;9074;9075;9076;9077;9078;9079;9080;9081;9082;9083;9084;9085;9086;9087;9088;9089;9090;9091;9092;9093;9094;9095;9096;9097;9098;9099;9100;9101;9102;9103;9104;9105;9106;9107;9108;9109;9110;9111;9112;9113;9114;9115;9116;9117;9118;9119;9120;9121;9122;9123;9124;9125;9126;9127;9128;9129;9130;9131;9132;9133;9134;9135;9136;9137;9138;9139;9140;9141;9142;9143;9144;9145;9146;9147;9148;9149;9150;9151;9152;9153;9154;9155;9156;9157;9158;9159;9160;9161;9162;9163;9164;9165;9166;9167;9168;9169;9170;9171;9172;9173;9174;9175;9176;9177;9178;9179;9180;9181;9182;9183;9184;9185;9186;9187;9188;9189;9190;9191;9192;9193;9194;9195;9196;9197;9198;9199;9200;9201;9202;9203;9204;9205;9206;9207;9208;9209;9210;9211;9212;9213;9214;9215;9216;9217;9218;9219;9220;9221;9222;9223;9224;9225;9226;9227;9228;9229;9230;9231;9232;9233;9234;9235;9236;9237;9238;9239;9240;9241;9242;9243;9244;9245;9246;9247;9248;9249;9250;9251;9252;9253;9254;9255;9256;9257;9258;9259;9260;9261;9262;9263;9264;9265;9266;9267;9268;9269;9270;9271;9272;9273;9274;9275;9276;9277;9278;9279;9280;9281;9282;9283;9284;9285;9286;9287;9288;9289;9290;9291;9292;9293;9294;9295;9296;9297;9298;9299;9300;9301;9302;9303;9304;9305;9306;9307;9308;9309;9310;9311;9312;9313;9314;9315;9316;9317;9318;9319;9320;9321;9322;9323;9324;9325;9326;9327;9328;9329;9330;9331;9332;9333;9334;9335;9336;9337;9338;9339;9340;9341;9342;9343;9344;9345;9346;9347;9348;9349;9350;9351;9352;9353;9354;9355;9356;9357;9358;9359;9360;9361;9362;9363;9364;9365;9366;9367;9368;9369;9370;9371;9372;9373;9374;9375;9376;9377;9378;9379;9380;9381;9382;9383;9384;9385;9386;9387;9388;9389;9390;9391;9392;9393;9394;9395;9396;9397;9398;9399;9400;9401;9402;9403;9404;9405;9406;9407;9408;9409;9410;9411;9412;9413;9414;9415;9416;9417;9418;9419;9420;9421;9422;9423;9424;9425;9426;9427;9428;9429;9430;9431;9432;9433;9434;9435;9436;9437;9438;9439;9440;9441;9442;9443;9444;9445;9446;9447;9448;9449;9450;9451;9452;9453;9454;9455;9456;9457;9458;9459;9460;9461;9462;9463;9464;9465;9466;9467;9468;9469;9470;9471;9472;9473;9474;9475;9476;9477;9478;9479;9480;9481;9482;9483;9484;9485;9486;9487;9488;9489;9490;9491;9492;9493;9494;9495;9496;9497;9498;9499;9500;9501;9502;9503;9504;9505;9506;9507;9508;9509;9510;9511;9512;9513;9514;9515;9516;9517;9518;9519;9520;9521;9522;9523;9524;9525;9526;9527;9528;9529;9530;9531;9532;9533;9534;9535;9536;9537;9538;9539;9540;9541;9542;9543;9544;9545;9546;9547;9548;9549;9550;9551;9552;9553;9554;9555;9556;9557;9558;9559;9560;9561;9562;9563;9564;9565;9566;9567;9568;9569;9570;9571;9572;9573;9574;9575;9576;9577;9578;9579;9580;9581;9582;9583;9584;9585;9586;9587;9588;9589;9590;9591;9592;9593;9594;9595;9596;9597;9598;9599;9600;9601;9602;9603;9604;9605;9606;9607;9608;9609;9610;9611;9612;9613;9614;9615;9616;9617;9618;9619;9620;9621;9622;9623;9624;9625;9626;9627;9628;9629;9630;9631;9632;9633;9634;9635;9636;9637;9638;9639;9640;9641;9642;9643;9644;9645;9646;9647;9648;9649;9650;9651;9652;9653;9654;9655;9656;9657;9658;9659;9660;9661;9662;9663;9664;9665;9666;9667;9668;9669;9670;9671;9672;9673;9674;9675;9676;9677;9678;9679;9680;9681;9682;9683;9684;9685;9686;9687;9688;9689;9690;9691;9692;9693;9694;9695;9696;9697;9698;9699;9700;9701;9702;9703;9704;9705;9706;9707;9708;9709;9710;9711;9712;9713;9714;9715;9716;9717;9718;9719;9720;9721;9722;9723;9724;9725;9726;9727;9728;9729;9730;9731;9732;9733;9734;9735;9736;9737;9738;9739;9740;9741;9742;9743;9744;9745;9746;9747;9748;9749;9750;9751;9752;9753;9754;9755;9756;9757;9758;9759;9760;9761;9762;9763;9764;9765;9766;9767;9768;9769;9770;9771;9772;9773;9774;9775;9776;9777;9778;9779;9780;9781;9782;9783;9784;9785;9786;9787;9788;9789;9790;9791;9792;9793;9794;9795;9796;9797;9798;9799;9800;9801;9802;9803;9804;9805;9806;9807;9808;9809;9810;9811;9812;9813;9814;9815;9816;9817;9818;9819;9820;9821;9822;9823;9824;9825;9826;9827;9828;9829;9830;9831;9832;9833;9834;9835;9836;9837;9838;9839;9840;9841;9842;9843;9844;9845;9846;9847;9848;9849;9850;9851;9852;9853;9854;9855;9856;9857;9858;9859;9860;9861;9862;9863;9864;9865;9866;9867;9868;9869;9870;9871;9872;9873;9874;9875;9876;9877;9878;9879;9880;9881;9882;9883;9884;9885;9886;9887;9888;9889;9890;9891;9892;9893;9894;9895;9896;9897;9898;9899;9900;9901;9902;9903;9904;9905;9906;9907;9908;9909;9910;9911;9912;9913;9914;9915;9916;9917;9918;9919;9920;9921;9922;9923;9924;9925;9926;9927;9928;9929;9930;9931;9932;9933;9934;9935;9936;9937;9938;9939;9940;9941;9942;9943;9944;9945;9946;9947;9948;9949;9950;9951;9952;9953;9954;9955;9956;9957;9958;9959;9960;9961;9962;9963;9964;9965;9966;9967;9968;9969;9970;9971;9972;9973;9974;9975;9976;9977;9978;9979;9980;9981;9982;9983;9984;9985;9986;9987;9988;9989;9990;9991;9992;9993;9994;9995;9996;9997;9998;9999;10000;"
          ]
        }
      ]
    },
    {
      "cell_type": "markdown",
      "source": [
        "* map()에서 함수를 지정할 때 lambda 함수를 쓰는 것도 가능하다."
      ],
      "metadata": {
        "id": "6DYALGNzuJQP"
      }
    },
    {
      "cell_type": "code",
      "source": [
        "print(*map(lambda x:-x, myList)) # *를 이용해서 map객체의 캡슐을 제거하고 값들의 리스트를 가져와서 출력"
      ],
      "metadata": {
        "colab": {
          "base_uri": "https://localhost:8080/"
        },
        "id": "h9Bao9GXuonO",
        "outputId": "7a21f6f1-1d2c-4ee1-ae64-35dc2ebd77ef"
      },
      "execution_count": null,
      "outputs": [
        {
          "output_type": "stream",
          "name": "stdout",
          "text": [
            "0 -1 -2 -3 -4 -5 -6 -7 -8 -9 -10 -11 -12 -13 -14 -15 -16 -17 -18 -19 -20 -21 -22 -23 -24 -25 -26 -27 -28 -29 -30 -31 -32 -33 -34 -35 -36 -37 -38 -39 -40 -41 -42 -43 -44 -45 -46 -47 -48 -49 -50 -51 -52 -53 -54 -55 -56 -57 -58 -59 -60 -61 -62 -63 -64 -65 -66 -67 -68 -69 -70 -71 -72 -73 -74 -75 -76 -77 -78 -79 -80 -81 -82 -83 -84 -85 -86 -87 -88 -89 -90 -91 -92 -93 -94 -95 -96 -97 -98 -99 -100 -101 -102 -103 -104 -105 -106 -107 -108 -109 -110 -111 -112 -113 -114 -115 -116 -117 -118 -119 -120 -121 -122 -123 -124 -125 -126 -127 -128 -129 -130 -131 -132 -133 -134 -135 -136 -137 -138 -139 -140 -141 -142 -143 -144 -145 -146 -147 -148 -149 -150 -151 -152 -153 -154 -155 -156 -157 -158 -159 -160 -161 -162 -163 -164 -165 -166 -167 -168 -169 -170 -171 -172 -173 -174 -175 -176 -177 -178 -179 -180 -181 -182 -183 -184 -185 -186 -187 -188 -189 -190 -191 -192 -193 -194 -195 -196 -197 -198 -199 -200 -201 -202 -203 -204 -205 -206 -207 -208 -209 -210 -211 -212 -213 -214 -215 -216 -217 -218 -219 -220 -221 -222 -223 -224 -225 -226 -227 -228 -229 -230 -231 -232 -233 -234 -235 -236 -237 -238 -239 -240 -241 -242 -243 -244 -245 -246 -247 -248 -249 -250 -251 -252 -253 -254 -255 -256 -257 -258 -259 -260 -261 -262 -263 -264 -265 -266 -267 -268 -269 -270 -271 -272 -273 -274 -275 -276 -277 -278 -279 -280 -281 -282 -283 -284 -285 -286 -287 -288 -289 -290 -291 -292 -293 -294 -295 -296 -297 -298 -299 -300 -301 -302 -303 -304 -305 -306 -307 -308 -309 -310 -311 -312 -313 -314 -315 -316 -317 -318 -319 -320 -321 -322 -323 -324 -325 -326 -327 -328 -329 -330 -331 -332 -333 -334 -335 -336 -337 -338 -339 -340 -341 -342 -343 -344 -345 -346 -347 -348 -349 -350 -351 -352 -353 -354 -355 -356 -357 -358 -359 -360 -361 -362 -363 -364 -365 -366 -367 -368 -369 -370 -371 -372 -373 -374 -375 -376 -377 -378 -379 -380 -381 -382 -383 -384 -385 -386 -387 -388 -389 -390 -391 -392 -393 -394 -395 -396 -397 -398 -399 -400 -401 -402 -403 -404 -405 -406 -407 -408 -409 -410 -411 -412 -413 -414 -415 -416 -417 -418 -419 -420 -421 -422 -423 -424 -425 -426 -427 -428 -429 -430 -431 -432 -433 -434 -435 -436 -437 -438 -439 -440 -441 -442 -443 -444 -445 -446 -447 -448 -449 -450 -451 -452 -453 -454 -455 -456 -457 -458 -459 -460 -461 -462 -463 -464 -465 -466 -467 -468 -469 -470 -471 -472 -473 -474 -475 -476 -477 -478 -479 -480 -481 -482 -483 -484 -485 -486 -487 -488 -489 -490 -491 -492 -493 -494 -495 -496 -497 -498 -499 -500 -501 -502 -503 -504 -505 -506 -507 -508 -509 -510 -511 -512 -513 -514 -515 -516 -517 -518 -519 -520 -521 -522 -523 -524 -525 -526 -527 -528 -529 -530 -531 -532 -533 -534 -535 -536 -537 -538 -539 -540 -541 -542 -543 -544 -545 -546 -547 -548 -549 -550 -551 -552 -553 -554 -555 -556 -557 -558 -559 -560 -561 -562 -563 -564 -565 -566 -567 -568 -569 -570 -571 -572 -573 -574 -575 -576 -577 -578 -579 -580 -581 -582 -583 -584 -585 -586 -587 -588 -589 -590 -591 -592 -593 -594 -595 -596 -597 -598 -599 -600 -601 -602 -603 -604 -605 -606 -607 -608 -609 -610 -611 -612 -613 -614 -615 -616 -617 -618 -619 -620 -621 -622 -623 -624 -625 -626 -627 -628 -629 -630 -631 -632 -633 -634 -635 -636 -637 -638 -639 -640 -641 -642 -643 -644 -645 -646 -647 -648 -649 -650 -651 -652 -653 -654 -655 -656 -657 -658 -659 -660 -661 -662 -663 -664 -665 -666 -667 -668 -669 -670 -671 -672 -673 -674 -675 -676 -677 -678 -679 -680 -681 -682 -683 -684 -685 -686 -687 -688 -689 -690 -691 -692 -693 -694 -695 -696 -697 -698 -699 -700 -701 -702 -703 -704 -705 -706 -707 -708 -709 -710 -711 -712 -713 -714 -715 -716 -717 -718 -719 -720 -721 -722 -723 -724 -725 -726 -727 -728 -729 -730 -731 -732 -733 -734 -735 -736 -737 -738 -739 -740 -741 -742 -743 -744 -745 -746 -747 -748 -749 -750 -751 -752 -753 -754 -755 -756 -757 -758 -759 -760 -761 -762 -763 -764 -765 -766 -767 -768 -769 -770 -771 -772 -773 -774 -775 -776 -777 -778 -779 -780 -781 -782 -783 -784 -785 -786 -787 -788 -789 -790 -791 -792 -793 -794 -795 -796 -797 -798 -799 -800 -801 -802 -803 -804 -805 -806 -807 -808 -809 -810 -811 -812 -813 -814 -815 -816 -817 -818 -819 -820 -821 -822 -823 -824 -825 -826 -827 -828 -829 -830 -831 -832 -833 -834 -835 -836 -837 -838 -839 -840 -841 -842 -843 -844 -845 -846 -847 -848 -849 -850 -851 -852 -853 -854 -855 -856 -857 -858 -859 -860 -861 -862 -863 -864 -865 -866 -867 -868 -869 -870 -871 -872 -873 -874 -875 -876 -877 -878 -879 -880 -881 -882 -883 -884 -885 -886 -887 -888 -889 -890 -891 -892 -893 -894 -895 -896 -897 -898 -899 -900 -901 -902 -903 -904 -905 -906 -907 -908 -909 -910 -911 -912 -913 -914 -915 -916 -917 -918 -919 -920 -921 -922 -923 -924 -925 -926 -927 -928 -929 -930 -931 -932 -933 -934 -935 -936 -937 -938 -939 -940 -941 -942 -943 -944 -945 -946 -947 -948 -949 -950 -951 -952 -953 -954 -955 -956 -957 -958 -959 -960 -961 -962 -963 -964 -965 -966 -967 -968 -969 -970 -971 -972 -973 -974 -975 -976 -977 -978 -979 -980 -981 -982 -983 -984 -985 -986 -987 -988 -989 -990 -991 -992 -993 -994 -995 -996 -997 -998 -999 -1000 -1001 -1002 -1003 -1004 -1005 -1006 -1007 -1008 -1009 -1010 -1011 -1012 -1013 -1014 -1015 -1016 -1017 -1018 -1019 -1020 -1021 -1022 -1023 -1024 -1025 -1026 -1027 -1028 -1029 -1030 -1031 -1032 -1033 -1034 -1035 -1036 -1037 -1038 -1039 -1040 -1041 -1042 -1043 -1044 -1045 -1046 -1047 -1048 -1049 -1050 -1051 -1052 -1053 -1054 -1055 -1056 -1057 -1058 -1059 -1060 -1061 -1062 -1063 -1064 -1065 -1066 -1067 -1068 -1069 -1070 -1071 -1072 -1073 -1074 -1075 -1076 -1077 -1078 -1079 -1080 -1081 -1082 -1083 -1084 -1085 -1086 -1087 -1088 -1089 -1090 -1091 -1092 -1093 -1094 -1095 -1096 -1097 -1098 -1099 -1100 -1101 -1102 -1103 -1104 -1105 -1106 -1107 -1108 -1109 -1110 -1111 -1112 -1113 -1114 -1115 -1116 -1117 -1118 -1119 -1120 -1121 -1122 -1123 -1124 -1125 -1126 -1127 -1128 -1129 -1130 -1131 -1132 -1133 -1134 -1135 -1136 -1137 -1138 -1139 -1140 -1141 -1142 -1143 -1144 -1145 -1146 -1147 -1148 -1149 -1150 -1151 -1152 -1153 -1154 -1155 -1156 -1157 -1158 -1159 -1160 -1161 -1162 -1163 -1164 -1165 -1166 -1167 -1168 -1169 -1170 -1171 -1172 -1173 -1174 -1175 -1176 -1177 -1178 -1179 -1180 -1181 -1182 -1183 -1184 -1185 -1186 -1187 -1188 -1189 -1190 -1191 -1192 -1193 -1194 -1195 -1196 -1197 -1198 -1199 -1200 -1201 -1202 -1203 -1204 -1205 -1206 -1207 -1208 -1209 -1210 -1211 -1212 -1213 -1214 -1215 -1216 -1217 -1218 -1219 -1220 -1221 -1222 -1223 -1224 -1225 -1226 -1227 -1228 -1229 -1230 -1231 -1232 -1233 -1234 -1235 -1236 -1237 -1238 -1239 -1240 -1241 -1242 -1243 -1244 -1245 -1246 -1247 -1248 -1249 -1250 -1251 -1252 -1253 -1254 -1255 -1256 -1257 -1258 -1259 -1260 -1261 -1262 -1263 -1264 -1265 -1266 -1267 -1268 -1269 -1270 -1271 -1272 -1273 -1274 -1275 -1276 -1277 -1278 -1279 -1280 -1281 -1282 -1283 -1284 -1285 -1286 -1287 -1288 -1289 -1290 -1291 -1292 -1293 -1294 -1295 -1296 -1297 -1298 -1299 -1300 -1301 -1302 -1303 -1304 -1305 -1306 -1307 -1308 -1309 -1310 -1311 -1312 -1313 -1314 -1315 -1316 -1317 -1318 -1319 -1320 -1321 -1322 -1323 -1324 -1325 -1326 -1327 -1328 -1329 -1330 -1331 -1332 -1333 -1334 -1335 -1336 -1337 -1338 -1339 -1340 -1341 -1342 -1343 -1344 -1345 -1346 -1347 -1348 -1349 -1350 -1351 -1352 -1353 -1354 -1355 -1356 -1357 -1358 -1359 -1360 -1361 -1362 -1363 -1364 -1365 -1366 -1367 -1368 -1369 -1370 -1371 -1372 -1373 -1374 -1375 -1376 -1377 -1378 -1379 -1380 -1381 -1382 -1383 -1384 -1385 -1386 -1387 -1388 -1389 -1390 -1391 -1392 -1393 -1394 -1395 -1396 -1397 -1398 -1399 -1400 -1401 -1402 -1403 -1404 -1405 -1406 -1407 -1408 -1409 -1410 -1411 -1412 -1413 -1414 -1415 -1416 -1417 -1418 -1419 -1420 -1421 -1422 -1423 -1424 -1425 -1426 -1427 -1428 -1429 -1430 -1431 -1432 -1433 -1434 -1435 -1436 -1437 -1438 -1439 -1440 -1441 -1442 -1443 -1444 -1445 -1446 -1447 -1448 -1449 -1450 -1451 -1452 -1453 -1454 -1455 -1456 -1457 -1458 -1459 -1460 -1461 -1462 -1463 -1464 -1465 -1466 -1467 -1468 -1469 -1470 -1471 -1472 -1473 -1474 -1475 -1476 -1477 -1478 -1479 -1480 -1481 -1482 -1483 -1484 -1485 -1486 -1487 -1488 -1489 -1490 -1491 -1492 -1493 -1494 -1495 -1496 -1497 -1498 -1499 -1500 -1501 -1502 -1503 -1504 -1505 -1506 -1507 -1508 -1509 -1510 -1511 -1512 -1513 -1514 -1515 -1516 -1517 -1518 -1519 -1520 -1521 -1522 -1523 -1524 -1525 -1526 -1527 -1528 -1529 -1530 -1531 -1532 -1533 -1534 -1535 -1536 -1537 -1538 -1539 -1540 -1541 -1542 -1543 -1544 -1545 -1546 -1547 -1548 -1549 -1550 -1551 -1552 -1553 -1554 -1555 -1556 -1557 -1558 -1559 -1560 -1561 -1562 -1563 -1564 -1565 -1566 -1567 -1568 -1569 -1570 -1571 -1572 -1573 -1574 -1575 -1576 -1577 -1578 -1579 -1580 -1581 -1582 -1583 -1584 -1585 -1586 -1587 -1588 -1589 -1590 -1591 -1592 -1593 -1594 -1595 -1596 -1597 -1598 -1599 -1600 -1601 -1602 -1603 -1604 -1605 -1606 -1607 -1608 -1609 -1610 -1611 -1612 -1613 -1614 -1615 -1616 -1617 -1618 -1619 -1620 -1621 -1622 -1623 -1624 -1625 -1626 -1627 -1628 -1629 -1630 -1631 -1632 -1633 -1634 -1635 -1636 -1637 -1638 -1639 -1640 -1641 -1642 -1643 -1644 -1645 -1646 -1647 -1648 -1649 -1650 -1651 -1652 -1653 -1654 -1655 -1656 -1657 -1658 -1659 -1660 -1661 -1662 -1663 -1664 -1665 -1666 -1667 -1668 -1669 -1670 -1671 -1672 -1673 -1674 -1675 -1676 -1677 -1678 -1679 -1680 -1681 -1682 -1683 -1684 -1685 -1686 -1687 -1688 -1689 -1690 -1691 -1692 -1693 -1694 -1695 -1696 -1697 -1698 -1699 -1700 -1701 -1702 -1703 -1704 -1705 -1706 -1707 -1708 -1709 -1710 -1711 -1712 -1713 -1714 -1715 -1716 -1717 -1718 -1719 -1720 -1721 -1722 -1723 -1724 -1725 -1726 -1727 -1728 -1729 -1730 -1731 -1732 -1733 -1734 -1735 -1736 -1737 -1738 -1739 -1740 -1741 -1742 -1743 -1744 -1745 -1746 -1747 -1748 -1749 -1750 -1751 -1752 -1753 -1754 -1755 -1756 -1757 -1758 -1759 -1760 -1761 -1762 -1763 -1764 -1765 -1766 -1767 -1768 -1769 -1770 -1771 -1772 -1773 -1774 -1775 -1776 -1777 -1778 -1779 -1780 -1781 -1782 -1783 -1784 -1785 -1786 -1787 -1788 -1789 -1790 -1791 -1792 -1793 -1794 -1795 -1796 -1797 -1798 -1799 -1800 -1801 -1802 -1803 -1804 -1805 -1806 -1807 -1808 -1809 -1810 -1811 -1812 -1813 -1814 -1815 -1816 -1817 -1818 -1819 -1820 -1821 -1822 -1823 -1824 -1825 -1826 -1827 -1828 -1829 -1830 -1831 -1832 -1833 -1834 -1835 -1836 -1837 -1838 -1839 -1840 -1841 -1842 -1843 -1844 -1845 -1846 -1847 -1848 -1849 -1850 -1851 -1852 -1853 -1854 -1855 -1856 -1857 -1858 -1859 -1860 -1861 -1862 -1863 -1864 -1865 -1866 -1867 -1868 -1869 -1870 -1871 -1872 -1873 -1874 -1875 -1876 -1877 -1878 -1879 -1880 -1881 -1882 -1883 -1884 -1885 -1886 -1887 -1888 -1889 -1890 -1891 -1892 -1893 -1894 -1895 -1896 -1897 -1898 -1899 -1900 -1901 -1902 -1903 -1904 -1905 -1906 -1907 -1908 -1909 -1910 -1911 -1912 -1913 -1914 -1915 -1916 -1917 -1918 -1919 -1920 -1921 -1922 -1923 -1924 -1925 -1926 -1927 -1928 -1929 -1930 -1931 -1932 -1933 -1934 -1935 -1936 -1937 -1938 -1939 -1940 -1941 -1942 -1943 -1944 -1945 -1946 -1947 -1948 -1949 -1950 -1951 -1952 -1953 -1954 -1955 -1956 -1957 -1958 -1959 -1960 -1961 -1962 -1963 -1964 -1965 -1966 -1967 -1968 -1969 -1970 -1971 -1972 -1973 -1974 -1975 -1976 -1977 -1978 -1979 -1980 -1981 -1982 -1983 -1984 -1985 -1986 -1987 -1988 -1989 -1990 -1991 -1992 -1993 -1994 -1995 -1996 -1997 -1998 -1999 -2000 -2001 -2002 -2003 -2004 -2005 -2006 -2007 -2008 -2009 -2010 -2011 -2012 -2013 -2014 -2015 -2016 -2017 -2018 -2019 -2020 -2021 -2022 -2023 -2024 -2025 -2026 -2027 -2028 -2029 -2030 -2031 -2032 -2033 -2034 -2035 -2036 -2037 -2038 -2039 -2040 -2041 -2042 -2043 -2044 -2045 -2046 -2047 -2048 -2049 -2050 -2051 -2052 -2053 -2054 -2055 -2056 -2057 -2058 -2059 -2060 -2061 -2062 -2063 -2064 -2065 -2066 -2067 -2068 -2069 -2070 -2071 -2072 -2073 -2074 -2075 -2076 -2077 -2078 -2079 -2080 -2081 -2082 -2083 -2084 -2085 -2086 -2087 -2088 -2089 -2090 -2091 -2092 -2093 -2094 -2095 -2096 -2097 -2098 -2099 -2100 -2101 -2102 -2103 -2104 -2105 -2106 -2107 -2108 -2109 -2110 -2111 -2112 -2113 -2114 -2115 -2116 -2117 -2118 -2119 -2120 -2121 -2122 -2123 -2124 -2125 -2126 -2127 -2128 -2129 -2130 -2131 -2132 -2133 -2134 -2135 -2136 -2137 -2138 -2139 -2140 -2141 -2142 -2143 -2144 -2145 -2146 -2147 -2148 -2149 -2150 -2151 -2152 -2153 -2154 -2155 -2156 -2157 -2158 -2159 -2160 -2161 -2162 -2163 -2164 -2165 -2166 -2167 -2168 -2169 -2170 -2171 -2172 -2173 -2174 -2175 -2176 -2177 -2178 -2179 -2180 -2181 -2182 -2183 -2184 -2185 -2186 -2187 -2188 -2189 -2190 -2191 -2192 -2193 -2194 -2195 -2196 -2197 -2198 -2199 -2200 -2201 -2202 -2203 -2204 -2205 -2206 -2207 -2208 -2209 -2210 -2211 -2212 -2213 -2214 -2215 -2216 -2217 -2218 -2219 -2220 -2221 -2222 -2223 -2224 -2225 -2226 -2227 -2228 -2229 -2230 -2231 -2232 -2233 -2234 -2235 -2236 -2237 -2238 -2239 -2240 -2241 -2242 -2243 -2244 -2245 -2246 -2247 -2248 -2249 -2250 -2251 -2252 -2253 -2254 -2255 -2256 -2257 -2258 -2259 -2260 -2261 -2262 -2263 -2264 -2265 -2266 -2267 -2268 -2269 -2270 -2271 -2272 -2273 -2274 -2275 -2276 -2277 -2278 -2279 -2280 -2281 -2282 -2283 -2284 -2285 -2286 -2287 -2288 -2289 -2290 -2291 -2292 -2293 -2294 -2295 -2296 -2297 -2298 -2299 -2300 -2301 -2302 -2303 -2304 -2305 -2306 -2307 -2308 -2309 -2310 -2311 -2312 -2313 -2314 -2315 -2316 -2317 -2318 -2319 -2320 -2321 -2322 -2323 -2324 -2325 -2326 -2327 -2328 -2329 -2330 -2331 -2332 -2333 -2334 -2335 -2336 -2337 -2338 -2339 -2340 -2341 -2342 -2343 -2344 -2345 -2346 -2347 -2348 -2349 -2350 -2351 -2352 -2353 -2354 -2355 -2356 -2357 -2358 -2359 -2360 -2361 -2362 -2363 -2364 -2365 -2366 -2367 -2368 -2369 -2370 -2371 -2372 -2373 -2374 -2375 -2376 -2377 -2378 -2379 -2380 -2381 -2382 -2383 -2384 -2385 -2386 -2387 -2388 -2389 -2390 -2391 -2392 -2393 -2394 -2395 -2396 -2397 -2398 -2399 -2400 -2401 -2402 -2403 -2404 -2405 -2406 -2407 -2408 -2409 -2410 -2411 -2412 -2413 -2414 -2415 -2416 -2417 -2418 -2419 -2420 -2421 -2422 -2423 -2424 -2425 -2426 -2427 -2428 -2429 -2430 -2431 -2432 -2433 -2434 -2435 -2436 -2437 -2438 -2439 -2440 -2441 -2442 -2443 -2444 -2445 -2446 -2447 -2448 -2449 -2450 -2451 -2452 -2453 -2454 -2455 -2456 -2457 -2458 -2459 -2460 -2461 -2462 -2463 -2464 -2465 -2466 -2467 -2468 -2469 -2470 -2471 -2472 -2473 -2474 -2475 -2476 -2477 -2478 -2479 -2480 -2481 -2482 -2483 -2484 -2485 -2486 -2487 -2488 -2489 -2490 -2491 -2492 -2493 -2494 -2495 -2496 -2497 -2498 -2499 -2500 -2501 -2502 -2503 -2504 -2505 -2506 -2507 -2508 -2509 -2510 -2511 -2512 -2513 -2514 -2515 -2516 -2517 -2518 -2519 -2520 -2521 -2522 -2523 -2524 -2525 -2526 -2527 -2528 -2529 -2530 -2531 -2532 -2533 -2534 -2535 -2536 -2537 -2538 -2539 -2540 -2541 -2542 -2543 -2544 -2545 -2546 -2547 -2548 -2549 -2550 -2551 -2552 -2553 -2554 -2555 -2556 -2557 -2558 -2559 -2560 -2561 -2562 -2563 -2564 -2565 -2566 -2567 -2568 -2569 -2570 -2571 -2572 -2573 -2574 -2575 -2576 -2577 -2578 -2579 -2580 -2581 -2582 -2583 -2584 -2585 -2586 -2587 -2588 -2589 -2590 -2591 -2592 -2593 -2594 -2595 -2596 -2597 -2598 -2599 -2600 -2601 -2602 -2603 -2604 -2605 -2606 -2607 -2608 -2609 -2610 -2611 -2612 -2613 -2614 -2615 -2616 -2617 -2618 -2619 -2620 -2621 -2622 -2623 -2624 -2625 -2626 -2627 -2628 -2629 -2630 -2631 -2632 -2633 -2634 -2635 -2636 -2637 -2638 -2639 -2640 -2641 -2642 -2643 -2644 -2645 -2646 -2647 -2648 -2649 -2650 -2651 -2652 -2653 -2654 -2655 -2656 -2657 -2658 -2659 -2660 -2661 -2662 -2663 -2664 -2665 -2666 -2667 -2668 -2669 -2670 -2671 -2672 -2673 -2674 -2675 -2676 -2677 -2678 -2679 -2680 -2681 -2682 -2683 -2684 -2685 -2686 -2687 -2688 -2689 -2690 -2691 -2692 -2693 -2694 -2695 -2696 -2697 -2698 -2699 -2700 -2701 -2702 -2703 -2704 -2705 -2706 -2707 -2708 -2709 -2710 -2711 -2712 -2713 -2714 -2715 -2716 -2717 -2718 -2719 -2720 -2721 -2722 -2723 -2724 -2725 -2726 -2727 -2728 -2729 -2730 -2731 -2732 -2733 -2734 -2735 -2736 -2737 -2738 -2739 -2740 -2741 -2742 -2743 -2744 -2745 -2746 -2747 -2748 -2749 -2750 -2751 -2752 -2753 -2754 -2755 -2756 -2757 -2758 -2759 -2760 -2761 -2762 -2763 -2764 -2765 -2766 -2767 -2768 -2769 -2770 -2771 -2772 -2773 -2774 -2775 -2776 -2777 -2778 -2779 -2780 -2781 -2782 -2783 -2784 -2785 -2786 -2787 -2788 -2789 -2790 -2791 -2792 -2793 -2794 -2795 -2796 -2797 -2798 -2799 -2800 -2801 -2802 -2803 -2804 -2805 -2806 -2807 -2808 -2809 -2810 -2811 -2812 -2813 -2814 -2815 -2816 -2817 -2818 -2819 -2820 -2821 -2822 -2823 -2824 -2825 -2826 -2827 -2828 -2829 -2830 -2831 -2832 -2833 -2834 -2835 -2836 -2837 -2838 -2839 -2840 -2841 -2842 -2843 -2844 -2845 -2846 -2847 -2848 -2849 -2850 -2851 -2852 -2853 -2854 -2855 -2856 -2857 -2858 -2859 -2860 -2861 -2862 -2863 -2864 -2865 -2866 -2867 -2868 -2869 -2870 -2871 -2872 -2873 -2874 -2875 -2876 -2877 -2878 -2879 -2880 -2881 -2882 -2883 -2884 -2885 -2886 -2887 -2888 -2889 -2890 -2891 -2892 -2893 -2894 -2895 -2896 -2897 -2898 -2899 -2900 -2901 -2902 -2903 -2904 -2905 -2906 -2907 -2908 -2909 -2910 -2911 -2912 -2913 -2914 -2915 -2916 -2917 -2918 -2919 -2920 -2921 -2922 -2923 -2924 -2925 -2926 -2927 -2928 -2929 -2930 -2931 -2932 -2933 -2934 -2935 -2936 -2937 -2938 -2939 -2940 -2941 -2942 -2943 -2944 -2945 -2946 -2947 -2948 -2949 -2950 -2951 -2952 -2953 -2954 -2955 -2956 -2957 -2958 -2959 -2960 -2961 -2962 -2963 -2964 -2965 -2966 -2967 -2968 -2969 -2970 -2971 -2972 -2973 -2974 -2975 -2976 -2977 -2978 -2979 -2980 -2981 -2982 -2983 -2984 -2985 -2986 -2987 -2988 -2989 -2990 -2991 -2992 -2993 -2994 -2995 -2996 -2997 -2998 -2999 -3000 -3001 -3002 -3003 -3004 -3005 -3006 -3007 -3008 -3009 -3010 -3011 -3012 -3013 -3014 -3015 -3016 -3017 -3018 -3019 -3020 -3021 -3022 -3023 -3024 -3025 -3026 -3027 -3028 -3029 -3030 -3031 -3032 -3033 -3034 -3035 -3036 -3037 -3038 -3039 -3040 -3041 -3042 -3043 -3044 -3045 -3046 -3047 -3048 -3049 -3050 -3051 -3052 -3053 -3054 -3055 -3056 -3057 -3058 -3059 -3060 -3061 -3062 -3063 -3064 -3065 -3066 -3067 -3068 -3069 -3070 -3071 -3072 -3073 -3074 -3075 -3076 -3077 -3078 -3079 -3080 -3081 -3082 -3083 -3084 -3085 -3086 -3087 -3088 -3089 -3090 -3091 -3092 -3093 -3094 -3095 -3096 -3097 -3098 -3099 -3100 -3101 -3102 -3103 -3104 -3105 -3106 -3107 -3108 -3109 -3110 -3111 -3112 -3113 -3114 -3115 -3116 -3117 -3118 -3119 -3120 -3121 -3122 -3123 -3124 -3125 -3126 -3127 -3128 -3129 -3130 -3131 -3132 -3133 -3134 -3135 -3136 -3137 -3138 -3139 -3140 -3141 -3142 -3143 -3144 -3145 -3146 -3147 -3148 -3149 -3150 -3151 -3152 -3153 -3154 -3155 -3156 -3157 -3158 -3159 -3160 -3161 -3162 -3163 -3164 -3165 -3166 -3167 -3168 -3169 -3170 -3171 -3172 -3173 -3174 -3175 -3176 -3177 -3178 -3179 -3180 -3181 -3182 -3183 -3184 -3185 -3186 -3187 -3188 -3189 -3190 -3191 -3192 -3193 -3194 -3195 -3196 -3197 -3198 -3199 -3200 -3201 -3202 -3203 -3204 -3205 -3206 -3207 -3208 -3209 -3210 -3211 -3212 -3213 -3214 -3215 -3216 -3217 -3218 -3219 -3220 -3221 -3222 -3223 -3224 -3225 -3226 -3227 -3228 -3229 -3230 -3231 -3232 -3233 -3234 -3235 -3236 -3237 -3238 -3239 -3240 -3241 -3242 -3243 -3244 -3245 -3246 -3247 -3248 -3249 -3250 -3251 -3252 -3253 -3254 -3255 -3256 -3257 -3258 -3259 -3260 -3261 -3262 -3263 -3264 -3265 -3266 -3267 -3268 -3269 -3270 -3271 -3272 -3273 -3274 -3275 -3276 -3277 -3278 -3279 -3280 -3281 -3282 -3283 -3284 -3285 -3286 -3287 -3288 -3289 -3290 -3291 -3292 -3293 -3294 -3295 -3296 -3297 -3298 -3299 -3300 -3301 -3302 -3303 -3304 -3305 -3306 -3307 -3308 -3309 -3310 -3311 -3312 -3313 -3314 -3315 -3316 -3317 -3318 -3319 -3320 -3321 -3322 -3323 -3324 -3325 -3326 -3327 -3328 -3329 -3330 -3331 -3332 -3333 -3334 -3335 -3336 -3337 -3338 -3339 -3340 -3341 -3342 -3343 -3344 -3345 -3346 -3347 -3348 -3349 -3350 -3351 -3352 -3353 -3354 -3355 -3356 -3357 -3358 -3359 -3360 -3361 -3362 -3363 -3364 -3365 -3366 -3367 -3368 -3369 -3370 -3371 -3372 -3373 -3374 -3375 -3376 -3377 -3378 -3379 -3380 -3381 -3382 -3383 -3384 -3385 -3386 -3387 -3388 -3389 -3390 -3391 -3392 -3393 -3394 -3395 -3396 -3397 -3398 -3399 -3400 -3401 -3402 -3403 -3404 -3405 -3406 -3407 -3408 -3409 -3410 -3411 -3412 -3413 -3414 -3415 -3416 -3417 -3418 -3419 -3420 -3421 -3422 -3423 -3424 -3425 -3426 -3427 -3428 -3429 -3430 -3431 -3432 -3433 -3434 -3435 -3436 -3437 -3438 -3439 -3440 -3441 -3442 -3443 -3444 -3445 -3446 -3447 -3448 -3449 -3450 -3451 -3452 -3453 -3454 -3455 -3456 -3457 -3458 -3459 -3460 -3461 -3462 -3463 -3464 -3465 -3466 -3467 -3468 -3469 -3470 -3471 -3472 -3473 -3474 -3475 -3476 -3477 -3478 -3479 -3480 -3481 -3482 -3483 -3484 -3485 -3486 -3487 -3488 -3489 -3490 -3491 -3492 -3493 -3494 -3495 -3496 -3497 -3498 -3499 -3500 -3501 -3502 -3503 -3504 -3505 -3506 -3507 -3508 -3509 -3510 -3511 -3512 -3513 -3514 -3515 -3516 -3517 -3518 -3519 -3520 -3521 -3522 -3523 -3524 -3525 -3526 -3527 -3528 -3529 -3530 -3531 -3532 -3533 -3534 -3535 -3536 -3537 -3538 -3539 -3540 -3541 -3542 -3543 -3544 -3545 -3546 -3547 -3548 -3549 -3550 -3551 -3552 -3553 -3554 -3555 -3556 -3557 -3558 -3559 -3560 -3561 -3562 -3563 -3564 -3565 -3566 -3567 -3568 -3569 -3570 -3571 -3572 -3573 -3574 -3575 -3576 -3577 -3578 -3579 -3580 -3581 -3582 -3583 -3584 -3585 -3586 -3587 -3588 -3589 -3590 -3591 -3592 -3593 -3594 -3595 -3596 -3597 -3598 -3599 -3600 -3601 -3602 -3603 -3604 -3605 -3606 -3607 -3608 -3609 -3610 -3611 -3612 -3613 -3614 -3615 -3616 -3617 -3618 -3619 -3620 -3621 -3622 -3623 -3624 -3625 -3626 -3627 -3628 -3629 -3630 -3631 -3632 -3633 -3634 -3635 -3636 -3637 -3638 -3639 -3640 -3641 -3642 -3643 -3644 -3645 -3646 -3647 -3648 -3649 -3650 -3651 -3652 -3653 -3654 -3655 -3656 -3657 -3658 -3659 -3660 -3661 -3662 -3663 -3664 -3665 -3666 -3667 -3668 -3669 -3670 -3671 -3672 -3673 -3674 -3675 -3676 -3677 -3678 -3679 -3680 -3681 -3682 -3683 -3684 -3685 -3686 -3687 -3688 -3689 -3690 -3691 -3692 -3693 -3694 -3695 -3696 -3697 -3698 -3699 -3700 -3701 -3702 -3703 -3704 -3705 -3706 -3707 -3708 -3709 -3710 -3711 -3712 -3713 -3714 -3715 -3716 -3717 -3718 -3719 -3720 -3721 -3722 -3723 -3724 -3725 -3726 -3727 -3728 -3729 -3730 -3731 -3732 -3733 -3734 -3735 -3736 -3737 -3738 -3739 -3740 -3741 -3742 -3743 -3744 -3745 -3746 -3747 -3748 -3749 -3750 -3751 -3752 -3753 -3754 -3755 -3756 -3757 -3758 -3759 -3760 -3761 -3762 -3763 -3764 -3765 -3766 -3767 -3768 -3769 -3770 -3771 -3772 -3773 -3774 -3775 -3776 -3777 -3778 -3779 -3780 -3781 -3782 -3783 -3784 -3785 -3786 -3787 -3788 -3789 -3790 -3791 -3792 -3793 -3794 -3795 -3796 -3797 -3798 -3799 -3800 -3801 -3802 -3803 -3804 -3805 -3806 -3807 -3808 -3809 -3810 -3811 -3812 -3813 -3814 -3815 -3816 -3817 -3818 -3819 -3820 -3821 -3822 -3823 -3824 -3825 -3826 -3827 -3828 -3829 -3830 -3831 -3832 -3833 -3834 -3835 -3836 -3837 -3838 -3839 -3840 -3841 -3842 -3843 -3844 -3845 -3846 -3847 -3848 -3849 -3850 -3851 -3852 -3853 -3854 -3855 -3856 -3857 -3858 -3859 -3860 -3861 -3862 -3863 -3864 -3865 -3866 -3867 -3868 -3869 -3870 -3871 -3872 -3873 -3874 -3875 -3876 -3877 -3878 -3879 -3880 -3881 -3882 -3883 -3884 -3885 -3886 -3887 -3888 -3889 -3890 -3891 -3892 -3893 -3894 -3895 -3896 -3897 -3898 -3899 -3900 -3901 -3902 -3903 -3904 -3905 -3906 -3907 -3908 -3909 -3910 -3911 -3912 -3913 -3914 -3915 -3916 -3917 -3918 -3919 -3920 -3921 -3922 -3923 -3924 -3925 -3926 -3927 -3928 -3929 -3930 -3931 -3932 -3933 -3934 -3935 -3936 -3937 -3938 -3939 -3940 -3941 -3942 -3943 -3944 -3945 -3946 -3947 -3948 -3949 -3950 -3951 -3952 -3953 -3954 -3955 -3956 -3957 -3958 -3959 -3960 -3961 -3962 -3963 -3964 -3965 -3966 -3967 -3968 -3969 -3970 -3971 -3972 -3973 -3974 -3975 -3976 -3977 -3978 -3979 -3980 -3981 -3982 -3983 -3984 -3985 -3986 -3987 -3988 -3989 -3990 -3991 -3992 -3993 -3994 -3995 -3996 -3997 -3998 -3999 -4000 -4001 -4002 -4003 -4004 -4005 -4006 -4007 -4008 -4009 -4010 -4011 -4012 -4013 -4014 -4015 -4016 -4017 -4018 -4019 -4020 -4021 -4022 -4023 -4024 -4025 -4026 -4027 -4028 -4029 -4030 -4031 -4032 -4033 -4034 -4035 -4036 -4037 -4038 -4039 -4040 -4041 -4042 -4043 -4044 -4045 -4046 -4047 -4048 -4049 -4050 -4051 -4052 -4053 -4054 -4055 -4056 -4057 -4058 -4059 -4060 -4061 -4062 -4063 -4064 -4065 -4066 -4067 -4068 -4069 -4070 -4071 -4072 -4073 -4074 -4075 -4076 -4077 -4078 -4079 -4080 -4081 -4082 -4083 -4084 -4085 -4086 -4087 -4088 -4089 -4090 -4091 -4092 -4093 -4094 -4095 -4096 -4097 -4098 -4099 -4100 -4101 -4102 -4103 -4104 -4105 -4106 -4107 -4108 -4109 -4110 -4111 -4112 -4113 -4114 -4115 -4116 -4117 -4118 -4119 -4120 -4121 -4122 -4123 -4124 -4125 -4126 -4127 -4128 -4129 -4130 -4131 -4132 -4133 -4134 -4135 -4136 -4137 -4138 -4139 -4140 -4141 -4142 -4143 -4144 -4145 -4146 -4147 -4148 -4149 -4150 -4151 -4152 -4153 -4154 -4155 -4156 -4157 -4158 -4159 -4160 -4161 -4162 -4163 -4164 -4165 -4166 -4167 -4168 -4169 -4170 -4171 -4172 -4173 -4174 -4175 -4176 -4177 -4178 -4179 -4180 -4181 -4182 -4183 -4184 -4185 -4186 -4187 -4188 -4189 -4190 -4191 -4192 -4193 -4194 -4195 -4196 -4197 -4198 -4199 -4200 -4201 -4202 -4203 -4204 -4205 -4206 -4207 -4208 -4209 -4210 -4211 -4212 -4213 -4214 -4215 -4216 -4217 -4218 -4219 -4220 -4221 -4222 -4223 -4224 -4225 -4226 -4227 -4228 -4229 -4230 -4231 -4232 -4233 -4234 -4235 -4236 -4237 -4238 -4239 -4240 -4241 -4242 -4243 -4244 -4245 -4246 -4247 -4248 -4249 -4250 -4251 -4252 -4253 -4254 -4255 -4256 -4257 -4258 -4259 -4260 -4261 -4262 -4263 -4264 -4265 -4266 -4267 -4268 -4269 -4270 -4271 -4272 -4273 -4274 -4275 -4276 -4277 -4278 -4279 -4280 -4281 -4282 -4283 -4284 -4285 -4286 -4287 -4288 -4289 -4290 -4291 -4292 -4293 -4294 -4295 -4296 -4297 -4298 -4299 -4300 -4301 -4302 -4303 -4304 -4305 -4306 -4307 -4308 -4309 -4310 -4311 -4312 -4313 -4314 -4315 -4316 -4317 -4318 -4319 -4320 -4321 -4322 -4323 -4324 -4325 -4326 -4327 -4328 -4329 -4330 -4331 -4332 -4333 -4334 -4335 -4336 -4337 -4338 -4339 -4340 -4341 -4342 -4343 -4344 -4345 -4346 -4347 -4348 -4349 -4350 -4351 -4352 -4353 -4354 -4355 -4356 -4357 -4358 -4359 -4360 -4361 -4362 -4363 -4364 -4365 -4366 -4367 -4368 -4369 -4370 -4371 -4372 -4373 -4374 -4375 -4376 -4377 -4378 -4379 -4380 -4381 -4382 -4383 -4384 -4385 -4386 -4387 -4388 -4389 -4390 -4391 -4392 -4393 -4394 -4395 -4396 -4397 -4398 -4399 -4400 -4401 -4402 -4403 -4404 -4405 -4406 -4407 -4408 -4409 -4410 -4411 -4412 -4413 -4414 -4415 -4416 -4417 -4418 -4419 -4420 -4421 -4422 -4423 -4424 -4425 -4426 -4427 -4428 -4429 -4430 -4431 -4432 -4433 -4434 -4435 -4436 -4437 -4438 -4439 -4440 -4441 -4442 -4443 -4444 -4445 -4446 -4447 -4448 -4449 -4450 -4451 -4452 -4453 -4454 -4455 -4456 -4457 -4458 -4459 -4460 -4461 -4462 -4463 -4464 -4465 -4466 -4467 -4468 -4469 -4470 -4471 -4472 -4473 -4474 -4475 -4476 -4477 -4478 -4479 -4480 -4481 -4482 -4483 -4484 -4485 -4486 -4487 -4488 -4489 -4490 -4491 -4492 -4493 -4494 -4495 -4496 -4497 -4498 -4499 -4500 -4501 -4502 -4503 -4504 -4505 -4506 -4507 -4508 -4509 -4510 -4511 -4512 -4513 -4514 -4515 -4516 -4517 -4518 -4519 -4520 -4521 -4522 -4523 -4524 -4525 -4526 -4527 -4528 -4529 -4530 -4531 -4532 -4533 -4534 -4535 -4536 -4537 -4538 -4539 -4540 -4541 -4542 -4543 -4544 -4545 -4546 -4547 -4548 -4549 -4550 -4551 -4552 -4553 -4554 -4555 -4556 -4557 -4558 -4559 -4560 -4561 -4562 -4563 -4564 -4565 -4566 -4567 -4568 -4569 -4570 -4571 -4572 -4573 -4574 -4575 -4576 -4577 -4578 -4579 -4580 -4581 -4582 -4583 -4584 -4585 -4586 -4587 -4588 -4589 -4590 -4591 -4592 -4593 -4594 -4595 -4596 -4597 -4598 -4599 -4600 -4601 -4602 -4603 -4604 -4605 -4606 -4607 -4608 -4609 -4610 -4611 -4612 -4613 -4614 -4615 -4616 -4617 -4618 -4619 -4620 -4621 -4622 -4623 -4624 -4625 -4626 -4627 -4628 -4629 -4630 -4631 -4632 -4633 -4634 -4635 -4636 -4637 -4638 -4639 -4640 -4641 -4642 -4643 -4644 -4645 -4646 -4647 -4648 -4649 -4650 -4651 -4652 -4653 -4654 -4655 -4656 -4657 -4658 -4659 -4660 -4661 -4662 -4663 -4664 -4665 -4666 -4667 -4668 -4669 -4670 -4671 -4672 -4673 -4674 -4675 -4676 -4677 -4678 -4679 -4680 -4681 -4682 -4683 -4684 -4685 -4686 -4687 -4688 -4689 -4690 -4691 -4692 -4693 -4694 -4695 -4696 -4697 -4698 -4699 -4700 -4701 -4702 -4703 -4704 -4705 -4706 -4707 -4708 -4709 -4710 -4711 -4712 -4713 -4714 -4715 -4716 -4717 -4718 -4719 -4720 -4721 -4722 -4723 -4724 -4725 -4726 -4727 -4728 -4729 -4730 -4731 -4732 -4733 -4734 -4735 -4736 -4737 -4738 -4739 -4740 -4741 -4742 -4743 -4744 -4745 -4746 -4747 -4748 -4749 -4750 -4751 -4752 -4753 -4754 -4755 -4756 -4757 -4758 -4759 -4760 -4761 -4762 -4763 -4764 -4765 -4766 -4767 -4768 -4769 -4770 -4771 -4772 -4773 -4774 -4775 -4776 -4777 -4778 -4779 -4780 -4781 -4782 -4783 -4784 -4785 -4786 -4787 -4788 -4789 -4790 -4791 -4792 -4793 -4794 -4795 -4796 -4797 -4798 -4799 -4800 -4801 -4802 -4803 -4804 -4805 -4806 -4807 -4808 -4809 -4810 -4811 -4812 -4813 -4814 -4815 -4816 -4817 -4818 -4819 -4820 -4821 -4822 -4823 -4824 -4825 -4826 -4827 -4828 -4829 -4830 -4831 -4832 -4833 -4834 -4835 -4836 -4837 -4838 -4839 -4840 -4841 -4842 -4843 -4844 -4845 -4846 -4847 -4848 -4849 -4850 -4851 -4852 -4853 -4854 -4855 -4856 -4857 -4858 -4859 -4860 -4861 -4862 -4863 -4864 -4865 -4866 -4867 -4868 -4869 -4870 -4871 -4872 -4873 -4874 -4875 -4876 -4877 -4878 -4879 -4880 -4881 -4882 -4883 -4884 -4885 -4886 -4887 -4888 -4889 -4890 -4891 -4892 -4893 -4894 -4895 -4896 -4897 -4898 -4899 -4900 -4901 -4902 -4903 -4904 -4905 -4906 -4907 -4908 -4909 -4910 -4911 -4912 -4913 -4914 -4915 -4916 -4917 -4918 -4919 -4920 -4921 -4922 -4923 -4924 -4925 -4926 -4927 -4928 -4929 -4930 -4931 -4932 -4933 -4934 -4935 -4936 -4937 -4938 -4939 -4940 -4941 -4942 -4943 -4944 -4945 -4946 -4947 -4948 -4949 -4950 -4951 -4952 -4953 -4954 -4955 -4956 -4957 -4958 -4959 -4960 -4961 -4962 -4963 -4964 -4965 -4966 -4967 -4968 -4969 -4970 -4971 -4972 -4973 -4974 -4975 -4976 -4977 -4978 -4979 -4980 -4981 -4982 -4983 -4984 -4985 -4986 -4987 -4988 -4989 -4990 -4991 -4992 -4993 -4994 -4995 -4996 -4997 -4998 -4999 -5000 -5001 -5002 -5003 -5004 -5005 -5006 -5007 -5008 -5009 -5010 -5011 -5012 -5013 -5014 -5015 -5016 -5017 -5018 -5019 -5020 -5021 -5022 -5023 -5024 -5025 -5026 -5027 -5028 -5029 -5030 -5031 -5032 -5033 -5034 -5035 -5036 -5037 -5038 -5039 -5040 -5041 -5042 -5043 -5044 -5045 -5046 -5047 -5048 -5049 -5050 -5051 -5052 -5053 -5054 -5055 -5056 -5057 -5058 -5059 -5060 -5061 -5062 -5063 -5064 -5065 -5066 -5067 -5068 -5069 -5070 -5071 -5072 -5073 -5074 -5075 -5076 -5077 -5078 -5079 -5080 -5081 -5082 -5083 -5084 -5085 -5086 -5087 -5088 -5089 -5090 -5091 -5092 -5093 -5094 -5095 -5096 -5097 -5098 -5099 -5100 -5101 -5102 -5103 -5104 -5105 -5106 -5107 -5108 -5109 -5110 -5111 -5112 -5113 -5114 -5115 -5116 -5117 -5118 -5119 -5120 -5121 -5122 -5123 -5124 -5125 -5126 -5127 -5128 -5129 -5130 -5131 -5132 -5133 -5134 -5135 -5136 -5137 -5138 -5139 -5140 -5141 -5142 -5143 -5144 -5145 -5146 -5147 -5148 -5149 -5150 -5151 -5152 -5153 -5154 -5155 -5156 -5157 -5158 -5159 -5160 -5161 -5162 -5163 -5164 -5165 -5166 -5167 -5168 -5169 -5170 -5171 -5172 -5173 -5174 -5175 -5176 -5177 -5178 -5179 -5180 -5181 -5182 -5183 -5184 -5185 -5186 -5187 -5188 -5189 -5190 -5191 -5192 -5193 -5194 -5195 -5196 -5197 -5198 -5199 -5200 -5201 -5202 -5203 -5204 -5205 -5206 -5207 -5208 -5209 -5210 -5211 -5212 -5213 -5214 -5215 -5216 -5217 -5218 -5219 -5220 -5221 -5222 -5223 -5224 -5225 -5226 -5227 -5228 -5229 -5230 -5231 -5232 -5233 -5234 -5235 -5236 -5237 -5238 -5239 -5240 -5241 -5242 -5243 -5244 -5245 -5246 -5247 -5248 -5249 -5250 -5251 -5252 -5253 -5254 -5255 -5256 -5257 -5258 -5259 -5260 -5261 -5262 -5263 -5264 -5265 -5266 -5267 -5268 -5269 -5270 -5271 -5272 -5273 -5274 -5275 -5276 -5277 -5278 -5279 -5280 -5281 -5282 -5283 -5284 -5285 -5286 -5287 -5288 -5289 -5290 -5291 -5292 -5293 -5294 -5295 -5296 -5297 -5298 -5299 -5300 -5301 -5302 -5303 -5304 -5305 -5306 -5307 -5308 -5309 -5310 -5311 -5312 -5313 -5314 -5315 -5316 -5317 -5318 -5319 -5320 -5321 -5322 -5323 -5324 -5325 -5326 -5327 -5328 -5329 -5330 -5331 -5332 -5333 -5334 -5335 -5336 -5337 -5338 -5339 -5340 -5341 -5342 -5343 -5344 -5345 -5346 -5347 -5348 -5349 -5350 -5351 -5352 -5353 -5354 -5355 -5356 -5357 -5358 -5359 -5360 -5361 -5362 -5363 -5364 -5365 -5366 -5367 -5368 -5369 -5370 -5371 -5372 -5373 -5374 -5375 -5376 -5377 -5378 -5379 -5380 -5381 -5382 -5383 -5384 -5385 -5386 -5387 -5388 -5389 -5390 -5391 -5392 -5393 -5394 -5395 -5396 -5397 -5398 -5399 -5400 -5401 -5402 -5403 -5404 -5405 -5406 -5407 -5408 -5409 -5410 -5411 -5412 -5413 -5414 -5415 -5416 -5417 -5418 -5419 -5420 -5421 -5422 -5423 -5424 -5425 -5426 -5427 -5428 -5429 -5430 -5431 -5432 -5433 -5434 -5435 -5436 -5437 -5438 -5439 -5440 -5441 -5442 -5443 -5444 -5445 -5446 -5447 -5448 -5449 -5450 -5451 -5452 -5453 -5454 -5455 -5456 -5457 -5458 -5459 -5460 -5461 -5462 -5463 -5464 -5465 -5466 -5467 -5468 -5469 -5470 -5471 -5472 -5473 -5474 -5475 -5476 -5477 -5478 -5479 -5480 -5481 -5482 -5483 -5484 -5485 -5486 -5487 -5488 -5489 -5490 -5491 -5492 -5493 -5494 -5495 -5496 -5497 -5498 -5499 -5500 -5501 -5502 -5503 -5504 -5505 -5506 -5507 -5508 -5509 -5510 -5511 -5512 -5513 -5514 -5515 -5516 -5517 -5518 -5519 -5520 -5521 -5522 -5523 -5524 -5525 -5526 -5527 -5528 -5529 -5530 -5531 -5532 -5533 -5534 -5535 -5536 -5537 -5538 -5539 -5540 -5541 -5542 -5543 -5544 -5545 -5546 -5547 -5548 -5549 -5550 -5551 -5552 -5553 -5554 -5555 -5556 -5557 -5558 -5559 -5560 -5561 -5562 -5563 -5564 -5565 -5566 -5567 -5568 -5569 -5570 -5571 -5572 -5573 -5574 -5575 -5576 -5577 -5578 -5579 -5580 -5581 -5582 -5583 -5584 -5585 -5586 -5587 -5588 -5589 -5590 -5591 -5592 -5593 -5594 -5595 -5596 -5597 -5598 -5599 -5600 -5601 -5602 -5603 -5604 -5605 -5606 -5607 -5608 -5609 -5610 -5611 -5612 -5613 -5614 -5615 -5616 -5617 -5618 -5619 -5620 -5621 -5622 -5623 -5624 -5625 -5626 -5627 -5628 -5629 -5630 -5631 -5632 -5633 -5634 -5635 -5636 -5637 -5638 -5639 -5640 -5641 -5642 -5643 -5644 -5645 -5646 -5647 -5648 -5649 -5650 -5651 -5652 -5653 -5654 -5655 -5656 -5657 -5658 -5659 -5660 -5661 -5662 -5663 -5664 -5665 -5666 -5667 -5668 -5669 -5670 -5671 -5672 -5673 -5674 -5675 -5676 -5677 -5678 -5679 -5680 -5681 -5682 -5683 -5684 -5685 -5686 -5687 -5688 -5689 -5690 -5691 -5692 -5693 -5694 -5695 -5696 -5697 -5698 -5699 -5700 -5701 -5702 -5703 -5704 -5705 -5706 -5707 -5708 -5709 -5710 -5711 -5712 -5713 -5714 -5715 -5716 -5717 -5718 -5719 -5720 -5721 -5722 -5723 -5724 -5725 -5726 -5727 -5728 -5729 -5730 -5731 -5732 -5733 -5734 -5735 -5736 -5737 -5738 -5739 -5740 -5741 -5742 -5743 -5744 -5745 -5746 -5747 -5748 -5749 -5750 -5751 -5752 -5753 -5754 -5755 -5756 -5757 -5758 -5759 -5760 -5761 -5762 -5763 -5764 -5765 -5766 -5767 -5768 -5769 -5770 -5771 -5772 -5773 -5774 -5775 -5776 -5777 -5778 -5779 -5780 -5781 -5782 -5783 -5784 -5785 -5786 -5787 -5788 -5789 -5790 -5791 -5792 -5793 -5794 -5795 -5796 -5797 -5798 -5799 -5800 -5801 -5802 -5803 -5804 -5805 -5806 -5807 -5808 -5809 -5810 -5811 -5812 -5813 -5814 -5815 -5816 -5817 -5818 -5819 -5820 -5821 -5822 -5823 -5824 -5825 -5826 -5827 -5828 -5829 -5830 -5831 -5832 -5833 -5834 -5835 -5836 -5837 -5838 -5839 -5840 -5841 -5842 -5843 -5844 -5845 -5846 -5847 -5848 -5849 -5850 -5851 -5852 -5853 -5854 -5855 -5856 -5857 -5858 -5859 -5860 -5861 -5862 -5863 -5864 -5865 -5866 -5867 -5868 -5869 -5870 -5871 -5872 -5873 -5874 -5875 -5876 -5877 -5878 -5879 -5880 -5881 -5882 -5883 -5884 -5885 -5886 -5887 -5888 -5889 -5890 -5891 -5892 -5893 -5894 -5895 -5896 -5897 -5898 -5899 -5900 -5901 -5902 -5903 -5904 -5905 -5906 -5907 -5908 -5909 -5910 -5911 -5912 -5913 -5914 -5915 -5916 -5917 -5918 -5919 -5920 -5921 -5922 -5923 -5924 -5925 -5926 -5927 -5928 -5929 -5930 -5931 -5932 -5933 -5934 -5935 -5936 -5937 -5938 -5939 -5940 -5941 -5942 -5943 -5944 -5945 -5946 -5947 -5948 -5949 -5950 -5951 -5952 -5953 -5954 -5955 -5956 -5957 -5958 -5959 -5960 -5961 -5962 -5963 -5964 -5965 -5966 -5967 -5968 -5969 -5970 -5971 -5972 -5973 -5974 -5975 -5976 -5977 -5978 -5979 -5980 -5981 -5982 -5983 -5984 -5985 -5986 -5987 -5988 -5989 -5990 -5991 -5992 -5993 -5994 -5995 -5996 -5997 -5998 -5999 -6000 -6001 -6002 -6003 -6004 -6005 -6006 -6007 -6008 -6009 -6010 -6011 -6012 -6013 -6014 -6015 -6016 -6017 -6018 -6019 -6020 -6021 -6022 -6023 -6024 -6025 -6026 -6027 -6028 -6029 -6030 -6031 -6032 -6033 -6034 -6035 -6036 -6037 -6038 -6039 -6040 -6041 -6042 -6043 -6044 -6045 -6046 -6047 -6048 -6049 -6050 -6051 -6052 -6053 -6054 -6055 -6056 -6057 -6058 -6059 -6060 -6061 -6062 -6063 -6064 -6065 -6066 -6067 -6068 -6069 -6070 -6071 -6072 -6073 -6074 -6075 -6076 -6077 -6078 -6079 -6080 -6081 -6082 -6083 -6084 -6085 -6086 -6087 -6088 -6089 -6090 -6091 -6092 -6093 -6094 -6095 -6096 -6097 -6098 -6099 -6100 -6101 -6102 -6103 -6104 -6105 -6106 -6107 -6108 -6109 -6110 -6111 -6112 -6113 -6114 -6115 -6116 -6117 -6118 -6119 -6120 -6121 -6122 -6123 -6124 -6125 -6126 -6127 -6128 -6129 -6130 -6131 -6132 -6133 -6134 -6135 -6136 -6137 -6138 -6139 -6140 -6141 -6142 -6143 -6144 -6145 -6146 -6147 -6148 -6149 -6150 -6151 -6152 -6153 -6154 -6155 -6156 -6157 -6158 -6159 -6160 -6161 -6162 -6163 -6164 -6165 -6166 -6167 -6168 -6169 -6170 -6171 -6172 -6173 -6174 -6175 -6176 -6177 -6178 -6179 -6180 -6181 -6182 -6183 -6184 -6185 -6186 -6187 -6188 -6189 -6190 -6191 -6192 -6193 -6194 -6195 -6196 -6197 -6198 -6199 -6200 -6201 -6202 -6203 -6204 -6205 -6206 -6207 -6208 -6209 -6210 -6211 -6212 -6213 -6214 -6215 -6216 -6217 -6218 -6219 -6220 -6221 -6222 -6223 -6224 -6225 -6226 -6227 -6228 -6229 -6230 -6231 -6232 -6233 -6234 -6235 -6236 -6237 -6238 -6239 -6240 -6241 -6242 -6243 -6244 -6245 -6246 -6247 -6248 -6249 -6250 -6251 -6252 -6253 -6254 -6255 -6256 -6257 -6258 -6259 -6260 -6261 -6262 -6263 -6264 -6265 -6266 -6267 -6268 -6269 -6270 -6271 -6272 -6273 -6274 -6275 -6276 -6277 -6278 -6279 -6280 -6281 -6282 -6283 -6284 -6285 -6286 -6287 -6288 -6289 -6290 -6291 -6292 -6293 -6294 -6295 -6296 -6297 -6298 -6299 -6300 -6301 -6302 -6303 -6304 -6305 -6306 -6307 -6308 -6309 -6310 -6311 -6312 -6313 -6314 -6315 -6316 -6317 -6318 -6319 -6320 -6321 -6322 -6323 -6324 -6325 -6326 -6327 -6328 -6329 -6330 -6331 -6332 -6333 -6334 -6335 -6336 -6337 -6338 -6339 -6340 -6341 -6342 -6343 -6344 -6345 -6346 -6347 -6348 -6349 -6350 -6351 -6352 -6353 -6354 -6355 -6356 -6357 -6358 -6359 -6360 -6361 -6362 -6363 -6364 -6365 -6366 -6367 -6368 -6369 -6370 -6371 -6372 -6373 -6374 -6375 -6376 -6377 -6378 -6379 -6380 -6381 -6382 -6383 -6384 -6385 -6386 -6387 -6388 -6389 -6390 -6391 -6392 -6393 -6394 -6395 -6396 -6397 -6398 -6399 -6400 -6401 -6402 -6403 -6404 -6405 -6406 -6407 -6408 -6409 -6410 -6411 -6412 -6413 -6414 -6415 -6416 -6417 -6418 -6419 -6420 -6421 -6422 -6423 -6424 -6425 -6426 -6427 -6428 -6429 -6430 -6431 -6432 -6433 -6434 -6435 -6436 -6437 -6438 -6439 -6440 -6441 -6442 -6443 -6444 -6445 -6446 -6447 -6448 -6449 -6450 -6451 -6452 -6453 -6454 -6455 -6456 -6457 -6458 -6459 -6460 -6461 -6462 -6463 -6464 -6465 -6466 -6467 -6468 -6469 -6470 -6471 -6472 -6473 -6474 -6475 -6476 -6477 -6478 -6479 -6480 -6481 -6482 -6483 -6484 -6485 -6486 -6487 -6488 -6489 -6490 -6491 -6492 -6493 -6494 -6495 -6496 -6497 -6498 -6499 -6500 -6501 -6502 -6503 -6504 -6505 -6506 -6507 -6508 -6509 -6510 -6511 -6512 -6513 -6514 -6515 -6516 -6517 -6518 -6519 -6520 -6521 -6522 -6523 -6524 -6525 -6526 -6527 -6528 -6529 -6530 -6531 -6532 -6533 -6534 -6535 -6536 -6537 -6538 -6539 -6540 -6541 -6542 -6543 -6544 -6545 -6546 -6547 -6548 -6549 -6550 -6551 -6552 -6553 -6554 -6555 -6556 -6557 -6558 -6559 -6560 -6561 -6562 -6563 -6564 -6565 -6566 -6567 -6568 -6569 -6570 -6571 -6572 -6573 -6574 -6575 -6576 -6577 -6578 -6579 -6580 -6581 -6582 -6583 -6584 -6585 -6586 -6587 -6588 -6589 -6590 -6591 -6592 -6593 -6594 -6595 -6596 -6597 -6598 -6599 -6600 -6601 -6602 -6603 -6604 -6605 -6606 -6607 -6608 -6609 -6610 -6611 -6612 -6613 -6614 -6615 -6616 -6617 -6618 -6619 -6620 -6621 -6622 -6623 -6624 -6625 -6626 -6627 -6628 -6629 -6630 -6631 -6632 -6633 -6634 -6635 -6636 -6637 -6638 -6639 -6640 -6641 -6642 -6643 -6644 -6645 -6646 -6647 -6648 -6649 -6650 -6651 -6652 -6653 -6654 -6655 -6656 -6657 -6658 -6659 -6660 -6661 -6662 -6663 -6664 -6665 -6666 -6667 -6668 -6669 -6670 -6671 -6672 -6673 -6674 -6675 -6676 -6677 -6678 -6679 -6680 -6681 -6682 -6683 -6684 -6685 -6686 -6687 -6688 -6689 -6690 -6691 -6692 -6693 -6694 -6695 -6696 -6697 -6698 -6699 -6700 -6701 -6702 -6703 -6704 -6705 -6706 -6707 -6708 -6709 -6710 -6711 -6712 -6713 -6714 -6715 -6716 -6717 -6718 -6719 -6720 -6721 -6722 -6723 -6724 -6725 -6726 -6727 -6728 -6729 -6730 -6731 -6732 -6733 -6734 -6735 -6736 -6737 -6738 -6739 -6740 -6741 -6742 -6743 -6744 -6745 -6746 -6747 -6748 -6749 -6750 -6751 -6752 -6753 -6754 -6755 -6756 -6757 -6758 -6759 -6760 -6761 -6762 -6763 -6764 -6765 -6766 -6767 -6768 -6769 -6770 -6771 -6772 -6773 -6774 -6775 -6776 -6777 -6778 -6779 -6780 -6781 -6782 -6783 -6784 -6785 -6786 -6787 -6788 -6789 -6790 -6791 -6792 -6793 -6794 -6795 -6796 -6797 -6798 -6799 -6800 -6801 -6802 -6803 -6804 -6805 -6806 -6807 -6808 -6809 -6810 -6811 -6812 -6813 -6814 -6815 -6816 -6817 -6818 -6819 -6820 -6821 -6822 -6823 -6824 -6825 -6826 -6827 -6828 -6829 -6830 -6831 -6832 -6833 -6834 -6835 -6836 -6837 -6838 -6839 -6840 -6841 -6842 -6843 -6844 -6845 -6846 -6847 -6848 -6849 -6850 -6851 -6852 -6853 -6854 -6855 -6856 -6857 -6858 -6859 -6860 -6861 -6862 -6863 -6864 -6865 -6866 -6867 -6868 -6869 -6870 -6871 -6872 -6873 -6874 -6875 -6876 -6877 -6878 -6879 -6880 -6881 -6882 -6883 -6884 -6885 -6886 -6887 -6888 -6889 -6890 -6891 -6892 -6893 -6894 -6895 -6896 -6897 -6898 -6899 -6900 -6901 -6902 -6903 -6904 -6905 -6906 -6907 -6908 -6909 -6910 -6911 -6912 -6913 -6914 -6915 -6916 -6917 -6918 -6919 -6920 -6921 -6922 -6923 -6924 -6925 -6926 -6927 -6928 -6929 -6930 -6931 -6932 -6933 -6934 -6935 -6936 -6937 -6938 -6939 -6940 -6941 -6942 -6943 -6944 -6945 -6946 -6947 -6948 -6949 -6950 -6951 -6952 -6953 -6954 -6955 -6956 -6957 -6958 -6959 -6960 -6961 -6962 -6963 -6964 -6965 -6966 -6967 -6968 -6969 -6970 -6971 -6972 -6973 -6974 -6975 -6976 -6977 -6978 -6979 -6980 -6981 -6982 -6983 -6984 -6985 -6986 -6987 -6988 -6989 -6990 -6991 -6992 -6993 -6994 -6995 -6996 -6997 -6998 -6999 -7000 -7001 -7002 -7003 -7004 -7005 -7006 -7007 -7008 -7009 -7010 -7011 -7012 -7013 -7014 -7015 -7016 -7017 -7018 -7019 -7020 -7021 -7022 -7023 -7024 -7025 -7026 -7027 -7028 -7029 -7030 -7031 -7032 -7033 -7034 -7035 -7036 -7037 -7038 -7039 -7040 -7041 -7042 -7043 -7044 -7045 -7046 -7047 -7048 -7049 -7050 -7051 -7052 -7053 -7054 -7055 -7056 -7057 -7058 -7059 -7060 -7061 -7062 -7063 -7064 -7065 -7066 -7067 -7068 -7069 -7070 -7071 -7072 -7073 -7074 -7075 -7076 -7077 -7078 -7079 -7080 -7081 -7082 -7083 -7084 -7085 -7086 -7087 -7088 -7089 -7090 -7091 -7092 -7093 -7094 -7095 -7096 -7097 -7098 -7099 -7100 -7101 -7102 -7103 -7104 -7105 -7106 -7107 -7108 -7109 -7110 -7111 -7112 -7113 -7114 -7115 -7116 -7117 -7118 -7119 -7120 -7121 -7122 -7123 -7124 -7125 -7126 -7127 -7128 -7129 -7130 -7131 -7132 -7133 -7134 -7135 -7136 -7137 -7138 -7139 -7140 -7141 -7142 -7143 -7144 -7145 -7146 -7147 -7148 -7149 -7150 -7151 -7152 -7153 -7154 -7155 -7156 -7157 -7158 -7159 -7160 -7161 -7162 -7163 -7164 -7165 -7166 -7167 -7168 -7169 -7170 -7171 -7172 -7173 -7174 -7175 -7176 -7177 -7178 -7179 -7180 -7181 -7182 -7183 -7184 -7185 -7186 -7187 -7188 -7189 -7190 -7191 -7192 -7193 -7194 -7195 -7196 -7197 -7198 -7199 -7200 -7201 -7202 -7203 -7204 -7205 -7206 -7207 -7208 -7209 -7210 -7211 -7212 -7213 -7214 -7215 -7216 -7217 -7218 -7219 -7220 -7221 -7222 -7223 -7224 -7225 -7226 -7227 -7228 -7229 -7230 -7231 -7232 -7233 -7234 -7235 -7236 -7237 -7238 -7239 -7240 -7241 -7242 -7243 -7244 -7245 -7246 -7247 -7248 -7249 -7250 -7251 -7252 -7253 -7254 -7255 -7256 -7257 -7258 -7259 -7260 -7261 -7262 -7263 -7264 -7265 -7266 -7267 -7268 -7269 -7270 -7271 -7272 -7273 -7274 -7275 -7276 -7277 -7278 -7279 -7280 -7281 -7282 -7283 -7284 -7285 -7286 -7287 -7288 -7289 -7290 -7291 -7292 -7293 -7294 -7295 -7296 -7297 -7298 -7299 -7300 -7301 -7302 -7303 -7304 -7305 -7306 -7307 -7308 -7309 -7310 -7311 -7312 -7313 -7314 -7315 -7316 -7317 -7318 -7319 -7320 -7321 -7322 -7323 -7324 -7325 -7326 -7327 -7328 -7329 -7330 -7331 -7332 -7333 -7334 -7335 -7336 -7337 -7338 -7339 -7340 -7341 -7342 -7343 -7344 -7345 -7346 -7347 -7348 -7349 -7350 -7351 -7352 -7353 -7354 -7355 -7356 -7357 -7358 -7359 -7360 -7361 -7362 -7363 -7364 -7365 -7366 -7367 -7368 -7369 -7370 -7371 -7372 -7373 -7374 -7375 -7376 -7377 -7378 -7379 -7380 -7381 -7382 -7383 -7384 -7385 -7386 -7387 -7388 -7389 -7390 -7391 -7392 -7393 -7394 -7395 -7396 -7397 -7398 -7399 -7400 -7401 -7402 -7403 -7404 -7405 -7406 -7407 -7408 -7409 -7410 -7411 -7412 -7413 -7414 -7415 -7416 -7417 -7418 -7419 -7420 -7421 -7422 -7423 -7424 -7425 -7426 -7427 -7428 -7429 -7430 -7431 -7432 -7433 -7434 -7435 -7436 -7437 -7438 -7439 -7440 -7441 -7442 -7443 -7444 -7445 -7446 -7447 -7448 -7449 -7450 -7451 -7452 -7453 -7454 -7455 -7456 -7457 -7458 -7459 -7460 -7461 -7462 -7463 -7464 -7465 -7466 -7467 -7468 -7469 -7470 -7471 -7472 -7473 -7474 -7475 -7476 -7477 -7478 -7479 -7480 -7481 -7482 -7483 -7484 -7485 -7486 -7487 -7488 -7489 -7490 -7491 -7492 -7493 -7494 -7495 -7496 -7497 -7498 -7499 -7500 -7501 -7502 -7503 -7504 -7505 -7506 -7507 -7508 -7509 -7510 -7511 -7512 -7513 -7514 -7515 -7516 -7517 -7518 -7519 -7520 -7521 -7522 -7523 -7524 -7525 -7526 -7527 -7528 -7529 -7530 -7531 -7532 -7533 -7534 -7535 -7536 -7537 -7538 -7539 -7540 -7541 -7542 -7543 -7544 -7545 -7546 -7547 -7548 -7549 -7550 -7551 -7552 -7553 -7554 -7555 -7556 -7557 -7558 -7559 -7560 -7561 -7562 -7563 -7564 -7565 -7566 -7567 -7568 -7569 -7570 -7571 -7572 -7573 -7574 -7575 -7576 -7577 -7578 -7579 -7580 -7581 -7582 -7583 -7584 -7585 -7586 -7587 -7588 -7589 -7590 -7591 -7592 -7593 -7594 -7595 -7596 -7597 -7598 -7599 -7600 -7601 -7602 -7603 -7604 -7605 -7606 -7607 -7608 -7609 -7610 -7611 -7612 -7613 -7614 -7615 -7616 -7617 -7618 -7619 -7620 -7621 -7622 -7623 -7624 -7625 -7626 -7627 -7628 -7629 -7630 -7631 -7632 -7633 -7634 -7635 -7636 -7637 -7638 -7639 -7640 -7641 -7642 -7643 -7644 -7645 -7646 -7647 -7648 -7649 -7650 -7651 -7652 -7653 -7654 -7655 -7656 -7657 -7658 -7659 -7660 -7661 -7662 -7663 -7664 -7665 -7666 -7667 -7668 -7669 -7670 -7671 -7672 -7673 -7674 -7675 -7676 -7677 -7678 -7679 -7680 -7681 -7682 -7683 -7684 -7685 -7686 -7687 -7688 -7689 -7690 -7691 -7692 -7693 -7694 -7695 -7696 -7697 -7698 -7699 -7700 -7701 -7702 -7703 -7704 -7705 -7706 -7707 -7708 -7709 -7710 -7711 -7712 -7713 -7714 -7715 -7716 -7717 -7718 -7719 -7720 -7721 -7722 -7723 -7724 -7725 -7726 -7727 -7728 -7729 -7730 -7731 -7732 -7733 -7734 -7735 -7736 -7737 -7738 -7739 -7740 -7741 -7742 -7743 -7744 -7745 -7746 -7747 -7748 -7749 -7750 -7751 -7752 -7753 -7754 -7755 -7756 -7757 -7758 -7759 -7760 -7761 -7762 -7763 -7764 -7765 -7766 -7767 -7768 -7769 -7770 -7771 -7772 -7773 -7774 -7775 -7776 -7777 -7778 -7779 -7780 -7781 -7782 -7783 -7784 -7785 -7786 -7787 -7788 -7789 -7790 -7791 -7792 -7793 -7794 -7795 -7796 -7797 -7798 -7799 -7800 -7801 -7802 -7803 -7804 -7805 -7806 -7807 -7808 -7809 -7810 -7811 -7812 -7813 -7814 -7815 -7816 -7817 -7818 -7819 -7820 -7821 -7822 -7823 -7824 -7825 -7826 -7827 -7828 -7829 -7830 -7831 -7832 -7833 -7834 -7835 -7836 -7837 -7838 -7839 -7840 -7841 -7842 -7843 -7844 -7845 -7846 -7847 -7848 -7849 -7850 -7851 -7852 -7853 -7854 -7855 -7856 -7857 -7858 -7859 -7860 -7861 -7862 -7863 -7864 -7865 -7866 -7867 -7868 -7869 -7870 -7871 -7872 -7873 -7874 -7875 -7876 -7877 -7878 -7879 -7880 -7881 -7882 -7883 -7884 -7885 -7886 -7887 -7888 -7889 -7890 -7891 -7892 -7893 -7894 -7895 -7896 -7897 -7898 -7899 -7900 -7901 -7902 -7903 -7904 -7905 -7906 -7907 -7908 -7909 -7910 -7911 -7912 -7913 -7914 -7915 -7916 -7917 -7918 -7919 -7920 -7921 -7922 -7923 -7924 -7925 -7926 -7927 -7928 -7929 -7930 -7931 -7932 -7933 -7934 -7935 -7936 -7937 -7938 -7939 -7940 -7941 -7942 -7943 -7944 -7945 -7946 -7947 -7948 -7949 -7950 -7951 -7952 -7953 -7954 -7955 -7956 -7957 -7958 -7959 -7960 -7961 -7962 -7963 -7964 -7965 -7966 -7967 -7968 -7969 -7970 -7971 -7972 -7973 -7974 -7975 -7976 -7977 -7978 -7979 -7980 -7981 -7982 -7983 -7984 -7985 -7986 -7987 -7988 -7989 -7990 -7991 -7992 -7993 -7994 -7995 -7996 -7997 -7998 -7999 -8000 -8001 -8002 -8003 -8004 -8005 -8006 -8007 -8008 -8009 -8010 -8011 -8012 -8013 -8014 -8015 -8016 -8017 -8018 -8019 -8020 -8021 -8022 -8023 -8024 -8025 -8026 -8027 -8028 -8029 -8030 -8031 -8032 -8033 -8034 -8035 -8036 -8037 -8038 -8039 -8040 -8041 -8042 -8043 -8044 -8045 -8046 -8047 -8048 -8049 -8050 -8051 -8052 -8053 -8054 -8055 -8056 -8057 -8058 -8059 -8060 -8061 -8062 -8063 -8064 -8065 -8066 -8067 -8068 -8069 -8070 -8071 -8072 -8073 -8074 -8075 -8076 -8077 -8078 -8079 -8080 -8081 -8082 -8083 -8084 -8085 -8086 -8087 -8088 -8089 -8090 -8091 -8092 -8093 -8094 -8095 -8096 -8097 -8098 -8099 -8100 -8101 -8102 -8103 -8104 -8105 -8106 -8107 -8108 -8109 -8110 -8111 -8112 -8113 -8114 -8115 -8116 -8117 -8118 -8119 -8120 -8121 -8122 -8123 -8124 -8125 -8126 -8127 -8128 -8129 -8130 -8131 -8132 -8133 -8134 -8135 -8136 -8137 -8138 -8139 -8140 -8141 -8142 -8143 -8144 -8145 -8146 -8147 -8148 -8149 -8150 -8151 -8152 -8153 -8154 -8155 -8156 -8157 -8158 -8159 -8160 -8161 -8162 -8163 -8164 -8165 -8166 -8167 -8168 -8169 -8170 -8171 -8172 -8173 -8174 -8175 -8176 -8177 -8178 -8179 -8180 -8181 -8182 -8183 -8184 -8185 -8186 -8187 -8188 -8189 -8190 -8191 -8192 -8193 -8194 -8195 -8196 -8197 -8198 -8199 -8200 -8201 -8202 -8203 -8204 -8205 -8206 -8207 -8208 -8209 -8210 -8211 -8212 -8213 -8214 -8215 -8216 -8217 -8218 -8219 -8220 -8221 -8222 -8223 -8224 -8225 -8226 -8227 -8228 -8229 -8230 -8231 -8232 -8233 -8234 -8235 -8236 -8237 -8238 -8239 -8240 -8241 -8242 -8243 -8244 -8245 -8246 -8247 -8248 -8249 -8250 -8251 -8252 -8253 -8254 -8255 -8256 -8257 -8258 -8259 -8260 -8261 -8262 -8263 -8264 -8265 -8266 -8267 -8268 -8269 -8270 -8271 -8272 -8273 -8274 -8275 -8276 -8277 -8278 -8279 -8280 -8281 -8282 -8283 -8284 -8285 -8286 -8287 -8288 -8289 -8290 -8291 -8292 -8293 -8294 -8295 -8296 -8297 -8298 -8299 -8300 -8301 -8302 -8303 -8304 -8305 -8306 -8307 -8308 -8309 -8310 -8311 -8312 -8313 -8314 -8315 -8316 -8317 -8318 -8319 -8320 -8321 -8322 -8323 -8324 -8325 -8326 -8327 -8328 -8329 -8330 -8331 -8332 -8333 -8334 -8335 -8336 -8337 -8338 -8339 -8340 -8341 -8342 -8343 -8344 -8345 -8346 -8347 -8348 -8349 -8350 -8351 -8352 -8353 -8354 -8355 -8356 -8357 -8358 -8359 -8360 -8361 -8362 -8363 -8364 -8365 -8366 -8367 -8368 -8369 -8370 -8371 -8372 -8373 -8374 -8375 -8376 -8377 -8378 -8379 -8380 -8381 -8382 -8383 -8384 -8385 -8386 -8387 -8388 -8389 -8390 -8391 -8392 -8393 -8394 -8395 -8396 -8397 -8398 -8399 -8400 -8401 -8402 -8403 -8404 -8405 -8406 -8407 -8408 -8409 -8410 -8411 -8412 -8413 -8414 -8415 -8416 -8417 -8418 -8419 -8420 -8421 -8422 -8423 -8424 -8425 -8426 -8427 -8428 -8429 -8430 -8431 -8432 -8433 -8434 -8435 -8436 -8437 -8438 -8439 -8440 -8441 -8442 -8443 -8444 -8445 -8446 -8447 -8448 -8449 -8450 -8451 -8452 -8453 -8454 -8455 -8456 -8457 -8458 -8459 -8460 -8461 -8462 -8463 -8464 -8465 -8466 -8467 -8468 -8469 -8470 -8471 -8472 -8473 -8474 -8475 -8476 -8477 -8478 -8479 -8480 -8481 -8482 -8483 -8484 -8485 -8486 -8487 -8488 -8489 -8490 -8491 -8492 -8493 -8494 -8495 -8496 -8497 -8498 -8499 -8500 -8501 -8502 -8503 -8504 -8505 -8506 -8507 -8508 -8509 -8510 -8511 -8512 -8513 -8514 -8515 -8516 -8517 -8518 -8519 -8520 -8521 -8522 -8523 -8524 -8525 -8526 -8527 -8528 -8529 -8530 -8531 -8532 -8533 -8534 -8535 -8536 -8537 -8538 -8539 -8540 -8541 -8542 -8543 -8544 -8545 -8546 -8547 -8548 -8549 -8550 -8551 -8552 -8553 -8554 -8555 -8556 -8557 -8558 -8559 -8560 -8561 -8562 -8563 -8564 -8565 -8566 -8567 -8568 -8569 -8570 -8571 -8572 -8573 -8574 -8575 -8576 -8577 -8578 -8579 -8580 -8581 -8582 -8583 -8584 -8585 -8586 -8587 -8588 -8589 -8590 -8591 -8592 -8593 -8594 -8595 -8596 -8597 -8598 -8599 -8600 -8601 -8602 -8603 -8604 -8605 -8606 -8607 -8608 -8609 -8610 -8611 -8612 -8613 -8614 -8615 -8616 -8617 -8618 -8619 -8620 -8621 -8622 -8623 -8624 -8625 -8626 -8627 -8628 -8629 -8630 -8631 -8632 -8633 -8634 -8635 -8636 -8637 -8638 -8639 -8640 -8641 -8642 -8643 -8644 -8645 -8646 -8647 -8648 -8649 -8650 -8651 -8652 -8653 -8654 -8655 -8656 -8657 -8658 -8659 -8660 -8661 -8662 -8663 -8664 -8665 -8666 -8667 -8668 -8669 -8670 -8671 -8672 -8673 -8674 -8675 -8676 -8677 -8678 -8679 -8680 -8681 -8682 -8683 -8684 -8685 -8686 -8687 -8688 -8689 -8690 -8691 -8692 -8693 -8694 -8695 -8696 -8697 -8698 -8699 -8700 -8701 -8702 -8703 -8704 -8705 -8706 -8707 -8708 -8709 -8710 -8711 -8712 -8713 -8714 -8715 -8716 -8717 -8718 -8719 -8720 -8721 -8722 -8723 -8724 -8725 -8726 -8727 -8728 -8729 -8730 -8731 -8732 -8733 -8734 -8735 -8736 -8737 -8738 -8739 -8740 -8741 -8742 -8743 -8744 -8745 -8746 -8747 -8748 -8749 -8750 -8751 -8752 -8753 -8754 -8755 -8756 -8757 -8758 -8759 -8760 -8761 -8762 -8763 -8764 -8765 -8766 -8767 -8768 -8769 -8770 -8771 -8772 -8773 -8774 -8775 -8776 -8777 -8778 -8779 -8780 -8781 -8782 -8783 -8784 -8785 -8786 -8787 -8788 -8789 -8790 -8791 -8792 -8793 -8794 -8795 -8796 -8797 -8798 -8799 -8800 -8801 -8802 -8803 -8804 -8805 -8806 -8807 -8808 -8809 -8810 -8811 -8812 -8813 -8814 -8815 -8816 -8817 -8818 -8819 -8820 -8821 -8822 -8823 -8824 -8825 -8826 -8827 -8828 -8829 -8830 -8831 -8832 -8833 -8834 -8835 -8836 -8837 -8838 -8839 -8840 -8841 -8842 -8843 -8844 -8845 -8846 -8847 -8848 -8849 -8850 -8851 -8852 -8853 -8854 -8855 -8856 -8857 -8858 -8859 -8860 -8861 -8862 -8863 -8864 -8865 -8866 -8867 -8868 -8869 -8870 -8871 -8872 -8873 -8874 -8875 -8876 -8877 -8878 -8879 -8880 -8881 -8882 -8883 -8884 -8885 -8886 -8887 -8888 -8889 -8890 -8891 -8892 -8893 -8894 -8895 -8896 -8897 -8898 -8899 -8900 -8901 -8902 -8903 -8904 -8905 -8906 -8907 -8908 -8909 -8910 -8911 -8912 -8913 -8914 -8915 -8916 -8917 -8918 -8919 -8920 -8921 -8922 -8923 -8924 -8925 -8926 -8927 -8928 -8929 -8930 -8931 -8932 -8933 -8934 -8935 -8936 -8937 -8938 -8939 -8940 -8941 -8942 -8943 -8944 -8945 -8946 -8947 -8948 -8949 -8950 -8951 -8952 -8953 -8954 -8955 -8956 -8957 -8958 -8959 -8960 -8961 -8962 -8963 -8964 -8965 -8966 -8967 -8968 -8969 -8970 -8971 -8972 -8973 -8974 -8975 -8976 -8977 -8978 -8979 -8980 -8981 -8982 -8983 -8984 -8985 -8986 -8987 -8988 -8989 -8990 -8991 -8992 -8993 -8994 -8995 -8996 -8997 -8998 -8999 -9000 -9001 -9002 -9003 -9004 -9005 -9006 -9007 -9008 -9009 -9010 -9011 -9012 -9013 -9014 -9015 -9016 -9017 -9018 -9019 -9020 -9021 -9022 -9023 -9024 -9025 -9026 -9027 -9028 -9029 -9030 -9031 -9032 -9033 -9034 -9035 -9036 -9037 -9038 -9039 -9040 -9041 -9042 -9043 -9044 -9045 -9046 -9047 -9048 -9049 -9050 -9051 -9052 -9053 -9054 -9055 -9056 -9057 -9058 -9059 -9060 -9061 -9062 -9063 -9064 -9065 -9066 -9067 -9068 -9069 -9070 -9071 -9072 -9073 -9074 -9075 -9076 -9077 -9078 -9079 -9080 -9081 -9082 -9083 -9084 -9085 -9086 -9087 -9088 -9089 -9090 -9091 -9092 -9093 -9094 -9095 -9096 -9097 -9098 -9099 -9100 -9101 -9102 -9103 -9104 -9105 -9106 -9107 -9108 -9109 -9110 -9111 -9112 -9113 -9114 -9115 -9116 -9117 -9118 -9119 -9120 -9121 -9122 -9123 -9124 -9125 -9126 -9127 -9128 -9129 -9130 -9131 -9132 -9133 -9134 -9135 -9136 -9137 -9138 -9139 -9140 -9141 -9142 -9143 -9144 -9145 -9146 -9147 -9148 -9149 -9150 -9151 -9152 -9153 -9154 -9155 -9156 -9157 -9158 -9159 -9160 -9161 -9162 -9163 -9164 -9165 -9166 -9167 -9168 -9169 -9170 -9171 -9172 -9173 -9174 -9175 -9176 -9177 -9178 -9179 -9180 -9181 -9182 -9183 -9184 -9185 -9186 -9187 -9188 -9189 -9190 -9191 -9192 -9193 -9194 -9195 -9196 -9197 -9198 -9199 -9200 -9201 -9202 -9203 -9204 -9205 -9206 -9207 -9208 -9209 -9210 -9211 -9212 -9213 -9214 -9215 -9216 -9217 -9218 -9219 -9220 -9221 -9222 -9223 -9224 -9225 -9226 -9227 -9228 -9229 -9230 -9231 -9232 -9233 -9234 -9235 -9236 -9237 -9238 -9239 -9240 -9241 -9242 -9243 -9244 -9245 -9246 -9247 -9248 -9249 -9250 -9251 -9252 -9253 -9254 -9255 -9256 -9257 -9258 -9259 -9260 -9261 -9262 -9263 -9264 -9265 -9266 -9267 -9268 -9269 -9270 -9271 -9272 -9273 -9274 -9275 -9276 -9277 -9278 -9279 -9280 -9281 -9282 -9283 -9284 -9285 -9286 -9287 -9288 -9289 -9290 -9291 -9292 -9293 -9294 -9295 -9296 -9297 -9298 -9299 -9300 -9301 -9302 -9303 -9304 -9305 -9306 -9307 -9308 -9309 -9310 -9311 -9312 -9313 -9314 -9315 -9316 -9317 -9318 -9319 -9320 -9321 -9322 -9323 -9324 -9325 -9326 -9327 -9328 -9329 -9330 -9331 -9332 -9333 -9334 -9335 -9336 -9337 -9338 -9339 -9340 -9341 -9342 -9343 -9344 -9345 -9346 -9347 -9348 -9349 -9350 -9351 -9352 -9353 -9354 -9355 -9356 -9357 -9358 -9359 -9360 -9361 -9362 -9363 -9364 -9365 -9366 -9367 -9368 -9369 -9370 -9371 -9372 -9373 -9374 -9375 -9376 -9377 -9378 -9379 -9380 -9381 -9382 -9383 -9384 -9385 -9386 -9387 -9388 -9389 -9390 -9391 -9392 -9393 -9394 -9395 -9396 -9397 -9398 -9399 -9400 -9401 -9402 -9403 -9404 -9405 -9406 -9407 -9408 -9409 -9410 -9411 -9412 -9413 -9414 -9415 -9416 -9417 -9418 -9419 -9420 -9421 -9422 -9423 -9424 -9425 -9426 -9427 -9428 -9429 -9430 -9431 -9432 -9433 -9434 -9435 -9436 -9437 -9438 -9439 -9440 -9441 -9442 -9443 -9444 -9445 -9446 -9447 -9448 -9449 -9450 -9451 -9452 -9453 -9454 -9455 -9456 -9457 -9458 -9459 -9460 -9461 -9462 -9463 -9464 -9465 -9466 -9467 -9468 -9469 -9470 -9471 -9472 -9473 -9474 -9475 -9476 -9477 -9478 -9479 -9480 -9481 -9482 -9483 -9484 -9485 -9486 -9487 -9488 -9489 -9490 -9491 -9492 -9493 -9494 -9495 -9496 -9497 -9498 -9499 -9500 -9501 -9502 -9503 -9504 -9505 -9506 -9507 -9508 -9509 -9510 -9511 -9512 -9513 -9514 -9515 -9516 -9517 -9518 -9519 -9520 -9521 -9522 -9523 -9524 -9525 -9526 -9527 -9528 -9529 -9530 -9531 -9532 -9533 -9534 -9535 -9536 -9537 -9538 -9539 -9540 -9541 -9542 -9543 -9544 -9545 -9546 -9547 -9548 -9549 -9550 -9551 -9552 -9553 -9554 -9555 -9556 -9557 -9558 -9559 -9560 -9561 -9562 -9563 -9564 -9565 -9566 -9567 -9568 -9569 -9570 -9571 -9572 -9573 -9574 -9575 -9576 -9577 -9578 -9579 -9580 -9581 -9582 -9583 -9584 -9585 -9586 -9587 -9588 -9589 -9590 -9591 -9592 -9593 -9594 -9595 -9596 -9597 -9598 -9599 -9600 -9601 -9602 -9603 -9604 -9605 -9606 -9607 -9608 -9609 -9610 -9611 -9612 -9613 -9614 -9615 -9616 -9617 -9618 -9619 -9620 -9621 -9622 -9623 -9624 -9625 -9626 -9627 -9628 -9629 -9630 -9631 -9632 -9633 -9634 -9635 -9636 -9637 -9638 -9639 -9640 -9641 -9642 -9643 -9644 -9645 -9646 -9647 -9648 -9649 -9650 -9651 -9652 -9653 -9654 -9655 -9656 -9657 -9658 -9659 -9660 -9661 -9662 -9663 -9664 -9665 -9666 -9667 -9668 -9669 -9670 -9671 -9672 -9673 -9674 -9675 -9676 -9677 -9678 -9679 -9680 -9681 -9682 -9683 -9684 -9685 -9686 -9687 -9688 -9689 -9690 -9691 -9692 -9693 -9694 -9695 -9696 -9697 -9698 -9699 -9700 -9701 -9702 -9703 -9704 -9705 -9706 -9707 -9708 -9709 -9710 -9711 -9712 -9713 -9714 -9715 -9716 -9717 -9718 -9719 -9720 -9721 -9722 -9723 -9724 -9725 -9726 -9727 -9728 -9729 -9730 -9731 -9732 -9733 -9734 -9735 -9736 -9737 -9738 -9739 -9740 -9741 -9742 -9743 -9744 -9745 -9746 -9747 -9748 -9749 -9750 -9751 -9752 -9753 -9754 -9755 -9756 -9757 -9758 -9759 -9760 -9761 -9762 -9763 -9764 -9765 -9766 -9767 -9768 -9769 -9770 -9771 -9772 -9773 -9774 -9775 -9776 -9777 -9778 -9779 -9780 -9781 -9782 -9783 -9784 -9785 -9786 -9787 -9788 -9789 -9790 -9791 -9792 -9793 -9794 -9795 -9796 -9797 -9798 -9799 -9800 -9801 -9802 -9803 -9804 -9805 -9806 -9807 -9808 -9809 -9810 -9811 -9812 -9813 -9814 -9815 -9816 -9817 -9818 -9819 -9820 -9821 -9822 -9823 -9824 -9825 -9826 -9827 -9828 -9829 -9830 -9831 -9832 -9833 -9834 -9835 -9836 -9837 -9838 -9839 -9840 -9841 -9842 -9843 -9844 -9845 -9846 -9847 -9848 -9849 -9850 -9851 -9852 -9853 -9854 -9855 -9856 -9857 -9858 -9859 -9860 -9861 -9862 -9863 -9864 -9865 -9866 -9867 -9868 -9869 -9870 -9871 -9872 -9873 -9874 -9875 -9876 -9877 -9878 -9879 -9880 -9881 -9882 -9883 -9884 -9885 -9886 -9887 -9888 -9889 -9890 -9891 -9892 -9893 -9894 -9895 -9896 -9897 -9898 -9899 -9900 -9901 -9902 -9903 -9904 -9905 -9906 -9907 -9908 -9909 -9910 -9911 -9912 -9913 -9914 -9915 -9916 -9917 -9918 -9919 -9920 -9921 -9922 -9923 -9924 -9925 -9926 -9927 -9928 -9929 -9930 -9931 -9932 -9933 -9934 -9935 -9936 -9937 -9938 -9939 -9940 -9941 -9942 -9943 -9944 -9945 -9946 -9947 -9948 -9949 -9950 -9951 -9952 -9953 -9954 -9955 -9956 -9957 -9958 -9959 -9960 -9961 -9962 -9963 -9964 -9965 -9966 -9967 -9968 -9969 -9970 -9971 -9972 -9973 -9974 -9975 -9976 -9977 -9978 -9979 -9980 -9981 -9982 -9983 -9984 -9985 -9986 -9987 -9988 -9989 -9990 -9991 -9992 -9993 -9994 -9995 -9996 -9997 -9998 -9999\n"
          ]
        }
      ]
    },
    {
      "cell_type": "markdown",
      "source": [
        "* [리마인더] 파라미터로 문자열의 리스트를 받아서 각 문자열의 앞 2글자만 추출하여 대문자로 변환한 값들로 구성된 리스트를 yourList에 할당한 후, 이를 출력하시오."
      ],
      "metadata": {
        "id": "Ub5HvBXnvFC5"
      }
    },
    {
      "cell_type": "code",
      "source": [
        "myList = [\"kor\",\"chn\",\"jpn\",\"usa\",\"can\"]\n",
        "\n",
        "#코드 작성. 지울것\n",
        "yourList= list(map(lambda x:x[:2].upper(),myList))\n",
        "print(yourList)"
      ],
      "metadata": {
        "colab": {
          "base_uri": "https://localhost:8080/"
        },
        "id": "N6UHm1HXvtWv",
        "outputId": "a32e3ef9-e1e3-44ad-d6a5-a1985c30fcab"
      },
      "execution_count": null,
      "outputs": [
        {
          "output_type": "stream",
          "name": "stdout",
          "text": [
            "['KO', 'CH', 'JP', 'US', 'CA']\n"
          ]
        }
      ]
    },
    {
      "cell_type": "markdown",
      "source": [
        "* [리마인더] map 함수는 2개 이상의 리스트도 적용 가능함을 기억하자."
      ],
      "metadata": {
        "id": "Sfv5mprxzy6e"
      }
    },
    {
      "cell_type": "code",
      "source": [
        "def mySum(x,y):\n",
        "  return x+y\n",
        "\n",
        "a = [1,2,3]\n",
        "b = [10,20,30]\n",
        "\n",
        "list(map(mySum,a,b))"
      ],
      "metadata": {
        "colab": {
          "base_uri": "https://localhost:8080/"
        },
        "id": "gZnODVpaz2Vg",
        "outputId": "b52c3480-8485-4ba3-8dd2-4edac7b56160"
      },
      "execution_count": null,
      "outputs": [
        {
          "output_type": "execute_result",
          "data": {
            "text/plain": [
              "[11, 22, 33]"
            ]
          },
          "metadata": {},
          "execution_count": 161
        }
      ]
    },
    {
      "cell_type": "markdown",
      "source": [
        "## filter(함수, 리스트)"
      ],
      "metadata": {
        "id": "KTIIUAnVwZZM"
      }
    },
    {
      "cell_type": "markdown",
      "source": [
        "* 주어진 nums 리스트의 값 중 짝수 아이템만으로 구성된 리스트를 반환하는 함수 get_evens() 를 구현하시오."
      ],
      "metadata": {
        "id": "2KlK9z33zJDR"
      }
    },
    {
      "cell_type": "code",
      "source": [
        "import random\n",
        "nums = [random.randint(1,100) for _ in range(100)]\n",
        "print(nums)"
      ],
      "metadata": {
        "colab": {
          "base_uri": "https://localhost:8080/"
        },
        "id": "vIoPLQCCz2cV",
        "outputId": "9d2ec5aa-2be0-47e5-b531-f1b05ba3a08b"
      },
      "execution_count": null,
      "outputs": [
        {
          "output_type": "stream",
          "name": "stdout",
          "text": [
            "[3, 44, 64, 64, 41, 61, 81, 54, 88, 5, 28, 7, 53, 17, 56, 6, 94, 13, 91, 21, 42, 46, 62, 70, 71, 16, 98, 39, 77, 28, 21, 93, 91, 60, 24, 42, 28, 9, 26, 6, 78, 42, 79, 75, 44, 69, 56, 21, 24, 95, 22, 3, 90, 28, 15, 65, 86, 98, 26, 97, 63, 60, 64, 81, 76, 51, 79, 46, 31, 55, 75, 77, 84, 46, 20, 47, 55, 30, 21, 41, 80, 34, 36, 46, 33, 56, 45, 70, 68, 95, 5, 79, 5, 21, 47, 21, 31, 29, 70, 42]\n"
          ]
        }
      ]
    },
    {
      "cell_type": "code",
      "source": [
        "get_evens = lambda lst:[i for i in lst if i%2==0]\n",
        "print(get_evens(nums))"
      ],
      "metadata": {
        "colab": {
          "base_uri": "https://localhost:8080/"
        },
        "id": "TdP49fxJ095i",
        "outputId": "bddbfb9c-698a-4d3b-a42f-42bc8ab7730f"
      },
      "execution_count": null,
      "outputs": [
        {
          "output_type": "stream",
          "name": "stdout",
          "text": [
            "[44, 64, 64, 54, 88, 28, 56, 6, 94, 42, 46, 62, 70, 16, 98, 28, 60, 24, 42, 28, 26, 6, 78, 42, 44, 56, 24, 22, 90, 28, 86, 98, 26, 60, 64, 76, 46, 84, 46, 20, 30, 80, 34, 36, 46, 56, 70, 68, 70, 42]\n"
          ]
        }
      ]
    },
    {
      "cell_type": "markdown",
      "source": [
        "* filter(함수, 리스트)\n",
        "  * 리스트의 아이템들을 파라미터로 함수에 전달해서 실행했을 때 True를 반환하도록 하는 아이템들만으로 이루어진 아이템으로 이루어진 filter 객체를 반환함."
      ],
      "metadata": {
        "id": "2krxY4yZ1Deo"
      }
    },
    {
      "cell_type": "code",
      "source": [
        "v = filter(lambda x:x%2==0, [1,2,3,4,5,6,7,8,9,10])"
      ],
      "metadata": {
        "id": "9mhW1jDfo90K"
      },
      "execution_count": null,
      "outputs": []
    },
    {
      "cell_type": "code",
      "source": [
        "print(v)\n",
        "print(type(v))"
      ],
      "metadata": {
        "colab": {
          "base_uri": "https://localhost:8080/"
        },
        "id": "TLYqPXIZpIf6",
        "outputId": "41feea9c-57f0-4dfe-93c6-5ac626a88bb4"
      },
      "execution_count": null,
      "outputs": [
        {
          "output_type": "stream",
          "name": "stdout",
          "text": [
            "<filter object at 0x79faf3d78e80>\n",
            "<class 'filter'>\n"
          ]
        }
      ]
    },
    {
      "cell_type": "code",
      "source": [
        "list(v)"
      ],
      "metadata": {
        "colab": {
          "base_uri": "https://localhost:8080/"
        },
        "id": "4qWXdn2hpE5L",
        "outputId": "cce0f05d-9ebe-4ffc-9a35-e6a574a4a993"
      },
      "execution_count": null,
      "outputs": [
        {
          "output_type": "execute_result",
          "data": {
            "text/plain": [
              "[]"
            ]
          },
          "metadata": {},
          "execution_count": 171
        }
      ]
    },
    {
      "cell_type": "markdown",
      "source": [
        "* list()변환까지 시켜주면, 리스트 반환"
      ],
      "metadata": {
        "id": "du2AKt2LpWjM"
      }
    },
    {
      "cell_type": "code",
      "source": [
        "list( filter(lambda x:x%2==0, [1,2,3,4,5,6,7,8,9,10]))"
      ],
      "metadata": {
        "colab": {
          "base_uri": "https://localhost:8080/"
        },
        "id": "z5MWcI0SpQn0",
        "outputId": "43f4f6d5-a121-4fef-9106-6bff356134a3"
      },
      "execution_count": null,
      "outputs": [
        {
          "output_type": "execute_result",
          "data": {
            "text/plain": [
              "[2, 4, 6, 8, 10]"
            ]
          },
          "metadata": {},
          "execution_count": 170
        }
      ]
    },
    {
      "cell_type": "code",
      "source": [
        "get_evens = lambda lst:list(filter(lambda x:x%2==0, lst))\n",
        "print(get_evens(nums))"
      ],
      "metadata": {
        "colab": {
          "base_uri": "https://localhost:8080/"
        },
        "id": "pq7bRyTJ1VO8",
        "outputId": "6e829c64-a20f-422c-8f4a-e04fbfe9127d"
      },
      "execution_count": null,
      "outputs": [
        {
          "output_type": "stream",
          "name": "stdout",
          "text": [
            "[44, 64, 64, 54, 88, 28, 56, 6, 94, 42, 46, 62, 70, 16, 98, 28, 60, 24, 42, 28, 26, 6, 78, 42, 44, 56, 24, 22, 90, 28, 86, 98, 26, 60, 64, 76, 46, 84, 46, 20, 30, 80, 34, 36, 46, 56, 70, 68, 70, 42]\n"
          ]
        }
      ]
    },
    {
      "cell_type": "markdown",
      "source": [
        "* 성능 체크\n",
        "  * list 타입으로 변환하지 않을 경우, filter의 연산이 훨씬 빠르다(30배 이상).\n",
        "  * filter() 결과는 시퀀스 타입이므로 for문에서 바로 사용이 가능함."
      ],
      "metadata": {
        "id": "a3fMs5tk1ZxI"
      }
    },
    {
      "cell_type": "code",
      "source": [
        "%%timeit\n",
        "[i for i in nums if i%2==0]"
      ],
      "metadata": {
        "colab": {
          "base_uri": "https://localhost:8080/"
        },
        "id": "kVX1ccJh2RFh",
        "outputId": "252bd9e4-d0f5-400c-8966-e2b14848d14e"
      },
      "execution_count": null,
      "outputs": [
        {
          "output_type": "stream",
          "name": "stdout",
          "text": [
            "3.68 µs ± 53.6 ns per loop (mean ± std. dev. of 7 runs, 100000 loops each)\n"
          ]
        }
      ]
    },
    {
      "cell_type": "code",
      "source": [
        "%%timeit\n",
        "filter(lambda x:x%2==0,nums)"
      ],
      "metadata": {
        "colab": {
          "base_uri": "https://localhost:8080/"
        },
        "id": "YmtKPZGk2fB8",
        "outputId": "973455b0-be18-48cf-9f38-4b87e8a210c0"
      },
      "execution_count": null,
      "outputs": [
        {
          "output_type": "stream",
          "name": "stdout",
          "text": [
            "122 ns ± 19.6 ns per loop (mean ± std. dev. of 7 runs, 10000000 loops each)\n"
          ]
        }
      ]
    },
    {
      "cell_type": "markdown",
      "source": [
        "* [팁] 측정 시간 단위 : [위키백과](https://ko.wikipedia.org/wiki/%ED%81%AC%EA%B8%B0_%EC%A0%95%EB%8F%84_(%EC%8B%9C%EA%B0%84)\n",
        "  * ms = $10^{-3}$s\n",
        "  * µs = $10^{-6}$s\n",
        "  * ns = $10^{-9}$s"
      ],
      "metadata": {
        "id": "xjXMPv8-2hKM"
      }
    },
    {
      "cell_type": "code",
      "source": [
        "for i in filter(lambda x:x%2==0,nums):\n",
        "  print(i,end=\";\")"
      ],
      "metadata": {
        "colab": {
          "base_uri": "https://localhost:8080/"
        },
        "id": "7CnF8Zqy3lUF",
        "outputId": "d6cf8dc3-fd79-4a4a-d1d0-12186710622d"
      },
      "execution_count": null,
      "outputs": [
        {
          "output_type": "stream",
          "name": "stdout",
          "text": [
            "44;64;64;54;88;28;56;6;94;42;46;62;70;16;98;28;60;24;42;28;26;6;78;42;44;56;24;22;90;28;86;98;26;60;64;76;46;84;46;20;30;80;34;36;46;56;70;68;70;42;"
          ]
        }
      ]
    },
    {
      "cell_type": "markdown",
      "source": [
        "* [체크] 주어진 myList 의 문자열 중에서 'a'를 포함하는 단어들만으로 구성된 yourList 리스트를 구한 후 단어들을 출력하시오."
      ],
      "metadata": {
        "id": "ulkYlx2R38z0"
      }
    },
    {
      "cell_type": "code",
      "source": [
        "myList = [\"apple\",\"banana\",\"cherry\",\"durian\",\"elderberry\",\"fig\",\"grape\"]"
      ],
      "metadata": {
        "id": "AzwoGvur4V5v"
      },
      "execution_count": null,
      "outputs": []
    },
    {
      "cell_type": "code",
      "source": [
        "#코드 작성. 지울것\n",
        "yourList = filter(lambda x:'a' in x, myList)\n",
        "print(*yourList)"
      ],
      "metadata": {
        "colab": {
          "base_uri": "https://localhost:8080/"
        },
        "id": "_ZDylesn4mKy",
        "outputId": "a7641292-fe8b-43ac-fa26-d5c509149b38"
      },
      "execution_count": null,
      "outputs": [
        {
          "output_type": "stream",
          "name": "stdout",
          "text": [
            "apple banana durian grape\n"
          ]
        }
      ]
    },
    {
      "cell_type": "markdown",
      "source": [
        "* [체크] filter()를 이용해서 myList의 문자열 중 'c' 또는 'C'로 시작하는 것만 출력하도록 코드를 작성하시오."
      ],
      "metadata": {
        "id": "ThMh_1UL5e32"
      }
    },
    {
      "cell_type": "code",
      "source": [
        "myList = [\"kor\",\"CH\",\"jpn\",\"usa\",\"can\",\"cherry\",\"hello\"]\n",
        "\n",
        "yourList = filter(lambda x:x[0].lower()=='c', myList)\n",
        "print(*yourList)"
      ],
      "metadata": {
        "colab": {
          "base_uri": "https://localhost:8080/"
        },
        "id": "ZXmUd6gl58OO",
        "outputId": "eea3ffa0-fffe-4f0e-e5d9-926a4461458e"
      },
      "execution_count": null,
      "outputs": [
        {
          "output_type": "stream",
          "name": "stdout",
          "text": [
            "CH can cherry\n"
          ]
        }
      ]
    },
    {
      "cell_type": "markdown",
      "source": [
        "* [체크] filter()를 이용해서 myList의 문자열의 길이가 6 이상인 것만 출력하도록 코드를 작성하시오."
      ],
      "metadata": {
        "id": "uMMJC3mwtA-F"
      }
    },
    {
      "cell_type": "code",
      "source": [
        "myList = ['apple','banana','cherry','durian','elderberry','fig','grape']\n",
        "\n",
        "#코드 작성. 지울것.\n",
        "print(*filter(lambda x:len(x)>5, myList))"
      ],
      "metadata": {
        "colab": {
          "base_uri": "https://localhost:8080/"
        },
        "id": "1hHrgIqftJh8",
        "outputId": "a5e3220c-86a3-4254-beb5-8a6cc908bf25"
      },
      "execution_count": null,
      "outputs": [
        {
          "output_type": "stream",
          "name": "stdout",
          "text": [
            "banana cherry durian elderberry\n"
          ]
        }
      ]
    },
    {
      "cell_type": "markdown",
      "source": [
        "## zip(리스트1, ... , 리스트n)"
      ],
      "metadata": {
        "id": "BoyMocPgiiw5"
      }
    },
    {
      "cell_type": "markdown",
      "source": [
        "* [체크] mySum(a,b)는 파라미터로 주어진 동일한 길이의 리스트 a,b에 대해 같은 인덱스에 있는 아이템들끼리 더한 값을 아이템으로 가지는 새로운 리스트를 반환한다. 이를 구현하시오."
      ],
      "metadata": {
        "id": "spFAS8FFsb4k"
      }
    },
    {
      "cell_type": "code",
      "source": [
        "def mySum(a,b):\n",
        "  t = []\n",
        "  for i in range(len(a)):\n",
        "    t.append(a[i]+b[i])\n",
        "  return t\n",
        "\n",
        "print(mySum([1,2,3],[10,20,30]))"
      ],
      "metadata": {
        "colab": {
          "base_uri": "https://localhost:8080/"
        },
        "id": "iBgE8cnhsyks",
        "outputId": "147431b2-ca56-4c3b-bb13-21fe17631d58"
      },
      "execution_count": null,
      "outputs": [
        {
          "output_type": "stream",
          "name": "stdout",
          "text": [
            "[11, 22, 33]\n"
          ]
        }
      ]
    },
    {
      "cell_type": "markdown",
      "source": [
        "* [체크] myZip()는 동일한 개수의 아이템을 가지는 리스트 2개를 입력받아서 각각의 리스트가 동일한 인덱스에 위치한 아이템들끼리 묶어서 만든 튜플을 아이템으로 가지는 새로운 리스트를 반환한다. myZip()을 구현하시오."
      ],
      "metadata": {
        "id": "IjwWVelSoJvC"
      }
    },
    {
      "cell_type": "code",
      "source": [
        "#코드 구현. 지울것\n",
        "def myZip(a,b):\n",
        "  t = []\n",
        "  for i in range(len(a)):\n",
        "    t.append((a[i],b[i]))\n",
        "  return t\n",
        "\n",
        "print(myZip([1,2,3,4,5],[6,7,8,9,10]))"
      ],
      "metadata": {
        "colab": {
          "base_uri": "https://localhost:8080/"
        },
        "id": "cYOiHBdEorF7",
        "outputId": "5667f065-27ef-4e56-ce55-ff22f16c1a4a"
      },
      "execution_count": null,
      "outputs": [
        {
          "output_type": "stream",
          "name": "stdout",
          "text": [
            "[(1, 6), (2, 7), (3, 8), (4, 9), (5, 10)]\n"
          ]
        }
      ]
    },
    {
      "cell_type": "markdown",
      "source": [
        "* 동일한 갯수의 아이템을 가진 n개의 리스트들을 전달인자로 받아서 동일한 인덱스에 있는 아이템들끼리 묶어서 만든 튜플을 아이템으로 가지는 리스트를 반환하는 함수 myZip()을 구현해보자."
      ],
      "metadata": {
        "id": "4VgzQ9p6itGi"
      }
    },
    {
      "cell_type": "code",
      "source": [
        "def myZip(*params):\n",
        "  count_of_list = len(params) #(리스트)아이템의 개수\n",
        "  len_of_a_list = len(params[0]) #(리스트)아이템 1개가 가지고 있는 아이템 개수\n",
        "\n",
        "  ret = []\n",
        "  for i in range(len_of_a_list):\n",
        "    t = []\n",
        "    for j in range(count_of_list):\n",
        "      t.append(params[j][i])\n",
        "    ret.append(tuple(t))\n",
        "  return ret\n",
        "\n",
        "print(myZip([1,2,3,4,5],[6,7,8,9,10]))\n",
        "print(myZip([1,2,3],[4,5,6],[7,8,9],[10,11,12]))"
      ],
      "metadata": {
        "colab": {
          "base_uri": "https://localhost:8080/"
        },
        "id": "9My7bqEgmgdp",
        "outputId": "4dce6303-ba8c-41b8-8ed0-a6fdbce1c16d"
      },
      "execution_count": null,
      "outputs": [
        {
          "output_type": "stream",
          "name": "stdout",
          "text": [
            "[(1, 6), (2, 7), (3, 8), (4, 9), (5, 10)]\n",
            "[(1, 4, 7, 10), (2, 5, 8, 11), (3, 6, 9, 12)]\n"
          ]
        }
      ]
    },
    {
      "cell_type": "markdown",
      "source": [
        "* 위의 코드를 리스트 축약과 lambda 함수를 이용해서 짧게 작성해보시오."
      ],
      "metadata": {
        "id": "7IAWUTVFpvFK"
      }
    },
    {
      "cell_type": "code",
      "source": [
        "myZip = lambda *params:[tuple(params[j][i] for j in range(len(params))) for i in range(len(params[0]))]\n",
        "\n",
        "print(myZip([1,2,3,4,5],[6,7,8,9,10]))\n",
        "print(myZip([1,2,3],[4,5,6],[7,8,9],[10,11,12]))"
      ],
      "metadata": {
        "colab": {
          "base_uri": "https://localhost:8080/"
        },
        "id": "M1R_rI88qf4K",
        "outputId": "00302057-e887-4666-9aba-92280c4aafa1"
      },
      "execution_count": null,
      "outputs": [
        {
          "output_type": "stream",
          "name": "stdout",
          "text": [
            "[(1, 6), (2, 7), (3, 8), (4, 9), (5, 10)]\n",
            "[(1, 4, 7, 10), (2, 5, 8, 11), (3, 6, 9, 12)]\n"
          ]
        }
      ]
    },
    {
      "cell_type": "markdown",
      "source": [
        "* zip(리스트1, ... , 리스트n)\n",
        "  * 리스트1, ... , 리스트n 각각에서 동일한 인덱스에 있는 아이템들끼리 묶은 튜플을 아이템으로 가지는 리스트를 반환한다."
      ],
      "metadata": {
        "id": "uf7xN5KPrgZI"
      }
    },
    {
      "cell_type": "code",
      "source": [
        "print(list(zip([1,2,3,4,5],[6,7,8,9,10])))\n",
        "print(list(zip([1,2,3],[4,5,6],[7,8,9],[10,11,12])))"
      ],
      "metadata": {
        "colab": {
          "base_uri": "https://localhost:8080/"
        },
        "id": "ojuv2ZKOrmC_",
        "outputId": "4a61e617-64cc-4527-f846-cbf32f54ba88"
      },
      "execution_count": null,
      "outputs": [
        {
          "output_type": "stream",
          "name": "stdout",
          "text": [
            "[(1, 6), (2, 7), (3, 8), (4, 9), (5, 10)]\n",
            "[(1, 4, 7, 10), (2, 5, 8, 11), (3, 6, 9, 12)]\n"
          ]
        }
      ]
    },
    {
      "cell_type": "markdown",
      "source": [
        "* zip() 함수를 이용해서 mySum(리스트1, ... 리스트n) 함수를 구현하시오.\n",
        "  * mySum() 함수는 길이가 동일한 리스트들을 파라미터로 받아서, 같은 인덱스에 있는 아이템들끼리 전부 더한 값을 아이템으로 가지는 새로운 리스트를 반환한다."
      ],
      "metadata": {
        "id": "OHHSZ8sltUBn"
      }
    },
    {
      "cell_type": "code",
      "source": [
        "#코드작성. 지울것.\n",
        "mySum = lambda *params: list(map(sum,zip(*params)))\n",
        "\n",
        "print(mySum([1,2,3],[4,5,6]))\n",
        "print(mySum([1,2,3,4,5],[10,20,30,40,50],[100,200,300,400,500]))"
      ],
      "metadata": {
        "colab": {
          "base_uri": "https://localhost:8080/"
        },
        "id": "0-1pTyMOtl-r",
        "outputId": "22fe3be2-c077-4f73-88e8-788d462906f2"
      },
      "execution_count": null,
      "outputs": [
        {
          "output_type": "stream",
          "name": "stdout",
          "text": [
            "[5, 7, 9]\n",
            "[111, 222, 333, 444, 555]\n"
          ]
        }
      ]
    },
    {
      "cell_type": "code",
      "source": [
        "list_of_list = [[1,2,3,4,5],[10,20,30,40,50],[100,200,300,400,500]]\n",
        "print(mySum(*list_of_list))"
      ],
      "metadata": {
        "colab": {
          "base_uri": "https://localhost:8080/"
        },
        "id": "f9Yn5cL520Wy",
        "outputId": "c590d47e-57d9-45db-c1b8-ed36517b2f84"
      },
      "execution_count": null,
      "outputs": [
        {
          "output_type": "stream",
          "name": "stdout",
          "text": [
            "[111, 222, 333, 444, 555]\n"
          ]
        }
      ]
    },
    {
      "cell_type": "markdown",
      "source": [
        "## reduce(함수, 리스트 [,초기값])"
      ],
      "metadata": {
        "id": "a5oq984_0IV_"
      }
    },
    {
      "cell_type": "markdown",
      "source": [
        "* 다음 코드를 살펴보자."
      ],
      "metadata": {
        "id": "YZ_kP4Wp0eml"
      }
    },
    {
      "cell_type": "code",
      "source": [
        "x=0\n",
        "for y in [1,2,3,4,5]:\n",
        "  x+=y\n",
        "\n",
        "print(x)"
      ],
      "metadata": {
        "colab": {
          "base_uri": "https://localhost:8080/"
        },
        "id": "skw0re920Ux-",
        "outputId": "5c27551c-42c6-418b-d2f3-ce19b1fc1061"
      },
      "execution_count": null,
      "outputs": [
        {
          "output_type": "stream",
          "name": "stdout",
          "text": [
            "15\n"
          ]
        }
      ]
    },
    {
      "cell_type": "markdown",
      "source": [
        "* reduce 함수를 이용해서 이를 구현해보자.\n",
        "  * reduce() 함수의 첫번째 인자 = 함수(x,y)\n",
        "    * x: 누적된 결과를 계속 받아서 전달되는 변수\n",
        "    * y: 리스트에서 아이템을 순서대로 하나씩 받아오는 변수"
      ],
      "metadata": {
        "id": "LWvVloqN0nwP"
      }
    },
    {
      "cell_type": "code",
      "source": [
        "from functools import reduce"
      ],
      "metadata": {
        "id": "EEQVVKUu0MS_"
      },
      "execution_count": null,
      "outputs": []
    },
    {
      "cell_type": "code",
      "source": [
        "reduce(lambda x,y:x+y, [1,2,3,4,5])"
      ],
      "metadata": {
        "colab": {
          "base_uri": "https://localhost:8080/"
        },
        "id": "9t9DoUgW0Qfz",
        "outputId": "60c64354-ae60-4b46-bfbd-67ecb27ace4f"
      },
      "execution_count": null,
      "outputs": [
        {
          "output_type": "execute_result",
          "data": {
            "text/plain": [
              "15"
            ]
          },
          "metadata": {},
          "execution_count": 204
        }
      ]
    },
    {
      "cell_type": "markdown",
      "source": [
        "* 초기값 설정도 가능하다."
      ],
      "metadata": {
        "id": "7G8Lm3Pb7rX-"
      }
    },
    {
      "cell_type": "code",
      "source": [
        "reduce(lambda x,y:x+y, [1,2,3,4,5],100)"
      ],
      "metadata": {
        "colab": {
          "base_uri": "https://localhost:8080/"
        },
        "id": "Zn5QmB2F3WzN",
        "outputId": "3a9b5bb2-b90d-4347-90b2-5a5481ddcf24"
      },
      "execution_count": null,
      "outputs": [
        {
          "output_type": "execute_result",
          "data": {
            "text/plain": [
              "115"
            ]
          },
          "metadata": {},
          "execution_count": 205
        }
      ]
    },
    {
      "cell_type": "markdown",
      "source": [
        "* 최대값을 구해보자."
      ],
      "metadata": {
        "id": "Tb08udbv3oPu"
      }
    },
    {
      "cell_type": "code",
      "source": [
        "reduce(lambda x,y:x if x>y else y, [1,2,10,4,5,20,15])"
      ],
      "metadata": {
        "colab": {
          "base_uri": "https://localhost:8080/"
        },
        "id": "ttK1Im7V3pjW",
        "outputId": "b69d7896-018e-42f9-a8c6-c1ca7dfaedc6"
      },
      "execution_count": null,
      "outputs": [
        {
          "output_type": "execute_result",
          "data": {
            "text/plain": [
              "20"
            ]
          },
          "metadata": {},
          "execution_count": 206
        }
      ]
    },
    {
      "cell_type": "markdown",
      "source": [
        "# 집합(set)"
      ],
      "metadata": {
        "id": "GAi5ELYe_Hjf"
      }
    },
    {
      "cell_type": "markdown",
      "source": [
        "## 집합 연산"
      ],
      "metadata": {
        "id": "wp9qVTj6gRX1"
      }
    },
    {
      "cell_type": "markdown",
      "source": [
        "* 다음 a,b 리스트를 각각 집합으로 만들어보자."
      ],
      "metadata": {
        "id": "5WxGG4ELJSf8"
      }
    },
    {
      "cell_type": "code",
      "source": [
        "a = [1,1,2,2,2,3,3,3,4]\n",
        "b = [3,3,4,4,4,5,5,5,6,6]\n",
        "print(a)\n",
        "print(b)"
      ],
      "metadata": {
        "id": "TfGhXPi6_SHl",
        "colab": {
          "base_uri": "https://localhost:8080/"
        },
        "outputId": "b74d74a3-641c-4a49-822a-c4e4bcb600ba"
      },
      "execution_count": null,
      "outputs": [
        {
          "output_type": "stream",
          "name": "stdout",
          "text": [
            "[1, 1, 2, 2, 2, 3, 3, 3, 4]\n",
            "[3, 3, 4, 4, 4, 5, 5, 5, 6, 6]\n"
          ]
        }
      ]
    },
    {
      "cell_type": "markdown",
      "source": [
        "* 집합(set)은 리스트나 튜플같은 시퀀스 데이터를 전달인자로 set() 객체를 생성하거나, { ... } 를 이용해서 값들을 나열하면 된다.\n",
        "  * 집합은 순서가 없다."
      ],
      "metadata": {
        "id": "SHn7-9MXOhzo"
      }
    },
    {
      "cell_type": "code",
      "source": [
        "a = set(a)\n",
        "b = set(b)\n",
        "c = {7,8,9,9,9,9}\n",
        "\n",
        "print(a)\n",
        "print(b)\n",
        "print(c)"
      ],
      "metadata": {
        "colab": {
          "base_uri": "https://localhost:8080/"
        },
        "id": "kkCkrsI4JVpD",
        "outputId": "245d5a25-6ac3-45a0-9505-e95f4f3e8e3a"
      },
      "execution_count": null,
      "outputs": [
        {
          "output_type": "stream",
          "name": "stdout",
          "text": [
            "{1, 2, 3, 4}\n",
            "{3, 4, 5, 6}\n",
            "{8, 9, 7}\n"
          ]
        }
      ]
    },
    {
      "cell_type": "markdown",
      "source": [
        "* add(): 집합에 원소 추가하기"
      ],
      "metadata": {
        "id": "oMv-ZA7MmMz-"
      }
    },
    {
      "cell_type": "code",
      "source": [
        "print(a)\n",
        "\n",
        "a.add(1)\n",
        "print(a)\n",
        "\n",
        "a.add(5)\n",
        "print(a)"
      ],
      "metadata": {
        "colab": {
          "base_uri": "https://localhost:8080/"
        },
        "id": "pl4oGBy8mTvH",
        "outputId": "4354f6ed-b7bf-4b22-ac56-3ac39c4bbcd5"
      },
      "execution_count": null,
      "outputs": [
        {
          "output_type": "stream",
          "name": "stdout",
          "text": [
            "{1, 2, 3, 4}\n",
            "{1, 2, 3, 4}\n",
            "{1, 2, 3, 4, 5}\n"
          ]
        }
      ]
    },
    {
      "cell_type": "markdown",
      "source": [
        "* remove(), discard(): 집합에서 원소 제거하기"
      ],
      "metadata": {
        "id": "xyTnf4dWmTSo"
      }
    },
    {
      "cell_type": "code",
      "source": [
        "print(a)\n",
        "\n",
        "a.remove(5)\n",
        "print(a)"
      ],
      "metadata": {
        "colab": {
          "base_uri": "https://localhost:8080/"
        },
        "id": "GPI7P_Z1mjiU",
        "outputId": "fedbafba-6b1f-41a7-ff7f-21f6c3371fbd"
      },
      "execution_count": null,
      "outputs": [
        {
          "output_type": "stream",
          "name": "stdout",
          "text": [
            "{1, 2, 3, 4, 5}\n",
            "{1, 2, 3, 4}\n"
          ]
        }
      ]
    },
    {
      "cell_type": "code",
      "source": [
        "print(a)\n",
        "\n",
        "a.discard(3)\n",
        "print(a)"
      ],
      "metadata": {
        "colab": {
          "base_uri": "https://localhost:8080/"
        },
        "id": "qV-EW7gTm7o_",
        "outputId": "a917501e-9a07-461e-de02-ff9bb0797dc5"
      },
      "execution_count": null,
      "outputs": [
        {
          "output_type": "stream",
          "name": "stdout",
          "text": [
            "{1, 2, 3, 4}\n",
            "{1, 2, 4}\n"
          ]
        }
      ]
    },
    {
      "cell_type": "markdown",
      "source": [
        "* update(): 집합에 원소들 추가하기"
      ],
      "metadata": {
        "id": "jFfXSnb1mn2c"
      }
    },
    {
      "cell_type": "code",
      "source": [
        "print(a)\n",
        "a.update([1,3,5,7])\n",
        "print(a)"
      ],
      "metadata": {
        "colab": {
          "base_uri": "https://localhost:8080/"
        },
        "id": "XZiAJIpAmuJD",
        "outputId": "1b5be36f-fda1-417c-a0b8-a0ab4fa2ade3"
      },
      "execution_count": null,
      "outputs": [
        {
          "output_type": "stream",
          "name": "stdout",
          "text": [
            "{1, 2, 4}\n",
            "{1, 2, 4, 3, 5, 7}\n"
          ]
        }
      ]
    },
    {
      "cell_type": "markdown",
      "source": [
        "* clear(): 모든 원소 삭제"
      ],
      "metadata": {
        "id": "ws_1V3QYmxIt"
      }
    },
    {
      "cell_type": "code",
      "source": [
        "print(a)\n",
        "a.clear()\n",
        "print(a)"
      ],
      "metadata": {
        "colab": {
          "base_uri": "https://localhost:8080/"
        },
        "id": "VI_Brgv6nPNb",
        "outputId": "01cae93f-4bc2-4b0c-c03d-c3747e875894"
      },
      "execution_count": null,
      "outputs": [
        {
          "output_type": "stream",
          "name": "stdout",
          "text": [
            "{1, 2, 4, 3, 5, 7}\n",
            "set()\n"
          ]
        }
      ]
    },
    {
      "cell_type": "markdown",
      "source": [
        "* 합집합: |"
      ],
      "metadata": {
        "id": "g1Y6fWE4Ouwg"
      }
    },
    {
      "cell_type": "code",
      "source": [
        "a = {1,2,3,4}\n",
        "b = {3,4,5,6}"
      ],
      "metadata": {
        "id": "wMgOV2IInYif"
      },
      "execution_count": null,
      "outputs": []
    },
    {
      "cell_type": "code",
      "source": [
        "print(a)\n",
        "print(b)\n",
        "\n",
        "print(a|b)"
      ],
      "metadata": {
        "colab": {
          "base_uri": "https://localhost:8080/"
        },
        "id": "rdwMD7JHO4Ow",
        "outputId": "ebdbaf3e-4d50-4f99-9bc1-a386f78d105e"
      },
      "execution_count": null,
      "outputs": [
        {
          "output_type": "stream",
          "name": "stdout",
          "text": [
            "{1, 2, 3, 4}\n",
            "{3, 4, 5, 6}\n",
            "{1, 2, 3, 4, 5, 6}\n"
          ]
        }
      ]
    },
    {
      "cell_type": "code",
      "source": [
        "a.union(b)"
      ],
      "metadata": {
        "colab": {
          "base_uri": "https://localhost:8080/"
        },
        "id": "PbIKIu0tnbtX",
        "outputId": "3a6bea2a-013c-4ae9-8099-d249165854e1"
      },
      "execution_count": null,
      "outputs": [
        {
          "output_type": "execute_result",
          "data": {
            "text/plain": [
              "{1, 2, 3, 4, 5, 6}"
            ]
          },
          "metadata": {},
          "execution_count": 220
        }
      ]
    },
    {
      "cell_type": "code",
      "source": [
        "print(a)\n",
        "print(b)"
      ],
      "metadata": {
        "colab": {
          "base_uri": "https://localhost:8080/"
        },
        "id": "yAX1bBJVnfpw",
        "outputId": "3c75eeb3-8ebb-4de1-d428-5e20bc97dcdf"
      },
      "execution_count": null,
      "outputs": [
        {
          "output_type": "stream",
          "name": "stdout",
          "text": [
            "{1, 2, 3, 4}\n",
            "{3, 4, 5, 6}\n"
          ]
        }
      ]
    },
    {
      "cell_type": "markdown",
      "source": [
        "* 교집합: &"
      ],
      "metadata": {
        "id": "OiDX49kBO5yO"
      }
    },
    {
      "cell_type": "code",
      "source": [
        "print(a)\n",
        "print(b)\n",
        "\n",
        "print(a&b)"
      ],
      "metadata": {
        "colab": {
          "base_uri": "https://localhost:8080/"
        },
        "id": "v-cUTFcOPD3t",
        "outputId": "c1ae14ed-051e-4849-9e6e-7fc24fa4ec5b"
      },
      "execution_count": null,
      "outputs": [
        {
          "output_type": "stream",
          "name": "stdout",
          "text": [
            "{1, 2, 3, 4}\n",
            "{3, 4, 5, 6}\n",
            "{3, 4}\n"
          ]
        }
      ]
    },
    {
      "cell_type": "code",
      "source": [
        "print(a.intersection(b))"
      ],
      "metadata": {
        "colab": {
          "base_uri": "https://localhost:8080/"
        },
        "id": "usa2pK0HnlAo",
        "outputId": "1848287d-627b-4429-bbc2-bf9b3328eaaa"
      },
      "execution_count": null,
      "outputs": [
        {
          "output_type": "stream",
          "name": "stdout",
          "text": [
            "{3, 4}\n"
          ]
        }
      ]
    },
    {
      "cell_type": "code",
      "source": [
        "print(a)\n",
        "print(b)"
      ],
      "metadata": {
        "colab": {
          "base_uri": "https://localhost:8080/"
        },
        "id": "ky0SK9Ld-ahB",
        "outputId": "6823358b-3dc1-440c-ceeb-08b1d80b016e"
      },
      "execution_count": null,
      "outputs": [
        {
          "output_type": "stream",
          "name": "stdout",
          "text": [
            "{1, 2, 3, 4}\n",
            "{3, 4, 5, 6}\n"
          ]
        }
      ]
    },
    {
      "cell_type": "markdown",
      "source": [
        "* 차집합: -"
      ],
      "metadata": {
        "id": "wnskz54ZPF-a"
      }
    },
    {
      "cell_type": "code",
      "source": [
        "print(a)\n",
        "print(b)\n",
        "\n",
        "print(a-b)"
      ],
      "metadata": {
        "colab": {
          "base_uri": "https://localhost:8080/"
        },
        "id": "DlfFDFWMPIm7",
        "outputId": "795498d7-d8bc-4cfb-bde3-c41195398387"
      },
      "execution_count": null,
      "outputs": [
        {
          "output_type": "stream",
          "name": "stdout",
          "text": [
            "{1, 2, 3, 4}\n",
            "{3, 4, 5, 6}\n",
            "{1, 2}\n"
          ]
        }
      ]
    },
    {
      "cell_type": "code",
      "source": [
        "print(a.difference(b))"
      ],
      "metadata": {
        "colab": {
          "base_uri": "https://localhost:8080/"
        },
        "id": "Isfyc4Z6ntTu",
        "outputId": "4a7a0d25-f28b-4807-d6e9-3560898c5fd0"
      },
      "execution_count": null,
      "outputs": [
        {
          "output_type": "stream",
          "name": "stdout",
          "text": [
            "{1, 2}\n"
          ]
        }
      ]
    },
    {
      "cell_type": "markdown",
      "source": [
        "* 배타적 합집합: ^"
      ],
      "metadata": {
        "id": "GFiV0LoEPKUi"
      }
    },
    {
      "cell_type": "code",
      "source": [
        "print(a)\n",
        "print(b)\n",
        "\n",
        "print(a^b)"
      ],
      "metadata": {
        "colab": {
          "base_uri": "https://localhost:8080/"
        },
        "id": "DhqlKgm3P8NI",
        "outputId": "9276d453-ceef-410b-de7a-65e1a18855d2"
      },
      "execution_count": null,
      "outputs": [
        {
          "output_type": "stream",
          "name": "stdout",
          "text": [
            "{1, 2, 3, 4}\n",
            "{3, 4, 5, 6}\n",
            "{1, 2, 5, 6}\n"
          ]
        }
      ]
    },
    {
      "cell_type": "code",
      "source": [
        "(a-b)|(b-a)"
      ],
      "metadata": {
        "colab": {
          "base_uri": "https://localhost:8080/"
        },
        "id": "Tri39YtjnyhJ",
        "outputId": "770a4c0a-ae25-4bbc-9b65-1c2720df4c20"
      },
      "execution_count": null,
      "outputs": [
        {
          "output_type": "execute_result",
          "data": {
            "text/plain": [
              "{1, 2, 5, 6}"
            ]
          },
          "metadata": {},
          "execution_count": 229
        }
      ]
    },
    {
      "cell_type": "code",
      "source": [
        "(a|b)-(a&b)"
      ],
      "metadata": {
        "colab": {
          "base_uri": "https://localhost:8080/"
        },
        "id": "MMRyYqiLn5Kb",
        "outputId": "ef567dde-5292-42ce-a9f6-db170435b1fe"
      },
      "execution_count": null,
      "outputs": [
        {
          "output_type": "execute_result",
          "data": {
            "text/plain": [
              "{1, 2, 5, 6}"
            ]
          },
          "metadata": {},
          "execution_count": 230
        }
      ]
    },
    {
      "cell_type": "markdown",
      "source": [
        "* 집합요소 포함여부: in"
      ],
      "metadata": {
        "id": "iq_7PXMrP9_n"
      }
    },
    {
      "cell_type": "code",
      "source": [
        "print(a)\n",
        "\n",
        "print(1 in a)\n",
        "print(7 in a)"
      ],
      "metadata": {
        "colab": {
          "base_uri": "https://localhost:8080/"
        },
        "id": "hbcC8uNrQo9a",
        "outputId": "91b705b6-c9a2-43ab-9717-88d756f1bf41"
      },
      "execution_count": null,
      "outputs": [
        {
          "output_type": "stream",
          "name": "stdout",
          "text": [
            "{1, 2, 3, 4}\n",
            "True\n",
            "False\n"
          ]
        }
      ]
    },
    {
      "cell_type": "markdown",
      "source": [
        "* 부분집합 : <, <=, >=, >"
      ],
      "metadata": {
        "id": "8FULU9HJQtXK"
      }
    },
    {
      "cell_type": "code",
      "source": [
        "print(a)\n",
        "print(a&b)"
      ],
      "metadata": {
        "colab": {
          "base_uri": "https://localhost:8080/"
        },
        "id": "tlCyiMHIQ1dL",
        "outputId": "f8d2b369-3382-468a-e540-1bba5f630934"
      },
      "execution_count": null,
      "outputs": [
        {
          "output_type": "stream",
          "name": "stdout",
          "text": [
            "{1, 2, 3, 4}\n",
            "{3, 4}\n"
          ]
        }
      ]
    },
    {
      "cell_type": "code",
      "source": [
        "print(a&b in a) # a&b는 a의 부분집합이지만, 집합요소는 아니다."
      ],
      "metadata": {
        "colab": {
          "base_uri": "https://localhost:8080/"
        },
        "id": "sdHPYGGxQ4IT",
        "outputId": "f0df3ccd-df7e-498c-ba83-3fe1f21e8f70"
      },
      "execution_count": null,
      "outputs": [
        {
          "output_type": "stream",
          "name": "stdout",
          "text": [
            "False\n"
          ]
        }
      ]
    },
    {
      "cell_type": "code",
      "source": [
        "print(a&b < a )\n",
        "print(a&b > a )"
      ],
      "metadata": {
        "colab": {
          "base_uri": "https://localhost:8080/"
        },
        "id": "4POy_m-zQ_-f",
        "outputId": "03d610a1-97f7-435e-a6a8-a80c874bbdc5"
      },
      "execution_count": null,
      "outputs": [
        {
          "output_type": "stream",
          "name": "stdout",
          "text": [
            "True\n",
            "False\n"
          ]
        }
      ]
    },
    {
      "cell_type": "code",
      "source": [
        "print({1,2,3,4} < a) #진부분집합인가?\n",
        "print({1,2,3,4} <= a)"
      ],
      "metadata": {
        "colab": {
          "base_uri": "https://localhost:8080/"
        },
        "id": "xWYkqJM5-xIH",
        "outputId": "103d5afe-b9ac-4e93-f1f5-02106dfb78af"
      },
      "execution_count": null,
      "outputs": [
        {
          "output_type": "stream",
          "name": "stdout",
          "text": [
            "False\n",
            "True\n"
          ]
        }
      ]
    },
    {
      "cell_type": "markdown",
      "source": [
        "## 집합 축약(set comprehension)"
      ],
      "metadata": {
        "id": "cuKEOjL_RFu2"
      }
    },
    {
      "cell_type": "code",
      "source": [
        "import random\n",
        "random_numbers = [random.randint(1,10) for _ in range(10)]\n",
        "print(random_numbers)\n",
        "\n",
        "s = {i for i in random_numbers}\n",
        "print(s)\n",
        "\n",
        "s = {i for i in random_numbers if i%2==0}\n",
        "print(s)"
      ],
      "metadata": {
        "colab": {
          "base_uri": "https://localhost:8080/"
        },
        "id": "kF6QdfnWgVu7",
        "outputId": "4153c3d0-a6a3-4450-ee90-e05df7baa958"
      },
      "execution_count": null,
      "outputs": [
        {
          "output_type": "stream",
          "name": "stdout",
          "text": [
            "[7, 7, 5, 4, 9, 10, 8, 6, 10, 3]\n",
            "{3, 4, 5, 6, 7, 8, 9, 10}\n",
            "{8, 10, 4, 6}\n"
          ]
        }
      ]
    },
    {
      "cell_type": "markdown",
      "source": [
        "# collections의 주요 모듈\n",
        "* 리스트, 튜플, 딕셔너리 등을 확장한 파이썬의 내장 모듈"
      ],
      "metadata": {
        "id": "lv1Xxh_Vgk4_"
      }
    },
    {
      "cell_type": "markdown",
      "source": [
        "## deque"
      ],
      "metadata": {
        "id": "Zp-26Y6uplyZ"
      }
    },
    {
      "cell_type": "markdown",
      "source": [
        "* 스택(stack)과 큐(queue)를 모두 지원"
      ],
      "metadata": {
        "id": "JDM_SQeqpo2j"
      }
    },
    {
      "cell_type": "code",
      "source": [
        "from collections import deque"
      ],
      "metadata": {
        "id": "5tCGwS_mp7E7"
      },
      "execution_count": null,
      "outputs": []
    },
    {
      "cell_type": "markdown",
      "source": [
        "* 데이터의 입력"
      ],
      "metadata": {
        "id": "g8qZbku_qFvW"
      }
    },
    {
      "cell_type": "code",
      "source": [
        "d = deque()\n",
        "for i in range(5):\n",
        "  d.append(i)\n",
        "\n",
        "print(d)"
      ],
      "metadata": {
        "colab": {
          "base_uri": "https://localhost:8080/"
        },
        "id": "1k3asOmup-Wb",
        "outputId": "7fa03ced-7268-47b1-c01e-65c6b9b6b29f"
      },
      "execution_count": null,
      "outputs": [
        {
          "output_type": "stream",
          "name": "stdout",
          "text": [
            "deque([0, 1, 2, 3, 4])\n"
          ]
        }
      ]
    },
    {
      "cell_type": "markdown",
      "source": [
        "* 데이터의 추출"
      ],
      "metadata": {
        "id": "D-1vohprqEaI"
      }
    },
    {
      "cell_type": "code",
      "source": [
        "d.pop()"
      ],
      "metadata": {
        "id": "OSPxozxyqMDD",
        "colab": {
          "base_uri": "https://localhost:8080/"
        },
        "outputId": "f1b3601c-a4be-4a2f-f247-737ad48a923d"
      },
      "execution_count": null,
      "outputs": [
        {
          "output_type": "execute_result",
          "data": {
            "text/plain": [
              "4"
            ]
          },
          "metadata": {},
          "execution_count": 243
        }
      ]
    },
    {
      "cell_type": "code",
      "source": [
        "d"
      ],
      "metadata": {
        "colab": {
          "base_uri": "https://localhost:8080/"
        },
        "id": "W310NtJhqQkm",
        "outputId": "be494b0b-89cf-439e-b680-75fd401e120e"
      },
      "execution_count": null,
      "outputs": [
        {
          "output_type": "execute_result",
          "data": {
            "text/plain": [
              "deque([0, 1, 2, 3])"
            ]
          },
          "metadata": {},
          "execution_count": 244
        }
      ]
    },
    {
      "cell_type": "code",
      "source": [
        "d.pop()"
      ],
      "metadata": {
        "colab": {
          "base_uri": "https://localhost:8080/"
        },
        "id": "g3Ocb6-wqSNY",
        "outputId": "ca0b7ccb-5a51-4067-ffe2-77fe4d6622cc"
      },
      "execution_count": null,
      "outputs": [
        {
          "output_type": "execute_result",
          "data": {
            "text/plain": [
              "3"
            ]
          },
          "metadata": {},
          "execution_count": 246
        }
      ]
    },
    {
      "cell_type": "code",
      "source": [
        "d"
      ],
      "metadata": {
        "colab": {
          "base_uri": "https://localhost:8080/"
        },
        "id": "LKdlZte7qUIU",
        "outputId": "38afa927-50b5-469b-ceaa-9d2eecfe9487"
      },
      "execution_count": null,
      "outputs": [
        {
          "output_type": "execute_result",
          "data": {
            "text/plain": [
              "deque([0, 1, 2])"
            ]
          },
          "metadata": {},
          "execution_count": 247
        }
      ]
    },
    {
      "cell_type": "markdown",
      "source": [
        "* deque 는 appendleft()를 이용해서 양쪽 방향에서 append()가 가능하다.\n",
        "  * 즉, deque는 양방향 삽입을 지원\n",
        "  * 리스트.insert(0, 아이템) 와 같은 기능"
      ],
      "metadata": {
        "id": "1yGEvmn8qUmV"
      }
    },
    {
      "cell_type": "code",
      "source": [
        "d.appendleft(-1)"
      ],
      "metadata": {
        "id": "jFVQRXc-qPYw"
      },
      "execution_count": null,
      "outputs": []
    },
    {
      "cell_type": "code",
      "source": [
        "d"
      ],
      "metadata": {
        "colab": {
          "base_uri": "https://localhost:8080/"
        },
        "id": "8xpYUulOqnYk",
        "outputId": "022380c9-aea5-40a1-821a-218ecf69156a"
      },
      "execution_count": null,
      "outputs": [
        {
          "output_type": "execute_result",
          "data": {
            "text/plain": [
              "deque([-1, 0, 1, 2])"
            ]
          },
          "metadata": {},
          "execution_count": 249
        }
      ]
    },
    {
      "cell_type": "code",
      "source": [
        "d.appendleft(-2)"
      ],
      "metadata": {
        "id": "cpL48f5Yqn5u"
      },
      "execution_count": null,
      "outputs": []
    },
    {
      "cell_type": "code",
      "source": [
        "d"
      ],
      "metadata": {
        "colab": {
          "base_uri": "https://localhost:8080/"
        },
        "id": "9VctJY0Eqpeh",
        "outputId": "08d97e41-1eaa-438d-ad01-5466869f4beb"
      },
      "execution_count": null,
      "outputs": [
        {
          "output_type": "execute_result",
          "data": {
            "text/plain": [
              "deque([-2, -1, 0, 1, 2])"
            ]
          },
          "metadata": {},
          "execution_count": 251
        }
      ]
    },
    {
      "cell_type": "markdown",
      "source": [
        "* 리스트의 insert()를 이용해서 같은 연산을 해보자."
      ],
      "metadata": {
        "id": "uVLATnpDq7jU"
      }
    },
    {
      "cell_type": "code",
      "source": [
        "myList = [0,1,2]\n",
        "myList.insert(0,-1)\n",
        "myList"
      ],
      "metadata": {
        "colab": {
          "base_uri": "https://localhost:8080/"
        },
        "id": "hSVA2WXbrIlG",
        "outputId": "a464e6ad-17b8-4ec3-a4ff-82d6a35aae89"
      },
      "execution_count": null,
      "outputs": [
        {
          "output_type": "execute_result",
          "data": {
            "text/plain": [
              "[-1, 0, 1, 2]"
            ]
          },
          "metadata": {},
          "execution_count": 252
        }
      ]
    },
    {
      "cell_type": "code",
      "source": [
        "myList.insert(0,-2)\n",
        "myList"
      ],
      "metadata": {
        "colab": {
          "base_uri": "https://localhost:8080/"
        },
        "id": "RI-GUu-lrVhC",
        "outputId": "03368a43-95e9-4351-cb45-6733b8e05ae9"
      },
      "execution_count": null,
      "outputs": [
        {
          "output_type": "execute_result",
          "data": {
            "text/plain": [
              "[-2, -1, 0, 1, 2]"
            ]
          },
          "metadata": {},
          "execution_count": 253
        }
      ]
    },
    {
      "cell_type": "markdown",
      "source": [
        "* 성능은 어떤 것이 좋을까?"
      ],
      "metadata": {
        "id": "GoAff_elru3x"
      }
    },
    {
      "cell_type": "code",
      "source": [
        "%%time\n",
        "myList = []\n",
        "for i in range(10000):\n",
        "  myList.insert(0,i)"
      ],
      "metadata": {
        "colab": {
          "base_uri": "https://localhost:8080/"
        },
        "id": "gutjN08DrXcP",
        "outputId": "f0a22d71-8d50-4b9e-c706-d0fc9aa611ee"
      },
      "execution_count": null,
      "outputs": [
        {
          "output_type": "stream",
          "name": "stdout",
          "text": [
            "CPU times: user 24.2 ms, sys: 0 ns, total: 24.2 ms\n",
            "Wall time: 24.3 ms\n"
          ]
        }
      ]
    },
    {
      "cell_type": "code",
      "source": [
        "%%time\n",
        "myDeque = deque()\n",
        "for i in range(10000):\n",
        "  myDeque.appendleft(i)"
      ],
      "metadata": {
        "colab": {
          "base_uri": "https://localhost:8080/"
        },
        "id": "eDVNigQere1y",
        "outputId": "d7cdb188-c30d-4a1e-b79b-3cc0268140ee"
      },
      "execution_count": null,
      "outputs": [
        {
          "output_type": "stream",
          "name": "stdout",
          "text": [
            "CPU times: user 1.1 ms, sys: 0 ns, total: 1.1 ms\n",
            "Wall time: 1.1 ms\n"
          ]
        }
      ]
    },
    {
      "cell_type": "markdown",
      "source": [
        "* rotate() : 아이템들의 위치를 전체적으로 이동시킨다.\n",
        "  * 연결리스트로 구현이 가능한데, deque()는 이러한 효과를 제공한다. 리스트로는 아이템의 인덱스가 고정되어 있어 위치 이동이 어렵거나, 비용이 많이 발생한다."
      ],
      "metadata": {
        "id": "6ULjJMoUsaaH"
      }
    },
    {
      "cell_type": "code",
      "source": [
        "d = deque()\n",
        "for i in range(10):\n",
        "  d.append(i)\n",
        "print(d)"
      ],
      "metadata": {
        "colab": {
          "base_uri": "https://localhost:8080/"
        },
        "id": "x6ml5ZUQspx4",
        "outputId": "1e529ff6-13a6-4f55-e093-046088164660"
      },
      "execution_count": null,
      "outputs": [
        {
          "output_type": "stream",
          "name": "stdout",
          "text": [
            "deque([0, 1, 2, 3, 4, 5, 6, 7, 8, 9])\n"
          ]
        }
      ]
    },
    {
      "cell_type": "code",
      "source": [
        "d.rotate(1)\n",
        "d"
      ],
      "metadata": {
        "colab": {
          "base_uri": "https://localhost:8080/"
        },
        "id": "qoD5sepJs6ML",
        "outputId": "24fe8d5a-d795-4fc1-ecf1-e766c47a06de"
      },
      "execution_count": null,
      "outputs": [
        {
          "output_type": "execute_result",
          "data": {
            "text/plain": [
              "deque([9, 0, 1, 2, 3, 4, 5, 6, 7, 8])"
            ]
          },
          "metadata": {},
          "execution_count": 257
        }
      ]
    },
    {
      "cell_type": "code",
      "source": [
        "d.rotate(2)\n",
        "d"
      ],
      "metadata": {
        "colab": {
          "base_uri": "https://localhost:8080/"
        },
        "id": "S1Qdchsfs-i1",
        "outputId": "fb7c212d-28b8-489a-e2db-5006ddc7cf38"
      },
      "execution_count": null,
      "outputs": [
        {
          "output_type": "execute_result",
          "data": {
            "text/plain": [
              "deque([7, 8, 9, 0, 1, 2, 3, 4, 5, 6])"
            ]
          },
          "metadata": {},
          "execution_count": 258
        }
      ]
    },
    {
      "cell_type": "code",
      "source": [
        "d.rotate(-3)\n",
        "d"
      ],
      "metadata": {
        "colab": {
          "base_uri": "https://localhost:8080/"
        },
        "id": "EpErAfhztAbn",
        "outputId": "997ab43d-a68e-4ce3-c75a-e2d28194b642"
      },
      "execution_count": null,
      "outputs": [
        {
          "output_type": "execute_result",
          "data": {
            "text/plain": [
              "deque([0, 1, 2, 3, 4, 5, 6, 7, 8, 9])"
            ]
          },
          "metadata": {},
          "execution_count": 259
        }
      ]
    },
    {
      "cell_type": "markdown",
      "source": [
        "* reversed() : 뒤집는다."
      ],
      "metadata": {
        "id": "_-ck_9NktDhR"
      }
    },
    {
      "cell_type": "code",
      "source": [
        "deque(reversed(d))"
      ],
      "metadata": {
        "colab": {
          "base_uri": "https://localhost:8080/"
        },
        "id": "5XKVC0z1tXw6",
        "outputId": "2795ea59-6528-4fc3-d596-28f2a64266a8"
      },
      "execution_count": null,
      "outputs": [
        {
          "output_type": "execute_result",
          "data": {
            "text/plain": [
              "deque([9, 8, 7, 6, 5, 4, 3, 2, 1, 0])"
            ]
          },
          "metadata": {},
          "execution_count": 260
        }
      ]
    },
    {
      "cell_type": "code",
      "source": [
        "d"
      ],
      "metadata": {
        "colab": {
          "base_uri": "https://localhost:8080/"
        },
        "id": "tqdPG-x4xBBS",
        "outputId": "07555b1a-f46c-4d9e-869a-d5870fd85742"
      },
      "execution_count": null,
      "outputs": [
        {
          "output_type": "execute_result",
          "data": {
            "text/plain": [
              "deque([0, 1, 2, 3, 4, 5, 6, 7, 8, 9])"
            ]
          },
          "metadata": {},
          "execution_count": 261
        }
      ]
    },
    {
      "cell_type": "code",
      "source": [
        "d.reverse()"
      ],
      "metadata": {
        "id": "6j_eggUKxCId"
      },
      "execution_count": null,
      "outputs": []
    },
    {
      "cell_type": "code",
      "source": [
        "d"
      ],
      "metadata": {
        "colab": {
          "base_uri": "https://localhost:8080/"
        },
        "id": "iPXsqA_DxDl9",
        "outputId": "5d66c4ff-0230-4a18-f73d-5deb14d638a1"
      },
      "execution_count": null,
      "outputs": [
        {
          "output_type": "execute_result",
          "data": {
            "text/plain": [
              "deque([9, 8, 7, 6, 5, 4, 3, 2, 1, 0])"
            ]
          },
          "metadata": {},
          "execution_count": 263
        }
      ]
    },
    {
      "cell_type": "markdown",
      "source": [
        "* 리스트[::-1], 리스트.reverse()와 성능을 비교해보자."
      ],
      "metadata": {
        "id": "abFumWZLtEBu"
      }
    },
    {
      "cell_type": "code",
      "source": [
        "my_list = list(range(1,100))\n",
        "my_deque = deque(my_list)"
      ],
      "metadata": {
        "id": "q2p6o-JWtlrZ"
      },
      "execution_count": null,
      "outputs": []
    },
    {
      "cell_type": "code",
      "source": [
        "print(my_list)"
      ],
      "metadata": {
        "colab": {
          "base_uri": "https://localhost:8080/"
        },
        "id": "z83gGy1atzOd",
        "outputId": "8306b8e4-3b9d-4352-ae87-da7bd6706b28"
      },
      "execution_count": null,
      "outputs": [
        {
          "output_type": "stream",
          "name": "stdout",
          "text": [
            "[1, 2, 3, 4, 5, 6, 7, 8, 9, 10, 11, 12, 13, 14, 15, 16, 17, 18, 19, 20, 21, 22, 23, 24, 25, 26, 27, 28, 29, 30, 31, 32, 33, 34, 35, 36, 37, 38, 39, 40, 41, 42, 43, 44, 45, 46, 47, 48, 49, 50, 51, 52, 53, 54, 55, 56, 57, 58, 59, 60, 61, 62, 63, 64, 65, 66, 67, 68, 69, 70, 71, 72, 73, 74, 75, 76, 77, 78, 79, 80, 81, 82, 83, 84, 85, 86, 87, 88, 89, 90, 91, 92, 93, 94, 95, 96, 97, 98, 99]\n"
          ]
        }
      ]
    },
    {
      "cell_type": "code",
      "source": [
        "print(my_deque)"
      ],
      "metadata": {
        "colab": {
          "base_uri": "https://localhost:8080/"
        },
        "id": "BzvGhUJrt05e",
        "outputId": "9a419671-7c02-485b-bd94-d897bb122819"
      },
      "execution_count": null,
      "outputs": [
        {
          "output_type": "stream",
          "name": "stdout",
          "text": [
            "deque([1, 2, 3, 4, 5, 6, 7, 8, 9, 10, 11, 12, 13, 14, 15, 16, 17, 18, 19, 20, 21, 22, 23, 24, 25, 26, 27, 28, 29, 30, 31, 32, 33, 34, 35, 36, 37, 38, 39, 40, 41, 42, 43, 44, 45, 46, 47, 48, 49, 50, 51, 52, 53, 54, 55, 56, 57, 58, 59, 60, 61, 62, 63, 64, 65, 66, 67, 68, 69, 70, 71, 72, 73, 74, 75, 76, 77, 78, 79, 80, 81, 82, 83, 84, 85, 86, 87, 88, 89, 90, 91, 92, 93, 94, 95, 96, 97, 98, 99])\n"
          ]
        }
      ]
    },
    {
      "cell_type": "code",
      "source": [
        "%%time\n",
        "for i in range(10000):\n",
        "  my_list = my_list[::-1]"
      ],
      "metadata": {
        "colab": {
          "base_uri": "https://localhost:8080/"
        },
        "id": "-WLVLmjqwvE0",
        "outputId": "da2c800c-1cca-4d32-99c5-1671c768098d"
      },
      "execution_count": null,
      "outputs": [
        {
          "output_type": "stream",
          "name": "stdout",
          "text": [
            "CPU times: user 2.96 ms, sys: 0 ns, total: 2.96 ms\n",
            "Wall time: 2.97 ms\n"
          ]
        }
      ]
    },
    {
      "cell_type": "code",
      "source": [
        "%%time\n",
        "for i in range(10000):\n",
        "  my_list.reverse()"
      ],
      "metadata": {
        "colab": {
          "base_uri": "https://localhost:8080/"
        },
        "id": "0HgxHNNBxScE",
        "outputId": "8d013517-aa42-4acb-a059-680f22b2bc6c"
      },
      "execution_count": null,
      "outputs": [
        {
          "output_type": "stream",
          "name": "stdout",
          "text": [
            "CPU times: user 1.3 ms, sys: 0 ns, total: 1.3 ms\n",
            "Wall time: 1.31 ms\n"
          ]
        }
      ]
    },
    {
      "cell_type": "code",
      "source": [
        "%%time\n",
        "for i in range(10000):\n",
        "  my_deque.reverse()"
      ],
      "metadata": {
        "colab": {
          "base_uri": "https://localhost:8080/"
        },
        "id": "vrXlEbnqw3sp",
        "outputId": "a334f623-f6cf-49a7-d96b-6ee64f547c00"
      },
      "execution_count": null,
      "outputs": [
        {
          "output_type": "stream",
          "name": "stdout",
          "text": [
            "CPU times: user 1.61 ms, sys: 0 ns, total: 1.61 ms\n",
            "Wall time: 1.62 ms\n"
          ]
        }
      ]
    },
    {
      "cell_type": "markdown",
      "source": [
        "* appendleft() 처럼 extendleft()도 제공한다.\n",
        "  * 확장될 때 아이템이 들어가는 순서에 주의할 것 → 차례대로 왼쪽에 추가(append)된다."
      ],
      "metadata": {
        "id": "e3HAed2bt1d0"
      }
    },
    {
      "cell_type": "code",
      "source": [
        "d = deque([1,2,3])\n",
        "d"
      ],
      "metadata": {
        "colab": {
          "base_uri": "https://localhost:8080/"
        },
        "id": "aYdo2aCDxgoZ",
        "outputId": "08fcb88f-77c0-449c-c525-c5979bca3153"
      },
      "execution_count": null,
      "outputs": [
        {
          "output_type": "execute_result",
          "data": {
            "text/plain": [
              "deque([1, 2, 3])"
            ]
          },
          "metadata": {},
          "execution_count": 275
        }
      ]
    },
    {
      "cell_type": "code",
      "source": [
        "d.extendleft([0,-1,-2])\n",
        "d"
      ],
      "metadata": {
        "colab": {
          "base_uri": "https://localhost:8080/"
        },
        "id": "nTRSwIHXxk3k",
        "outputId": "bd01fda0-c80d-4f5f-9e00-a63147ed0703"
      },
      "execution_count": null,
      "outputs": [
        {
          "output_type": "execute_result",
          "data": {
            "text/plain": [
              "deque([-2, -1, 0, 1, 2, 3])"
            ]
          },
          "metadata": {},
          "execution_count": 276
        }
      ]
    },
    {
      "cell_type": "markdown",
      "source": [
        "## OrderedDict"
      ],
      "metadata": {
        "id": "sbWprSUOyCm5"
      }
    },
    {
      "cell_type": "markdown",
      "source": [
        "* 이미 살펴봤던 모듈로, 순서를 보장하는 딕셔너리 객체를 제공한다.\n",
        "  * 기본 딕셔너리는 환경이나 상황에 따라 아이템의 순서를 보장하지 않는다.\n",
        "    * 상황이나 환경에 따라 저장된 아이템들의 순서가 다를 수 있다."
      ],
      "metadata": {
        "id": "hmUSWD6kyERh"
      }
    },
    {
      "cell_type": "code",
      "source": [
        "from collections import OrderedDict\n",
        "\n",
        "d = OrderedDict()\n",
        "d['a'] = 1\n",
        "d['b'] = 2\n",
        "d['c'] = 3"
      ],
      "metadata": {
        "id": "nJ_fhDdzyJf1"
      },
      "execution_count": null,
      "outputs": []
    },
    {
      "cell_type": "code",
      "source": [
        "d"
      ],
      "metadata": {
        "colab": {
          "base_uri": "https://localhost:8080/"
        },
        "id": "F3ml2el0yT5F",
        "outputId": "1bce4fb2-2ce3-48e5-e959-1fb1412c6cc5"
      },
      "execution_count": null,
      "outputs": [
        {
          "output_type": "execute_result",
          "data": {
            "text/plain": [
              "OrderedDict([('a', 1), ('b', 2), ('c', 3)])"
            ]
          },
          "metadata": {},
          "execution_count": 278
        }
      ]
    },
    {
      "cell_type": "markdown",
      "source": [
        "## defaultdict"
      ],
      "metadata": {
        "id": "a7L3zWMtyUE8"
      }
    },
    {
      "cell_type": "markdown",
      "source": [
        "* 이미 살펴봤던 모듈로, 딕셔너리가 타입에 따라 기본값을 제공하도록 해준다.\n",
        "  * 기본 딕셔너리는 key에 해당하는 아이템이 없는 경우 에러가 발생한다.\n",
        "    * defaultdict 는 에러를 발생시키는 대신, 기본값을 반환한다."
      ],
      "metadata": {
        "id": "ZINgiumny6TJ"
      }
    },
    {
      "cell_type": "code",
      "source": [
        "d = dict()\n",
        "d[\"apple\"]"
      ],
      "metadata": {
        "colab": {
          "base_uri": "https://localhost:8080/",
          "height": 195
        },
        "id": "Li4E6athzC95",
        "outputId": "6972e374-099d-4e4e-ddb9-28056ed82787"
      },
      "execution_count": null,
      "outputs": [
        {
          "output_type": "error",
          "ename": "KeyError",
          "evalue": "ignored",
          "traceback": [
            "\u001b[0;31m---------------------------------------------------------------------------\u001b[0m",
            "\u001b[0;31mKeyError\u001b[0m                                  Traceback (most recent call last)",
            "\u001b[0;32m<ipython-input-279-fe97668beacf>\u001b[0m in \u001b[0;36m<cell line: 2>\u001b[0;34m()\u001b[0m\n\u001b[1;32m      1\u001b[0m \u001b[0md\u001b[0m \u001b[0;34m=\u001b[0m \u001b[0mdict\u001b[0m\u001b[0;34m(\u001b[0m\u001b[0;34m)\u001b[0m\u001b[0;34m\u001b[0m\u001b[0;34m\u001b[0m\u001b[0m\n\u001b[0;32m----> 2\u001b[0;31m \u001b[0md\u001b[0m\u001b[0;34m[\u001b[0m\u001b[0;34m\"apple\"\u001b[0m\u001b[0;34m]\u001b[0m\u001b[0;34m\u001b[0m\u001b[0;34m\u001b[0m\u001b[0m\n\u001b[0m",
            "\u001b[0;31mKeyError\u001b[0m: 'apple'"
          ]
        }
      ]
    },
    {
      "cell_type": "code",
      "source": [
        "from collections import defaultdict\n",
        "\n",
        "d = defaultdict(str)\n",
        "d['apple']"
      ],
      "metadata": {
        "colab": {
          "base_uri": "https://localhost:8080/",
          "height": 35
        },
        "id": "5OfakFTFzQPu",
        "outputId": "a4375f42-4fcc-4924-d8de-52fa7b4ff089"
      },
      "execution_count": null,
      "outputs": [
        {
          "output_type": "execute_result",
          "data": {
            "text/plain": [
              "''"
            ],
            "application/vnd.google.colaboratory.intrinsic+json": {
              "type": "string"
            }
          },
          "metadata": {},
          "execution_count": 280
        }
      ]
    },
    {
      "cell_type": "code",
      "source": [
        "d = defaultdict(int)\n",
        "d['apple']"
      ],
      "metadata": {
        "colab": {
          "base_uri": "https://localhost:8080/"
        },
        "id": "C9MJUyNyzZ_x",
        "outputId": "695c6595-6fd2-4bf8-bc28-6aac6808334d"
      },
      "execution_count": null,
      "outputs": [
        {
          "output_type": "execute_result",
          "data": {
            "text/plain": [
              "0"
            ]
          },
          "metadata": {},
          "execution_count": 281
        }
      ]
    },
    {
      "cell_type": "code",
      "source": [
        "d = defaultdict(float)\n",
        "d['apple']"
      ],
      "metadata": {
        "colab": {
          "base_uri": "https://localhost:8080/"
        },
        "id": "socr5tukzyJ_",
        "outputId": "d8a949f0-5362-4061-cb1d-c3c5773daf21"
      },
      "execution_count": null,
      "outputs": [
        {
          "output_type": "execute_result",
          "data": {
            "text/plain": [
              "0.0"
            ]
          },
          "metadata": {},
          "execution_count": 282
        }
      ]
    },
    {
      "cell_type": "code",
      "source": [
        "d = defaultdict(list)\n",
        "d['apple']"
      ],
      "metadata": {
        "colab": {
          "base_uri": "https://localhost:8080/"
        },
        "id": "JRyT1pSIz0cz",
        "outputId": "aa31bf53-64c6-457c-d011-d4f6e4f00555"
      },
      "execution_count": null,
      "outputs": [
        {
          "output_type": "execute_result",
          "data": {
            "text/plain": [
              "[]"
            ]
          },
          "metadata": {},
          "execution_count": 283
        }
      ]
    },
    {
      "cell_type": "code",
      "source": [
        "d = defaultdict(set)\n",
        "d['apple']"
      ],
      "metadata": {
        "colab": {
          "base_uri": "https://localhost:8080/"
        },
        "id": "Ieqji5vAz2V6",
        "outputId": "347d9210-5792-44a9-b219-89f564238ab8"
      },
      "execution_count": null,
      "outputs": [
        {
          "output_type": "execute_result",
          "data": {
            "text/plain": [
              "set()"
            ]
          },
          "metadata": {},
          "execution_count": 284
        }
      ]
    },
    {
      "cell_type": "markdown",
      "source": [
        "* 기본값을 직접 설정할 수도 있다."
      ],
      "metadata": {
        "id": "4Z4VxA2lz6RM"
      }
    },
    {
      "cell_type": "code",
      "source": [
        "d = defaultdict(lambda: 0)\n",
        "print(d['apple'])"
      ],
      "metadata": {
        "colab": {
          "base_uri": "https://localhost:8080/"
        },
        "id": "dgm5Qi1R0jAn",
        "outputId": "6243d623-f788-4c82-c8a1-a140f9627e04"
      },
      "execution_count": null,
      "outputs": [
        {
          "output_type": "stream",
          "name": "stdout",
          "text": [
            "0\n"
          ]
        }
      ]
    },
    {
      "cell_type": "code",
      "source": [
        "d = defaultdict(lambda: '몰라')\n",
        "d['apple']"
      ],
      "metadata": {
        "colab": {
          "base_uri": "https://localhost:8080/",
          "height": 35
        },
        "id": "LsYGg37o0Fwi",
        "outputId": "98e06413-2e1c-4db9-9339-80345dfa8369"
      },
      "execution_count": null,
      "outputs": [
        {
          "output_type": "execute_result",
          "data": {
            "text/plain": [
              "'몰라'"
            ],
            "application/vnd.google.colaboratory.intrinsic+json": {
              "type": "string"
            }
          },
          "metadata": {},
          "execution_count": 288
        }
      ]
    },
    {
      "cell_type": "code",
      "source": [
        "d = defaultdict(lambda: None)\n",
        "print(d['apple'])"
      ],
      "metadata": {
        "colab": {
          "base_uri": "https://localhost:8080/"
        },
        "id": "AvioLQkA0MAx",
        "outputId": "d2d70eb8-6e47-4780-9478-0731ccbc04f4"
      },
      "execution_count": null,
      "outputs": [
        {
          "output_type": "stream",
          "name": "stdout",
          "text": [
            "None\n"
          ]
        }
      ]
    },
    {
      "cell_type": "markdown",
      "source": [
        "## Counter"
      ],
      "metadata": {
        "id": "I3dkhJT700j3"
      }
    },
    {
      "cell_type": "markdown",
      "source": [
        "* 단어 개수를 카운트할 때 살펴봤던 모듈이다.\n",
        "  * Counter(문자열시퀀스)를 주면, 아이템별로 빈도를 찾을 수 있도록 빈도가 높은 것부터 정렬된 딕셔너리 형태의 Counter 객체로 만들어준다."
      ],
      "metadata": {
        "id": "Fqj5XsLE03BO"
      }
    },
    {
      "cell_type": "code",
      "source": [
        "from collections import Counter"
      ],
      "metadata": {
        "id": "X6lIA9hp0_4R"
      },
      "execution_count": null,
      "outputs": []
    },
    {
      "cell_type": "code",
      "source": [
        "s = \"I like an apple. Do you like an apple? I like it. What do you want to eat? I like to eat a banana now.\""
      ],
      "metadata": {
        "id": "mDn1Tgz51EUS"
      },
      "execution_count": null,
      "outputs": []
    },
    {
      "cell_type": "code",
      "source": [
        "tokens = s.replace('?',' ').replace('.',' ').lower().split()\n",
        "print(tokens)"
      ],
      "metadata": {
        "colab": {
          "base_uri": "https://localhost:8080/"
        },
        "id": "b5juHoA-1Nis",
        "outputId": "f129ed78-55cc-46d2-c63f-125f9d8a80d6"
      },
      "execution_count": null,
      "outputs": [
        {
          "output_type": "stream",
          "name": "stdout",
          "text": [
            "['i', 'like', 'an', 'apple', 'do', 'you', 'like', 'an', 'apple', 'i', 'like', 'it', 'what', 'do', 'you', 'want', 'to', 'eat', 'i', 'like', 'to', 'eat', 'a', 'banana', 'now']\n"
          ]
        }
      ]
    },
    {
      "cell_type": "code",
      "source": [
        "c = Counter(tokens)\n",
        "print(c)"
      ],
      "metadata": {
        "colab": {
          "base_uri": "https://localhost:8080/"
        },
        "id": "uhLVqF131YgR",
        "outputId": "d4fd1cc5-c16c-4dba-ea10-9441dc90f2f7"
      },
      "execution_count": null,
      "outputs": [
        {
          "output_type": "stream",
          "name": "stdout",
          "text": [
            "Counter({'like': 4, 'i': 3, 'an': 2, 'apple': 2, 'do': 2, 'you': 2, 'to': 2, 'eat': 2, 'it': 1, 'what': 1, 'want': 1, 'a': 1, 'banana': 1, 'now': 1})\n"
          ]
        }
      ]
    },
    {
      "cell_type": "markdown",
      "source": [
        "* Counter 의 형태가 딕셔너리 형태임을 확인할 수 있다. 실제로 부모 클래스를 확인해보자.\n",
        "  * dict를 상속받았다. (상속 개념은 클래스에서 배운다)"
      ],
      "metadata": {
        "id": "wbm6f2C13vXK"
      }
    },
    {
      "cell_type": "code",
      "source": [
        "Counter.__bases__"
      ],
      "metadata": {
        "colab": {
          "base_uri": "https://localhost:8080/"
        },
        "id": "j8nchZ4S30Cc",
        "outputId": "8323c422-74bd-4859-a86d-92a6d6ce9b50"
      },
      "execution_count": null,
      "outputs": [
        {
          "output_type": "execute_result",
          "data": {
            "text/plain": [
              "(dict,)"
            ]
          },
          "metadata": {},
          "execution_count": 294
        }
      ]
    },
    {
      "cell_type": "code",
      "source": [
        "c['like']"
      ],
      "metadata": {
        "colab": {
          "base_uri": "https://localhost:8080/"
        },
        "id": "SXPffTwd1bZL",
        "outputId": "15205e9b-09eb-459c-b5d1-2989b43cfe14"
      },
      "execution_count": null,
      "outputs": [
        {
          "output_type": "execute_result",
          "data": {
            "text/plain": [
              "4"
            ]
          },
          "metadata": {},
          "execution_count": 295
        }
      ]
    },
    {
      "cell_type": "markdown",
      "source": [
        "* elements() 메소드를 이용하면, 빈도를 입력해서 해당하는 개수만큼 아이템을 가지는 리스트를 생성할 수도 있다."
      ],
      "metadata": {
        "id": "V7Zy_djg1oZ3"
      }
    },
    {
      "cell_type": "code",
      "source": [
        "c = Counter({'apple':5,'banana':3,'cherry':2})\n",
        "c"
      ],
      "metadata": {
        "colab": {
          "base_uri": "https://localhost:8080/"
        },
        "id": "opRfEiX-4JYl",
        "outputId": "a6a85fc1-7410-463b-c7ce-cd50a6c87e83"
      },
      "execution_count": null,
      "outputs": [
        {
          "output_type": "execute_result",
          "data": {
            "text/plain": [
              "Counter({'apple': 5, 'banana': 3, 'cherry': 2})"
            ]
          },
          "metadata": {},
          "execution_count": 296
        }
      ]
    },
    {
      "cell_type": "code",
      "source": [
        "print(list(c.elements()))"
      ],
      "metadata": {
        "colab": {
          "base_uri": "https://localhost:8080/"
        },
        "id": "zPIRov9P3gjQ",
        "outputId": "e1d979a0-f589-4eb0-d964-8ca6d646501c"
      },
      "execution_count": null,
      "outputs": [
        {
          "output_type": "stream",
          "name": "stdout",
          "text": [
            "['apple', 'apple', 'apple', 'apple', 'apple', 'banana', 'banana', 'banana', 'cherry', 'cherry']\n"
          ]
        }
      ]
    },
    {
      "cell_type": "code",
      "source": [
        "print(\",\".join(c.elements()))"
      ],
      "metadata": {
        "colab": {
          "base_uri": "https://localhost:8080/"
        },
        "id": "P5fRajgE4WgO",
        "outputId": "8d599e17-fae3-4b48-a778-7b8c0bba7447"
      },
      "execution_count": null,
      "outputs": [
        {
          "output_type": "stream",
          "name": "stdout",
          "text": [
            "apple,apple,apple,apple,apple,banana,banana,banana,cherry,cherry\n"
          ]
        }
      ]
    },
    {
      "cell_type": "markdown",
      "source": [
        "* 다음과 같은 빼기 연산도 가능하다."
      ],
      "metadata": {
        "id": "d3xLHUND4ctI"
      }
    },
    {
      "cell_type": "code",
      "source": [
        "c1 = Counter({'apple':10, 'banana':7, 'cherry':5, 'durian':3})\n",
        "c2 = Counter({'apple':5, 'banana':2, 'cherry':4, 'durian':1, 'grape':1})\n",
        "print(c1)\n",
        "print(c2)"
      ],
      "metadata": {
        "colab": {
          "base_uri": "https://localhost:8080/"
        },
        "id": "edn68hhO4uH8",
        "outputId": "cb76d348-e195-442f-edb6-0ef878a18772"
      },
      "execution_count": null,
      "outputs": [
        {
          "output_type": "stream",
          "name": "stdout",
          "text": [
            "Counter({'apple': 10, 'banana': 7, 'cherry': 5, 'durian': 3})\n",
            "Counter({'apple': 5, 'cherry': 4, 'banana': 2, 'durian': 1, 'grape': 1})\n"
          ]
        }
      ]
    },
    {
      "cell_type": "code",
      "source": [
        "c1-c2"
      ],
      "metadata": {
        "colab": {
          "base_uri": "https://localhost:8080/"
        },
        "id": "b7UkPb9G5n0_",
        "outputId": "db05d960-098e-43d9-e920-106f217f089a"
      },
      "execution_count": null,
      "outputs": [
        {
          "output_type": "execute_result",
          "data": {
            "text/plain": [
              "Counter({'apple': 5, 'banana': 5, 'cherry': 1, 'durian': 2})"
            ]
          },
          "metadata": {},
          "execution_count": 300
        }
      ]
    },
    {
      "cell_type": "markdown",
      "source": [
        "* c1.subtract(c2) 는 실제 c1의 빈도값들이 변경되고, 아이템이 c1에 아이템이 없더라도, c2의 아이템의 결과를 포함시킨다."
      ],
      "metadata": {
        "id": "LOOvRzdR56Dy"
      }
    },
    {
      "cell_type": "code",
      "source": [
        "c1.subtract(c2)\n",
        "c1"
      ],
      "metadata": {
        "colab": {
          "base_uri": "https://localhost:8080/"
        },
        "id": "m7cc4XWP5Cu-",
        "outputId": "884bad9d-c82a-4f24-d01a-040d79e11e85"
      },
      "execution_count": null,
      "outputs": [
        {
          "output_type": "execute_result",
          "data": {
            "text/plain": [
              "Counter({'apple': 5, 'banana': 5, 'cherry': 1, 'durian': 2, 'grape': -1})"
            ]
          },
          "metadata": {},
          "execution_count": 301
        }
      ]
    },
    {
      "cell_type": "markdown",
      "source": [
        "* c1-c2 는 결과만 반환한다. 이 때, 빈도가 0 이하로 떨어지는 아이템들은 삭제된다."
      ],
      "metadata": {
        "id": "UvprxgsV6Acn"
      }
    },
    {
      "cell_type": "code",
      "source": [
        "print(c1)\n",
        "print(c2)"
      ],
      "metadata": {
        "colab": {
          "base_uri": "https://localhost:8080/"
        },
        "id": "9tDhLX_96H-h",
        "outputId": "cc246f4a-53c1-4f3e-a25e-4d702438b013"
      },
      "execution_count": null,
      "outputs": [
        {
          "output_type": "stream",
          "name": "stdout",
          "text": [
            "Counter({'apple': 5, 'banana': 5, 'durian': 2, 'cherry': 1, 'grape': -1})\n",
            "Counter({'apple': 5, 'cherry': 4, 'banana': 2, 'durian': 1, 'grape': 1})\n"
          ]
        }
      ]
    },
    {
      "cell_type": "code",
      "source": [
        "c1-c2"
      ],
      "metadata": {
        "id": "pE1BhKXV5hqP",
        "colab": {
          "base_uri": "https://localhost:8080/"
        },
        "outputId": "3dcbe9fa-f154-487f-9744-27a1a0749261"
      },
      "execution_count": null,
      "outputs": [
        {
          "output_type": "execute_result",
          "data": {
            "text/plain": [
              "Counter({'banana': 3, 'durian': 1})"
            ]
          },
          "metadata": {},
          "execution_count": 303
        }
      ]
    },
    {
      "cell_type": "code",
      "source": [
        "c1-c2-c2"
      ],
      "metadata": {
        "colab": {
          "base_uri": "https://localhost:8080/"
        },
        "id": "WQJO2UBb5yR4",
        "outputId": "2b60d459-8c49-4cbf-c674-00515e7588fd"
      },
      "execution_count": null,
      "outputs": [
        {
          "output_type": "execute_result",
          "data": {
            "text/plain": [
              "Counter({'banana': 1})"
            ]
          },
          "metadata": {},
          "execution_count": 304
        }
      ]
    },
    {
      "cell_type": "markdown",
      "source": [
        "* total() 은 빈도값들을 모두 합한 값을 반환한다."
      ],
      "metadata": {
        "id": "_AfyfN6p5P0p"
      }
    },
    {
      "cell_type": "code",
      "source": [
        "print(c1)\n",
        "print(c1.total())"
      ],
      "metadata": {
        "colab": {
          "base_uri": "https://localhost:8080/"
        },
        "id": "3DT_aFQx6uRW",
        "outputId": "2ab5bc19-7098-45fc-9d82-242eb70d11d9"
      },
      "execution_count": null,
      "outputs": [
        {
          "output_type": "stream",
          "name": "stdout",
          "text": [
            "Counter({'apple': 5, 'banana': 5, 'durian': 2, 'cherry': 1, 'grape': -1})\n",
            "12\n"
          ]
        }
      ]
    },
    {
      "cell_type": "markdown",
      "source": [
        "* 특정 아이템만 뽑아낼 수도 있다.\n",
        "  * 이 때, 빈도수를 반환하고 기본 Counter 객체에서는 해당 key를 가진 아이템이 삭제 된다."
      ],
      "metadata": {
        "id": "ON5HW5yY68ww"
      }
    },
    {
      "cell_type": "code",
      "source": [
        "c1.pop('apple')"
      ],
      "metadata": {
        "colab": {
          "base_uri": "https://localhost:8080/"
        },
        "id": "nszTL37r5dW6",
        "outputId": "dead6551-e795-4977-fa47-d192cacf3b2d"
      },
      "execution_count": null,
      "outputs": [
        {
          "output_type": "execute_result",
          "data": {
            "text/plain": [
              "5"
            ]
          },
          "metadata": {},
          "execution_count": 306
        }
      ]
    },
    {
      "cell_type": "code",
      "source": [
        "c1"
      ],
      "metadata": {
        "colab": {
          "base_uri": "https://localhost:8080/"
        },
        "id": "MkmfEV9D64Gm",
        "outputId": "278bc740-cbc3-4a06-f291-150c4938245e"
      },
      "execution_count": null,
      "outputs": [
        {
          "output_type": "execute_result",
          "data": {
            "text/plain": [
              "Counter({'banana': 5, 'cherry': 1, 'durian': 2, 'grape': -1})"
            ]
          },
          "metadata": {},
          "execution_count": 307
        }
      ]
    },
    {
      "cell_type": "markdown",
      "source": [
        "## namedtuple"
      ],
      "metadata": {
        "id": "Izbu_8S465Vx"
      }
    },
    {
      "cell_type": "markdown",
      "source": [
        "* 튜플의 형태로 데이터 구조체를 저장한다.\n",
        "  * namedtuple(구조체이름, 속성이름리스트)\n",
        "  * c의 struct처럼 쓸 수 있다."
      ],
      "metadata": {
        "id": "kHLNb4-37JPT"
      }
    },
    {
      "cell_type": "code",
      "source": [
        "from collections import namedtuple"
      ],
      "metadata": {
        "id": "z69EV5ER7UGr"
      },
      "execution_count": null,
      "outputs": []
    },
    {
      "cell_type": "code",
      "source": [
        "Point = namedtuple('Point',['x','y'])"
      ],
      "metadata": {
        "id": "WlP-1TNQ7Wa0"
      },
      "execution_count": null,
      "outputs": []
    },
    {
      "cell_type": "code",
      "source": [
        "p1 = Point(1,2)\n",
        "p1"
      ],
      "metadata": {
        "colab": {
          "base_uri": "https://localhost:8080/"
        },
        "id": "LjAqO15f7f1Q",
        "outputId": "97f70532-03b1-4cbc-ed7a-9320154841b8"
      },
      "execution_count": null,
      "outputs": [
        {
          "output_type": "execute_result",
          "data": {
            "text/plain": [
              "Point(x=1, y=2)"
            ]
          },
          "metadata": {},
          "execution_count": 310
        }
      ]
    },
    {
      "cell_type": "code",
      "source": [
        "type(p1) # __main__ : 최상위 코드가 실행되는 환경의 이름. 처음으로 실행되는 파이썬 모듈(py)"
      ],
      "metadata": {
        "colab": {
          "base_uri": "https://localhost:8080/"
        },
        "id": "PW__nwxRGHFq",
        "outputId": "9fd43267-6dd2-4669-c2df-9be28d6cb790"
      },
      "execution_count": null,
      "outputs": [
        {
          "output_type": "execute_result",
          "data": {
            "text/plain": [
              "__main__.Point"
            ]
          },
          "metadata": {},
          "execution_count": 324
        }
      ]
    },
    {
      "cell_type": "code",
      "source": [
        "type(p1)==Point"
      ],
      "metadata": {
        "colab": {
          "base_uri": "https://localhost:8080/"
        },
        "id": "ZUMCdUtZGQbx",
        "outputId": "7f2679f3-4873-4283-bc63-0e0a08a4a78f"
      },
      "execution_count": null,
      "outputs": [
        {
          "output_type": "execute_result",
          "data": {
            "text/plain": [
              "True"
            ]
          },
          "metadata": {},
          "execution_count": 323
        }
      ]
    },
    {
      "cell_type": "code",
      "source": [
        "p2 = Point(10, y=20)\n",
        "p2"
      ],
      "metadata": {
        "colab": {
          "base_uri": "https://localhost:8080/"
        },
        "id": "r1Xjz1dC7cL0",
        "outputId": "b8bc8c41-85fe-4beb-a1a9-b5e6cca62a44"
      },
      "execution_count": null,
      "outputs": [
        {
          "output_type": "execute_result",
          "data": {
            "text/plain": [
              "Point(x=10, y=20)"
            ]
          },
          "metadata": {},
          "execution_count": 311
        }
      ]
    },
    {
      "cell_type": "code",
      "source": [
        "p1.x, p1.y"
      ],
      "metadata": {
        "colab": {
          "base_uri": "https://localhost:8080/"
        },
        "id": "pgpzpUKQ7fMk",
        "outputId": "061a628f-23e7-4140-a581-a6a810cfa4e6"
      },
      "execution_count": null,
      "outputs": [
        {
          "output_type": "execute_result",
          "data": {
            "text/plain": [
              "(1, 2)"
            ]
          },
          "metadata": {},
          "execution_count": 312
        }
      ]
    },
    {
      "cell_type": "code",
      "source": [
        "p2[0]+p2[1]"
      ],
      "metadata": {
        "colab": {
          "base_uri": "https://localhost:8080/"
        },
        "id": "junRlQeC7nMF",
        "outputId": "fc4ba4d9-d8e4-411a-bf3a-726a50c12e6c"
      },
      "execution_count": null,
      "outputs": [
        {
          "output_type": "execute_result",
          "data": {
            "text/plain": [
              "30"
            ]
          },
          "metadata": {},
          "execution_count": 313
        }
      ]
    },
    {
      "cell_type": "markdown",
      "source": [
        "* 언패킹도 가능하다."
      ],
      "metadata": {
        "id": "oGNk5C1E8J6g"
      }
    },
    {
      "cell_type": "code",
      "source": [
        "print(p1)\n",
        "a,b = p1\n",
        "print(a)\n",
        "print(b)"
      ],
      "metadata": {
        "colab": {
          "base_uri": "https://localhost:8080/"
        },
        "id": "ks-bZZkl8LS9",
        "outputId": "6d75a505-22da-42ea-eaf3-bdea39cd6fce"
      },
      "execution_count": null,
      "outputs": [
        {
          "output_type": "stream",
          "name": "stdout",
          "text": [
            "Point(x=1, y=2)\n",
            "1\n",
            "2\n"
          ]
        }
      ]
    },
    {
      "cell_type": "code",
      "source": [
        "print(*p1)"
      ],
      "metadata": {
        "colab": {
          "base_uri": "https://localhost:8080/"
        },
        "id": "k0ZVLNAp8E2l",
        "outputId": "475aff65-79e8-4c08-e321-b27d91fdd85b"
      },
      "execution_count": null,
      "outputs": [
        {
          "output_type": "stream",
          "name": "stdout",
          "text": [
            "1 2\n"
          ]
        }
      ]
    }
  ]
}